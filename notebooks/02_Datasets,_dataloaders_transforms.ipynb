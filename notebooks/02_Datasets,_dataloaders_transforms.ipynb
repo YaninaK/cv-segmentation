{
  "cells": [
    {
      "cell_type": "markdown",
      "metadata": {
        "id": "view-in-github",
        "colab_type": "text"
      },
      "source": [
        "<a href=\"https://colab.research.google.com/github/YaninaK/cv-segmentation/blob/b1/notebooks/02_Datasets%2C_dataloaders_transforms.ipynb\" target=\"_parent\"><img src=\"https://colab.research.google.com/assets/colab-badge.svg\" alt=\"Open In Colab\"/></a>"
      ]
    },
    {
      "cell_type": "markdown",
      "metadata": {
        "id": "oKCgu2rHwEc8"
      },
      "source": [
        "# Corrosion detection in steel pipes\n",
        "\n",
        "## 2. Datasets, DataLoaders and Transforms"
      ]
    },
    {
      "cell_type": "markdown",
      "metadata": {
        "id": "EUGZlBgnwX7R"
      },
      "source": [
        "* **The objective**:\n",
        "The objective of this challenge is to train a model that have the highest possible score for the segmentation of groove defects using the provided data"
      ]
    },
    {
      "cell_type": "code",
      "source": [
        "initiate = False\n",
        "if initiate:\n",
        "  !git init -q\n",
        "  !git clone -b b1 https://github.com/YaninaK/cv-segmentation.git -q\n",
        "\n",
        "  from google.colab import drive\n",
        "  drive.mount('/content/drive')\n",
        "\n",
        "  !unzip -u -q /content/drive/MyDrive/ML_projects/07_CV/data/01_raw/X_train_corrected.zip -d /content/cv-segmentation/data/raw\n",
        "  !unzip -u -q /content/drive/MyDrive/ML_projects/07_CV/data/01_raw/masks.zip -d /content/cv-segmentation/data/raw\n",
        "  !cp /content/drive/MyDrive/ML_projects/07_CV/data/01_raw/y_train.csv -d /content/cv-segmentation/data/raw\n",
        "%cd /content/cv-segmentation/notebooks"
      ],
      "metadata": {
        "id": "kLUatu0znap0",
        "colab": {
          "base_uri": "https://localhost:8080/"
        },
        "outputId": "938d33dc-9d03-4aa8-93c4-29742e9668ec"
      },
      "execution_count": 1,
      "outputs": [
        {
          "output_type": "stream",
          "name": "stdout",
          "text": [
            "/content/cv-segmentation/notebooks\n"
          ]
        }
      ]
    },
    {
      "cell_type": "code",
      "source": [
        "import os\n",
        "import sys\n",
        "\n",
        "sys.path.append(os.getcwd())\n",
        "sys.path.append(os.path.join(os.getcwd(), \"..\", \"src\", \"cv_segmentation\"))"
      ],
      "metadata": {
        "id": "2RQcCYyXt-QS"
      },
      "execution_count": 2,
      "outputs": []
    },
    {
      "cell_type": "code",
      "source": [
        "import random\n",
        "import shutil\n",
        "from typing import Optional, Tuple\n",
        "\n",
        "import cv2\n",
        "import matplotlib.pyplot as plt\n",
        "import numpy as np\n",
        "import pandas as pd\n",
        "import torch\n",
        "from scipy.ndimage import binary_fill_holes\n",
        "from torch.utils.data import DataLoader, Dataset\n",
        "from tqdm import tqdm"
      ],
      "metadata": {
        "id": "KxpnMSPhXtd-"
      },
      "execution_count": 3,
      "outputs": []
    },
    {
      "cell_type": "code",
      "source": [
        "import warnings\n",
        "warnings.filterwarnings('ignore')"
      ],
      "metadata": {
        "id": "NwEz1hVXNNem"
      },
      "execution_count": 4,
      "outputs": []
    },
    {
      "cell_type": "markdown",
      "source": [
        "## Preparing The Dataset"
      ],
      "metadata": {
        "id": "Jn8-lDrEjJON"
      }
    },
    {
      "cell_type": "code",
      "source": [
        "y_train=pd.read_csv('../data/raw/y_train.csv', index_col=0)"
      ],
      "metadata": {
        "id": "4pbjiDPXKPw_"
      },
      "execution_count": 5,
      "outputs": []
    },
    {
      "cell_type": "code",
      "source": [
        "#convert df to bunch of numpy array- masks\n",
        "import numpy as np\n",
        "import os\n",
        "\n",
        "# Set the directory where the .npy files will be saved\n",
        "save_dir = '../data/raw/masks'\n",
        "\n",
        "# Iterate over the rows of the dataframe\n",
        "for index, row in y_train.iterrows():\n",
        "    # Reshape the row into a 36x36 numpy array\n",
        "    arr = np.array(row).reshape(36, 36)\n",
        "\n",
        "    # Set the file name as the index of the dataframe\n",
        "    file_name = f'{index}.npy'\n",
        "\n",
        "    # Save the numpy array as a .npy file in the specified directory\n",
        "    np.save(os.path.join(save_dir, file_name), arr)"
      ],
      "metadata": {
        "id": "eh5FEi2G7FsA"
      },
      "execution_count": 6,
      "outputs": []
    },
    {
      "cell_type": "code",
      "source": [
        "# Define paths\n",
        "train_images_dir = \"../data/raw/images\"\n",
        "train_masks_dir = \"../data/raw/masks\"\n",
        "\n",
        "\n",
        "train_data = [(os.path.join(train_images_dir, filename), os.path.join(train_masks_dir, filename)) for filename in os.listdir(train_images_dir)]\n",
        "\n",
        "\n",
        "# Shuffle the merged data\n",
        "random.shuffle(train_data)\n",
        "\n",
        "# Define split ratio (e.g., 80% train, 20% validation)\n",
        "split_ratio = 0.90\n",
        "train_size = int(len(train_data) * split_ratio)\n",
        "train_images, train_masks = zip(*train_data[:train_size])\n",
        "val_images, val_masks = zip(*train_data[train_size:])\n",
        "\n",
        "# Define new directories\n",
        "new_train_images_dir = \"../data/interim/train/images\"\n",
        "new_train_masks_dir = \"../data/interim/train/masks\"\n",
        "new_val_images_dir = \"../data/interim/val/images\"\n",
        "new_val_masks_dir = \"../data/interim/val/masks\"\n",
        "\n",
        "# Create new directories\n",
        "os.makedirs(new_train_images_dir, exist_ok=True)\n",
        "os.makedirs(new_train_masks_dir, exist_ok=True)\n",
        "os.makedirs(new_val_images_dir, exist_ok=True)\n",
        "os.makedirs(new_val_masks_dir, exist_ok=True)\n",
        "\n",
        "for src, dest in zip(train_images, [os.path.join(new_train_images_dir, os.path.basename(img)) for img in train_images]):\n",
        "    shutil.copy(src, dest)\n",
        "\n",
        "for src, dest in zip(train_masks, [os.path.join(new_train_masks_dir, os.path.basename(mask)) for mask in train_masks]):\n",
        "    shutil.copy(src, dest)\n",
        "\n",
        "for src, dest in zip(val_images, [os.path.join(new_val_images_dir, os.path.basename(img)) for img in val_images]):\n",
        "    shutil.copy(src, dest)\n",
        "\n",
        "for src, dest in zip(val_masks, [os.path.join(new_val_masks_dir, os.path.basename(mask)) for mask in val_masks]):\n",
        "    shutil.copy(src, dest)\n",
        "\n",
        "print(\"Data merging and splitting complete.\")\n"
      ],
      "metadata": {
        "colab": {
          "base_uri": "https://localhost:8080/"
        },
        "id": "0Fs29D0T7G2n",
        "outputId": "31786ef2-ff0d-442e-e348-4c191cdf6ff6"
      },
      "execution_count": 7,
      "outputs": [
        {
          "output_type": "stream",
          "name": "stdout",
          "text": [
            "Data merging and splitting complete.\n"
          ]
        }
      ]
    },
    {
      "cell_type": "markdown",
      "source": [
        "* Желательно избегать дублирования импорта библиотек:\n",
        "```\n",
        "import numpy as np\n",
        "import os\n",
        "```\n",
        "* Начинать этот блок лучше с загрузки данных и их очистки от выбросов. Порог, после которого начиаются выбросы, определеяется на этапе EDA:"
      ],
      "metadata": {
        "id": "cUnsD52JOKuD"
      }
    },
    {
      "cell_type": "code",
      "source": [
        "TRESHOLD = -0.25\n",
        "\n",
        "def load_data(csv_file: str, root_dir: str) -> Tuple[pd.DataFrame, list]:\n",
        "\n",
        "    y_train = pd.read_csv(csv_file, index_col=0)\n",
        "\n",
        "    file_names = os.listdir(root_dir)\n",
        "    images_train = []\n",
        "    for img_name in tqdm(file_names):\n",
        "        img = np.load(os.path.join(root_dir, img_name))\n",
        "        images_train.append(img)\n",
        "\n",
        "    return y_train, images_train\n",
        "\n",
        "\n",
        "def clean_outliers(\n",
        "    y_train: pd.DataFrame, images_train: list, threshold: Optional[float] = None\n",
        ") -> Tuple[pd.DataFrame, np.array]:\n",
        "\n",
        "    if threshold is None:\n",
        "        threshold = TRESHOLD\n",
        "\n",
        "    image_arr = np.reshape(np.asarray(images_train), (len(images_train), -1))\n",
        "    image_arr_min = np.nan_to_num(image_arr).min(axis=1)\n",
        "\n",
        "    y_train = y_train.iloc[image_arr_min > threshold].reset_index()\n",
        "\n",
        "    return y_train, image_arr[image_arr_min > threshold]"
      ],
      "metadata": {
        "id": "m4u7mzvONMPN"
      },
      "execution_count": 8,
      "outputs": []
    },
    {
      "cell_type": "code",
      "source": [
        "csv_file=\"../data/raw/y_train.csv\"\n",
        "root_dir=\"/content/cv-segmentation/data/raw/images/\"\n",
        "\n",
        "y_train, images_train = load_data(csv_file, root_dir)\n",
        "y_train, _ = clean_outliers(y_train, images_train)\n",
        "\n",
        "y_train.shape"
      ],
      "metadata": {
        "colab": {
          "base_uri": "https://localhost:8080/"
        },
        "id": "Aa147hMxOFor",
        "outputId": "207f071b-a9e9-42e1-ef22-309b5d7f189d"
      },
      "execution_count": 9,
      "outputs": [
        {
          "output_type": "stream",
          "name": "stderr",
          "text": [
            "100%|██████████| 9674/9674 [00:01<00:00, 8912.69it/s]\n"
          ]
        },
        {
          "output_type": "execute_result",
          "data": {
            "text/plain": [
              "(9327, 1297)"
            ]
          },
          "metadata": {},
          "execution_count": 9
        }
      ]
    },
    {
      "cell_type": "markdown",
      "source": [
        "* Здесь лучше не дублировать данные обучающей выборки в папке ```data/interim/```. Достаточно разбить y_train на 3 файла: ```y_train.csv```, ```y_val.csv``` и ```y_test.csv```  и поместить их в папку ```data/interim/```.\n",
        "* Тестовая выборка в дополнение к валидационной потребуется для анализа ошибок моделей.\n",
        "\n",
        "* Чтобы избежать data leakage, данные на обучающую, валидационную и тестовую выборки разбиваем в разрезе скважин, чтобы снимки и разметка каждой скважины появлялись только в одном блоке. Отбор скважин для каждого блока делаем на этапе EDA."
      ],
      "metadata": {
        "id": "zG16IKlS8aXS"
      }
    },
    {
      "cell_type": "code",
      "source": [
        "CONFIG = {\n",
        "    \"save_dir\": \"../data/interim/\",\n",
        "    \"train\": [6, 7, 8, 9, 11, 12, 13, 14],\n",
        "    \"val\": [3, 10, 15],\n",
        "    \"test\": [1, 2, 4, 5],\n",
        "}\n",
        "\n",
        "def split_y_to_train_val_test(\n",
        "    y_train: pd.DataFrame,\n",
        "    config: Optional[dict] = None,\n",
        ") -> None:\n",
        "    if config is None:\n",
        "        config = CONFIG\n",
        "\n",
        "    y_train[\"well\"] = y_train[\"index\"].apply(lambda x: int(x.split(\"_\")[1]))\n",
        "\n",
        "    for stage in [\"train\", \"val\", \"test\"]:\n",
        "        y_train.loc[y_train[\"well\"].isin(config[stage]), y_train.columns[:-1]].to_csv(\n",
        "            os.path.join(config[\"save_dir\"], f\"y_{stage}.csv\"), index=False\n",
        "        )"
      ],
      "metadata": {
        "id": "ISVPuBDiHhl-"
      },
      "execution_count": 10,
      "outputs": []
    },
    {
      "cell_type": "code",
      "source": [
        "split_y_to_train_val_test(y_train)"
      ],
      "metadata": {
        "id": "jUlMPVwV5wqS"
      },
      "execution_count": 11,
      "outputs": []
    },
    {
      "cell_type": "code",
      "source": [
        "y_train = pd.read_csv('../data/interim/y_train.csv')\n",
        "y_val = pd.read_csv('../data/interim/y_val.csv')\n",
        "y_test = pd.read_csv('../data/interim/y_test.csv')\n",
        "\n",
        "y_train.shape, y_val.shape, y_test.shape"
      ],
      "metadata": {
        "colab": {
          "base_uri": "https://localhost:8080/"
        },
        "id": "A06XSqUIosO0",
        "outputId": "c56d2ead-f3db-45fb-e8fb-5ee77ce5772b"
      },
      "execution_count": 12,
      "outputs": [
        {
          "output_type": "execute_result",
          "data": {
            "text/plain": [
              "((6439, 1297), (1985, 1297), (903, 1297))"
            ]
          },
          "metadata": {},
          "execution_count": 12
        }
      ]
    },
    {
      "cell_type": "markdown",
      "metadata": {
        "id": "syyBMoEQgIfX"
      },
      "source": [
        "## Dataset Class"
      ]
    },
    {
      "cell_type": "code",
      "execution_count": 13,
      "metadata": {
        "id": "3WVhXhpRrjWK"
      },
      "outputs": [],
      "source": [
        "from scipy.ndimage import rotate\n",
        "\n",
        "class SegmentationDataset_v1(Dataset):\n",
        "    def __init__(self, imagePaths, maskPaths, filelist, transform=True):\n",
        "        self.imagePaths = [os.path.join(imagePaths, file) for file in filelist]\n",
        "        self.maskPaths = [os.path.join(maskPaths, file) for file in filelist]\n",
        "        self.transform = transform\n",
        "        self.valid_indices = self._get_valid_indices()\n",
        "\n",
        "    def __len__(self):\n",
        "        return len(self.valid_indices)\n",
        "\n",
        "    def __getitem__(self, idx):\n",
        "        idx = self.valid_indices[idx]  # Get the valid index\n",
        "        imagePath = self.imagePaths[idx]\n",
        "        maskPath = self.maskPaths[idx]\n",
        "\n",
        "        # Read image from file\n",
        "        image = np.load(imagePath)\n",
        "        if image is None or np.isnan(image).any():\n",
        "            # Skip images with NaN values\n",
        "            return self.__getitem__((idx + 1) % len(self.valid_indices))\n",
        "\n",
        "        # Read mask from file\n",
        "        mask = np.load(maskPath)\n",
        "        if mask is None:\n",
        "            raise FileNotFoundError(f\"Mask file not found: {maskPath}\")\n",
        "\n",
        "        if self.transform:\n",
        "            image, mask = self.apply_numpy_transform(image, mask)\n",
        "\n",
        "        \"\"\"kernel_size = (2, 2)\n",
        "        kernel_shape = cv2.MORPH_RECT\n",
        "        adaptive_kernel = cv2.getStructuringElement(kernel_shape, kernel_size)\n",
        "        mask = cv2.dilate(mask, adaptive_kernel)\"\"\"\n",
        "        mask = binary_fill_holes(mask)\n",
        "\n",
        "        # Convert to PyTorch tensors\n",
        "        image = torch.from_numpy(np.array(image)).float()\n",
        "        mask = torch.from_numpy(np.array(mask)).long()\n",
        "\n",
        "        return image, mask, imagePath, maskPath\n",
        "\n",
        "    def _get_valid_indices(self):\n",
        "        valid_indices = []\n",
        "        for idx, imagePath in enumerate(self.imagePaths):\n",
        "            image = np.load(imagePath)\n",
        "            if image is not None and not np.isnan(image).any():\n",
        "                valid_indices.append(idx)\n",
        "        return valid_indices\n",
        "\n",
        "\n",
        "    def apply_numpy_transform(self, image, mask):\n",
        "        # Apply horizontal and vertical flips with 50% probability\n",
        "        if np.random.random() > 0.5:\n",
        "            image = np.fliplr(image)  # Horizontal flip\n",
        "            mask = np.fliplr(mask)\n",
        "        if np.random.random() > 0.5:\n",
        "            image = np.flipud(image)  # Vertical flip\n",
        "            mask = np.flipud(mask)\n",
        "        \"\"\"# Apply 90 and 135-degree rotations with 50% probability\n",
        "        if np.random.random() > 0.5:\n",
        "            rotation_angle = np.random.choice([0, 45, 90, 180,135])\n",
        "            if rotation_angle != 0:\n",
        "                image = rotate(image, angle=rotation_angle, reshape=False)\n",
        "                mask = rotate(mask, angle=rotation_angle, reshape=False)\"\"\"\n",
        "\n",
        "        return image, mask\n"
      ]
    },
    {
      "cell_type": "markdown",
      "source": [
        "Трансформацию данных лучше делать отдельно от датасета и присоединять при его инициализации - вместо\n",
        "```\n",
        "transform = False\n",
        "```\n",
        "использовать, например, внешнюю функцию ```apply_numpy_transform```:\n",
        "```\n",
        "transform = apply_numpy_transform\n",
        "```\n",
        "Подходы к трансформации данных в обучающей и валидационной/ тестовой выборках отличаются:\n",
        "* В валидационной/ тестовой выборке зачастую достаточно трансформировать данные в torch.Tensor\n",
        "\n",
        "Идеи для аугментации данных можно почерпнуть в библитеке torchvision.transforms.v2\n",
        "\n",
        "Например:\n",
        "1. Вращение в диапазоне от -15° и +15° - v2.RandomRotation\n",
        "2. Обрезка - v2.RandomResizedCrop\n",
        "3. Размытие до 1,75 пикселей - v2.GaussianBlur\n",
        "4. Добавление шума до 10% пикселей\n",
        "5. Регулировка яркости между -50% и +50% - v2.functional.adjust_brightness\n",
        "6. Данные у нас находятся в диапазоне -0.25 до 0.47 - можно подумать об их нормализации.\n",
        "\n",
        "Важно проследить, чтобы маска обучающей выборки трансформировалась также как изображение.\n",
        "\n",
        "Ниже - пример реализации SegmentationDataset, иллюстрация работы DataLoader:"
      ],
      "metadata": {
        "id": "NOfEg7r2_mhx"
      }
    },
    {
      "cell_type": "code",
      "source": [
        "def data_transform(sample: dict):\n",
        "    \"\"\"\n",
        "    Apply horizontal and vertical flips with 50% probability\n",
        "    \"\"\"\n",
        "    image = sample[\"image\"]\n",
        "    mask = sample[\"mask\"]\n",
        "\n",
        "    if np.random.random() > 0.5:\n",
        "        image = np.fliplr(image)  # Horizontal flip\n",
        "        mask = np.fliplr(mask)\n",
        "\n",
        "    if np.random.random() > 0.5:\n",
        "        image = np.flipud(image)  # Vertical flip\n",
        "        mask = np.flipud(mask)\n",
        "\n",
        "    sample = {\"image\": image, \"mask\": mask}\n",
        "\n",
        "    return sample"
      ],
      "metadata": {
        "id": "KvqPEosSRbmU"
      },
      "execution_count": 14,
      "outputs": []
    },
    {
      "cell_type": "code",
      "source": [
        "class SegmentationDataset(Dataset):\n",
        "    \"\"\"Segmentation dataset.\"\"\"\n",
        "\n",
        "    def __init__(self, csv_file: str, root_dir: str, transform=None):\n",
        "        \"\"\"\n",
        "        Arguments:\n",
        "            csv_file (string): Path to the csv file with annotations.\n",
        "            root_dir (string): Directory with all the images.\n",
        "            transform (callable, optional): Optional transform to be applied\n",
        "                on a sample.\n",
        "        \"\"\"\n",
        "        self.mask_frame = pd.read_csv(csv_file)\n",
        "        self.root_dir = root_dir\n",
        "        self.transform = transform\n",
        "\n",
        "    def __len__(self):\n",
        "        return len(self.mask_frame)\n",
        "\n",
        "    def __getitem__(self, idx):\n",
        "        if torch.is_tensor(idx):\n",
        "            idx = idx.tolist()\n",
        "\n",
        "        img_name = os.path.join(self.root_dir, f\"{self.mask_frame.iloc[idx, 0]}.npy\")\n",
        "        image = np.nan_to_num(np.load(img_name))\n",
        "        image = torch.from_numpy(image)\n",
        "        mask = self.mask_frame.iloc[idx, 1:]\n",
        "        mask = torch.from_numpy(np.array(mask, dtype=float).reshape(36, 36))\n",
        "\n",
        "        # Label refinement\n",
        "        mask = binary_fill_holes(mask)\n",
        "        mask = self.apply_dilation(mask)\n",
        "\n",
        "        sample = {\"image\": image, \"mask\": mask}\n",
        "\n",
        "        if self.transform:\n",
        "            sample = self.transform(sample)\n",
        "\n",
        "        return sample\n",
        "\n",
        "    def apply_dilation(self, mask):\n",
        "        \"\"\"\n",
        "        Structuring Element & Morphological Operations\n",
        "        \"\"\"\n",
        "        kernel_size = (2, 2)\n",
        "        kernel_shape = cv2.MORPH_RECT\n",
        "        # Create the adaptive structuring element\n",
        "        adaptive_kernel = cv2.getStructuringElement(kernel_shape, kernel_size)\n",
        "        # Apply morphological operations : dilation\n",
        "        mask = cv2.dilate(np.ones((36, 36)) * mask, adaptive_kernel)\n",
        "\n",
        "        return mask"
      ],
      "metadata": {
        "id": "2tLLg3v9UUqo"
      },
      "execution_count": 15,
      "outputs": []
    },
    {
      "cell_type": "code",
      "source": [
        "stages = [\"train\", \"val\", \"test\"]\n",
        "\n",
        "transform = {\n",
        "    'train': data_transform,\n",
        "    'val': None,\n",
        "    'test': None\n",
        "}\n",
        "segmentation_datasets = {\n",
        "    stage: SegmentationDataset(\n",
        "        csv_file=f\"../data/interim/y_{stage}.csv\",\n",
        "        root_dir=root_dir,\n",
        "        transform=transform[stage]\n",
        "    ) for stage in stages\n",
        "}\n",
        "dataset_loader = {\n",
        "    stage: DataLoader(\n",
        "        segmentation_datasets[stage], batch_size=4, shuffle=True, num_workers=4\n",
        "    ) for stage in stages\n",
        "}\n",
        "\n",
        "dataset_sizes = {stage: len(segmentation_datasets[stage]) for stage in stages}\n",
        "dataset_sizes"
      ],
      "metadata": {
        "colab": {
          "base_uri": "https://localhost:8080/"
        },
        "id": "Z-uiYE8vSNqf",
        "outputId": "ece4c6b6-714b-401b-d696-34ffcc116adf"
      },
      "execution_count": 16,
      "outputs": [
        {
          "output_type": "execute_result",
          "data": {
            "text/plain": [
              "{'train': 6439, 'val': 1985, 'test': 903}"
            ]
          },
          "metadata": {},
          "execution_count": 16
        }
      ]
    },
    {
      "cell_type": "code",
      "source": [
        "def show_image_and_mask(image, mask):\n",
        "  \"\"\"Show image and mask\"\"\"\n",
        "  fig, axes = plt.subplots(1, 2, figsize=(10, 5))\n",
        "\n",
        "  axes[0].imshow(image)\n",
        "  axes[0].set_title('Image')\n",
        "  axes[1].imshow(mask)\n",
        "  axes[1].set_title('Mask')\n",
        "  plt.show()\n",
        "\n",
        "\n",
        "for i, batch in enumerate(dataset_loader[\"train\"].batch_sampler):\n",
        "  if i == 1:\n",
        "    break\n",
        "\n",
        "  print(batch)\n",
        "\n",
        "  for idx in batch:\n",
        "    selected_data = segmentation_datasets[\"train\"][idx]\n",
        "    show_image_and_mask(**selected_data)\n"
      ],
      "metadata": {
        "colab": {
          "base_uri": "https://localhost:8080/",
          "height": 1000
        },
        "id": "VPkixoaPVjlX",
        "outputId": "9efb1197-de28-44dc-c138-a829fdb9ffa2"
      },
      "execution_count": 24,
      "outputs": [
        {
          "output_type": "stream",
          "name": "stdout",
          "text": [
            "[4293, 3732, 1709, 4453]\n"
          ]
        },
        {
          "output_type": "display_data",
          "data": {
            "text/plain": [
              "<Figure size 1000x500 with 2 Axes>"
            ],
            "image/png": "[encoded data removed]"
          },
          "metadata": {}
        },
        {
          "output_type": "display_data",
          "data": {
            "text/plain": [
              "<Figure size 1000x500 with 2 Axes>"
            ],
            "image/png": "[encoded data removed]"
          },
          "metadata": {}
        },
        {
          "output_type": "display_data",
          "data": {
            "text/plain": [
              "<Figure size 1000x500 with 2 Axes>"
            ],
            "image/png": "[encoded data removed]"
          },
          "metadata": {}
        },
        {
          "output_type": "display_data",
          "data": {
            "text/plain": [
              "<Figure size 1000x500 with 2 Axes>"
            ],
            "image/png": "[encoded data removed]"
          },
          "metadata": {}
        }
      ]
    },
    {
      "cell_type": "markdown",
      "source": [
        "## Рекомендации"
      ],
      "metadata": {
        "id": "HBWC2gqOTja-"
      }
    },
    {
      "cell_type": "markdown",
      "source": [
        "1. До генерации датасета имеет смысл очистить данные от выбросов. Порог, после которого начиаются выбросы, определеяется на этапе EDA:\n",
        "```\n",
        "csv_file=\"../data/raw/y_train.csv\"\n",
        "root_dir=\"/content/cv-segmentation/data/raw/images/\"\n",
        "y_train, images_train = load_data(csv_file, root_dir)\n",
        "y_train, _ = clean_outliers(y_train, images_train)\n",
        "```\n",
        "2. Лучше отказаться от дублирования данных обучающей выборки в папке ```data/interim/```. Достаточно разбить y_train на 3 файла: ```y_train.csv```, ```y_val.csv``` и ```y_test.csv```  и поместить их в папку ```data/interim/```.\n",
        "Тестовая выборка, в дополнение к валидационной, потребуется для анализа ошибок моделей.\n",
        "\n",
        "3. Чтобы избежать data leakage, данные на обучающую, валидационную и тестовую выборки разбиваем в разрезе скважин, чтобы снимки и разметка каждой скважины появлялись только в одном блоке. Отбор скважин для каждого блока делаем на этапе EDA.\n",
        "```\n",
        "split_y_to_train_val_test(y_train)\n",
        "```\n",
        "4. Трансформацию данных лучше делать отдельно от датасета и присоединять при его инициализации - вместо\n",
        "```\n",
        "transform = False\n",
        "```\n",
        "использовать, например, внешнюю функцию ```apply_numpy_transform```:\n",
        "```\n",
        "transform = apply_numpy_transform\n",
        "```\n",
        "Подходы к трансформации данных в обучающей и валидационной/ тестовой выборках отличаются:\n",
        "  * В валидационной/ тестовой выборке зачастую достаточно трансформировать данные в torch.Tensor\n",
        "\n",
        "5. Идеи для аугментации данных можно почерпнуть в библитеке torchvision.transforms.v2\n",
        "\n",
        "  Например:\n",
        "  - Вращение в диапазоне от -15° и +15° - v2.RandomRotation\n",
        "  - Обрезка - v2.RandomResizedCrop\n",
        "  - Размытие до 1,75 пикселей - v2.GaussianBlur\n",
        "  - Добавление шума до 10% пикселей\n",
        "  - Регулировка яркости между -50% и +50% - v2.functional.adjust_brightness\n",
        "  - Данные у нас находятся в диапазоне -0.25 до 0.47 - можно подумать об их нормализации.\n",
        "\n",
        "  Важно проследить, чтобы маска обучающей выборки трансформировалась также как изображение.\n",
        "\n",
        "Пример реализации SegmentationDataset и иллюстрация работы DataLoader - выше в коде этого ноутбука."
      ],
      "metadata": {
        "id": "-d0yAesJTkXK"
      }
    }
  ],
  "metadata": {
    "colab": {
      "provenance": [],
      "toc_visible": true,
      "include_colab_link": true
    },
    "kaggle": {
      "accelerator": "gpu",
      "dataSources": [
        {
          "datasetId": 4451693,
          "sourceId": 7638652,
          "sourceType": "datasetVersion"
        }
      ],
      "dockerImageVersionId": 30646,
      "isGpuEnabled": true,
      "isInternetEnabled": true,
      "language": "python",
      "sourceType": "notebook"
    },
    "kernelspec": {
      "display_name": "Python 3",
      "name": "python3"
    },
    "language_info": {
      "codemirror_mode": {
        "name": "ipython",
        "version": 3
      },
      "file_extension": ".py",
      "mimetype": "text/x-python",
      "name": "python",
      "nbconvert_exporter": "python",
      "pygments_lexer": "ipython3",
      "version": "3.10.12"
    }
  },
  "nbformat": 4,
  "nbformat_minor": 0
}