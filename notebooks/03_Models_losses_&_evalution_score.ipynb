{
  "cells": [
    {
      "cell_type": "markdown",
      "metadata": {
        "id": "view-in-github",
        "colab_type": "text"
      },
      "source": [
        "<a href=\"https://colab.research.google.com/github/YaninaK/cv-segmentation/blob/b1/notebooks/03_Models_losses_%26_evalution_score.ipynb\" target=\"_parent\"><img src=\"https://colab.research.google.com/assets/colab-badge.svg\" alt=\"Open In Colab\"/></a>"
      ]
    },
    {
      "cell_type": "markdown",
      "metadata": {
        "id": "oKCgu2rHwEc8"
      },
      "source": [
        "# Corrosion detection in steel pipes\n",
        "\n",
        "## 3. Models, Losses, Evaluation score & Training"
      ]
    },
    {
      "cell_type": "markdown",
      "metadata": {
        "id": "EUGZlBgnwX7R"
      },
      "source": [
        "* **The objective**:\n",
        "The objective of this challenge is to train a model that have the highest possible score for the segmentation of groove defects using the provided data"
      ]
    },
    {
      "cell_type": "code",
      "source": [
        "initiate = False\n",
        "if initiate:\n",
        "  !git init -q\n",
        "  !git clone -b b1 https://github.com/YaninaK/cv-segmentation.git -q\n",
        "  !pip install -r /content/cv-segmentation/requirements_Colab.txt -q"
      ],
      "metadata": {
        "id": "xPGO2MHIE0cJ"
      },
      "execution_count": 1,
      "outputs": []
    },
    {
      "cell_type": "code",
      "source": [
        "import matplotlib.pyplot as plt\n",
        "import numpy as np\n",
        "import pandas as pd\n",
        "import torch\n",
        "import torch.nn as nn\n",
        "from torchsummary import summary"
      ],
      "metadata": {
        "id": "cyyLp9T4hI1z"
      },
      "execution_count": 2,
      "outputs": []
    },
    {
      "cell_type": "code",
      "source": [
        "import warnings\n",
        "warnings.filterwarnings('ignore')"
      ],
      "metadata": {
        "id": "NwEz1hVXNNem"
      },
      "execution_count": 3,
      "outputs": []
    },
    {
      "cell_type": "markdown",
      "source": [
        "## Models"
      ],
      "metadata": {
        "id": "OKdn6iBISexf"
      }
    },
    {
      "cell_type": "markdown",
      "source": [
        "### UNET Model"
      ],
      "metadata": {
        "id": "ExDUx_8ZSYqM"
      }
    },
    {
      "cell_type": "markdown",
      "metadata": {
        "id": "0pAW06SRzxj6"
      },
      "source": [
        "\n",
        "\n",
        "We have chosen a compact architecture for the UNET model 🏗️ consisting of:\n",
        "\n",
        "- 3 down-sampling blocks: (36 x 36), (18 x 18), and (9 x 9).\n",
        "- 3 up-sampling blocks: (9 x 9), (18 x 18), and (36 x 36).\n",
        "\n",
        "Here's an illustration of the UNET model:\n",
        "\n",
        "<img src=\"https://miro.medium.com/v2/resize:fit:1100/format:webp/1*VUS2cCaPB45wcHHFp_fQZQ.png\" alt=\"UNET Model\" width=\"500\" height=\"250\">\n",
        "\n"
      ]
    },
    {
      "cell_type": "code",
      "execution_count": 4,
      "metadata": {
        "id": "fnoDG8uNWvPM"
      },
      "outputs": [],
      "source": [
        "class UNet(nn.Module):\n",
        "    def __init__(self, dropout_prob=0.5):\n",
        "        super(UNet, self).__init__()\n",
        "\n",
        "        # Encoder\n",
        "        self.enc_conv1 = nn.Conv2d(1, 32, 3, padding=1)\n",
        "        self.enc_conv2 = nn.Conv2d(32, 64, 3, padding=1)\n",
        "        self.enc_conv3 = nn.Conv2d(64, 128, 3, padding=1)\n",
        "        self.enc_conv4 = nn.Conv2d(128, 128, 3, padding=1)\n",
        "        self.maxpool = nn.MaxPool2d(2, 2)\n",
        "\n",
        "        # Additional layers in encoder\n",
        "        self.enc_conv1_additional = nn.Conv2d(32, 32, 3, padding=1)\n",
        "        self.enc_conv2_additional = nn.Conv2d(64, 64, 3, padding=1)\n",
        "\n",
        "        # Dropout layers\n",
        "        self.dropout = nn.Dropout2d(p=dropout_prob)\n",
        "\n",
        "        # Decoder\n",
        "        self.upconv1 = nn.ConvTranspose2d(128, 64, 2, stride=2)\n",
        "        self.dec_conv1 = nn.Conv2d(128, 64, 3, padding=1)\n",
        "        self.upconv2 = nn.ConvTranspose2d(64, 32, 2, stride=2)\n",
        "        self.dec_conv2 = nn.Conv2d(64, 32, 3, padding=1)\n",
        "        self.final_conv = nn.Conv2d(32, 1, 1)\n",
        "\n",
        "    def forward(self, x):\n",
        "        # Encoder\n",
        "        x1 = torch.relu(self.enc_conv1(x))\n",
        "        x1 = torch.relu(self.enc_conv1_additional(x1))\n",
        "        x2 = self.maxpool(x1)\n",
        "        x2 = torch.relu(self.enc_conv2(x2))\n",
        "        x2 = torch.relu(self.enc_conv2_additional(x2))\n",
        "        #x2 = self.dropout(x2)\n",
        "        x3 = self.maxpool(x2)\n",
        "        x3 = torch.relu(self.enc_conv3(x3))\n",
        "        x3 = torch.relu(self.enc_conv4(x3))\n",
        "        #x3 = self.dropout(x3)\n",
        "\n",
        "        # Decoder\n",
        "        x = torch.relu(self.upconv1(x3))\n",
        "        x = torch.cat([x2, x], dim=1)\n",
        "        x = torch.relu(self.dec_conv1(x))\n",
        "        x = torch.relu(self.upconv2(x))\n",
        "        x = torch.cat([x1, x], dim=1)\n",
        "        x = torch.relu(self.dec_conv2(x))\n",
        "        x = torch.sigmoid(self.final_conv(x))\n",
        "        #(x.shape)\n",
        "        return x"
      ]
    },
    {
      "cell_type": "markdown",
      "source": [
        "* Чтобы избежать переобучения модели, небольшой ```dropout``` лучше оставить, например: ```dropout_prob=0.1```. Более подходящее значение можно будет определить при подборе гиперпараметров."
      ],
      "metadata": {
        "id": "ke12y0vk7jRR"
      }
    },
    {
      "cell_type": "code",
      "execution_count": 5,
      "metadata": {
        "id": "-bp9CCjsgfgf",
        "outputId": "5365bbf6-fa43-47e6-c936-cde97920f0e0",
        "colab": {
          "base_uri": "https://localhost:8080/"
        }
      },
      "outputs": [
        {
          "output_type": "stream",
          "name": "stdout",
          "text": [
            "----------------------------------------------------------------\n",
            "        Layer (type)               Output Shape         Param #\n",
            "================================================================\n",
            "            Conv2d-1           [-1, 32, 36, 36]             320\n",
            "            Conv2d-2           [-1, 32, 36, 36]           9,248\n",
            "         MaxPool2d-3           [-1, 32, 18, 18]               0\n",
            "            Conv2d-4           [-1, 64, 18, 18]          18,496\n",
            "            Conv2d-5           [-1, 64, 18, 18]          36,928\n",
            "         MaxPool2d-6             [-1, 64, 9, 9]               0\n",
            "            Conv2d-7            [-1, 128, 9, 9]          73,856\n",
            "            Conv2d-8            [-1, 128, 9, 9]         147,584\n",
            "   ConvTranspose2d-9           [-1, 64, 18, 18]          32,832\n",
            "           Conv2d-10           [-1, 64, 18, 18]          73,792\n",
            "  ConvTranspose2d-11           [-1, 32, 36, 36]           8,224\n",
            "           Conv2d-12           [-1, 32, 36, 36]          18,464\n",
            "           Conv2d-13            [-1, 1, 36, 36]              33\n",
            "================================================================\n",
            "Total params: 419,777\n",
            "Trainable params: 419,777\n",
            "Non-trainable params: 0\n",
            "----------------------------------------------------------------\n",
            "Input size (MB): 0.00\n",
            "Forward/backward pass size (MB): 2.19\n",
            "Params size (MB): 1.60\n",
            "Estimated Total Size (MB): 3.79\n",
            "----------------------------------------------------------------\n"
          ]
        }
      ],
      "source": [
        "device = torch.device('cuda' if torch.cuda.is_available() else 'cpu')\n",
        "#Initialize the model\n",
        "model = UNet()\n",
        "model.to(device)\n",
        "summary(model, input_size=(1, 36, 36))"
      ]
    },
    {
      "cell_type": "code",
      "execution_count": 6,
      "metadata": {
        "id": "zC-reNrFgaqd",
        "outputId": "499ae707-fcf5-4646-b990-df72e3cea96e",
        "colab": {
          "base_uri": "https://localhost:8080/"
        }
      },
      "outputs": [
        {
          "output_type": "execute_result",
          "data": {
            "text/plain": [
              "tensor([[[[0.4831, 0.4830, 0.4826,  ..., 0.4826, 0.4816, 0.4825],\n",
              "          [0.4845, 0.4823, 0.4822,  ..., 0.4797, 0.4810, 0.4817],\n",
              "          [0.4825, 0.4816, 0.4815,  ..., 0.4785, 0.4792, 0.4820],\n",
              "          ...,\n",
              "          [0.4840, 0.4817, 0.4800,  ..., 0.4820, 0.4820, 0.4815],\n",
              "          [0.4831, 0.4824, 0.4812,  ..., 0.4809, 0.4813, 0.4818],\n",
              "          [0.4848, 0.4819, 0.4826,  ..., 0.4837, 0.4818, 0.4823]]]],\n",
              "       grad_fn=<SigmoidBackward0>)"
            ]
          },
          "metadata": {},
          "execution_count": 6
        }
      ],
      "source": [
        "tensor = torch.rand(1,1, 36, 36).to(device)\n",
        "model(tensor)"
      ]
    },
    {
      "cell_type": "markdown",
      "source": [
        "### Attention U-Net"
      ],
      "metadata": {
        "id": "effRUikxXYzt"
      }
    },
    {
      "cell_type": "markdown",
      "metadata": {
        "id": "n2QiancrguFG"
      },
      "source": [
        "\n",
        "\n",
        "We have chosen to incorporate attention mechanisms into the U-Net to enhance focus on the critical regions of the input image.\n",
        "\n",
        "Here's an illustration of the Attention U-Net architecture:\n",
        "\n",
        "<img src=\"https://idiotdeveloper.com/wp-content/uploads/2021/06/attention_unet-compressed-2.jpg\" alt=\"Attention U-Net architecture\" width=\"500\" height=\"250\">\n",
        "\n"
      ]
    },
    {
      "cell_type": "code",
      "execution_count": 7,
      "metadata": {
        "id": "2jPZDjvH6TlX"
      },
      "outputs": [],
      "source": [
        "class AttentionBlock(nn.Module):\n",
        "    \"\"\"Attention block with learnable parameters\"\"\"\n",
        "\n",
        "    def __init__(self, F_g, F_l, n_coefficients):\n",
        "        \"\"\"\n",
        "        :param F_g: number of feature maps (channels) in previous layer\n",
        "        :param F_l: number of feature maps in corresponding encoder layer, transferred via skip connection\n",
        "        :param n_coefficients: number of learnable multi-dimensional attention coefficients\n",
        "        \"\"\"\n",
        "        super(AttentionBlock, self).__init__()\n",
        "\n",
        "        self.W_gate = nn.Sequential(\n",
        "            nn.Conv2d(F_g, n_coefficients, kernel_size=1, stride=1, padding=0, bias=True),\n",
        "            nn.BatchNorm2d(n_coefficients)\n",
        "        )\n",
        "\n",
        "        self.W_x = nn.Sequential(\n",
        "            nn.Conv2d(F_l, n_coefficients, kernel_size=1, stride=1, padding=0, bias=True),\n",
        "            nn.BatchNorm2d(n_coefficients)\n",
        "        )\n",
        "\n",
        "        self.psi = nn.Sequential(\n",
        "            nn.Conv2d(n_coefficients, 1, kernel_size=1, stride=1, padding=0, bias=True),\n",
        "            nn.BatchNorm2d(1),\n",
        "            nn.Sigmoid()\n",
        "        )\n",
        "\n",
        "        self.relu = nn.ReLU(inplace=True)\n",
        "\n",
        "    def forward(self, gate, skip_connection):\n",
        "        \"\"\"\n",
        "        :param gate: gating signal from previous layer\n",
        "        :param skip_connection: activation from corresponding encoder layer\n",
        "        :return: output activations\n",
        "        \"\"\"\n",
        "        g1 = self.W_gate(gate)\n",
        "        x1 = self.W_x(skip_connection)\n",
        "        result = torch.add(g1, x1)\n",
        "        psi = self.relu(result)\n",
        "        #print(g1.shape)\n",
        "        #print(x1.shape)\n",
        "        psi = self.psi(psi)\n",
        "        out = skip_connection * psi\n",
        "        return out"
      ]
    },
    {
      "cell_type": "code",
      "execution_count": 8,
      "metadata": {
        "id": "QQmMSz3lCVWG"
      },
      "outputs": [],
      "source": [
        "import torch\n",
        "import torch.nn as nn\n",
        "\n",
        "class AttUNet(nn.Module):\n",
        "    def __init__(self, dropout_prob=0.3):\n",
        "        super(AttUNet, self).__init__()\n",
        "\n",
        "        # Encoder\n",
        "        self.enc_conv1 = nn.Conv2d(1, 16, 3, padding=1)\n",
        "        self.enc_conv2 = nn.Conv2d(16, 32, 3, padding=1)\n",
        "        self.enc_conv3 = nn.Conv2d(32, 64, 3, padding=1)\n",
        "        self.enc_conv4 = nn.Conv2d(64, 64, 3, padding=1)\n",
        "        self.maxpool = nn.MaxPool2d(2, 2)\n",
        "\n",
        "\n",
        "\n",
        "        # Dropout layers\n",
        "        self.dropout = nn.Dropout2d(p=dropout_prob)\n",
        "\n",
        "        # Decoder\n",
        "        self.upconv1 = nn.ConvTranspose2d(64, 32, 2, stride=2)\n",
        "        self.Att1 = AttentionBlock(F_g=32, F_l=32, n_coefficients=32)\n",
        "        self.dec_conv1 = nn.Conv2d(64, 32, 3, padding=1)\n",
        "        self.upconv2 = nn.ConvTranspose2d(32, 16, 2, stride=2)\n",
        "        self.Att2 = AttentionBlock(F_g=16, F_l=16, n_coefficients=16)\n",
        "        self.dec_conv2 = nn.Conv2d(32, 16, 3, padding=1)\n",
        "        self.final_conv = nn.Conv2d(16, 1, 1)\n",
        "\n",
        "    def forward(self, x):\n",
        "        # Encoder\n",
        "        e1 = torch.relu(self.enc_conv1(x)) #32x36x36\n",
        "        e2 = self.maxpool(e1) #32x18x18\n",
        "        e2 = torch.relu(self.enc_conv2(e2)) #64x18x18\n",
        "        e2 = self.dropout(e2) #64x18x18\n",
        "        e3 = self.maxpool(e2) #64x9x9\n",
        "        e3 = torch.relu(self.enc_conv3(e3)) #128x9x9\n",
        "        elif3 = torch.relu(self.enc_conv4(e3)) #128x9x9\n",
        "        e3 = self.dropout(e3)\n",
        "\n",
        "        # Decoder\n",
        "        d2 = torch.relu(self.upconv1(e3)) #[2, 64, 18, 18]\n",
        "        s2 = self.Att1(gate=d2, skip_connection=e2)\n",
        "        d2 = torch.cat([s2, d2], dim=1)\n",
        "        d2 = torch.relu(self.dec_conv1(d2))\n",
        "        #print(d2.shape)\n",
        "        d1 = torch.relu(self.upconv2(d2))\n",
        "        #print(e1.shape)\n",
        "        #print(d1.shape)\n",
        "        s1 = self.Att2(gate=d1, skip_connection=e1)\n",
        "        d1 = torch.cat([s1, d1], dim=1)\n",
        "        #print(d1.shape)\n",
        "        d1 = torch.relu(self.dec_conv2(d1))\n",
        "        out = torch.sigmoid(self.final_conv(d1))\n",
        "        #(x.shape)\n",
        "\n",
        "        return out\n"
      ]
    },
    {
      "cell_type": "markdown",
      "source": [
        "### ResUNet"
      ],
      "metadata": {
        "id": "Uuks23iyXlM2"
      }
    },
    {
      "cell_type": "markdown",
      "metadata": {
        "id": "zRcDAYFghwc9"
      },
      "source": [
        "\n",
        "\n",
        "\n",
        "We have chosen to incorporate  residual connections within the architecture. These residual connections can help to alleviate the vanishing gradient problem and improve the overall performance of the network\n",
        "\n",
        "Here's an illustration of the ResUNet architecture:\n",
        "\n",
        "<img src=\"https://idiotdeveloper.com/wp-content/uploads/2022/01/MultiResUNET.png\" alt=\"ResUNet architecture\" width=\"500\" height=\"250\">\n"
      ]
    },
    {
      "cell_type": "code",
      "execution_count": 9,
      "metadata": {
        "id": "CxNYxo2Mav9-"
      },
      "outputs": [],
      "source": [
        "class batchnorm_relu(nn.Module):\n",
        "    def __init__(self, in_c):\n",
        "        super().__init__()\n",
        "\n",
        "        self.bn = nn.BatchNorm2d(in_c)\n",
        "        self.relu = nn.ReLU()\n",
        "\n",
        "    def forward(self, inputs):\n",
        "        x = self.bn(inputs)\n",
        "        x = self.relu(x)\n",
        "        return x\n",
        "\n",
        "class residual_block(nn.Module):\n",
        "    def __init__(self, in_c, out_c, stride=1):\n",
        "        super().__init__()\n",
        "\n",
        "        \"\"\" Convolutional layer \"\"\"\n",
        "        self.b1 = batchnorm_relu(in_c)\n",
        "        self.c1 = nn.Conv2d(in_c, out_c, kernel_size=3, padding=1, stride=stride)\n",
        "        self.b2 = batchnorm_relu(out_c)\n",
        "        self.c2 = nn.Conv2d(out_c, out_c, kernel_size=3, padding=1, stride=1)\n",
        "\n",
        "        \"\"\" Shortcut Connection (Identity Mapping) \"\"\"\n",
        "        self.s = nn.Conv2d(in_c, out_c, kernel_size=1, padding=0, stride=stride)\n",
        "\n",
        "    def forward(self, inputs):\n",
        "        x = self.b1(inputs)\n",
        "        x = self.c1(x)\n",
        "        x = self.b2(x)\n",
        "        x = self.c2(x)\n",
        "        s = self.s(inputs)\n",
        "\n",
        "        skip = x + s\n",
        "        return skip\n",
        "\n",
        "class decoder_block(nn.Module):\n",
        "    def __init__(self, in_c, out_c):\n",
        "        super().__init__()\n",
        "\n",
        "        self.upsample = nn.Upsample(scale_factor=2, mode=\"bilinear\", align_corners=False)\n",
        "        self.r = residual_block(in_c+out_c, out_c)\n",
        "\n",
        "    def forward(self, inputs, skip):\n",
        "        x = self.upsample(inputs)\n",
        "        #print(x.shape)\n",
        "        x = torch.cat([x, skip], axis=1)\n",
        "        x = self.r(x)\n",
        "        return x\n",
        "\n",
        "class build_resunet(nn.Module):\n",
        "    def __init__(self):\n",
        "        super().__init__()\n",
        "\n",
        "        \"\"\" Encoder 1 \"\"\"\n",
        "        self.c11 = nn.Conv2d(1, 64, kernel_size=3, padding=1)\n",
        "        self.br1 = batchnorm_relu(64)\n",
        "        self.c12 = nn.Conv2d(64, 64, kernel_size=3, padding=1)\n",
        "        self.c13 = nn.Conv2d(1, 64, kernel_size=1, padding=0)\n",
        "\n",
        "        \"\"\" Encoder 2 and 3 \"\"\"\n",
        "        self.r2 = residual_block(64, 128, stride=2)\n",
        "        #self.r3 = residual_block(128, 256, stride=2)\n",
        "\n",
        "        \"\"\" Bridge \"\"\"\n",
        "        self.r4 = residual_block(128, 256, stride=2)\n",
        "\n",
        "        \"\"\" Decoder \"\"\"\n",
        "        #self.d1 = decoder_block(512, 256)\n",
        "        self.d2 = decoder_block(256, 128)\n",
        "        self.d3 = decoder_block(128, 64)\n",
        "\n",
        "        \"\"\" Output \"\"\"\n",
        "        self.output = nn.Conv2d(64, 1, kernel_size=1, padding=0)\n",
        "        self.sigmoid = nn.Sigmoid()\n",
        "\n",
        "    def forward(self, inputs):\n",
        "        \"\"\" Encoder 1 \"\"\"\n",
        "        x = self.c11(inputs)\n",
        "        x = self.br1(x)\n",
        "        x = self.c12(x)\n",
        "        s = self.c13(inputs)\n",
        "        skip1 = x + s\n",
        "\n",
        "        \"\"\" Encoder 2 and 3 \"\"\"\n",
        "        skip2 = self.r2(skip1)\n",
        "        #skip3 = self.r3(skip2)\n",
        "\n",
        "        \"\"\" Bridge \"\"\"\n",
        "        b = self.r4(skip2)\n",
        "\n",
        "        \"\"\" Decoder \"\"\"\n",
        "        #d1 = self.d1(b, skip3)\n",
        "        d2 = self.d2(b, skip2)\n",
        "        d3 = self.d3(d2, skip1)\n",
        "\n",
        "        \"\"\" output \"\"\"\n",
        "        output = self.output(d3)\n",
        "        output = self.sigmoid(output)\n",
        "\n",
        "        return output\n",
        "\n",
        "\n"
      ]
    },
    {
      "cell_type": "markdown",
      "source": [
        "* Все три модели ```UNET Model```, ```Attention U-Net``` и ```ResUNet``` могут быть задействованы в сегментации изображений, но в базовом варианте пока представлена только ```UNET Model```, поэтому остальные модели лучше показывать в отдельном ноутбуке в качестве заметок для дальнейшей работы.\n",
        "* Если эксперименты проводились на всех трех моделях, модели лучше вывести в отдельные модули, которые бы импортировались в ноутбук, а в ноутбуке провести сравнительный анализ результатов экспериментов.\n",
        "\n",
        "* В дальнейшем можно поэксперементировать с перспективными архитектурами моделей:\n",
        "    * UNet++: A Nested U-Net Architecture for Medical Image Segmentation Zongwei Zhou et al., [Jul 2018](https://arxiv.org/abs/1807.10165)\n",
        "    * AG-CUResNeSt: A Novel Method for Colon Polyp Segmentation. Sang et al. [Mar 2022](https://arxiv.org/abs/2105.00402)\n",
        "    * Mask R-CNN. Kaiming He et al. [Jan 2018](https://arxiv.org/abs/1703.06870)\n",
        "    * Vision Transformer (ViT) An Image is Worth 16x16 Words: Transformers for Image Recognition at Scale Alexey Dosovitskiy et al.[Jun 2021](https://arxiv.org/abs/2010.11929)\n",
        "    * DeiT (data-efficient image transformers)\n",
        "    * VGG16-U-Net\n",
        "  "
      ],
      "metadata": {
        "id": "V_Rcd0SHz2Jh"
      }
    },
    {
      "cell_type": "markdown",
      "metadata": {
        "id": "16MGf14Dih04"
      },
      "source": [
        "## Various Losses for Training"
      ]
    },
    {
      "cell_type": "markdown",
      "metadata": {
        "id": "b3qaOra2ilt3"
      },
      "source": [
        "### Dice Loss + BCE  "
      ]
    },
    {
      "cell_type": "code",
      "execution_count": 10,
      "metadata": {
        "id": "vOJdr61OiohX"
      },
      "outputs": [],
      "source": [
        "class BinaryDiceLoss(nn.Module):\n",
        "    \"\"\"Dice loss of binary class\n",
        "    Args:\n",
        "        smooth: A float number to smooth loss, and avoid NaN error, default: 1\n",
        "        p: Denominator value: \\sum{x^p} + \\sum{y^p}, default: 2\n",
        "        predict: A tensor of shape [N, *]\n",
        "        target: A tensor of shape same with predict\n",
        "        reduction: Reduction method to apply, return mean over batch if 'mean',\n",
        "            return sum if 'sum', return a tensor of shape [N,] if 'none'\n",
        "    Returns:\n",
        "        Loss tensor according to arg reduction\n",
        "    Raise:\n",
        "        Exception if unexpected reduction\n",
        "    \"\"\"\n",
        "    def __init__(self, smooth=1, p=2, reduction='mean'):\n",
        "        super(BinaryDiceLoss, self).__init__()\n",
        "        self.smooth = smooth\n",
        "        self.p = p\n",
        "        self.reduction = reduction\n",
        "        self.bce=nn.BCELoss()\n",
        "\n",
        "    def forward(self, predict, target):\n",
        "        assert predict.shape[0] == target.shape[0], \"predict & target batch size don't match\"\n",
        "        predict = predict.contiguous().view(predict.shape[0], -1)\n",
        "        target = target.contiguous().view(target.shape[0], -1)\n",
        "\n",
        "        num = torch.sum(torch.mul(predict, target), dim=1) + self.smooth\n",
        "        den = torch.sum(predict.pow(self.p) + target.pow(self.p), dim=1) + self.smooth\n",
        "        bce_loss = self.bce(predict, target)\n",
        "        loss = (1 - num / den)+bce_loss\n",
        "\n",
        "        if self.reduction == 'mean':\n",
        "            return loss.mean()\n",
        "        elif self.reduction == 'sum':\n",
        "            return loss.sum()\n",
        "        elif self.reduction == 'none':\n",
        "            return loss\n",
        "        else:\n",
        "            raise Exception('Unexpected reduction {}'.format(self.reduction))"
      ]
    },
    {
      "cell_type": "markdown",
      "metadata": {
        "id": "4NT9gRyYi8fW"
      },
      "source": [
        "### Focal Loss"
      ]
    },
    {
      "cell_type": "code",
      "execution_count": 11,
      "metadata": {
        "id": "wIzO136PilCa"
      },
      "outputs": [],
      "source": [
        "class FocalLoss(nn.modules.loss._WeightedLoss):\n",
        "\n",
        "    def __init__(self, gamma=0, size_average=None, ignore_index=-100,\n",
        "                 reduce=None, balance_param=1.0):\n",
        "        super(FocalLoss, self).__init__(size_average)\n",
        "        self.gamma = gamma\n",
        "        self.size_average = size_average\n",
        "        self.ignore_index = ignore_index\n",
        "        self.balance_param = balance_param\n",
        "        self.bce=nn.BCELoss()\n",
        "\n",
        "    def forward(self, input, target):\n",
        "        # inputs and targets are assumed to be BatchxClasses\n",
        "        assert len(input.shape) == len(target.shape)\n",
        "        assert input.size(0) == target.size(0)\n",
        "        assert input.size(1) == target.size(1)\n",
        "        # compute the negative likelyhood\n",
        "        bce_loss = self.bce(input.view(-1), target.float().view(-1))\n",
        "        logpt = - bce_loss\n",
        "        pt = torch.exp(logpt)\n",
        "        # compute the loss\n",
        "        focal_loss = -( (1-pt)**self.gamma ) * logpt\n",
        "        balanced_focal_loss = self.balance_param * focal_loss\n",
        "        loss=balanced_focal_loss+bce_loss\n",
        "        return loss"
      ]
    },
    {
      "cell_type": "markdown",
      "source": [
        "* В базовом варианте модели функция потерь ```Binary Cross Entropy``` - ```torch.nn.BCELoss``` \"из коробки\".\n",
        "\n",
        "* Если эксперименты проводились c ```Dice Loss + BCE``` и ```Focal Loss```, эти функции потерь лучше вывести в отдельные модули, которые бы импортировались в ноутбук, а в ноутбуке провести сравнительный анализ результатов экспериментов."
      ],
      "metadata": {
        "id": "UzXY9MgI26mc"
      }
    },
    {
      "cell_type": "markdown",
      "metadata": {
        "id": "iOPFPcBQ8tMf"
      },
      "source": [
        "## Evalution Score"
      ]
    },
    {
      "cell_type": "markdown",
      "metadata": {
        "id": "N1H03DDk133G"
      },
      "source": [
        "### Dice Score"
      ]
    },
    {
      "cell_type": "code",
      "execution_count": 12,
      "metadata": {
        "id": "Ooq9ASbWe78Z"
      },
      "outputs": [],
      "source": [
        "def dice_coeff(prediction, target):\n",
        "\n",
        "    mask = np.zeros_like(prediction)\n",
        "    mask[prediction >= 0.5] = 1\n",
        "\n",
        "    inter = np.sum(mask * target)\n",
        "    union = np.sum(mask) + np.sum(target)\n",
        "    epsilon=1e-6\n",
        "    result = np.mean(2 * inter / (union + epsilon))\n",
        "\n",
        "    return result"
      ]
    },
    {
      "cell_type": "markdown",
      "source": [
        "Формулу лучше сделать для тензоров ```pytorch```, чтобы не переходить при обучении модели с ```pytorch``` на ```numpy``` и обратно:"
      ],
      "metadata": {
        "id": "VfsfyOkQxdUy"
      }
    },
    {
      "cell_type": "code",
      "source": [
        "def dice(\n",
        "    prediction: torch.tensor, target: torch.tensor, target_one_hot=True\n",
        ") -> torch.tensor:\n",
        "\n",
        "    if not target_one_hot:\n",
        "        target = torch.eye(len(target))[target]\n",
        "\n",
        "    mask = prediction > 0.5\n",
        "\n",
        "    return 2 * (target * mask).sum() / (target.sum() + mask.sum() + 1e-06)"
      ],
      "metadata": {
        "id": "Gw2E5ybxxcgW"
      },
      "execution_count": 13,
      "outputs": []
    },
    {
      "cell_type": "code",
      "source": [
        "preds = torch.tensor(\n",
        "    [\n",
        "        [0.85, 0.05, 0.05, 0.05],\n",
        "        [0.05, 0.85, 0.05, 0.05],\n",
        "        [0.05, 0.05, 0.85, 0.05],\n",
        "        [0.05, 0.05, 0.05, 0.85]\n",
        "    ]\n",
        ")\n",
        "target = torch.tensor([0, 1, 3, 2])\n",
        "\n",
        "dice(preds, target, False)"
      ],
      "metadata": {
        "colab": {
          "base_uri": "https://localhost:8080/"
        },
        "id": "tJxX7tNBqVq-",
        "outputId": "935bf148-7be7-4624-be37-2b3c7a173f7c"
      },
      "execution_count": 14,
      "outputs": [
        {
          "output_type": "execute_result",
          "data": {
            "text/plain": [
              "tensor(0.5000)"
            ]
          },
          "metadata": {},
          "execution_count": 14
        }
      ]
    },
    {
      "cell_type": "code",
      "source": [
        "target_one_hot = torch.tensor([\n",
        "    [1., 0., 0., 0.],\n",
        "    [0., 1., 0., 0.],\n",
        "    [0., 0., 0., 1.],\n",
        "    [0., 0., 1., 0.]\n",
        "])\n",
        "dice(preds, target_one_hot)"
      ],
      "metadata": {
        "colab": {
          "base_uri": "https://localhost:8080/"
        },
        "id": "sWCf6wSi0FZl",
        "outputId": "c85f80d5-119e-4409-9695-b25f5d5b81d7"
      },
      "execution_count": 15,
      "outputs": [
        {
          "output_type": "execute_result",
          "data": {
            "text/plain": [
              "tensor(0.5000)"
            ]
          },
          "metadata": {},
          "execution_count": 15
        }
      ]
    },
    {
      "cell_type": "markdown",
      "source": [
        "Также доступна формула \"из коробки\" - ```torchmetrics.Dice```:"
      ],
      "metadata": {
        "id": "-e1oXr_a1hla"
      }
    },
    {
      "cell_type": "code",
      "source": [
        "from torchmetrics import Dice\n",
        "\n",
        "dice_score = Dice()\n",
        "print(dice_score(preds, target))"
      ],
      "metadata": {
        "colab": {
          "base_uri": "https://localhost:8080/"
        },
        "id": "IStyAUFsNYbb",
        "outputId": "301f4d33-df00-47b1-98e7-b74e7eb53ca6"
      },
      "execution_count": 16,
      "outputs": [
        {
          "output_type": "stream",
          "name": "stdout",
          "text": [
            "tensor(0.5000)\n"
          ]
        }
      ]
    },
    {
      "cell_type": "markdown",
      "source": [
        "Validation function"
      ],
      "metadata": {
        "id": "rhQdS1ZT80z2"
      }
    },
    {
      "cell_type": "code",
      "source": [
        "#Validation function\n",
        "def validation(model, val_loader, criterion, device):\n",
        "    model.eval()\n",
        "    total_val_loss = 0\n",
        "    total_val_dice_coef = 0\n",
        "    sample = 0\n",
        "    nb_batch = 0\n",
        "    with torch.no_grad():\n",
        "        with tqdm(val_loader, desc='Validation', unit='batch') as tqdm_loader:\n",
        "            for images, masks,_ ,_ in tqdm_loader:\n",
        "                images = images.to(device)\n",
        "                masks = masks.to(device)\n",
        "                masks = masks.float()\n",
        "                images = images.unsqueeze(1)\n",
        "                masks = masks.unsqueeze(1)\n",
        "                pred = model(images)\n",
        "                val_loss = criterion(pred, masks)\n",
        "                y_pred = pred.data.cpu().numpy().ravel()\n",
        "                y_true = masks.data.cpu().numpy().ravel()\n",
        "                val_dice_coef = dice_coeff(y_pred, y_true)\n",
        "                total_val_loss += val_loss.item()\n",
        "                total_val_dice_coef += val_dice_coef.item()\n",
        "                sample += len(images)\n",
        "                nb_batch += 1\n",
        "                tqdm_loader.set_postfix(loss=val_loss.item(), DiceCoef=val_dice_coef.item())\n",
        "    overall_val_loss = total_val_loss / nb_batch\n",
        "    overall_val_dice_coef = total_val_dice_coef / nb_batch\n",
        "    print(f\"Validation Loss: {overall_val_loss}\")\n",
        "    print(f\"Validation Dice Score Coef: {overall_val_dice_coef}\")\n",
        "    return overall_val_loss,overall_val_dice_coef"
      ],
      "metadata": {
        "id": "QsUdgP5f82J3"
      },
      "execution_count": 17,
      "outputs": []
    },
    {
      "cell_type": "markdown",
      "source": [
        "* Из-за того что функция ```dice_coeff``` на входе и выходе не работает с ```torch.tensor```, y_pred и y_true приходится переводить в ```numpy```, переходить на ```cpu```, что замедляет скорость обучения модели. Формула ```dice``` (выше), работающая с ```torch.tensor```, позволит этого избежать.\n",
        "* Если исходить из логики, что основная задача - обучение модели, а валидация - вспомогательная, вместо отдельной формулы для валидации модели, я бы предложила сделать отдельную формулу для одной эпохи обучения (```training Loop```) и использовать этот законченный блок при запуске каждой эпохи."
      ],
      "metadata": {
        "id": "Ghjgprl789wD"
      }
    },
    {
      "cell_type": "markdown",
      "source": [
        "## Training"
      ],
      "metadata": {
        "id": "j8ybCEfYCPgc"
      }
    },
    {
      "cell_type": "code",
      "source": [
        "run = False\n",
        "if run:\n",
        "    #Model\n",
        "    model = UNet()\n",
        "    model.to(device)\n",
        "    #Hyper Parameters\n",
        "    lr = 0.001\n",
        "    weight_decay = 1e-5\n",
        "    betas = (0.9, 0.999)\n",
        "    optimizer = Adam(model.parameters(), lr=lr)\n",
        "    #criterion = FocalLoss() #FocalLoss + BCE\n",
        "    #criterion =BinaryDiceLoss() #DiceLoss + BCE\n",
        "    criterion = nn.BCELoss() #Binary Score Entropy\n",
        "    num_epochs = 25\n",
        "    train_loss=[]\n",
        "    train_dice_score=[]\n",
        "    validation_loss=[]\n",
        "    validation_dice_score=[]\n",
        "    for e in range(num_epochs):\n",
        "        model.train()\n",
        "        total_train_loss = 0\n",
        "        total_dice_coef = 0\n",
        "        sample = 0\n",
        "        nb_batch = 0\n",
        "        with tqdm(train_loader, desc=f'Epoch {e+1}/{num_epochs}', unit='batch') as tqdm_loader:\n",
        "            for images, masks,_,_ in tqdm_loader:\n",
        "                optimizer.zero_grad()\n",
        "                images = images.to(device)\n",
        "                masks = masks.to(device)\n",
        "                masks = masks.float()\n",
        "                images = images.unsqueeze(1)\n",
        "                masks = masks.unsqueeze(1)\n",
        "                pred = model(images)\n",
        "                loss = criterion(pred, masks).mean().float()\n",
        "                y_pred = pred.data.cpu().numpy().ravel()\n",
        "                y_true = masks.data.cpu().numpy().ravel()\n",
        "                dice_coef = dice_coeff(y_pred, y_true)\n",
        "                loss.backward()\n",
        "                optimizer.step()\n",
        "                total_train_loss += loss.item()\n",
        "                total_dice_coef += dice_coef.item()\n",
        "                sample += len(images)\n",
        "                nb_batch += 1\n",
        "                tqdm_loader.set_postfix(loss=loss.item(), DiceCoef=dice_coef.item())\n",
        "\n",
        "            overall_loss=total_train_loss/nb_batch\n",
        "            overall_score = total_dice_coef / nb_batch\n",
        "            train_loss.append(overall_loss)\n",
        "            train_dice_score.append(overall_score)\n",
        "        print(f\"Epoch [{e+1}/{num_epochs}], Total Train Loss: {total_train_loss}\")\n",
        "        print(f\"Epoch [{e+1}/{num_epochs}], Dice Score for Training : {overall_score}\")\n",
        "        # Validation\n",
        "        val_loss,val_dice_coef=validation(model, val_loader, criterion, device)\n",
        "        validation_loss.append(val_loss)\n",
        "        validation_dice_score.append(val_dice_coef)\n",
        "        # Save the model\n",
        "        save_dir = \"../results\"\n",
        "        model_path = os.path.join(save_dir, f\"model_epoch_{e+1}.pt\")\n",
        "        torch.save(model.state_dict(), model_path)\n"
      ],
      "metadata": {
        "id": "BWMjsgH7AFzg"
      },
      "execution_count": 18,
      "outputs": []
    },
    {
      "cell_type": "markdown",
      "source": [
        "## Рекомендации"
      ],
      "metadata": {
        "id": "_33vJ74R1aWQ"
      }
    },
    {
      "cell_type": "markdown",
      "source": [
        "1. Все три модели ```UNET Model```, ```Attention U-Net``` и ```ResUNet``` могут быть задействованы в сегментации изображений, но в базовом варианте задействована только ```UNET Model```, поэтому остальные модели лучше показывать в отдельном ноутбуке в качестве заметок для дальнейшей работы.\n",
        "* Если эксперименты проводились на всех трех моделях, модели лучше вывести в отдельные модули, которые бы импортировались в ноутбук, а в ноутбуке провести сравнительный анализ результатов экспериментов.\n",
        "\n",
        "2. Чтобы избежать переобучения модели ```UNET Model```, небольшой ```dropout``` лучше оставить, например: ```dropout_prob=0.1```. Более подходящее значение можно будет определить при подборе гиперпараметров.\n",
        "\n",
        "3. В базовом варианте модели функция потерь ```Binary Cross Entropy``` (```torch.nn.BCELoss\"```) -  \"\"из коробки\"\".\n",
        "\n",
        "* Если эксперименты проводились c ```Dice Loss + BCE``` и ```Focal Loss```, эти функции потерь лучше вывести в отдельные модули, которые бы импортировались в ноутбук, а в ноутбуке провести сравнительный анализ результатов экспериментов.\n",
        "\n",
        "4. В дальнейшем можно поэксперементировать с перспективными архитектурами моделей:\n",
        "    * UNet++: A Nested U-Net Architecture for Medical Image Segmentation Zongwei Zhou et al., [Jul 2018](https://arxiv.org/abs/1807.10165)\n",
        "    * AG-CUResNeSt: A Novel Method for Colon Polyp Segmentation. Sang et al. [Mar 2022](https://arxiv.org/abs/2105.00402)\n",
        "    * Mask R-CNN. Kaiming He et al. [Jan 2018](https://arxiv.org/abs/1703.06870)\n",
        "    * Vision Transformer (ViT) An Image is Worth 16x16 Words: Transformers for Image Recognition at Scale Alexey Dosovitskiy et al.[Jun 2021](https://arxiv.org/abs/2010.11929)\n",
        "    * DeiT (data-efficient image transformers)\n",
        "    * VGG16-U-Net\n",
        "\n",
        "5. Из-за того что функция ```dice_coeff``` на входе и выходе не работает с ```torch.tensor```, ```y_pred``` и ```y_true``` приходится переводить в ```numpy``` и переходить на ```cpu```, что замедляет скорость обучения модели. Формула ```dice``` (выше), работающая с ```torch.tensor```, позволит этого избежать. Также доступна формула \"из коробки\" - ```torchmetrics.Dice```.\n",
        "\n",
        "6. Если исходить из логики, что основная задача - обучение модели, а валидация - вспомогательная, вместо отдельной формулы для валидации модели, я бы предложила сделать отдельную формулу для одной эпохи обучения (```training Loop```) и использовать этот законченный блок при запуске каждой эпохи.\n",
        "\n",
        "7. Инициализацию модели лучше сделать в отдельной ячейке, чтобы можно было легко добавлять больше эпох к текущему запуску.\n",
        "\n",
        "8. Для логирования метрик и значений функции потерь при обучении модели и валидации, чтобы потом выводить результаты на ```TensorBoard```, в pytorch предлагается ```torch.utils.tensorboard.SummaryWriter```.\n",
        "TensorBoard: набор инструментов для визуализации TensorFlow - [здесь](https://www.tensorflow.org/tensorboard?hl=ru) ссылка.\n",
        "\n",
        "  Код запускается при инициализации модели:\n",
        "```\n",
        "timestamp = datetime.now().strftime('%Y%m%d_%H%M%S')\n",
        "writer = SummaryWriter('runs/corrosion_segmentation_trainer_{}'.format(timestamp))\n",
        "```\n",
        "  В конце каждой эпохи логируем показатели обучения и валидации модели:\n",
        "```\n",
        "writer.add_scalars(\n",
        "  'Training vs. Validation Loss',\n",
        "  { 'Training' : avg_loss, 'Validation' : avg_vloss },\n",
        "  epoch_number + 1\n",
        ")\n",
        "writer.flush()\n",
        "```\n",
        "  Пример кода для запуска ```TensorBoard``` в ```Google Colab```:\n",
        "```\n",
        "%load_ext tensorboard\n",
        "%tensorboard --logdir='/content/cv-segmentation/notebooks/runs'\n",
        "```\n",
        "\n",
        "9. Имеет смысл отслеживать и записывать лучшие версии модели:\n",
        "```\n",
        "best_vloss = 1_000_000.\n",
        "if avg_vloss < best_vloss:\n",
        "    best_vloss = avg_vloss\n",
        "    model_path = 'model_{}_{}'.format(timestamp, epoch_number)\n",
        "    torch.save(model.state_dict(), model_path)\n",
        "```\n",
        "10. Для уменьшения ```learning rate``` когда метрики перестают улучшаться, имеет смысл реализовать ```lr_scheduler``` ```ReduceLROnPlateau``` - [здесь](https://pytorch.org/docs/stable/generated/torch.optim.lr_scheduler.ReduceLROnPlateau.html#torch.optim.lr_scheduler.ReduceLROnPlateau) ссылка на решение \"из коробки\". У ```pytorch``` есть другие интересные варианты ```lr_scheduler```, их тоже можно было бы рассмотреть.\n",
        "\n",
        "11. Чтобы обучение модели автоматически останавливалось, если после какого-то набора событий нет улучшений, в блоке обучения реализуем ```EarlyStopping``` [здесь](https://pytorch.org/ignite/generated/ignite.handlers.early_stopping.EarlyStopping.html#ignite.handlers.early_stopping.EarlyStopping) ссылка на решение из библиотеки ignite. Это будет своеобразная страховка от недостаточного обучения модели: задаем заведомо избыточное число эпох, и модель останавливается, когда на валидационнй выборке перестают улучшаться заданные метрики.\n",
        "\n",
        "12. Повысить метрики модели помогает настройка гиперпараметров - [здесь](https://pytorch.org/tutorials/beginner/hyperparameter_tuning_tutorial.html) ссылка на пример настройки гиперпараметров в документации ```pytorch```.\n",
        "\n",
        "13. После настройки гиперпараметров полезно протестировать модель на тестовой выборке и изучить, на каких экземплярах модель ошибается. Это может дать представление, как нужно трансформировать данные или изменить архитектуру модели, чтобы улучшить метрики.\n",
        "\n",
        "14. Формулы, задейстованные в подготовке данных, обучении модели, инфененсе должны быть покрыты тестами. Так будет удобнее поддерживать модель на протяжении ее жизненного цикла. Обычно для этих целей используют библиотеки ```pytest``` - [здесь](https://docs.pytest.org/en/stable/) ссылка, ```unittest.mock``` - [здесь](https://docs.python.org/3/library/unittest.mock.html) ссылка.\n",
        "\n",
        "15. Еще одно направление для исследований - проанализироать насколько качественная разметка. От разметки зависит и качесвтво обучения, и метрики на тестовой выборке. Если в разметке обнаружатся какие-то системные ошибки, которые можно нивелироать, есть шанс, что метрики модели улучшатся. Другой вариант - делать поправку на качество разметки - помечать в данных способы разметки/ разметчиков, как дополнительный признак.\n",
        "\n",
        "16. Часть рекомендаций выше реалиизована в сквозном примере в ноутбуке 04_Baseline_model.ipynb - [cсылка](https://github.com/YaninaK/cv-segmentation/blob/main/notebooks/04_Baseline_model.ipynb) на ноутбук."
      ],
      "metadata": {
        "id": "lX0ojMdJ1f-7"
      }
    }
  ],
  "metadata": {
    "colab": {
      "provenance": [],
      "toc_visible": true,
      "include_colab_link": true
    },
    "kaggle": {
      "accelerator": "gpu",
      "dataSources": [
        {
          "datasetId": 4451693,
          "sourceId": 7638652,
          "sourceType": "datasetVersion"
        }
      ],
      "dockerImageVersionId": 30646,
      "isGpuEnabled": true,
      "isInternetEnabled": true,
      "language": "python",
      "sourceType": "notebook"
    },
    "kernelspec": {
      "display_name": "Python 3",
      "name": "python3"
    },
    "language_info": {
      "codemirror_mode": {
        "name": "ipython",
        "version": 3
      },
      "file_extension": ".py",
      "mimetype": "text/x-python",
      "name": "python",
      "nbconvert_exporter": "python",
      "pygments_lexer": "ipython3",
      "version": "3.10.12"
    }
  },
  "nbformat": 4,
  "nbformat_minor": 0
}