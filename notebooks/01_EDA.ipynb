{
  "cells": [
    {
      "cell_type": "markdown",
      "metadata": {
        "id": "view-in-github",
        "colab_type": "text"
      },
      "source": [
        "<a href=\"https://colab.research.google.com/github/YaninaK/cv-segmentation/blob/b1/notebooks/01_EDA.ipynb\" target=\"_parent\"><img src=\"https://colab.research.google.com/assets/colab-badge.svg\" alt=\"Open In Colab\"/></a>"
      ]
    },
    {
      "cell_type": "markdown",
      "metadata": {
        "id": "oKCgu2rHwEc8"
      },
      "source": [
        "# Corrosion detection in steel pipes\n",
        "\n",
        "## 1. EDA"
      ]
    },
    {
      "cell_type": "markdown",
      "metadata": {
        "id": "EUGZlBgnwX7R"
      },
      "source": [
        "* **The objective**:\n",
        "The objective of this challenge is to train a model that have the highest possible score for the segmentation of groove defects using the provided data"
      ]
    },
    {
      "cell_type": "code",
      "execution_count": 1,
      "metadata": {
        "colab": {
          "base_uri": "https://localhost:8080/"
        },
        "id": "kLUatu0znap0",
        "outputId": "c4f2f1df-0bf7-4719-f154-8e0741260f6b"
      },
      "outputs": [
        {
          "output_type": "stream",
          "name": "stdout",
          "text": [
            "/content/cv-segmentation/notebooks\n"
          ]
        }
      ],
      "source": [
        "initiate = False\n",
        "if initiate:\n",
        "  !git init -q\n",
        "  !git clone -b b1 https://github.com/YaninaK/cv-segmentation.git -q\n",
        "\n",
        "  from google.colab import drive\n",
        "  drive.mount('/content/drive')\n",
        "\n",
        "  !unzip -u -q /content/drive/MyDrive/ML_projects/07_CV/data/01_raw/X_train_corrected.zip -d /content/cv-segmentation/data/raw\n",
        "  !unzip -u -q /content/drive/MyDrive/ML_projects/07_CV/data/01_raw/masks.zip -d /content/cv-segmentation/data/raw\n",
        "  !cp /content/drive/MyDrive/ML_projects/07_CV/data/01_raw/y_train.csv -d /content/cv-segmentation/data/raw\n",
        "\n",
        "%cd /content/cv-segmentation/notebooks"
      ]
    },
    {
      "cell_type": "markdown",
      "metadata": {
        "id": "3r-hNlo2CICN"
      },
      "source": [
        "## Install Packages"
      ]
    },
    {
      "cell_type": "code",
      "execution_count": 2,
      "metadata": {
        "colab": {
          "base_uri": "https://localhost:8080/"
        },
        "id": "mkTL_grICFx0",
        "outputId": "794cefe1-a49f-47b0-ed5d-1f3f07d5d089"
      },
      "outputs": [
        {
          "output_type": "stream",
          "name": "stdout",
          "text": [
            "Requirement already satisfied: imutils in /usr/local/lib/python3.10/dist-packages (0.5.4)\n",
            "Requirement already satisfied: torchsummary in /usr/local/lib/python3.10/dist-packages (1.5.1)\n"
          ]
        }
      ],
      "source": [
        "#install packages\n",
        "!pip install imutils\n",
        "!pip install torchsummary"
      ]
    },
    {
      "cell_type": "markdown",
      "metadata": {
        "id": "5vxsdjjFcnNq"
      },
      "source": [
        "* Для воспроизводимости среды необходимые версии библиотек лучше зафиксировать, например, в файле requirements.txt\n",
        "```\n",
        "imutils==0.5.4\n",
        "torchsummary==1.5.1\n",
        "...\n",
        "```\n",
        "\n",
        "\n",
        "Тогда установка будет выглдеть так:\n",
        "\n",
        "```\n",
        "!pip install -r requirements.txt\n",
        "```"
      ]
    },
    {
      "cell_type": "code",
      "execution_count": 3,
      "metadata": {
        "id": "FeDqIfAVrjWJ"
      },
      "outputs": [],
      "source": [
        "import torch\n",
        "import torch.nn as nn\n",
        "from torch.utils.data import Dataset, DataLoader\n",
        "import numpy as np\n",
        "import imutils.paths as paths\n",
        "import glob\n",
        "import matplotlib.pyplot as plt\n",
        "import os\n",
        "from torchvision import transforms\n",
        "from PIL import Image\n",
        "from torch.optim import Adam\n",
        "from torchsummary import summary\n",
        "from tqdm import tqdm\n",
        "import random\n",
        "import shutil\n",
        "import cv2\n",
        "from scipy.ndimage import binary_fill_holes\n",
        "import pandas as pd\n",
        "from pathlib import Path"
      ]
    },
    {
      "cell_type": "code",
      "execution_count": 4,
      "metadata": {
        "id": "Xpx2Ozg2cNy3"
      },
      "outputs": [],
      "source": [
        "import pandas as pd\n",
        "import os\n",
        "import numpy as np\n",
        "import matplotlib.pyplot as plt\n",
        "from tqdm import tqdm\n",
        "import random"
      ]
    },
    {
      "cell_type": "markdown",
      "metadata": {
        "id": "8rPppdLsgFEk"
      },
      "source": [
        "* Импорт лучше упорядочить по алфавиту с разделением на секции и по типам, например, как это делает библиотека [isort](https://pycqa.github.io/isort/).\n",
        "Это позволит избежать повторений как, например ```from tqdm import tqdm```, ```import random``` и т.п.\n",
        "\n",
        "Тогда иморт выглядел бы так:\n"
      ]
    },
    {
      "cell_type": "markdown",
      "metadata": {
        "id": "pf452ljZjULv"
      },
      "source": [
        "```\n",
        "import glob\n",
        "import os\n",
        "import random\n",
        "import shutil\n",
        "from pathlib import Path\n",
        "\n",
        "import cv2\n",
        "import imutils.paths as paths\n",
        "import matplotlib.pyplot as plt\n",
        "import numpy as np\n",
        "import pandas as pd\n",
        "import torch\n",
        "import torch.nn as nn\n",
        "from PIL import Image\n",
        "from scipy.ndimage import binary_fill_holes\n",
        "from torch.optim import Adam\n",
        "from torch.utils.data import DataLoader, Dataset\n",
        "from torchsummary import summary\n",
        "from torchvision import transforms\n",
        "from tqdm import tqdm\n",
        "```"
      ]
    },
    {
      "cell_type": "markdown",
      "metadata": {
        "id": "BrSQharecNy3"
      },
      "source": [
        "## Look at the data\n"
      ]
    },
    {
      "cell_type": "markdown",
      "metadata": {
        "id": "2IiBEzWejtvf"
      },
      "source": [
        "* Блок Look at the data (EDA) лучше делать в отдельном ноутбуке и давать на него ссылку"
      ]
    },
    {
      "cell_type": "code",
      "execution_count": 5,
      "metadata": {
        "colab": {
          "base_uri": "https://localhost:8080/"
        },
        "id": "hQMdcno_cNy4",
        "outputId": "a59a323b-91a7-471c-bcd3-f029c34f11e8"
      },
      "outputs": [
        {
          "output_type": "stream",
          "name": "stdout",
          "text": [
            "<class 'pandas.core.frame.DataFrame'>\n",
            "Index: 9674 entries, well_10_patch_0 to well_15_patch_99\n",
            "Columns: 1296 entries, 0 to 1295\n",
            "dtypes: int64(1296)\n",
            "memory usage: 95.7+ MB\n"
          ]
        }
      ],
      "source": [
        "# Read file\n",
        "y_train=pd.read_csv('../data/raw/y_train.csv',index_col=0) #Table with index being the name of the patch\n",
        "y_train.info()"
      ]
    },
    {
      "cell_type": "code",
      "execution_count": 6,
      "metadata": {
        "colab": {
          "base_uri": "https://localhost:8080/",
          "height": 235
        },
        "id": "nBE2kTOPcNy5",
        "outputId": "970d98b5-b25a-49b6-8867-0648ced15d4a"
      },
      "outputs": [
        {
          "output_type": "display_data",
          "data": {
            "text/plain": [
              "                  0  1  2  3  4  5  6  7  8  9  ...  1286  1287  1288  1289  \\\n",
              "well_10_patch_0   0  0  0  0  0  0  0  0  0  0  ...     0     0     0     0   \n",
              "well_10_patch_1   0  0  0  0  0  0  0  0  0  0  ...     0     0     0     0   \n",
              "well_10_patch_10  0  0  0  0  0  0  0  0  0  0  ...     0     0     0     0   \n",
              "well_10_patch_11  0  0  0  0  0  0  0  0  0  0  ...     0     0     0     0   \n",
              "well_10_patch_12  0  0  0  0  0  0  0  0  0  0  ...     0     0     0     0   \n",
              "\n",
              "                  1290  1291  1292  1293  1294  1295  \n",
              "well_10_patch_0      0     0     0     0     0     0  \n",
              "well_10_patch_1      0     0     0     0     0     0  \n",
              "well_10_patch_10     0     0     0     0     0     0  \n",
              "well_10_patch_11     0     0     0     0     0     0  \n",
              "well_10_patch_12     0     0     0     0     0     0  \n",
              "\n",
              "[5 rows x 1296 columns]"
            ],
            "text/html": [
              "\n",
              "  <div id=\"df-4e40732f-9a24-4a94-aa68-d50073c7e14b\" class=\"colab-df-container\">\n",
              "    <div>\n",
              "<style scoped>\n",
              "    .dataframe tbody tr th:only-of-type {\n",
              "        vertical-align: middle;\n",
              "    }\n",
              "\n",
              "    .dataframe tbody tr th {\n",
              "        vertical-align: top;\n",
              "    }\n",
              "\n",
              "    .dataframe thead th {\n",
              "        text-align: right;\n",
              "    }\n",
              "</style>\n",
              "<table border=\"1\" class=\"dataframe\">\n",
              "  <thead>\n",
              "    <tr style=\"text-align: right;\">\n",
              "      <th></th>\n",
              "      <th>0</th>\n",
              "      <th>1</th>\n",
              "      <th>2</th>\n",
              "      <th>3</th>\n",
              "      <th>4</th>\n",
              "      <th>5</th>\n",
              "      <th>6</th>\n",
              "      <th>7</th>\n",
              "      <th>8</th>\n",
              "      <th>9</th>\n",
              "      <th>...</th>\n",
              "      <th>1286</th>\n",
              "      <th>1287</th>\n",
              "      <th>1288</th>\n",
              "      <th>1289</th>\n",
              "      <th>1290</th>\n",
              "      <th>1291</th>\n",
              "      <th>1292</th>\n",
              "      <th>1293</th>\n",
              "      <th>1294</th>\n",
              "      <th>1295</th>\n",
              "    </tr>\n",
              "  </thead>\n",
              "  <tbody>\n",
              "    <tr>\n",
              "      <th>well_10_patch_0</th>\n",
              "      <td>0</td>\n",
              "      <td>0</td>\n",
              "      <td>0</td>\n",
              "      <td>0</td>\n",
              "      <td>0</td>\n",
              "      <td>0</td>\n",
              "      <td>0</td>\n",
              "      <td>0</td>\n",
              "      <td>0</td>\n",
              "      <td>0</td>\n",
              "      <td>...</td>\n",
              "      <td>0</td>\n",
              "      <td>0</td>\n",
              "      <td>0</td>\n",
              "      <td>0</td>\n",
              "      <td>0</td>\n",
              "      <td>0</td>\n",
              "      <td>0</td>\n",
              "      <td>0</td>\n",
              "      <td>0</td>\n",
              "      <td>0</td>\n",
              "    </tr>\n",
              "    <tr>\n",
              "      <th>well_10_patch_1</th>\n",
              "      <td>0</td>\n",
              "      <td>0</td>\n",
              "      <td>0</td>\n",
              "      <td>0</td>\n",
              "      <td>0</td>\n",
              "      <td>0</td>\n",
              "      <td>0</td>\n",
              "      <td>0</td>\n",
              "      <td>0</td>\n",
              "      <td>0</td>\n",
              "      <td>...</td>\n",
              "      <td>0</td>\n",
              "      <td>0</td>\n",
              "      <td>0</td>\n",
              "      <td>0</td>\n",
              "      <td>0</td>\n",
              "      <td>0</td>\n",
              "      <td>0</td>\n",
              "      <td>0</td>\n",
              "      <td>0</td>\n",
              "      <td>0</td>\n",
              "    </tr>\n",
              "    <tr>\n",
              "      <th>well_10_patch_10</th>\n",
              "      <td>0</td>\n",
              "      <td>0</td>\n",
              "      <td>0</td>\n",
              "      <td>0</td>\n",
              "      <td>0</td>\n",
              "      <td>0</td>\n",
              "      <td>0</td>\n",
              "      <td>0</td>\n",
              "      <td>0</td>\n",
              "      <td>0</td>\n",
              "      <td>...</td>\n",
              "      <td>0</td>\n",
              "      <td>0</td>\n",
              "      <td>0</td>\n",
              "      <td>0</td>\n",
              "      <td>0</td>\n",
              "      <td>0</td>\n",
              "      <td>0</td>\n",
              "      <td>0</td>\n",
              "      <td>0</td>\n",
              "      <td>0</td>\n",
              "    </tr>\n",
              "    <tr>\n",
              "      <th>well_10_patch_11</th>\n",
              "      <td>0</td>\n",
              "      <td>0</td>\n",
              "      <td>0</td>\n",
              "      <td>0</td>\n",
              "      <td>0</td>\n",
              "      <td>0</td>\n",
              "      <td>0</td>\n",
              "      <td>0</td>\n",
              "      <td>0</td>\n",
              "      <td>0</td>\n",
              "      <td>...</td>\n",
              "      <td>0</td>\n",
              "      <td>0</td>\n",
              "      <td>0</td>\n",
              "      <td>0</td>\n",
              "      <td>0</td>\n",
              "      <td>0</td>\n",
              "      <td>0</td>\n",
              "      <td>0</td>\n",
              "      <td>0</td>\n",
              "      <td>0</td>\n",
              "    </tr>\n",
              "    <tr>\n",
              "      <th>well_10_patch_12</th>\n",
              "      <td>0</td>\n",
              "      <td>0</td>\n",
              "      <td>0</td>\n",
              "      <td>0</td>\n",
              "      <td>0</td>\n",
              "      <td>0</td>\n",
              "      <td>0</td>\n",
              "      <td>0</td>\n",
              "      <td>0</td>\n",
              "      <td>0</td>\n",
              "      <td>...</td>\n",
              "      <td>0</td>\n",
              "      <td>0</td>\n",
              "      <td>0</td>\n",
              "      <td>0</td>\n",
              "      <td>0</td>\n",
              "      <td>0</td>\n",
              "      <td>0</td>\n",
              "      <td>0</td>\n",
              "      <td>0</td>\n",
              "      <td>0</td>\n",
              "    </tr>\n",
              "  </tbody>\n",
              "</table>\n",
              "<p>5 rows × 1296 columns</p>\n",
              "</div>\n",
              "    <div class=\"colab-df-buttons\">\n",
              "\n",
              "  <div class=\"colab-df-container\">\n",
              "    <button class=\"colab-df-convert\" onclick=\"convertToInteractive('df-4e40732f-9a24-4a94-aa68-d50073c7e14b')\"\n",
              "            title=\"Convert this dataframe to an interactive table.\"\n",
              "            style=\"display:none;\">\n",
              "\n",
              "  <svg xmlns=\"http://www.w3.org/2000/svg\" height=\"24px\" viewBox=\"0 -960 960 960\">\n",
              "    <path d=\"M120-120v-720h720v720H120Zm60-500h600v-160H180v160Zm220 220h160v-160H400v160Zm0 220h160v-160H400v160ZM180-400h160v-160H180v160Zm440 0h160v-160H620v160ZM180-180h160v-160H180v160Zm440 0h160v-160H620v160Z\"/>\n",
              "  </svg>\n",
              "    </button>\n",
              "\n",
              "  <style>\n",
              "    .colab-df-container {\n",
              "      display:flex;\n",
              "      gap: 12px;\n",
              "    }\n",
              "\n",
              "    .colab-df-convert {\n",
              "      background-color: #E8F0FE;\n",
              "      border: none;\n",
              "      border-radius: 50%;\n",
              "      cursor: pointer;\n",
              "      display: none;\n",
              "      fill: #1967D2;\n",
              "      height: 32px;\n",
              "      padding: 0 0 0 0;\n",
              "      width: 32px;\n",
              "    }\n",
              "\n",
              "    .colab-df-convert:hover {\n",
              "      background-color: #E2EBFA;\n",
              "      box-shadow: 0px 1px 2px rgba(60, 64, 67, 0.3), 0px 1px 3px 1px rgba(60, 64, 67, 0.15);\n",
              "      fill: #174EA6;\n",
              "    }\n",
              "\n",
              "    .colab-df-buttons div {\n",
              "      margin-bottom: 4px;\n",
              "    }\n",
              "\n",
              "    [theme=dark] .colab-df-convert {\n",
              "      background-color: #3B4455;\n",
              "      fill: #D2E3FC;\n",
              "    }\n",
              "\n",
              "    [theme=dark] .colab-df-convert:hover {\n",
              "      background-color: #434B5C;\n",
              "      box-shadow: 0px 1px 3px 1px rgba(0, 0, 0, 0.15);\n",
              "      filter: drop-shadow(0px 1px 2px rgba(0, 0, 0, 0.3));\n",
              "      fill: #FFFFFF;\n",
              "    }\n",
              "  </style>\n",
              "\n",
              "    <script>\n",
              "      const buttonEl =\n",
              "        document.querySelector('#df-4e40732f-9a24-4a94-aa68-d50073c7e14b button.colab-df-convert');\n",
              "      buttonEl.style.display =\n",
              "        google.colab.kernel.accessAllowed ? 'block' : 'none';\n",
              "\n",
              "      async function convertToInteractive(key) {\n",
              "        const element = document.querySelector('#df-4e40732f-9a24-4a94-aa68-d50073c7e14b');\n",
              "        const dataTable =\n",
              "          await google.colab.kernel.invokeFunction('convertToInteractive',\n",
              "                                                    [key], {});\n",
              "        if (!dataTable) return;\n",
              "\n",
              "        const docLinkHtml = 'Like what you see? Visit the ' +\n",
              "          '<a target=\"_blank\" href=https://colab.research.google.com/notebooks/data_table.ipynb>data table notebook</a>'\n",
              "          + ' to learn more about interactive tables.';\n",
              "        element.innerHTML = '';\n",
              "        dataTable['output_type'] = 'display_data';\n",
              "        await google.colab.output.renderOutput(dataTable, element);\n",
              "        const docLink = document.createElement('div');\n",
              "        docLink.innerHTML = docLinkHtml;\n",
              "        element.appendChild(docLink);\n",
              "      }\n",
              "    </script>\n",
              "  </div>\n",
              "\n",
              "\n",
              "<div id=\"df-e42afea6-d529-4c24-9bac-395370fbec49\">\n",
              "  <button class=\"colab-df-quickchart\" onclick=\"quickchart('df-e42afea6-d529-4c24-9bac-395370fbec49')\"\n",
              "            title=\"Suggest charts\"\n",
              "            style=\"display:none;\">\n",
              "\n",
              "<svg xmlns=\"http://www.w3.org/2000/svg\" height=\"24px\"viewBox=\"0 0 24 24\"\n",
              "     width=\"24px\">\n",
              "    <g>\n",
              "        <path d=\"M19 3H5c-1.1 0-2 .9-2 2v14c0 1.1.9 2 2 2h14c1.1 0 2-.9 2-2V5c0-1.1-.9-2-2-2zM9 17H7v-7h2v7zm4 0h-2V7h2v10zm4 0h-2v-4h2v4z\"/>\n",
              "    </g>\n",
              "</svg>\n",
              "  </button>\n",
              "\n",
              "<style>\n",
              "  .colab-df-quickchart {\n",
              "      --bg-color: #E8F0FE;\n",
              "      --fill-color: #1967D2;\n",
              "      --hover-bg-color: #E2EBFA;\n",
              "      --hover-fill-color: #174EA6;\n",
              "      --disabled-fill-color: #AAA;\n",
              "      --disabled-bg-color: #DDD;\n",
              "  }\n",
              "\n",
              "  [theme=dark] .colab-df-quickchart {\n",
              "      --bg-color: #3B4455;\n",
              "      --fill-color: #D2E3FC;\n",
              "      --hover-bg-color: #434B5C;\n",
              "      --hover-fill-color: #FFFFFF;\n",
              "      --disabled-bg-color: #3B4455;\n",
              "      --disabled-fill-color: #666;\n",
              "  }\n",
              "\n",
              "  .colab-df-quickchart {\n",
              "    background-color: var(--bg-color);\n",
              "    border: none;\n",
              "    border-radius: 50%;\n",
              "    cursor: pointer;\n",
              "    display: none;\n",
              "    fill: var(--fill-color);\n",
              "    height: 32px;\n",
              "    padding: 0;\n",
              "    width: 32px;\n",
              "  }\n",
              "\n",
              "  .colab-df-quickchart:hover {\n",
              "    background-color: var(--hover-bg-color);\n",
              "    box-shadow: 0 1px 2px rgba(60, 64, 67, 0.3), 0 1px 3px 1px rgba(60, 64, 67, 0.15);\n",
              "    fill: var(--button-hover-fill-color);\n",
              "  }\n",
              "\n",
              "  .colab-df-quickchart-complete:disabled,\n",
              "  .colab-df-quickchart-complete:disabled:hover {\n",
              "    background-color: var(--disabled-bg-color);\n",
              "    fill: var(--disabled-fill-color);\n",
              "    box-shadow: none;\n",
              "  }\n",
              "\n",
              "  .colab-df-spinner {\n",
              "    border: 2px solid var(--fill-color);\n",
              "    border-color: transparent;\n",
              "    border-bottom-color: var(--fill-color);\n",
              "    animation:\n",
              "      spin 1s steps(1) infinite;\n",
              "  }\n",
              "\n",
              "  @keyframes spin {\n",
              "    0% {\n",
              "      border-color: transparent;\n",
              "      border-bottom-color: var(--fill-color);\n",
              "      border-left-color: var(--fill-color);\n",
              "    }\n",
              "    20% {\n",
              "      border-color: transparent;\n",
              "      border-left-color: var(--fill-color);\n",
              "      border-top-color: var(--fill-color);\n",
              "    }\n",
              "    30% {\n",
              "      border-color: transparent;\n",
              "      border-left-color: var(--fill-color);\n",
              "      border-top-color: var(--fill-color);\n",
              "      border-right-color: var(--fill-color);\n",
              "    }\n",
              "    40% {\n",
              "      border-color: transparent;\n",
              "      border-right-color: var(--fill-color);\n",
              "      border-top-color: var(--fill-color);\n",
              "    }\n",
              "    60% {\n",
              "      border-color: transparent;\n",
              "      border-right-color: var(--fill-color);\n",
              "    }\n",
              "    80% {\n",
              "      border-color: transparent;\n",
              "      border-right-color: var(--fill-color);\n",
              "      border-bottom-color: var(--fill-color);\n",
              "    }\n",
              "    90% {\n",
              "      border-color: transparent;\n",
              "      border-bottom-color: var(--fill-color);\n",
              "    }\n",
              "  }\n",
              "</style>\n",
              "\n",
              "  <script>\n",
              "    async function quickchart(key) {\n",
              "      const quickchartButtonEl =\n",
              "        document.querySelector('#' + key + ' button');\n",
              "      quickchartButtonEl.disabled = true;  // To prevent multiple clicks.\n",
              "      quickchartButtonEl.classList.add('colab-df-spinner');\n",
              "      try {\n",
              "        const charts = await google.colab.kernel.invokeFunction(\n",
              "            'suggestCharts', [key], {});\n",
              "      } catch (error) {\n",
              "        console.error('Error during call to suggestCharts:', error);\n",
              "      }\n",
              "      quickchartButtonEl.classList.remove('colab-df-spinner');\n",
              "      quickchartButtonEl.classList.add('colab-df-quickchart-complete');\n",
              "    }\n",
              "    (() => {\n",
              "      let quickchartButtonEl =\n",
              "        document.querySelector('#df-e42afea6-d529-4c24-9bac-395370fbec49 button');\n",
              "      quickchartButtonEl.style.display =\n",
              "        google.colab.kernel.accessAllowed ? 'block' : 'none';\n",
              "    })();\n",
              "  </script>\n",
              "</div>\n",
              "    </div>\n",
              "  </div>\n"
            ],
            "application/vnd.google.colaboratory.intrinsic+json": {
              "type": "dataframe"
            }
          },
          "metadata": {}
        }
      ],
      "source": [
        "display(y_train.head())"
      ]
    },
    {
      "cell_type": "markdown",
      "metadata": {
        "id": "Hxkss7R6EJtT"
      },
      "source": [
        "* ```display``` - избыточный код. Здесь достаточно ```y_train.head()```:"
      ]
    },
    {
      "cell_type": "code",
      "execution_count": 7,
      "metadata": {
        "colab": {
          "base_uri": "https://localhost:8080/",
          "height": 235
        },
        "id": "-d8PH_paEFhv",
        "outputId": "7994e77d-dd9f-48df-e3e9-8a14439359cd"
      },
      "outputs": [
        {
          "output_type": "execute_result",
          "data": {
            "text/plain": [
              "                  0  1  2  3  4  5  6  7  8  9  ...  1286  1287  1288  1289  \\\n",
              "well_10_patch_0   0  0  0  0  0  0  0  0  0  0  ...     0     0     0     0   \n",
              "well_10_patch_1   0  0  0  0  0  0  0  0  0  0  ...     0     0     0     0   \n",
              "well_10_patch_10  0  0  0  0  0  0  0  0  0  0  ...     0     0     0     0   \n",
              "well_10_patch_11  0  0  0  0  0  0  0  0  0  0  ...     0     0     0     0   \n",
              "well_10_patch_12  0  0  0  0  0  0  0  0  0  0  ...     0     0     0     0   \n",
              "\n",
              "                  1290  1291  1292  1293  1294  1295  \n",
              "well_10_patch_0      0     0     0     0     0     0  \n",
              "well_10_patch_1      0     0     0     0     0     0  \n",
              "well_10_patch_10     0     0     0     0     0     0  \n",
              "well_10_patch_11     0     0     0     0     0     0  \n",
              "well_10_patch_12     0     0     0     0     0     0  \n",
              "\n",
              "[5 rows x 1296 columns]"
            ],
            "text/html": [
              "\n",
              "  <div id=\"df-8007bf85-6eff-4898-9f85-1ee4252f79f5\" class=\"colab-df-container\">\n",
              "    <div>\n",
              "<style scoped>\n",
              "    .dataframe tbody tr th:only-of-type {\n",
              "        vertical-align: middle;\n",
              "    }\n",
              "\n",
              "    .dataframe tbody tr th {\n",
              "        vertical-align: top;\n",
              "    }\n",
              "\n",
              "    .dataframe thead th {\n",
              "        text-align: right;\n",
              "    }\n",
              "</style>\n",
              "<table border=\"1\" class=\"dataframe\">\n",
              "  <thead>\n",
              "    <tr style=\"text-align: right;\">\n",
              "      <th></th>\n",
              "      <th>0</th>\n",
              "      <th>1</th>\n",
              "      <th>2</th>\n",
              "      <th>3</th>\n",
              "      <th>4</th>\n",
              "      <th>5</th>\n",
              "      <th>6</th>\n",
              "      <th>7</th>\n",
              "      <th>8</th>\n",
              "      <th>9</th>\n",
              "      <th>...</th>\n",
              "      <th>1286</th>\n",
              "      <th>1287</th>\n",
              "      <th>1288</th>\n",
              "      <th>1289</th>\n",
              "      <th>1290</th>\n",
              "      <th>1291</th>\n",
              "      <th>1292</th>\n",
              "      <th>1293</th>\n",
              "      <th>1294</th>\n",
              "      <th>1295</th>\n",
              "    </tr>\n",
              "  </thead>\n",
              "  <tbody>\n",
              "    <tr>\n",
              "      <th>well_10_patch_0</th>\n",
              "      <td>0</td>\n",
              "      <td>0</td>\n",
              "      <td>0</td>\n",
              "      <td>0</td>\n",
              "      <td>0</td>\n",
              "      <td>0</td>\n",
              "      <td>0</td>\n",
              "      <td>0</td>\n",
              "      <td>0</td>\n",
              "      <td>0</td>\n",
              "      <td>...</td>\n",
              "      <td>0</td>\n",
              "      <td>0</td>\n",
              "      <td>0</td>\n",
              "      <td>0</td>\n",
              "      <td>0</td>\n",
              "      <td>0</td>\n",
              "      <td>0</td>\n",
              "      <td>0</td>\n",
              "      <td>0</td>\n",
              "      <td>0</td>\n",
              "    </tr>\n",
              "    <tr>\n",
              "      <th>well_10_patch_1</th>\n",
              "      <td>0</td>\n",
              "      <td>0</td>\n",
              "      <td>0</td>\n",
              "      <td>0</td>\n",
              "      <td>0</td>\n",
              "      <td>0</td>\n",
              "      <td>0</td>\n",
              "      <td>0</td>\n",
              "      <td>0</td>\n",
              "      <td>0</td>\n",
              "      <td>...</td>\n",
              "      <td>0</td>\n",
              "      <td>0</td>\n",
              "      <td>0</td>\n",
              "      <td>0</td>\n",
              "      <td>0</td>\n",
              "      <td>0</td>\n",
              "      <td>0</td>\n",
              "      <td>0</td>\n",
              "      <td>0</td>\n",
              "      <td>0</td>\n",
              "    </tr>\n",
              "    <tr>\n",
              "      <th>well_10_patch_10</th>\n",
              "      <td>0</td>\n",
              "      <td>0</td>\n",
              "      <td>0</td>\n",
              "      <td>0</td>\n",
              "      <td>0</td>\n",
              "      <td>0</td>\n",
              "      <td>0</td>\n",
              "      <td>0</td>\n",
              "      <td>0</td>\n",
              "      <td>0</td>\n",
              "      <td>...</td>\n",
              "      <td>0</td>\n",
              "      <td>0</td>\n",
              "      <td>0</td>\n",
              "      <td>0</td>\n",
              "      <td>0</td>\n",
              "      <td>0</td>\n",
              "      <td>0</td>\n",
              "      <td>0</td>\n",
              "      <td>0</td>\n",
              "      <td>0</td>\n",
              "    </tr>\n",
              "    <tr>\n",
              "      <th>well_10_patch_11</th>\n",
              "      <td>0</td>\n",
              "      <td>0</td>\n",
              "      <td>0</td>\n",
              "      <td>0</td>\n",
              "      <td>0</td>\n",
              "      <td>0</td>\n",
              "      <td>0</td>\n",
              "      <td>0</td>\n",
              "      <td>0</td>\n",
              "      <td>0</td>\n",
              "      <td>...</td>\n",
              "      <td>0</td>\n",
              "      <td>0</td>\n",
              "      <td>0</td>\n",
              "      <td>0</td>\n",
              "      <td>0</td>\n",
              "      <td>0</td>\n",
              "      <td>0</td>\n",
              "      <td>0</td>\n",
              "      <td>0</td>\n",
              "      <td>0</td>\n",
              "    </tr>\n",
              "    <tr>\n",
              "      <th>well_10_patch_12</th>\n",
              "      <td>0</td>\n",
              "      <td>0</td>\n",
              "      <td>0</td>\n",
              "      <td>0</td>\n",
              "      <td>0</td>\n",
              "      <td>0</td>\n",
              "      <td>0</td>\n",
              "      <td>0</td>\n",
              "      <td>0</td>\n",
              "      <td>0</td>\n",
              "      <td>...</td>\n",
              "      <td>0</td>\n",
              "      <td>0</td>\n",
              "      <td>0</td>\n",
              "      <td>0</td>\n",
              "      <td>0</td>\n",
              "      <td>0</td>\n",
              "      <td>0</td>\n",
              "      <td>0</td>\n",
              "      <td>0</td>\n",
              "      <td>0</td>\n",
              "    </tr>\n",
              "  </tbody>\n",
              "</table>\n",
              "<p>5 rows × 1296 columns</p>\n",
              "</div>\n",
              "    <div class=\"colab-df-buttons\">\n",
              "\n",
              "  <div class=\"colab-df-container\">\n",
              "    <button class=\"colab-df-convert\" onclick=\"convertToInteractive('df-8007bf85-6eff-4898-9f85-1ee4252f79f5')\"\n",
              "            title=\"Convert this dataframe to an interactive table.\"\n",
              "            style=\"display:none;\">\n",
              "\n",
              "  <svg xmlns=\"http://www.w3.org/2000/svg\" height=\"24px\" viewBox=\"0 -960 960 960\">\n",
              "    <path d=\"M120-120v-720h720v720H120Zm60-500h600v-160H180v160Zm220 220h160v-160H400v160Zm0 220h160v-160H400v160ZM180-400h160v-160H180v160Zm440 0h160v-160H620v160ZM180-180h160v-160H180v160Zm440 0h160v-160H620v160Z\"/>\n",
              "  </svg>\n",
              "    </button>\n",
              "\n",
              "  <style>\n",
              "    .colab-df-container {\n",
              "      display:flex;\n",
              "      gap: 12px;\n",
              "    }\n",
              "\n",
              "    .colab-df-convert {\n",
              "      background-color: #E8F0FE;\n",
              "      border: none;\n",
              "      border-radius: 50%;\n",
              "      cursor: pointer;\n",
              "      display: none;\n",
              "      fill: #1967D2;\n",
              "      height: 32px;\n",
              "      padding: 0 0 0 0;\n",
              "      width: 32px;\n",
              "    }\n",
              "\n",
              "    .colab-df-convert:hover {\n",
              "      background-color: #E2EBFA;\n",
              "      box-shadow: 0px 1px 2px rgba(60, 64, 67, 0.3), 0px 1px 3px 1px rgba(60, 64, 67, 0.15);\n",
              "      fill: #174EA6;\n",
              "    }\n",
              "\n",
              "    .colab-df-buttons div {\n",
              "      margin-bottom: 4px;\n",
              "    }\n",
              "\n",
              "    [theme=dark] .colab-df-convert {\n",
              "      background-color: #3B4455;\n",
              "      fill: #D2E3FC;\n",
              "    }\n",
              "\n",
              "    [theme=dark] .colab-df-convert:hover {\n",
              "      background-color: #434B5C;\n",
              "      box-shadow: 0px 1px 3px 1px rgba(0, 0, 0, 0.15);\n",
              "      filter: drop-shadow(0px 1px 2px rgba(0, 0, 0, 0.3));\n",
              "      fill: #FFFFFF;\n",
              "    }\n",
              "  </style>\n",
              "\n",
              "    <script>\n",
              "      const buttonEl =\n",
              "        document.querySelector('#df-8007bf85-6eff-4898-9f85-1ee4252f79f5 button.colab-df-convert');\n",
              "      buttonEl.style.display =\n",
              "        google.colab.kernel.accessAllowed ? 'block' : 'none';\n",
              "\n",
              "      async function convertToInteractive(key) {\n",
              "        const element = document.querySelector('#df-8007bf85-6eff-4898-9f85-1ee4252f79f5');\n",
              "        const dataTable =\n",
              "          await google.colab.kernel.invokeFunction('convertToInteractive',\n",
              "                                                    [key], {});\n",
              "        if (!dataTable) return;\n",
              "\n",
              "        const docLinkHtml = 'Like what you see? Visit the ' +\n",
              "          '<a target=\"_blank\" href=https://colab.research.google.com/notebooks/data_table.ipynb>data table notebook</a>'\n",
              "          + ' to learn more about interactive tables.';\n",
              "        element.innerHTML = '';\n",
              "        dataTable['output_type'] = 'display_data';\n",
              "        await google.colab.output.renderOutput(dataTable, element);\n",
              "        const docLink = document.createElement('div');\n",
              "        docLink.innerHTML = docLinkHtml;\n",
              "        element.appendChild(docLink);\n",
              "      }\n",
              "    </script>\n",
              "  </div>\n",
              "\n",
              "\n",
              "<div id=\"df-e561d3cb-427a-4a0e-a47e-f31778ec21a7\">\n",
              "  <button class=\"colab-df-quickchart\" onclick=\"quickchart('df-e561d3cb-427a-4a0e-a47e-f31778ec21a7')\"\n",
              "            title=\"Suggest charts\"\n",
              "            style=\"display:none;\">\n",
              "\n",
              "<svg xmlns=\"http://www.w3.org/2000/svg\" height=\"24px\"viewBox=\"0 0 24 24\"\n",
              "     width=\"24px\">\n",
              "    <g>\n",
              "        <path d=\"M19 3H5c-1.1 0-2 .9-2 2v14c0 1.1.9 2 2 2h14c1.1 0 2-.9 2-2V5c0-1.1-.9-2-2-2zM9 17H7v-7h2v7zm4 0h-2V7h2v10zm4 0h-2v-4h2v4z\"/>\n",
              "    </g>\n",
              "</svg>\n",
              "  </button>\n",
              "\n",
              "<style>\n",
              "  .colab-df-quickchart {\n",
              "      --bg-color: #E8F0FE;\n",
              "      --fill-color: #1967D2;\n",
              "      --hover-bg-color: #E2EBFA;\n",
              "      --hover-fill-color: #174EA6;\n",
              "      --disabled-fill-color: #AAA;\n",
              "      --disabled-bg-color: #DDD;\n",
              "  }\n",
              "\n",
              "  [theme=dark] .colab-df-quickchart {\n",
              "      --bg-color: #3B4455;\n",
              "      --fill-color: #D2E3FC;\n",
              "      --hover-bg-color: #434B5C;\n",
              "      --hover-fill-color: #FFFFFF;\n",
              "      --disabled-bg-color: #3B4455;\n",
              "      --disabled-fill-color: #666;\n",
              "  }\n",
              "\n",
              "  .colab-df-quickchart {\n",
              "    background-color: var(--bg-color);\n",
              "    border: none;\n",
              "    border-radius: 50%;\n",
              "    cursor: pointer;\n",
              "    display: none;\n",
              "    fill: var(--fill-color);\n",
              "    height: 32px;\n",
              "    padding: 0;\n",
              "    width: 32px;\n",
              "  }\n",
              "\n",
              "  .colab-df-quickchart:hover {\n",
              "    background-color: var(--hover-bg-color);\n",
              "    box-shadow: 0 1px 2px rgba(60, 64, 67, 0.3), 0 1px 3px 1px rgba(60, 64, 67, 0.15);\n",
              "    fill: var(--button-hover-fill-color);\n",
              "  }\n",
              "\n",
              "  .colab-df-quickchart-complete:disabled,\n",
              "  .colab-df-quickchart-complete:disabled:hover {\n",
              "    background-color: var(--disabled-bg-color);\n",
              "    fill: var(--disabled-fill-color);\n",
              "    box-shadow: none;\n",
              "  }\n",
              "\n",
              "  .colab-df-spinner {\n",
              "    border: 2px solid var(--fill-color);\n",
              "    border-color: transparent;\n",
              "    border-bottom-color: var(--fill-color);\n",
              "    animation:\n",
              "      spin 1s steps(1) infinite;\n",
              "  }\n",
              "\n",
              "  @keyframes spin {\n",
              "    0% {\n",
              "      border-color: transparent;\n",
              "      border-bottom-color: var(--fill-color);\n",
              "      border-left-color: var(--fill-color);\n",
              "    }\n",
              "    20% {\n",
              "      border-color: transparent;\n",
              "      border-left-color: var(--fill-color);\n",
              "      border-top-color: var(--fill-color);\n",
              "    }\n",
              "    30% {\n",
              "      border-color: transparent;\n",
              "      border-left-color: var(--fill-color);\n",
              "      border-top-color: var(--fill-color);\n",
              "      border-right-color: var(--fill-color);\n",
              "    }\n",
              "    40% {\n",
              "      border-color: transparent;\n",
              "      border-right-color: var(--fill-color);\n",
              "      border-top-color: var(--fill-color);\n",
              "    }\n",
              "    60% {\n",
              "      border-color: transparent;\n",
              "      border-right-color: var(--fill-color);\n",
              "    }\n",
              "    80% {\n",
              "      border-color: transparent;\n",
              "      border-right-color: var(--fill-color);\n",
              "      border-bottom-color: var(--fill-color);\n",
              "    }\n",
              "    90% {\n",
              "      border-color: transparent;\n",
              "      border-bottom-color: var(--fill-color);\n",
              "    }\n",
              "  }\n",
              "</style>\n",
              "\n",
              "  <script>\n",
              "    async function quickchart(key) {\n",
              "      const quickchartButtonEl =\n",
              "        document.querySelector('#' + key + ' button');\n",
              "      quickchartButtonEl.disabled = true;  // To prevent multiple clicks.\n",
              "      quickchartButtonEl.classList.add('colab-df-spinner');\n",
              "      try {\n",
              "        const charts = await google.colab.kernel.invokeFunction(\n",
              "            'suggestCharts', [key], {});\n",
              "      } catch (error) {\n",
              "        console.error('Error during call to suggestCharts:', error);\n",
              "      }\n",
              "      quickchartButtonEl.classList.remove('colab-df-spinner');\n",
              "      quickchartButtonEl.classList.add('colab-df-quickchart-complete');\n",
              "    }\n",
              "    (() => {\n",
              "      let quickchartButtonEl =\n",
              "        document.querySelector('#df-e561d3cb-427a-4a0e-a47e-f31778ec21a7 button');\n",
              "      quickchartButtonEl.style.display =\n",
              "        google.colab.kernel.accessAllowed ? 'block' : 'none';\n",
              "    })();\n",
              "  </script>\n",
              "</div>\n",
              "    </div>\n",
              "  </div>\n"
            ],
            "application/vnd.google.colaboratory.intrinsic+json": {
              "type": "dataframe",
              "variable_name": "y_train"
            }
          },
          "metadata": {},
          "execution_count": 7
        }
      ],
      "source": [
        "y_train.head()"
      ]
    },
    {
      "cell_type": "code",
      "execution_count": 8,
      "metadata": {
        "colab": {
          "base_uri": "https://localhost:8080/"
        },
        "id": "sKuqyloKcNy6",
        "outputId": "be7ec88a-aba0-4e5f-b3e6-de79f8df7e9f"
      },
      "outputs": [
        {
          "output_type": "stream",
          "name": "stdout",
          "text": [
            "Well : 1 Number of patches : 166\n",
            "Well : 2 Number of patches : 616\n",
            "Well : 3 Number of patches : 1774\n",
            "Well : 4 Number of patches : 59\n",
            "Well : 5 Number of patches : 98\n",
            "Well : 6 Number of patches : 964\n",
            "Well : 7 Number of patches : 1654\n",
            "Well : 8 Number of patches : 78\n",
            "Well : 9 Number of patches : 166\n",
            "Well : 10 Number of patches : 80\n",
            "Well : 11 Number of patches : 1512\n",
            "Well : 12 Number of patches : 44\n",
            "Well : 13 Number of patches : 1905\n",
            "Well : 14 Number of patches : 355\n",
            "Well : 15 Number of patches : 203\n",
            "Total number of wells : 15\n",
            "Total number of patches : 9674\n"
          ]
        }
      ],
      "source": [
        "dict_wells_masks = {}\n",
        "\n",
        "\n",
        "for name_patch in y_train.index:\n",
        "    if (int(name_patch[5:7].replace('_', '')) in dict_wells_masks.keys()):\n",
        "        dict_wells_masks[int(name_patch[5:7].replace('_', ''))] += 1\n",
        "\n",
        "    else:\n",
        "        dict_wells_masks[int(name_patch[5:7].replace('_', ''))]  = 1\n",
        "\n",
        "\n",
        "for key in dict(sorted(dict_wells_masks.items())).keys():\n",
        "    print('Well :',key, 'Number of patches :', dict_wells_masks[key])\n",
        "\n",
        "print('Total number of wells :',len(dict_wells_masks.keys()))\n",
        "print('Total number of patches :', sum(dict_wells_masks.values()))\n",
        "\n",
        "# First well and 450 first images of well 1 are false"
      ]
    },
    {
      "cell_type": "code",
      "execution_count": 9,
      "metadata": {
        "colab": {
          "base_uri": "https://localhost:8080/"
        },
        "id": "35qDwYGBqnFW",
        "outputId": "381dda03-db9b-468b-8d98-c39ad9d28ccb"
      },
      "outputs": [
        {
          "output_type": "stream",
          "name": "stdout",
          "text": [
            "Well : 1 Number of patches : 166\n",
            "Well : 2 Number of patches : 616\n",
            "Well : 3 Number of patches : 1774\n",
            "Well : 4 Number of patches : 59\n",
            "Well : 5 Number of patches : 98\n",
            "Well : 6 Number of patches : 964\n",
            "Well : 7 Number of patches : 1654\n",
            "Well : 8 Number of patches : 78\n",
            "Well : 9 Number of patches : 166\n",
            "Well : 10 Number of patches : 80\n",
            "Well : 11 Number of patches : 1512\n",
            "Well : 12 Number of patches : 44\n",
            "Well : 13 Number of patches : 1905\n",
            "Well : 14 Number of patches : 355\n",
            "Well : 15 Number of patches : 203\n",
            "Total number of wells : 15\n",
            "Total number of patches : 9674\n"
          ]
        }
      ],
      "source": [
        "folder_path = '../data/raw/images'\n",
        "file_names = os.listdir(folder_path)\n",
        "\n",
        "dict_wells_images = {}\n",
        "\n",
        "\n",
        "for name_patch in file_names:\n",
        "    if (int(name_patch[5:7].replace('_', '')) in dict_wells_images.keys()):\n",
        "        dict_wells_images[int(name_patch[5:7].replace('_', ''))] += 1\n",
        "\n",
        "    else:\n",
        "        dict_wells_images[int(name_patch[5:7].replace('_', ''))]  = 1\n",
        "\n",
        "\n",
        "for key in dict(sorted(dict_wells_images.items())).keys():\n",
        "    print('Well :',key, 'Number of patches :', dict_wells_images[key])\n",
        "\n",
        "print('Total number of wells :',len(dict_wells_images.keys()))\n",
        "print('Total number of patches :', sum(dict_wells_images.values()))"
      ]
    },
    {
      "cell_type": "markdown",
      "metadata": {
        "id": "4GiMWURGphYu"
      },
      "source": [
        "* Здесь лучше использовать Counter.\n",
        "* Использовать трижды код ```int(name_patch[5:7].replace('_', ''))``` неэффективно.\n",
        "* Для вывода результата лучше использовать f-strings:\n",
        "```\n",
        "f'Well : {key} Number of patches : {dict_wells_masks[key]}'\n",
        "```\n",
        "* Totals для наглядности имеет смысл отделить строкой с помощью ```\\n```:\n",
        "```\n",
        "f'\\nTotal number of wells : {len(dict_wells_masks)}'\n",
        "```\n",
        "\n",
        "Поскольку код используется неоднократно, лучше его оформить в виде формулы:"
      ]
    },
    {
      "cell_type": "code",
      "execution_count": 10,
      "metadata": {
        "id": "UvR_3HgwrnLn"
      },
      "outputs": [],
      "source": [
        "from collections import Counter\n",
        "\n",
        "def get_patches_per_well(patches_list):\n",
        "  patch_names = [int(name_patch.split(\"_\")[1]) for name_patch in patches_list]\n",
        "  dict_wells_patches = Counter(patch_names)\n",
        "\n",
        "  for key in sorted(dict_wells_patches.keys()):\n",
        "    print(f'Well : {key} Number of patches : {dict_wells_patches[key]}')\n",
        "\n",
        "  print(f'\\nTotal number of wells : {len(dict_wells_patches)}')\n",
        "  print(f'Total number of patches :', sum(dict_wells_patches.values()))\n",
        "\n",
        "  return dict_wells_patches"
      ]
    },
    {
      "cell_type": "code",
      "execution_count": 11,
      "metadata": {
        "colab": {
          "base_uri": "https://localhost:8080/"
        },
        "id": "Db0gELxIsGsO",
        "outputId": "f8dc55d2-58f8-4ec8-e0bc-6158e965217f"
      },
      "outputs": [
        {
          "output_type": "stream",
          "name": "stdout",
          "text": [
            "Well : 1 Number of patches : 166\n",
            "Well : 2 Number of patches : 616\n",
            "Well : 3 Number of patches : 1774\n",
            "Well : 4 Number of patches : 59\n",
            "Well : 5 Number of patches : 98\n",
            "Well : 6 Number of patches : 964\n",
            "Well : 7 Number of patches : 1654\n",
            "Well : 8 Number of patches : 78\n",
            "Well : 9 Number of patches : 166\n",
            "Well : 10 Number of patches : 80\n",
            "Well : 11 Number of patches : 1512\n",
            "Well : 12 Number of patches : 44\n",
            "Well : 13 Number of patches : 1905\n",
            "Well : 14 Number of patches : 355\n",
            "Well : 15 Number of patches : 203\n",
            "\n",
            "Total number of wells : 15\n",
            "Total number of patches : 9674\n"
          ]
        }
      ],
      "source": [
        "dict_wells_masks = get_patches_per_well(y_train.index)"
      ]
    },
    {
      "cell_type": "code",
      "execution_count": 12,
      "metadata": {
        "colab": {
          "base_uri": "https://localhost:8080/"
        },
        "id": "_l_tzimFscXl",
        "outputId": "2e9d747c-704b-4ce0-959c-db4ae89dd95c"
      },
      "outputs": [
        {
          "output_type": "stream",
          "name": "stdout",
          "text": [
            "Well : 1 Number of patches : 166\n",
            "Well : 2 Number of patches : 616\n",
            "Well : 3 Number of patches : 1774\n",
            "Well : 4 Number of patches : 59\n",
            "Well : 5 Number of patches : 98\n",
            "Well : 6 Number of patches : 964\n",
            "Well : 7 Number of patches : 1654\n",
            "Well : 8 Number of patches : 78\n",
            "Well : 9 Number of patches : 166\n",
            "Well : 10 Number of patches : 80\n",
            "Well : 11 Number of patches : 1512\n",
            "Well : 12 Number of patches : 44\n",
            "Well : 13 Number of patches : 1905\n",
            "Well : 14 Number of patches : 355\n",
            "Well : 15 Number of patches : 203\n",
            "\n",
            "Total number of wells : 15\n",
            "Total number of patches : 9674\n"
          ]
        }
      ],
      "source": [
        "folder_path = '../data/raw/images'\n",
        "file_names = os.listdir(folder_path)\n",
        "dict_wells_images = get_patches_per_well(file_names)"
      ]
    },
    {
      "cell_type": "code",
      "execution_count": 13,
      "metadata": {
        "colab": {
          "base_uri": "https://localhost:8080/"
        },
        "id": "HGQDSxygcNy7",
        "outputId": "ec953d52-08af-46ad-ba5e-4dc82e40bab5"
      },
      "outputs": [
        {
          "output_type": "stream",
          "name": "stdout",
          "text": [
            "Mask well : 1 Number of patches : 166\n",
            "Image well : 1 Number of patches : 166 \n",
            "\n",
            "Mask well : 2 Number of patches : 616\n",
            "Image well : 2 Number of patches : 616 \n",
            "\n",
            "Mask well : 3 Number of patches : 1774\n",
            "Image well : 3 Number of patches : 1774 \n",
            "\n",
            "Mask well : 4 Number of patches : 59\n",
            "Image well : 4 Number of patches : 59 \n",
            "\n",
            "Mask well : 5 Number of patches : 98\n",
            "Image well : 5 Number of patches : 98 \n",
            "\n",
            "Mask well : 6 Number of patches : 964\n",
            "Image well : 6 Number of patches : 964 \n",
            "\n",
            "Mask well : 7 Number of patches : 1654\n",
            "Image well : 7 Number of patches : 1654 \n",
            "\n",
            "Mask well : 8 Number of patches : 78\n",
            "Image well : 8 Number of patches : 78 \n",
            "\n",
            "Mask well : 9 Number of patches : 166\n",
            "Image well : 9 Number of patches : 166 \n",
            "\n",
            "Mask well : 10 Number of patches : 80\n",
            "Image well : 10 Number of patches : 80 \n",
            "\n",
            "Mask well : 11 Number of patches : 1512\n",
            "Image well : 11 Number of patches : 1512 \n",
            "\n",
            "Mask well : 12 Number of patches : 44\n",
            "Image well : 12 Number of patches : 44 \n",
            "\n",
            "Mask well : 13 Number of patches : 1905\n",
            "Image well : 13 Number of patches : 1905 \n",
            "\n",
            "Mask well : 14 Number of patches : 355\n",
            "Image well : 14 Number of patches : 355 \n",
            "\n",
            "Mask well : 15 Number of patches : 203\n",
            "Image well : 15 Number of patches : 203 \n",
            "\n"
          ]
        }
      ],
      "source": [
        "y_keys = dict(sorted(dict_wells_masks.items())).keys()\n",
        "image_keys = dict(sorted(dict_wells_images.items())).keys()\n",
        "\n",
        "for i, key in enumerate(y_keys):\n",
        "    print('Mask well :',key, 'Number of patches :', dict_wells_masks[key])\n",
        "    if i == 15:\n",
        "        break\n",
        "    print('Image well :',list(image_keys)[i], 'Number of patches :', dict_wells_images[list(image_keys)[i]],'\\n')"
      ]
    },
    {
      "cell_type": "markdown",
      "metadata": {
        "id": "MOyt0fsHySkM"
      },
      "source": [
        "Для того чтобы убедиться, что число patches у Mask well и Image well совпадают, лучше использовать ```assert```:"
      ]
    },
    {
      "cell_type": "code",
      "execution_count": 14,
      "metadata": {
        "id": "HUEn0kuVyRsq"
      },
      "outputs": [],
      "source": [
        "for y_key in sorted(dict_wells_masks.keys()):\n",
        "  assert dict_wells_masks[y_key] == dict_wells_images[y_key]"
      ]
    },
    {
      "cell_type": "markdown",
      "metadata": {
        "id": "_sVXv-cKzZNK"
      },
      "source": [
        "* ```dict(sorted(dict_wells_masks.items())).keys()``` - неудачная конструкция;\n",
        "достаточно ```dict_wells_masks.keys()```\n",
        "* Использование\n",
        "```\n",
        "if i == 15:\n",
        "    break\n",
        "```\n",
        "избыточно - у нас всего 15 скважин, цикл остановится и без break.\n",
        "Соответственно, избыточно использовать ```enumerate```."
      ]
    },
    {
      "cell_type": "markdown",
      "metadata": {
        "id": "zmgKofM8cNy7"
      },
      "source": [
        "### Imbalance analysis"
      ]
    },
    {
      "cell_type": "code",
      "execution_count": 15,
      "metadata": {
        "id": "RvD-VFbacNy8"
      },
      "outputs": [],
      "source": [
        "n_patches = 0\n",
        "n_pixels = 0\n",
        "overall = 0\n",
        "for row in y_train.iterrows():\n",
        "\n",
        "    psum = np.sum(row[1])\n",
        "    if psum > 0:\n",
        "        n_patches += 1\n",
        "        n_pixels += psum\n",
        "    overall += len(row[1])"
      ]
    },
    {
      "cell_type": "code",
      "execution_count": 16,
      "metadata": {
        "colab": {
          "base_uri": "https://localhost:8080/"
        },
        "id": "Kd5ENP1CcNy8",
        "outputId": "65c5a8a9-8083-49c0-8f75-a726a51651a8"
      },
      "outputs": [
        {
          "output_type": "stream",
          "name": "stdout",
          "text": [
            "Number of patches with corrosion : 7674\n",
            "Number of pixels with corrosion : 896993\n",
            "Overall number of pixels : 12537504\n",
            "Ratio of pixels with corrosion : 7.154 %\n",
            "Ratio of patches with corrosion : 79.326 %\n"
          ]
        }
      ],
      "source": [
        "print('Number of patches with corrosion :', n_patches)\n",
        "print('Number of pixels with corrosion :', n_pixels)\n",
        "print('Overall number of pixels :', overall)\n",
        "print('Ratio of pixels with corrosion :', round(n_pixels*100/overall, ndigits= 3),'%')\n",
        "print('Ratio of patches with corrosion :', round(n_patches*100/len(y_train), ndigits=3),'%')"
      ]
    },
    {
      "cell_type": "markdown",
      "source": [
        "* Эффективнее было бы посчитать так:"
      ],
      "metadata": {
        "id": "1etgAslkH8Ib"
      }
    },
    {
      "cell_type": "code",
      "source": [
        "n_patches = (y_train.sum(axis=1) > 0).sum()\n",
        "n_pixels = y_train.sum(axis=1).sum()\n",
        "overall = y_train.shape[0] * y_train.shape[1]"
      ],
      "metadata": {
        "id": "afoITrbSH4RL"
      },
      "execution_count": 17,
      "outputs": []
    },
    {
      "cell_type": "markdown",
      "metadata": {
        "id": "DzVuNM9T7Hdr"
      },
      "source": [
        "* Код последних двух строк избыточен. Лучше сделать так:"
      ]
    },
    {
      "cell_type": "code",
      "execution_count": 18,
      "metadata": {
        "colab": {
          "base_uri": "https://localhost:8080/"
        },
        "id": "jowxljfj6Jpt",
        "outputId": "9487fd03-2380-4c01-e6cc-79609a895b6a"
      },
      "outputs": [
        {
          "output_type": "stream",
          "name": "stdout",
          "text": [
            "Ratio of pixels with corrosion :  7.154 %\n",
            "Ratio of patches with corrosion :  79.326 %\n"
          ]
        }
      ],
      "source": [
        "print(f'Ratio of pixels with corrosion : {n_pixels*100/overall: .3f} %')\n",
        "print(f'Ratio of patches with corrosion : {n_patches*100/len(y_train): .3f} %')"
      ]
    },
    {
      "cell_type": "markdown",
      "source": [
        "* Имеет смысл сделать ```Imbalance analysis``` в разрезе скважин:"
      ],
      "metadata": {
        "id": "IcZ4WyTMIYJi"
      }
    },
    {
      "cell_type": "code",
      "source": [
        "well_ref = y_train.reset_index()[\"index\"].apply(lambda x: int(x.split(\"_\")[1])).tolist()\n",
        "\n",
        "masks_frame = y_train.copy()\n",
        "masks_frame[\"n_patches\"] = y_train.sum(axis=1) > 0\n",
        "masks_frame[\"n_pixels\"] = masks_frame.sum(axis=1)\n",
        "masks_frame[\"well\"] = well_ref\n",
        "\n",
        "n_patches = masks_frame.groupby(\"well\")['n_patches'].sum()\n",
        "n_pixels = masks_frame.groupby(\"well\")['n_pixels'].sum()\n",
        "overall = masks_frame.groupby(\"well\").agg(overall = (\"well\", \"count\")) * y_train.shape[1]\n",
        "count = masks_frame[\"well\"].value_counts()\n",
        "well_info = pd.concat([n_patches, n_pixels, overall, count], axis=1)\n",
        "\n",
        "well_info[\"pixels with corrosion\"] = well_info[\"n_pixels\"] / well_info[\"overall\"]\n",
        "well_info[\"patches with corrosion\"] = well_info[\"n_patches\"] / well_info[\"count\"]\n",
        "\n",
        "well_info"
      ],
      "metadata": {
        "colab": {
          "base_uri": "https://localhost:8080/",
          "height": 551
        },
        "id": "G_ADwAByOJm0",
        "outputId": "580b5057-3d2f-4471-850d-cac3ed22b12a"
      },
      "execution_count": 19,
      "outputs": [
        {
          "output_type": "execute_result",
          "data": {
            "text/plain": [
              "      n_patches n_pixels  overall  count pixels with corrosion  \\\n",
              "well                                                             \n",
              "1           130    11116   215136    166               0.05167   \n",
              "2           580    50541   798336    616              0.063308   \n",
              "3          1611   234831  2299104   1774               0.10214   \n",
              "4            53     5139    76464     59              0.067208   \n",
              "5            24     1968   127008     98              0.015495   \n",
              "6           496    70235  1249344    964              0.056218   \n",
              "7          1420   105092  2143584   1654              0.049026   \n",
              "8            30     1678   101088     78              0.016599   \n",
              "9             0        0   215136    166                   0.0   \n",
              "10            0        0   103680     80                   0.0   \n",
              "11         1103   110139  1959552   1512              0.056206   \n",
              "12           44     4093    57024     44              0.071777   \n",
              "13         1777   253338  2468880   1905              0.102613   \n",
              "14          278    37226   460080    355              0.080912   \n",
              "15          128    19271   263088    203              0.073249   \n",
              "\n",
              "      patches with corrosion  \n",
              "well                          \n",
              "1                   0.783133  \n",
              "2                   0.941558  \n",
              "3                   0.908117  \n",
              "4                   0.898305  \n",
              "5                   0.244898  \n",
              "6                   0.514523  \n",
              "7                   0.858525  \n",
              "8                   0.384615  \n",
              "9                   0.000000  \n",
              "10                  0.000000  \n",
              "11                  0.729497  \n",
              "12                  1.000000  \n",
              "13                  0.932808  \n",
              "14                  0.783099  \n",
              "15                  0.630542  "
            ],
            "text/html": [
              "\n",
              "  <div id=\"df-8270d23f-8b95-4287-a6c8-2603503ee131\" class=\"colab-df-container\">\n",
              "    <div>\n",
              "<style scoped>\n",
              "    .dataframe tbody tr th:only-of-type {\n",
              "        vertical-align: middle;\n",
              "    }\n",
              "\n",
              "    .dataframe tbody tr th {\n",
              "        vertical-align: top;\n",
              "    }\n",
              "\n",
              "    .dataframe thead th {\n",
              "        text-align: right;\n",
              "    }\n",
              "</style>\n",
              "<table border=\"1\" class=\"dataframe\">\n",
              "  <thead>\n",
              "    <tr style=\"text-align: right;\">\n",
              "      <th></th>\n",
              "      <th>n_patches</th>\n",
              "      <th>n_pixels</th>\n",
              "      <th>overall</th>\n",
              "      <th>count</th>\n",
              "      <th>pixels with corrosion</th>\n",
              "      <th>patches with corrosion</th>\n",
              "    </tr>\n",
              "    <tr>\n",
              "      <th>well</th>\n",
              "      <th></th>\n",
              "      <th></th>\n",
              "      <th></th>\n",
              "      <th></th>\n",
              "      <th></th>\n",
              "      <th></th>\n",
              "    </tr>\n",
              "  </thead>\n",
              "  <tbody>\n",
              "    <tr>\n",
              "      <th>1</th>\n",
              "      <td>130</td>\n",
              "      <td>11116</td>\n",
              "      <td>215136</td>\n",
              "      <td>166</td>\n",
              "      <td>0.05167</td>\n",
              "      <td>0.783133</td>\n",
              "    </tr>\n",
              "    <tr>\n",
              "      <th>2</th>\n",
              "      <td>580</td>\n",
              "      <td>50541</td>\n",
              "      <td>798336</td>\n",
              "      <td>616</td>\n",
              "      <td>0.063308</td>\n",
              "      <td>0.941558</td>\n",
              "    </tr>\n",
              "    <tr>\n",
              "      <th>3</th>\n",
              "      <td>1611</td>\n",
              "      <td>234831</td>\n",
              "      <td>2299104</td>\n",
              "      <td>1774</td>\n",
              "      <td>0.10214</td>\n",
              "      <td>0.908117</td>\n",
              "    </tr>\n",
              "    <tr>\n",
              "      <th>4</th>\n",
              "      <td>53</td>\n",
              "      <td>5139</td>\n",
              "      <td>76464</td>\n",
              "      <td>59</td>\n",
              "      <td>0.067208</td>\n",
              "      <td>0.898305</td>\n",
              "    </tr>\n",
              "    <tr>\n",
              "      <th>5</th>\n",
              "      <td>24</td>\n",
              "      <td>1968</td>\n",
              "      <td>127008</td>\n",
              "      <td>98</td>\n",
              "      <td>0.015495</td>\n",
              "      <td>0.244898</td>\n",
              "    </tr>\n",
              "    <tr>\n",
              "      <th>6</th>\n",
              "      <td>496</td>\n",
              "      <td>70235</td>\n",
              "      <td>1249344</td>\n",
              "      <td>964</td>\n",
              "      <td>0.056218</td>\n",
              "      <td>0.514523</td>\n",
              "    </tr>\n",
              "    <tr>\n",
              "      <th>7</th>\n",
              "      <td>1420</td>\n",
              "      <td>105092</td>\n",
              "      <td>2143584</td>\n",
              "      <td>1654</td>\n",
              "      <td>0.049026</td>\n",
              "      <td>0.858525</td>\n",
              "    </tr>\n",
              "    <tr>\n",
              "      <th>8</th>\n",
              "      <td>30</td>\n",
              "      <td>1678</td>\n",
              "      <td>101088</td>\n",
              "      <td>78</td>\n",
              "      <td>0.016599</td>\n",
              "      <td>0.384615</td>\n",
              "    </tr>\n",
              "    <tr>\n",
              "      <th>9</th>\n",
              "      <td>0</td>\n",
              "      <td>0</td>\n",
              "      <td>215136</td>\n",
              "      <td>166</td>\n",
              "      <td>0.0</td>\n",
              "      <td>0.000000</td>\n",
              "    </tr>\n",
              "    <tr>\n",
              "      <th>10</th>\n",
              "      <td>0</td>\n",
              "      <td>0</td>\n",
              "      <td>103680</td>\n",
              "      <td>80</td>\n",
              "      <td>0.0</td>\n",
              "      <td>0.000000</td>\n",
              "    </tr>\n",
              "    <tr>\n",
              "      <th>11</th>\n",
              "      <td>1103</td>\n",
              "      <td>110139</td>\n",
              "      <td>1959552</td>\n",
              "      <td>1512</td>\n",
              "      <td>0.056206</td>\n",
              "      <td>0.729497</td>\n",
              "    </tr>\n",
              "    <tr>\n",
              "      <th>12</th>\n",
              "      <td>44</td>\n",
              "      <td>4093</td>\n",
              "      <td>57024</td>\n",
              "      <td>44</td>\n",
              "      <td>0.071777</td>\n",
              "      <td>1.000000</td>\n",
              "    </tr>\n",
              "    <tr>\n",
              "      <th>13</th>\n",
              "      <td>1777</td>\n",
              "      <td>253338</td>\n",
              "      <td>2468880</td>\n",
              "      <td>1905</td>\n",
              "      <td>0.102613</td>\n",
              "      <td>0.932808</td>\n",
              "    </tr>\n",
              "    <tr>\n",
              "      <th>14</th>\n",
              "      <td>278</td>\n",
              "      <td>37226</td>\n",
              "      <td>460080</td>\n",
              "      <td>355</td>\n",
              "      <td>0.080912</td>\n",
              "      <td>0.783099</td>\n",
              "    </tr>\n",
              "    <tr>\n",
              "      <th>15</th>\n",
              "      <td>128</td>\n",
              "      <td>19271</td>\n",
              "      <td>263088</td>\n",
              "      <td>203</td>\n",
              "      <td>0.073249</td>\n",
              "      <td>0.630542</td>\n",
              "    </tr>\n",
              "  </tbody>\n",
              "</table>\n",
              "</div>\n",
              "    <div class=\"colab-df-buttons\">\n",
              "\n",
              "  <div class=\"colab-df-container\">\n",
              "    <button class=\"colab-df-convert\" onclick=\"convertToInteractive('df-8270d23f-8b95-4287-a6c8-2603503ee131')\"\n",
              "            title=\"Convert this dataframe to an interactive table.\"\n",
              "            style=\"display:none;\">\n",
              "\n",
              "  <svg xmlns=\"http://www.w3.org/2000/svg\" height=\"24px\" viewBox=\"0 -960 960 960\">\n",
              "    <path d=\"M120-120v-720h720v720H120Zm60-500h600v-160H180v160Zm220 220h160v-160H400v160Zm0 220h160v-160H400v160ZM180-400h160v-160H180v160Zm440 0h160v-160H620v160ZM180-180h160v-160H180v160Zm440 0h160v-160H620v160Z\"/>\n",
              "  </svg>\n",
              "    </button>\n",
              "\n",
              "  <style>\n",
              "    .colab-df-container {\n",
              "      display:flex;\n",
              "      gap: 12px;\n",
              "    }\n",
              "\n",
              "    .colab-df-convert {\n",
              "      background-color: #E8F0FE;\n",
              "      border: none;\n",
              "      border-radius: 50%;\n",
              "      cursor: pointer;\n",
              "      display: none;\n",
              "      fill: #1967D2;\n",
              "      height: 32px;\n",
              "      padding: 0 0 0 0;\n",
              "      width: 32px;\n",
              "    }\n",
              "\n",
              "    .colab-df-convert:hover {\n",
              "      background-color: #E2EBFA;\n",
              "      box-shadow: 0px 1px 2px rgba(60, 64, 67, 0.3), 0px 1px 3px 1px rgba(60, 64, 67, 0.15);\n",
              "      fill: #174EA6;\n",
              "    }\n",
              "\n",
              "    .colab-df-buttons div {\n",
              "      margin-bottom: 4px;\n",
              "    }\n",
              "\n",
              "    [theme=dark] .colab-df-convert {\n",
              "      background-color: #3B4455;\n",
              "      fill: #D2E3FC;\n",
              "    }\n",
              "\n",
              "    [theme=dark] .colab-df-convert:hover {\n",
              "      background-color: #434B5C;\n",
              "      box-shadow: 0px 1px 3px 1px rgba(0, 0, 0, 0.15);\n",
              "      filter: drop-shadow(0px 1px 2px rgba(0, 0, 0, 0.3));\n",
              "      fill: #FFFFFF;\n",
              "    }\n",
              "  </style>\n",
              "\n",
              "    <script>\n",
              "      const buttonEl =\n",
              "        document.querySelector('#df-8270d23f-8b95-4287-a6c8-2603503ee131 button.colab-df-convert');\n",
              "      buttonEl.style.display =\n",
              "        google.colab.kernel.accessAllowed ? 'block' : 'none';\n",
              "\n",
              "      async function convertToInteractive(key) {\n",
              "        const element = document.querySelector('#df-8270d23f-8b95-4287-a6c8-2603503ee131');\n",
              "        const dataTable =\n",
              "          await google.colab.kernel.invokeFunction('convertToInteractive',\n",
              "                                                    [key], {});\n",
              "        if (!dataTable) return;\n",
              "\n",
              "        const docLinkHtml = 'Like what you see? Visit the ' +\n",
              "          '<a target=\"_blank\" href=https://colab.research.google.com/notebooks/data_table.ipynb>data table notebook</a>'\n",
              "          + ' to learn more about interactive tables.';\n",
              "        element.innerHTML = '';\n",
              "        dataTable['output_type'] = 'display_data';\n",
              "        await google.colab.output.renderOutput(dataTable, element);\n",
              "        const docLink = document.createElement('div');\n",
              "        docLink.innerHTML = docLinkHtml;\n",
              "        element.appendChild(docLink);\n",
              "      }\n",
              "    </script>\n",
              "  </div>\n",
              "\n",
              "\n",
              "<div id=\"df-9aafbcb3-8e9d-466c-b819-9eac4b49da6e\">\n",
              "  <button class=\"colab-df-quickchart\" onclick=\"quickchart('df-9aafbcb3-8e9d-466c-b819-9eac4b49da6e')\"\n",
              "            title=\"Suggest charts\"\n",
              "            style=\"display:none;\">\n",
              "\n",
              "<svg xmlns=\"http://www.w3.org/2000/svg\" height=\"24px\"viewBox=\"0 0 24 24\"\n",
              "     width=\"24px\">\n",
              "    <g>\n",
              "        <path d=\"M19 3H5c-1.1 0-2 .9-2 2v14c0 1.1.9 2 2 2h14c1.1 0 2-.9 2-2V5c0-1.1-.9-2-2-2zM9 17H7v-7h2v7zm4 0h-2V7h2v10zm4 0h-2v-4h2v4z\"/>\n",
              "    </g>\n",
              "</svg>\n",
              "  </button>\n",
              "\n",
              "<style>\n",
              "  .colab-df-quickchart {\n",
              "      --bg-color: #E8F0FE;\n",
              "      --fill-color: #1967D2;\n",
              "      --hover-bg-color: #E2EBFA;\n",
              "      --hover-fill-color: #174EA6;\n",
              "      --disabled-fill-color: #AAA;\n",
              "      --disabled-bg-color: #DDD;\n",
              "  }\n",
              "\n",
              "  [theme=dark] .colab-df-quickchart {\n",
              "      --bg-color: #3B4455;\n",
              "      --fill-color: #D2E3FC;\n",
              "      --hover-bg-color: #434B5C;\n",
              "      --hover-fill-color: #FFFFFF;\n",
              "      --disabled-bg-color: #3B4455;\n",
              "      --disabled-fill-color: #666;\n",
              "  }\n",
              "\n",
              "  .colab-df-quickchart {\n",
              "    background-color: var(--bg-color);\n",
              "    border: none;\n",
              "    border-radius: 50%;\n",
              "    cursor: pointer;\n",
              "    display: none;\n",
              "    fill: var(--fill-color);\n",
              "    height: 32px;\n",
              "    padding: 0;\n",
              "    width: 32px;\n",
              "  }\n",
              "\n",
              "  .colab-df-quickchart:hover {\n",
              "    background-color: var(--hover-bg-color);\n",
              "    box-shadow: 0 1px 2px rgba(60, 64, 67, 0.3), 0 1px 3px 1px rgba(60, 64, 67, 0.15);\n",
              "    fill: var(--button-hover-fill-color);\n",
              "  }\n",
              "\n",
              "  .colab-df-quickchart-complete:disabled,\n",
              "  .colab-df-quickchart-complete:disabled:hover {\n",
              "    background-color: var(--disabled-bg-color);\n",
              "    fill: var(--disabled-fill-color);\n",
              "    box-shadow: none;\n",
              "  }\n",
              "\n",
              "  .colab-df-spinner {\n",
              "    border: 2px solid var(--fill-color);\n",
              "    border-color: transparent;\n",
              "    border-bottom-color: var(--fill-color);\n",
              "    animation:\n",
              "      spin 1s steps(1) infinite;\n",
              "  }\n",
              "\n",
              "  @keyframes spin {\n",
              "    0% {\n",
              "      border-color: transparent;\n",
              "      border-bottom-color: var(--fill-color);\n",
              "      border-left-color: var(--fill-color);\n",
              "    }\n",
              "    20% {\n",
              "      border-color: transparent;\n",
              "      border-left-color: var(--fill-color);\n",
              "      border-top-color: var(--fill-color);\n",
              "    }\n",
              "    30% {\n",
              "      border-color: transparent;\n",
              "      border-left-color: var(--fill-color);\n",
              "      border-top-color: var(--fill-color);\n",
              "      border-right-color: var(--fill-color);\n",
              "    }\n",
              "    40% {\n",
              "      border-color: transparent;\n",
              "      border-right-color: var(--fill-color);\n",
              "      border-top-color: var(--fill-color);\n",
              "    }\n",
              "    60% {\n",
              "      border-color: transparent;\n",
              "      border-right-color: var(--fill-color);\n",
              "    }\n",
              "    80% {\n",
              "      border-color: transparent;\n",
              "      border-right-color: var(--fill-color);\n",
              "      border-bottom-color: var(--fill-color);\n",
              "    }\n",
              "    90% {\n",
              "      border-color: transparent;\n",
              "      border-bottom-color: var(--fill-color);\n",
              "    }\n",
              "  }\n",
              "</style>\n",
              "\n",
              "  <script>\n",
              "    async function quickchart(key) {\n",
              "      const quickchartButtonEl =\n",
              "        document.querySelector('#' + key + ' button');\n",
              "      quickchartButtonEl.disabled = true;  // To prevent multiple clicks.\n",
              "      quickchartButtonEl.classList.add('colab-df-spinner');\n",
              "      try {\n",
              "        const charts = await google.colab.kernel.invokeFunction(\n",
              "            'suggestCharts', [key], {});\n",
              "      } catch (error) {\n",
              "        console.error('Error during call to suggestCharts:', error);\n",
              "      }\n",
              "      quickchartButtonEl.classList.remove('colab-df-spinner');\n",
              "      quickchartButtonEl.classList.add('colab-df-quickchart-complete');\n",
              "    }\n",
              "    (() => {\n",
              "      let quickchartButtonEl =\n",
              "        document.querySelector('#df-9aafbcb3-8e9d-466c-b819-9eac4b49da6e button');\n",
              "      quickchartButtonEl.style.display =\n",
              "        google.colab.kernel.accessAllowed ? 'block' : 'none';\n",
              "    })();\n",
              "  </script>\n",
              "</div>\n",
              "    </div>\n",
              "  </div>\n"
            ],
            "application/vnd.google.colaboratory.intrinsic+json": {
              "type": "dataframe",
              "variable_name": "well_info",
              "summary": "{\n  \"name\": \"well_info\",\n  \"rows\": 15,\n  \"fields\": [\n    {\n      \"column\": \"well\",\n      \"properties\": {\n        \"dtype\": \"number\",\n        \"std\": 4,\n        \"min\": 1,\n        \"max\": 15,\n        \"num_unique_values\": 15,\n        \"samples\": [\n          10,\n          12,\n          1\n        ],\n        \"semantic_type\": \"\",\n        \"description\": \"\"\n      }\n    },\n    {\n      \"column\": \"n_patches\",\n      \"properties\": {\n        \"dtype\": \"number\",\n        \"std\": 641,\n        \"min\": 0,\n        \"max\": 1777,\n        \"num_unique_values\": 14,\n        \"samples\": [\n          1103,\n          1777,\n          130\n        ],\n        \"semantic_type\": \"\",\n        \"description\": \"\"\n      }\n    },\n    {\n      \"column\": \"n_pixels\",\n      \"properties\": {\n        \"dtype\": \"date\",\n        \"min\": 0,\n        \"max\": 253338,\n        \"num_unique_values\": 14,\n        \"samples\": [\n          110139,\n          253338,\n          11116\n        ],\n        \"semantic_type\": \"\",\n        \"description\": \"\"\n      }\n    },\n    {\n      \"column\": \"overall\",\n      \"properties\": {\n        \"dtype\": \"number\",\n        \"std\": 924068,\n        \"min\": 57024,\n        \"max\": 2468880,\n        \"num_unique_values\": 14,\n        \"samples\": [\n          1959552,\n          2468880,\n          215136\n        ],\n        \"semantic_type\": \"\",\n        \"description\": \"\"\n      }\n    },\n    {\n      \"column\": \"count\",\n      \"properties\": {\n        \"dtype\": \"number\",\n        \"std\": 713,\n        \"min\": 44,\n        \"max\": 1905,\n        \"num_unique_values\": 14,\n        \"samples\": [\n          1512,\n          1905,\n          166\n        ],\n        \"semantic_type\": \"\",\n        \"description\": \"\"\n      }\n    },\n    {\n      \"column\": \"pixels with corrosion\",\n      \"properties\": {\n        \"dtype\": \"date\",\n        \"min\": 0.0,\n        \"max\": 0.10261252065714008,\n        \"num_unique_values\": 14,\n        \"samples\": [\n          0.056206214481677445,\n          0.10261252065714008,\n          0.05166964152907928\n        ],\n        \"semantic_type\": \"\",\n        \"description\": \"\"\n      }\n    },\n    {\n      \"column\": \"patches with corrosion\",\n      \"properties\": {\n        \"dtype\": \"number\",\n        \"std\": 0.3378465785195316,\n        \"min\": 0.0,\n        \"max\": 1.0,\n        \"num_unique_values\": 14,\n        \"samples\": [\n          0.7294973544973545,\n          0.9328083989501312,\n          0.7831325301204819\n        ],\n        \"semantic_type\": \"\",\n        \"description\": \"\"\n      }\n    }\n  ]\n}"
            }
          },
          "metadata": {},
          "execution_count": 19
        }
      ]
    },
    {
      "cell_type": "markdown",
      "source": [
        "* Данные в разрезе скважин существенно отличаются по доле пикселей с коррозией. Это необходимо учитывать при составлении обучающей и валидационной/ тестовой выборок. По 9 и 10 скважинам данных по коррозии нет."
      ],
      "metadata": {
        "id": "8nsbMByshlNK"
      }
    },
    {
      "cell_type": "markdown",
      "metadata": {
        "id": "BgF_bYPqcNy8"
      },
      "source": [
        "### Preprocessing analysis"
      ]
    },
    {
      "cell_type": "code",
      "execution_count": 20,
      "metadata": {
        "colab": {
          "base_uri": "https://localhost:8080/",
          "height": 843
        },
        "id": "8cMCiz5icNy9",
        "outputId": "4d92b62c-e82c-4822-9a72-3aff78d1a3b6"
      },
      "outputs": [
        {
          "output_type": "display_data",
          "data": {
            "text/plain": [
              "<Figure size 640x480 with 1 Axes>"
            ],
            "image/png": "[encoded data removed]"
          },
          "metadata": {}
        },
        {
          "output_type": "display_data",
          "data": {
            "text/plain": [
              "<Figure size 640x480 with 1 Axes>"
            ],
            "image/png": "[encoded data removed]"
          },
          "metadata": {}
        }
      ],
      "source": [
        "image = np.load('../data/raw/images/well_2_patch_3.npy')\n",
        "plt.imshow(image)\n",
        "plt.show()\n",
        "\n",
        "mask = np.array(y_train.loc['well_2_patch_3']).reshape(36,36)\n",
        "plt.imshow(mask)\n",
        "plt.show()"
      ]
    },
    {
      "cell_type": "code",
      "execution_count": 21,
      "metadata": {
        "colab": {
          "base_uri": "https://localhost:8080/",
          "height": 430
        },
        "id": "3MCD1x8NcNy9",
        "outputId": "f02d692b-538b-45a9-a90e-aac7c2d7e383"
      },
      "outputs": [
        {
          "output_type": "display_data",
          "data": {
            "text/plain": [
              "<Figure size 640x480 with 1 Axes>"
            ],
            "image/png": "[encoded data removed]"
          },
          "metadata": {}
        }
      ],
      "source": [
        "# Data analysis\n",
        "file_names = os.listdir('../data/raw/images/')\n",
        "images = []\n",
        "for img_name in file_names:\n",
        "    img = np.load(os.path.join('../data/raw/images/', img_name))\n",
        "\n",
        "    if np.sum(img < -800) > 0:\n",
        "        plt.imshow(img)\n",
        "        plt.show()\n",
        "        break\n",
        "\n",
        "    images.append(img)"
      ]
    },
    {
      "cell_type": "code",
      "execution_count": 22,
      "metadata": {
        "colab": {
          "base_uri": "https://localhost:8080/"
        },
        "id": "f-Jgn88fcNy-",
        "outputId": "b7c1c6e4-2a42-460e-f74a-820732da453a"
      },
      "outputs": [
        {
          "output_type": "execute_result",
          "data": {
            "text/plain": [
              "(-999.25,\n",
              " 0.08044592,\n",
              " array([-9.9925000e+02, -1.9985312e-01, -1.6355310e-01, ...,\n",
              "         7.6793335e-02,  7.8709058e-02,  8.0445923e-02], dtype=float32))"
            ]
          },
          "metadata": {},
          "execution_count": 22
        }
      ],
      "source": [
        "np.min(img), np.max(img), np.unique(img),"
      ]
    },
    {
      "cell_type": "code",
      "execution_count": 23,
      "metadata": {
        "colab": {
          "base_uri": "https://localhost:8080/"
        },
        "id": "tpt8YWNUcNy-",
        "outputId": "47344cc2-7018-4320-ec2c-8680df3d31a7"
      },
      "outputs": [
        {
          "output_type": "stream",
          "name": "stderr",
          "text": [
            "100%|██████████| 9674/9674 [00:02<00:00, 4306.21it/s]\n"
          ]
        },
        {
          "output_type": "stream",
          "name": "stdout",
          "text": [
            "Number patches train set: 9674\n",
            "Number of outliers: 3.514575149886293\n"
          ]
        }
      ],
      "source": [
        " # Data analysis\n",
        "file_names = os.listdir('../data/raw/images/')\n",
        "images_train = []\n",
        "count_outliers = 0\n",
        "for img_name in tqdm(file_names):\n",
        "    # print(img_name)\n",
        "    img = np.load(os.path.join('../data/raw/images/', img_name))\n",
        "    if img.min() < -100:\n",
        "        count_outliers += 1\n",
        "\n",
        "    images_train.append(img)\n",
        "flat_list_img_train = np.array(images_train).flatten()\n",
        "print('Number patches train set:', len(images_train))\n",
        "print('Number of outliers:', count_outliers*100/len(file_names))"
      ]
    },
    {
      "cell_type": "markdown",
      "metadata": {
        "id": "V3y0PMowNq_j"
      },
      "source": [
        "* В Number of outliers речь о доле выбросов в процентах, а не о числе выбросов"
      ]
    },
    {
      "cell_type": "code",
      "execution_count": 24,
      "metadata": {
        "colab": {
          "base_uri": "https://localhost:8080/"
        },
        "id": "_YqYZ0V2cNy_",
        "outputId": "04b74f4b-d651-4ad5-ba76-62f9c0abd014"
      },
      "outputs": [
        {
          "output_type": "stream",
          "name": "stdout",
          "text": [
            "For the training images :\n",
            "Mean : -4.6509695\n",
            "Std : 68.011086\n",
            "Max : 0.4703434\n",
            "Min : -999.25\n"
          ]
        }
      ],
      "source": [
        "# Statistics on the train images\n",
        "\n",
        "cleaned_img = np.nan_to_num(flat_list_img_train)\n",
        "print('For the training images :')\n",
        "print('Mean :',np.mean(cleaned_img))\n",
        "print('Std :',np.std(cleaned_img))\n",
        "print('Max :',np.max(cleaned_img))\n",
        "print('Min :',np.min(cleaned_img))"
      ]
    },
    {
      "cell_type": "markdown",
      "source": [
        "* Статистика по квантилям была бы более информативна:"
      ],
      "metadata": {
        "id": "zWkvzCBMnwLc"
      }
    },
    {
      "cell_type": "code",
      "source": [
        "with np.printoptions(precision=3, suppress=True):\n",
        "    print(np.quantile(cleaned_img, [0.0025, 0.005, 0.25, 0.5, 0.75, 0.995]))"
      ],
      "metadata": {
        "colab": {
          "base_uri": "https://localhost:8080/"
        },
        "id": "OiDQG2FplVyP",
        "outputId": "faf0e7c0-0a38-427b-f20b-1dec946a9c4b"
      },
      "execution_count": 25,
      "outputs": [
        {
          "output_type": "stream",
          "name": "stdout",
          "text": [
            "[-999.25    -0.151   -0.008    0.001    0.01     0.04 ]\n"
          ]
        }
      ]
    },
    {
      "cell_type": "code",
      "execution_count": 26,
      "metadata": {
        "colab": {
          "base_uri": "https://localhost:8080/",
          "height": 523
        },
        "id": "jw81viq0cNy_",
        "outputId": "a0fd9a2f-e363-48f2-8015-44edfd0f9636"
      },
      "outputs": [
        {
          "output_type": "stream",
          "name": "stderr",
          "text": [
            "100%|██████████| 9674/9674 [00:01<00:00, 5990.55it/s]\n"
          ]
        },
        {
          "output_type": "display_data",
          "data": {
            "text/plain": [
              "<Figure size 1000x500 with 1 Axes>"
            ],
            "image/png": "[encoded data removed]"
          },
          "metadata": {}
        },
        {
          "output_type": "stream",
          "name": "stdout",
          "text": [
            "Ratio outliers pixels: 0.465 %\n"
          ]
        }
      ],
      "source": [
        "file_names = os.listdir('../data/raw/images/')\n",
        "images_train = []\n",
        "count_outliers = 0\n",
        "for img_name in tqdm(file_names):\n",
        "    # print(img_name)\n",
        "    img = np.load(os.path.join('../data/raw/images/', img_name))\n",
        "    if img.min() < -100:\n",
        "        count_outliers += 1\n",
        "\n",
        "    images_train.append(img)\n",
        "flat_list_img_train = np.array(images_train).flatten()\n",
        "cleaned_img = np.nan_to_num(flat_list_img_train)\n",
        "plt.figure(figsize=(10, 5))\n",
        "plt.hist(cleaned_img[cleaned_img > -100] , bins=100)\n",
        "plt.title('Histogram of the pixels from train images (without outliers <0.5%)')\n",
        "plt.xlabel('Pixel value')\n",
        "plt.ylabel('Number of pixels')\n",
        "plt.show()\n",
        "print('Ratio outliers pixels:',round(len(cleaned_img[cleaned_img <-100])*100/len(cleaned_img),ndigits=3),'%')"
      ]
    },
    {
      "cell_type": "markdown",
      "metadata": {
        "id": "72cJACCnSY1P"
      },
      "source": [
        "* здесь лучше убрать дублирование кода:\n",
        "```\n",
        "file_names = os.listdir('../data/raw/images/')\n",
        "images_train = []\n",
        "count_outliers = 0\n",
        "for img_name in tqdm(file_names):\n",
        "    # print(img_name)\n",
        "    img = np.load(os.path.join('../data/raw/images/', img_name))\n",
        "    if img.min() < -100:\n",
        "        count_outliers += 1\n",
        "\n",
        "    images_train.append(img)\n",
        "flat_list_img_train = np.array(images_train).flatten()\n",
        "cleaned_img = np.nan_to_num(flat_list_img_train)\n",
        "```\n",
        "и оставить только\n",
        "```\n",
        "plt.figure(figsize=(10, 5))\n",
        "plt.hist(cleaned_img[cleaned_img > -100] , bins=100)\n",
        "plt.title('Histogram of the pixels from train images (without outliers <0.5%)')\n",
        "plt.xlabel('Pixel value')\n",
        "plt.ylabel('Number of pixels')\n",
        "plt.show()\n",
        "print('Ratio outliers pixels:',round(len(cleaned_img[cleaned_img <-100])*100/len(cleaned_img),ndigits=3),'%')\n",
        "```\n",
        "* Анализировать информацию по всем точкам ```flat_list_img_train``` не информативно. Лучше анализировать в разрезе изображений:"
      ]
    },
    {
      "cell_type": "markdown",
      "source": [
        "* Пропуски"
      ],
      "metadata": {
        "id": "jrpg9PLw2Hwe"
      }
    },
    {
      "cell_type": "code",
      "source": [
        "image_arr = np.reshape(np.asarray(images_train), (len(images_train), -1))\n",
        "image_frame = pd.DataFrame(image_arr, y_train.index)\n",
        "\n",
        "a = image_frame.isnull().sum(axis=1)\n",
        "a[a > 0]"
      ],
      "metadata": {
        "colab": {
          "base_uri": "https://localhost:8080/",
          "height": 147
        },
        "id": "Axjm_D9vVCe2",
        "outputId": "5b96a3a9-7b5f-4b7f-a626-1c3b9a070315"
      },
      "execution_count": 27,
      "outputs": [
        {
          "output_type": "execute_result",
          "data": {
            "text/plain": [
              "well_11_patch_394     11\n",
              "well_6_patch_201     683\n",
              "dtype: int64"
            ],
            "text/html": [
              "<div>\n",
              "<style scoped>\n",
              "    .dataframe tbody tr th:only-of-type {\n",
              "        vertical-align: middle;\n",
              "    }\n",
              "\n",
              "    .dataframe tbody tr th {\n",
              "        vertical-align: top;\n",
              "    }\n",
              "\n",
              "    .dataframe thead th {\n",
              "        text-align: right;\n",
              "    }\n",
              "</style>\n",
              "<table border=\"1\" class=\"dataframe\">\n",
              "  <thead>\n",
              "    <tr style=\"text-align: right;\">\n",
              "      <th></th>\n",
              "      <th>0</th>\n",
              "    </tr>\n",
              "  </thead>\n",
              "  <tbody>\n",
              "    <tr>\n",
              "      <th>well_11_patch_394</th>\n",
              "      <td>11</td>\n",
              "    </tr>\n",
              "    <tr>\n",
              "      <th>well_6_patch_201</th>\n",
              "      <td>683</td>\n",
              "    </tr>\n",
              "  </tbody>\n",
              "</table>\n",
              "</div><br><label><b>dtype:</b> int64</label>"
            ]
          },
          "metadata": {},
          "execution_count": 27
        }
      ]
    },
    {
      "cell_type": "markdown",
      "source": [],
      "metadata": {
        "id": "JLtyM8gNz8Oh"
      }
    },
    {
      "cell_type": "markdown",
      "source": [
        "У нас всего 2 изображения с пропусками:\n",
        "* ```well_6_patch_201``` лучше удалить,\n",
        "* пропуски в ```well_11_patch_394``` можно заполнить медианой этого изображения."
      ],
      "metadata": {
        "id": "IidijZpbp8Jb"
      }
    },
    {
      "cell_type": "code",
      "source": [
        "to_delete = ['well_6_patch_201']\n",
        "image_frame.loc[\"well_11_patch_394\"] = (\n",
        "    image_frame.loc[\"well_11_patch_394\"].fillna(image_frame.median(axis=1))\n",
        ")"
      ],
      "metadata": {
        "id": "NPYgGUm2tTa8"
      },
      "execution_count": 28,
      "outputs": []
    },
    {
      "cell_type": "markdown",
      "source": [
        "* Выбросы"
      ],
      "metadata": {
        "id": "q6aaMUSz4lfs"
      }
    },
    {
      "cell_type": "markdown",
      "source": [
        "Порогом отсечения выбросов слева будем считать -0.25"
      ],
      "metadata": {
        "id": "EV8WITOhgy-E"
      }
    },
    {
      "cell_type": "code",
      "source": [
        "threshold = -0.25"
      ],
      "metadata": {
        "id": "e4PSyjqvhU8Y"
      },
      "execution_count": 29,
      "outputs": []
    },
    {
      "cell_type": "code",
      "source": [
        "image_frame_anomaly = (image_frame.iloc[:, :-1] < threshold).sum(axis=1)\n",
        "image_frame_anomaly[image_frame_anomaly > 0]"
      ],
      "metadata": {
        "colab": {
          "base_uri": "https://localhost:8080/",
          "height": 458
        },
        "id": "WY5ZcKRSsMhU",
        "outputId": "3a07db76-7dfb-417b-aa99-ed23a40285cb"
      },
      "execution_count": 30,
      "outputs": [
        {
          "output_type": "execute_result",
          "data": {
            "text/plain": [
              "well_10_patch_13        2\n",
              "well_10_patch_21      102\n",
              "well_10_patch_24        5\n",
              "well_10_patch_39       24\n",
              "well_10_patch_67       27\n",
              "                     ... \n",
              "well_15_patch_17     1295\n",
              "well_15_patch_183      26\n",
              "well_15_patch_189      40\n",
              "well_15_patch_192       1\n",
              "well_15_patch_28        2\n",
              "Length: 347, dtype: int64"
            ],
            "text/html": [
              "<div>\n",
              "<style scoped>\n",
              "    .dataframe tbody tr th:only-of-type {\n",
              "        vertical-align: middle;\n",
              "    }\n",
              "\n",
              "    .dataframe tbody tr th {\n",
              "        vertical-align: top;\n",
              "    }\n",
              "\n",
              "    .dataframe thead th {\n",
              "        text-align: right;\n",
              "    }\n",
              "</style>\n",
              "<table border=\"1\" class=\"dataframe\">\n",
              "  <thead>\n",
              "    <tr style=\"text-align: right;\">\n",
              "      <th></th>\n",
              "      <th>0</th>\n",
              "    </tr>\n",
              "  </thead>\n",
              "  <tbody>\n",
              "    <tr>\n",
              "      <th>well_10_patch_13</th>\n",
              "      <td>2</td>\n",
              "    </tr>\n",
              "    <tr>\n",
              "      <th>well_10_patch_21</th>\n",
              "      <td>102</td>\n",
              "    </tr>\n",
              "    <tr>\n",
              "      <th>well_10_patch_24</th>\n",
              "      <td>5</td>\n",
              "    </tr>\n",
              "    <tr>\n",
              "      <th>well_10_patch_39</th>\n",
              "      <td>24</td>\n",
              "    </tr>\n",
              "    <tr>\n",
              "      <th>well_10_patch_67</th>\n",
              "      <td>27</td>\n",
              "    </tr>\n",
              "    <tr>\n",
              "      <th>...</th>\n",
              "      <td>...</td>\n",
              "    </tr>\n",
              "    <tr>\n",
              "      <th>well_15_patch_17</th>\n",
              "      <td>1295</td>\n",
              "    </tr>\n",
              "    <tr>\n",
              "      <th>well_15_patch_183</th>\n",
              "      <td>26</td>\n",
              "    </tr>\n",
              "    <tr>\n",
              "      <th>well_15_patch_189</th>\n",
              "      <td>40</td>\n",
              "    </tr>\n",
              "    <tr>\n",
              "      <th>well_15_patch_192</th>\n",
              "      <td>1</td>\n",
              "    </tr>\n",
              "    <tr>\n",
              "      <th>well_15_patch_28</th>\n",
              "      <td>2</td>\n",
              "    </tr>\n",
              "  </tbody>\n",
              "</table>\n",
              "<p>347 rows × 1 columns</p>\n",
              "</div><br><label><b>dtype:</b> int64</label>"
            ]
          },
          "metadata": {},
          "execution_count": 30
        }
      ]
    },
    {
      "cell_type": "code",
      "source": [
        "cum_outliers = [(image_frame_anomaly > i).sum() for i in np.arange(1295)]\n",
        "\n",
        "plt.plot(cum_outliers)\n",
        "plt.title('Images with outliers')\n",
        "plt.xlabel('the number of outliers in image')\n",
        "plt.ylabel('the number of images')\n",
        "plt.show()\n",
        "\n",
        "print(f\"\\nЧисло изображений с выбросами: {cum_outliers[0]}\")\n",
        "print(f\"Число изображений с 1-2 выбросами: {cum_outliers[0] - cum_outliers[2]}\")\n",
        "print(f\"Число изображений с менее, чем 15 выбросами: {cum_outliers[0] - cum_outliers[15]}\")\n",
        "print(f\"Число изображений, содержащий больше 200 выбросов: {cum_outliers[200]}\")\n",
        "print(f\"Число полностью поврежденных изображений: {cum_outliers[-1]}\")"
      ],
      "metadata": {
        "colab": {
          "base_uri": "https://localhost:8080/",
          "height": 581
        },
        "id": "0uUhbVLAKC6W",
        "outputId": "44bd10b2-d112-4e14-b387-a48c4eb65df4"
      },
      "execution_count": 31,
      "outputs": [
        {
          "output_type": "display_data",
          "data": {
            "text/plain": [
              "<Figure size 640x480 with 1 Axes>"
            ],
            "image/png": "[encoded data removed]"
          },
          "metadata": {}
        },
        {
          "output_type": "stream",
          "name": "stdout",
          "text": [
            "\n",
            "Число изображений с выбросами: 347\n",
            "Число изображений с 1-2 выбросами: 119\n",
            "Число изображений с менее, чем 15 выбросами: 159\n",
            "Число изображений, содержащий больше 200 выбросов: 40\n",
            "Число полностью поврежденных изображений: 34\n"
          ]
        }
      ]
    },
    {
      "cell_type": "markdown",
      "source": [
        "Из 347 изображений с выбросами:\n",
        "* у трети (119) поврежденны 1-2 пикселя;\n",
        "* почти у половины (159) из 1296 пикселей повреждены меньше 15;\n",
        "* только 40 изображений содержат больше 200 выбросов, из них 34 полностью повреждены - их можно удалить.\n",
        "\n",
        "У остальных выбросы можно заполнить медианным значением."
      ],
      "metadata": {
        "id": "dpXxQsrXPAvp"
      }
    },
    {
      "cell_type": "code",
      "source": [
        "to_delete += image_frame_anomaly[image_frame_anomaly >= 200].index.tolist()"
      ],
      "metadata": {
        "id": "DDN_IL0_8tP7"
      },
      "execution_count": 32,
      "outputs": []
    },
    {
      "cell_type": "code",
      "source": [
        "idx = [i for i in image_frame.index if i not in to_delete]\n",
        "df = image_frame.loc[idx]\n",
        "image_frame_cleaned = df.mask(df < threshold, df.median(axis=1), axis=0)\n",
        "\n",
        "assert (image_frame_cleaned < threshold).sum().sum() == 0\n",
        "\n",
        "image_frame_cleaned"
      ],
      "metadata": {
        "colab": {
          "base_uri": "https://localhost:8080/",
          "height": 443
        },
        "id": "EV2UA1k308zT",
        "outputId": "c7d6e51d-fe24-49a7-a243-0078b330401c"
      },
      "execution_count": 33,
      "outputs": [
        {
          "output_type": "execute_result",
          "data": {
            "text/plain": [
              "                      0         1         2         3         4         5     \\\n",
              "well_10_patch_0  -0.000571  0.002029  0.013181  0.006072  0.000315 -0.002707   \n",
              "well_10_patch_1   0.013097  0.015163  0.015805  0.029503  0.031397  0.037285   \n",
              "well_10_patch_10 -0.068573 -0.155828 -0.175587 -0.145253 -0.056744  0.002379   \n",
              "well_10_patch_11 -0.014362 -0.012745 -0.004342  0.006119 -0.005148 -0.013763   \n",
              "well_10_patch_12  0.034323  0.023241  0.010296 -0.003060 -0.003602  0.004445   \n",
              "...                    ...       ...       ...       ...       ...       ...   \n",
              "well_15_patch_95  0.016520  0.016988 -0.001944 -0.012727 -0.019269 -0.021188   \n",
              "well_15_patch_96  0.009031  0.005679  0.004943  0.002722 -0.000268 -0.006168   \n",
              "well_15_patch_97 -0.016618 -0.010962 -0.014473 -0.029052 -0.023697 -0.033234   \n",
              "well_15_patch_98 -0.019284 -0.016846 -0.025568 -0.021692 -0.012631 -0.015305   \n",
              "well_15_patch_99 -0.007646 -0.006127 -0.003984 -0.001807  0.001758  0.009986   \n",
              "\n",
              "                      6         7         8         9     ...      1286  \\\n",
              "well_10_patch_0  -0.004975 -0.004044 -0.009042 -0.003096  ...  0.015117   \n",
              "well_10_patch_1   0.026115  0.016849  0.016896  0.013428  ...  0.009492   \n",
              "well_10_patch_10  0.013569  0.021274  0.023661  0.026105  ...  0.031711   \n",
              "well_10_patch_11 -0.014919 -0.013702 -0.013420 -0.008776  ... -0.013281   \n",
              "well_10_patch_12  0.007212  0.003088 -0.002303 -0.013804  ... -0.000960   \n",
              "...                    ...       ...       ...       ...  ...       ...   \n",
              "well_15_patch_95 -0.021000 -0.020005 -0.023081 -0.025695  ...  0.016896   \n",
              "well_15_patch_96 -0.006971 -0.005638 -0.005070 -0.034071  ... -0.000560   \n",
              "well_15_patch_97 -0.040530 -0.026190 -0.001286 -0.000003  ...  0.000453   \n",
              "well_15_patch_98 -0.015499 -0.017858 -0.020199 -0.015656  ...  0.004659   \n",
              "well_15_patch_99  0.014916  0.011196  0.006517  0.010657  ... -0.000452   \n",
              "\n",
              "                      1287      1288      1289      1290      1291      1292  \\\n",
              "well_10_patch_0   0.008846  0.012830 -0.016906 -0.036755 -0.025647 -0.023593   \n",
              "well_10_patch_1   0.004320  0.008848  0.022631  0.030307  0.044721  0.035307   \n",
              "well_10_patch_10  0.027289  0.017125  0.009552  0.000845  0.005677 -0.001828   \n",
              "well_10_patch_11  0.002048  0.003163  0.012087  0.011711 -0.009785 -0.009900   \n",
              "well_10_patch_12 -0.008954 -0.014082 -0.015830 -0.013959 -0.008463 -0.010429   \n",
              "...                    ...       ...       ...       ...       ...       ...   \n",
              "well_15_patch_95  0.009038 -0.000712  0.002837  0.012092  0.019560  0.020840   \n",
              "well_15_patch_96  0.006067  0.006765  0.020131  0.025694  0.029018  0.032293   \n",
              "well_15_patch_97  0.001860  0.000895 -0.004062 -0.000859  0.005378  0.008918   \n",
              "well_15_patch_98  0.013640  0.018793  0.014301  0.008447  0.005477 -0.000994   \n",
              "well_15_patch_99  0.001768  0.002519  0.002047  0.007468  0.010066  0.010401   \n",
              "\n",
              "                      1293      1294      1295  \n",
              "well_10_patch_0  -0.025144 -0.018422 -0.013741  \n",
              "well_10_patch_1   0.012231  0.005910  0.011722  \n",
              "well_10_patch_10 -0.004134 -0.008787 -0.012990  \n",
              "well_10_patch_11 -0.008547 -0.016550 -0.020767  \n",
              "well_10_patch_12 -0.019529 -0.020964 -0.011385  \n",
              "...                    ...       ...       ...  \n",
              "well_15_patch_95  0.022828  0.021968  0.023465  \n",
              "well_15_patch_96  0.032794  0.028705  0.022711  \n",
              "well_15_patch_97 -0.005115 -0.005441 -0.002185  \n",
              "well_15_patch_98 -0.000736 -0.012024 -0.015997  \n",
              "well_15_patch_99  0.008481  0.005807  0.005786  \n",
              "\n",
              "[9633 rows x 1296 columns]"
            ],
            "text/html": [
              "\n",
              "  <div id=\"df-fdfb838c-b86a-4b3a-a4db-4517b9d0336e\" class=\"colab-df-container\">\n",
              "    <div>\n",
              "<style scoped>\n",
              "    .dataframe tbody tr th:only-of-type {\n",
              "        vertical-align: middle;\n",
              "    }\n",
              "\n",
              "    .dataframe tbody tr th {\n",
              "        vertical-align: top;\n",
              "    }\n",
              "\n",
              "    .dataframe thead th {\n",
              "        text-align: right;\n",
              "    }\n",
              "</style>\n",
              "<table border=\"1\" class=\"dataframe\">\n",
              "  <thead>\n",
              "    <tr style=\"text-align: right;\">\n",
              "      <th></th>\n",
              "      <th>0</th>\n",
              "      <th>1</th>\n",
              "      <th>2</th>\n",
              "      <th>3</th>\n",
              "      <th>4</th>\n",
              "      <th>5</th>\n",
              "      <th>6</th>\n",
              "      <th>7</th>\n",
              "      <th>8</th>\n",
              "      <th>9</th>\n",
              "      <th>...</th>\n",
              "      <th>1286</th>\n",
              "      <th>1287</th>\n",
              "      <th>1288</th>\n",
              "      <th>1289</th>\n",
              "      <th>1290</th>\n",
              "      <th>1291</th>\n",
              "      <th>1292</th>\n",
              "      <th>1293</th>\n",
              "      <th>1294</th>\n",
              "      <th>1295</th>\n",
              "    </tr>\n",
              "  </thead>\n",
              "  <tbody>\n",
              "    <tr>\n",
              "      <th>well_10_patch_0</th>\n",
              "      <td>-0.000571</td>\n",
              "      <td>0.002029</td>\n",
              "      <td>0.013181</td>\n",
              "      <td>0.006072</td>\n",
              "      <td>0.000315</td>\n",
              "      <td>-0.002707</td>\n",
              "      <td>-0.004975</td>\n",
              "      <td>-0.004044</td>\n",
              "      <td>-0.009042</td>\n",
              "      <td>-0.003096</td>\n",
              "      <td>...</td>\n",
              "      <td>0.015117</td>\n",
              "      <td>0.008846</td>\n",
              "      <td>0.012830</td>\n",
              "      <td>-0.016906</td>\n",
              "      <td>-0.036755</td>\n",
              "      <td>-0.025647</td>\n",
              "      <td>-0.023593</td>\n",
              "      <td>-0.025144</td>\n",
              "      <td>-0.018422</td>\n",
              "      <td>-0.013741</td>\n",
              "    </tr>\n",
              "    <tr>\n",
              "      <th>well_10_patch_1</th>\n",
              "      <td>0.013097</td>\n",
              "      <td>0.015163</td>\n",
              "      <td>0.015805</td>\n",
              "      <td>0.029503</td>\n",
              "      <td>0.031397</td>\n",
              "      <td>0.037285</td>\n",
              "      <td>0.026115</td>\n",
              "      <td>0.016849</td>\n",
              "      <td>0.016896</td>\n",
              "      <td>0.013428</td>\n",
              "      <td>...</td>\n",
              "      <td>0.009492</td>\n",
              "      <td>0.004320</td>\n",
              "      <td>0.008848</td>\n",
              "      <td>0.022631</td>\n",
              "      <td>0.030307</td>\n",
              "      <td>0.044721</td>\n",
              "      <td>0.035307</td>\n",
              "      <td>0.012231</td>\n",
              "      <td>0.005910</td>\n",
              "      <td>0.011722</td>\n",
              "    </tr>\n",
              "    <tr>\n",
              "      <th>well_10_patch_10</th>\n",
              "      <td>-0.068573</td>\n",
              "      <td>-0.155828</td>\n",
              "      <td>-0.175587</td>\n",
              "      <td>-0.145253</td>\n",
              "      <td>-0.056744</td>\n",
              "      <td>0.002379</td>\n",
              "      <td>0.013569</td>\n",
              "      <td>0.021274</td>\n",
              "      <td>0.023661</td>\n",
              "      <td>0.026105</td>\n",
              "      <td>...</td>\n",
              "      <td>0.031711</td>\n",
              "      <td>0.027289</td>\n",
              "      <td>0.017125</td>\n",
              "      <td>0.009552</td>\n",
              "      <td>0.000845</td>\n",
              "      <td>0.005677</td>\n",
              "      <td>-0.001828</td>\n",
              "      <td>-0.004134</td>\n",
              "      <td>-0.008787</td>\n",
              "      <td>-0.012990</td>\n",
              "    </tr>\n",
              "    <tr>\n",
              "      <th>well_10_patch_11</th>\n",
              "      <td>-0.014362</td>\n",
              "      <td>-0.012745</td>\n",
              "      <td>-0.004342</td>\n",
              "      <td>0.006119</td>\n",
              "      <td>-0.005148</td>\n",
              "      <td>-0.013763</td>\n",
              "      <td>-0.014919</td>\n",
              "      <td>-0.013702</td>\n",
              "      <td>-0.013420</td>\n",
              "      <td>-0.008776</td>\n",
              "      <td>...</td>\n",
              "      <td>-0.013281</td>\n",
              "      <td>0.002048</td>\n",
              "      <td>0.003163</td>\n",
              "      <td>0.012087</td>\n",
              "      <td>0.011711</td>\n",
              "      <td>-0.009785</td>\n",
              "      <td>-0.009900</td>\n",
              "      <td>-0.008547</td>\n",
              "      <td>-0.016550</td>\n",
              "      <td>-0.020767</td>\n",
              "    </tr>\n",
              "    <tr>\n",
              "      <th>well_10_patch_12</th>\n",
              "      <td>0.034323</td>\n",
              "      <td>0.023241</td>\n",
              "      <td>0.010296</td>\n",
              "      <td>-0.003060</td>\n",
              "      <td>-0.003602</td>\n",
              "      <td>0.004445</td>\n",
              "      <td>0.007212</td>\n",
              "      <td>0.003088</td>\n",
              "      <td>-0.002303</td>\n",
              "      <td>-0.013804</td>\n",
              "      <td>...</td>\n",
              "      <td>-0.000960</td>\n",
              "      <td>-0.008954</td>\n",
              "      <td>-0.014082</td>\n",
              "      <td>-0.015830</td>\n",
              "      <td>-0.013959</td>\n",
              "      <td>-0.008463</td>\n",
              "      <td>-0.010429</td>\n",
              "      <td>-0.019529</td>\n",
              "      <td>-0.020964</td>\n",
              "      <td>-0.011385</td>\n",
              "    </tr>\n",
              "    <tr>\n",
              "      <th>...</th>\n",
              "      <td>...</td>\n",
              "      <td>...</td>\n",
              "      <td>...</td>\n",
              "      <td>...</td>\n",
              "      <td>...</td>\n",
              "      <td>...</td>\n",
              "      <td>...</td>\n",
              "      <td>...</td>\n",
              "      <td>...</td>\n",
              "      <td>...</td>\n",
              "      <td>...</td>\n",
              "      <td>...</td>\n",
              "      <td>...</td>\n",
              "      <td>...</td>\n",
              "      <td>...</td>\n",
              "      <td>...</td>\n",
              "      <td>...</td>\n",
              "      <td>...</td>\n",
              "      <td>...</td>\n",
              "      <td>...</td>\n",
              "      <td>...</td>\n",
              "    </tr>\n",
              "    <tr>\n",
              "      <th>well_15_patch_95</th>\n",
              "      <td>0.016520</td>\n",
              "      <td>0.016988</td>\n",
              "      <td>-0.001944</td>\n",
              "      <td>-0.012727</td>\n",
              "      <td>-0.019269</td>\n",
              "      <td>-0.021188</td>\n",
              "      <td>-0.021000</td>\n",
              "      <td>-0.020005</td>\n",
              "      <td>-0.023081</td>\n",
              "      <td>-0.025695</td>\n",
              "      <td>...</td>\n",
              "      <td>0.016896</td>\n",
              "      <td>0.009038</td>\n",
              "      <td>-0.000712</td>\n",
              "      <td>0.002837</td>\n",
              "      <td>0.012092</td>\n",
              "      <td>0.019560</td>\n",
              "      <td>0.020840</td>\n",
              "      <td>0.022828</td>\n",
              "      <td>0.021968</td>\n",
              "      <td>0.023465</td>\n",
              "    </tr>\n",
              "    <tr>\n",
              "      <th>well_15_patch_96</th>\n",
              "      <td>0.009031</td>\n",
              "      <td>0.005679</td>\n",
              "      <td>0.004943</td>\n",
              "      <td>0.002722</td>\n",
              "      <td>-0.000268</td>\n",
              "      <td>-0.006168</td>\n",
              "      <td>-0.006971</td>\n",
              "      <td>-0.005638</td>\n",
              "      <td>-0.005070</td>\n",
              "      <td>-0.034071</td>\n",
              "      <td>...</td>\n",
              "      <td>-0.000560</td>\n",
              "      <td>0.006067</td>\n",
              "      <td>0.006765</td>\n",
              "      <td>0.020131</td>\n",
              "      <td>0.025694</td>\n",
              "      <td>0.029018</td>\n",
              "      <td>0.032293</td>\n",
              "      <td>0.032794</td>\n",
              "      <td>0.028705</td>\n",
              "      <td>0.022711</td>\n",
              "    </tr>\n",
              "    <tr>\n",
              "      <th>well_15_patch_97</th>\n",
              "      <td>-0.016618</td>\n",
              "      <td>-0.010962</td>\n",
              "      <td>-0.014473</td>\n",
              "      <td>-0.029052</td>\n",
              "      <td>-0.023697</td>\n",
              "      <td>-0.033234</td>\n",
              "      <td>-0.040530</td>\n",
              "      <td>-0.026190</td>\n",
              "      <td>-0.001286</td>\n",
              "      <td>-0.000003</td>\n",
              "      <td>...</td>\n",
              "      <td>0.000453</td>\n",
              "      <td>0.001860</td>\n",
              "      <td>0.000895</td>\n",
              "      <td>-0.004062</td>\n",
              "      <td>-0.000859</td>\n",
              "      <td>0.005378</td>\n",
              "      <td>0.008918</td>\n",
              "      <td>-0.005115</td>\n",
              "      <td>-0.005441</td>\n",
              "      <td>-0.002185</td>\n",
              "    </tr>\n",
              "    <tr>\n",
              "      <th>well_15_patch_98</th>\n",
              "      <td>-0.019284</td>\n",
              "      <td>-0.016846</td>\n",
              "      <td>-0.025568</td>\n",
              "      <td>-0.021692</td>\n",
              "      <td>-0.012631</td>\n",
              "      <td>-0.015305</td>\n",
              "      <td>-0.015499</td>\n",
              "      <td>-0.017858</td>\n",
              "      <td>-0.020199</td>\n",
              "      <td>-0.015656</td>\n",
              "      <td>...</td>\n",
              "      <td>0.004659</td>\n",
              "      <td>0.013640</td>\n",
              "      <td>0.018793</td>\n",
              "      <td>0.014301</td>\n",
              "      <td>0.008447</td>\n",
              "      <td>0.005477</td>\n",
              "      <td>-0.000994</td>\n",
              "      <td>-0.000736</td>\n",
              "      <td>-0.012024</td>\n",
              "      <td>-0.015997</td>\n",
              "    </tr>\n",
              "    <tr>\n",
              "      <th>well_15_patch_99</th>\n",
              "      <td>-0.007646</td>\n",
              "      <td>-0.006127</td>\n",
              "      <td>-0.003984</td>\n",
              "      <td>-0.001807</td>\n",
              "      <td>0.001758</td>\n",
              "      <td>0.009986</td>\n",
              "      <td>0.014916</td>\n",
              "      <td>0.011196</td>\n",
              "      <td>0.006517</td>\n",
              "      <td>0.010657</td>\n",
              "      <td>...</td>\n",
              "      <td>-0.000452</td>\n",
              "      <td>0.001768</td>\n",
              "      <td>0.002519</td>\n",
              "      <td>0.002047</td>\n",
              "      <td>0.007468</td>\n",
              "      <td>0.010066</td>\n",
              "      <td>0.010401</td>\n",
              "      <td>0.008481</td>\n",
              "      <td>0.005807</td>\n",
              "      <td>0.005786</td>\n",
              "    </tr>\n",
              "  </tbody>\n",
              "</table>\n",
              "<p>9633 rows × 1296 columns</p>\n",
              "</div>\n",
              "    <div class=\"colab-df-buttons\">\n",
              "\n",
              "  <div class=\"colab-df-container\">\n",
              "    <button class=\"colab-df-convert\" onclick=\"convertToInteractive('df-fdfb838c-b86a-4b3a-a4db-4517b9d0336e')\"\n",
              "            title=\"Convert this dataframe to an interactive table.\"\n",
              "            style=\"display:none;\">\n",
              "\n",
              "  <svg xmlns=\"http://www.w3.org/2000/svg\" height=\"24px\" viewBox=\"0 -960 960 960\">\n",
              "    <path d=\"M120-120v-720h720v720H120Zm60-500h600v-160H180v160Zm220 220h160v-160H400v160Zm0 220h160v-160H400v160ZM180-400h160v-160H180v160Zm440 0h160v-160H620v160ZM180-180h160v-160H180v160Zm440 0h160v-160H620v160Z\"/>\n",
              "  </svg>\n",
              "    </button>\n",
              "\n",
              "  <style>\n",
              "    .colab-df-container {\n",
              "      display:flex;\n",
              "      gap: 12px;\n",
              "    }\n",
              "\n",
              "    .colab-df-convert {\n",
              "      background-color: #E8F0FE;\n",
              "      border: none;\n",
              "      border-radius: 50%;\n",
              "      cursor: pointer;\n",
              "      display: none;\n",
              "      fill: #1967D2;\n",
              "      height: 32px;\n",
              "      padding: 0 0 0 0;\n",
              "      width: 32px;\n",
              "    }\n",
              "\n",
              "    .colab-df-convert:hover {\n",
              "      background-color: #E2EBFA;\n",
              "      box-shadow: 0px 1px 2px rgba(60, 64, 67, 0.3), 0px 1px 3px 1px rgba(60, 64, 67, 0.15);\n",
              "      fill: #174EA6;\n",
              "    }\n",
              "\n",
              "    .colab-df-buttons div {\n",
              "      margin-bottom: 4px;\n",
              "    }\n",
              "\n",
              "    [theme=dark] .colab-df-convert {\n",
              "      background-color: #3B4455;\n",
              "      fill: #D2E3FC;\n",
              "    }\n",
              "\n",
              "    [theme=dark] .colab-df-convert:hover {\n",
              "      background-color: #434B5C;\n",
              "      box-shadow: 0px 1px 3px 1px rgba(0, 0, 0, 0.15);\n",
              "      filter: drop-shadow(0px 1px 2px rgba(0, 0, 0, 0.3));\n",
              "      fill: #FFFFFF;\n",
              "    }\n",
              "  </style>\n",
              "\n",
              "    <script>\n",
              "      const buttonEl =\n",
              "        document.querySelector('#df-fdfb838c-b86a-4b3a-a4db-4517b9d0336e button.colab-df-convert');\n",
              "      buttonEl.style.display =\n",
              "        google.colab.kernel.accessAllowed ? 'block' : 'none';\n",
              "\n",
              "      async function convertToInteractive(key) {\n",
              "        const element = document.querySelector('#df-fdfb838c-b86a-4b3a-a4db-4517b9d0336e');\n",
              "        const dataTable =\n",
              "          await google.colab.kernel.invokeFunction('convertToInteractive',\n",
              "                                                    [key], {});\n",
              "        if (!dataTable) return;\n",
              "\n",
              "        const docLinkHtml = 'Like what you see? Visit the ' +\n",
              "          '<a target=\"_blank\" href=https://colab.research.google.com/notebooks/data_table.ipynb>data table notebook</a>'\n",
              "          + ' to learn more about interactive tables.';\n",
              "        element.innerHTML = '';\n",
              "        dataTable['output_type'] = 'display_data';\n",
              "        await google.colab.output.renderOutput(dataTable, element);\n",
              "        const docLink = document.createElement('div');\n",
              "        docLink.innerHTML = docLinkHtml;\n",
              "        element.appendChild(docLink);\n",
              "      }\n",
              "    </script>\n",
              "  </div>\n",
              "\n",
              "\n",
              "<div id=\"df-77c06ef9-e8c3-4958-8b4d-6ed2738443ff\">\n",
              "  <button class=\"colab-df-quickchart\" onclick=\"quickchart('df-77c06ef9-e8c3-4958-8b4d-6ed2738443ff')\"\n",
              "            title=\"Suggest charts\"\n",
              "            style=\"display:none;\">\n",
              "\n",
              "<svg xmlns=\"http://www.w3.org/2000/svg\" height=\"24px\"viewBox=\"0 0 24 24\"\n",
              "     width=\"24px\">\n",
              "    <g>\n",
              "        <path d=\"M19 3H5c-1.1 0-2 .9-2 2v14c0 1.1.9 2 2 2h14c1.1 0 2-.9 2-2V5c0-1.1-.9-2-2-2zM9 17H7v-7h2v7zm4 0h-2V7h2v10zm4 0h-2v-4h2v4z\"/>\n",
              "    </g>\n",
              "</svg>\n",
              "  </button>\n",
              "\n",
              "<style>\n",
              "  .colab-df-quickchart {\n",
              "      --bg-color: #E8F0FE;\n",
              "      --fill-color: #1967D2;\n",
              "      --hover-bg-color: #E2EBFA;\n",
              "      --hover-fill-color: #174EA6;\n",
              "      --disabled-fill-color: #AAA;\n",
              "      --disabled-bg-color: #DDD;\n",
              "  }\n",
              "\n",
              "  [theme=dark] .colab-df-quickchart {\n",
              "      --bg-color: #3B4455;\n",
              "      --fill-color: #D2E3FC;\n",
              "      --hover-bg-color: #434B5C;\n",
              "      --hover-fill-color: #FFFFFF;\n",
              "      --disabled-bg-color: #3B4455;\n",
              "      --disabled-fill-color: #666;\n",
              "  }\n",
              "\n",
              "  .colab-df-quickchart {\n",
              "    background-color: var(--bg-color);\n",
              "    border: none;\n",
              "    border-radius: 50%;\n",
              "    cursor: pointer;\n",
              "    display: none;\n",
              "    fill: var(--fill-color);\n",
              "    height: 32px;\n",
              "    padding: 0;\n",
              "    width: 32px;\n",
              "  }\n",
              "\n",
              "  .colab-df-quickchart:hover {\n",
              "    background-color: var(--hover-bg-color);\n",
              "    box-shadow: 0 1px 2px rgba(60, 64, 67, 0.3), 0 1px 3px 1px rgba(60, 64, 67, 0.15);\n",
              "    fill: var(--button-hover-fill-color);\n",
              "  }\n",
              "\n",
              "  .colab-df-quickchart-complete:disabled,\n",
              "  .colab-df-quickchart-complete:disabled:hover {\n",
              "    background-color: var(--disabled-bg-color);\n",
              "    fill: var(--disabled-fill-color);\n",
              "    box-shadow: none;\n",
              "  }\n",
              "\n",
              "  .colab-df-spinner {\n",
              "    border: 2px solid var(--fill-color);\n",
              "    border-color: transparent;\n",
              "    border-bottom-color: var(--fill-color);\n",
              "    animation:\n",
              "      spin 1s steps(1) infinite;\n",
              "  }\n",
              "\n",
              "  @keyframes spin {\n",
              "    0% {\n",
              "      border-color: transparent;\n",
              "      border-bottom-color: var(--fill-color);\n",
              "      border-left-color: var(--fill-color);\n",
              "    }\n",
              "    20% {\n",
              "      border-color: transparent;\n",
              "      border-left-color: var(--fill-color);\n",
              "      border-top-color: var(--fill-color);\n",
              "    }\n",
              "    30% {\n",
              "      border-color: transparent;\n",
              "      border-left-color: var(--fill-color);\n",
              "      border-top-color: var(--fill-color);\n",
              "      border-right-color: var(--fill-color);\n",
              "    }\n",
              "    40% {\n",
              "      border-color: transparent;\n",
              "      border-right-color: var(--fill-color);\n",
              "      border-top-color: var(--fill-color);\n",
              "    }\n",
              "    60% {\n",
              "      border-color: transparent;\n",
              "      border-right-color: var(--fill-color);\n",
              "    }\n",
              "    80% {\n",
              "      border-color: transparent;\n",
              "      border-right-color: var(--fill-color);\n",
              "      border-bottom-color: var(--fill-color);\n",
              "    }\n",
              "    90% {\n",
              "      border-color: transparent;\n",
              "      border-bottom-color: var(--fill-color);\n",
              "    }\n",
              "  }\n",
              "</style>\n",
              "\n",
              "  <script>\n",
              "    async function quickchart(key) {\n",
              "      const quickchartButtonEl =\n",
              "        document.querySelector('#' + key + ' button');\n",
              "      quickchartButtonEl.disabled = true;  // To prevent multiple clicks.\n",
              "      quickchartButtonEl.classList.add('colab-df-spinner');\n",
              "      try {\n",
              "        const charts = await google.colab.kernel.invokeFunction(\n",
              "            'suggestCharts', [key], {});\n",
              "      } catch (error) {\n",
              "        console.error('Error during call to suggestCharts:', error);\n",
              "      }\n",
              "      quickchartButtonEl.classList.remove('colab-df-spinner');\n",
              "      quickchartButtonEl.classList.add('colab-df-quickchart-complete');\n",
              "    }\n",
              "    (() => {\n",
              "      let quickchartButtonEl =\n",
              "        document.querySelector('#df-77c06ef9-e8c3-4958-8b4d-6ed2738443ff button');\n",
              "      quickchartButtonEl.style.display =\n",
              "        google.colab.kernel.accessAllowed ? 'block' : 'none';\n",
              "    })();\n",
              "  </script>\n",
              "</div>\n",
              "    </div>\n",
              "  </div>\n"
            ],
            "application/vnd.google.colaboratory.intrinsic+json": {
              "type": "dataframe",
              "variable_name": "image_frame_cleaned"
            }
          },
          "metadata": {},
          "execution_count": 33
        }
      ]
    },
    {
      "cell_type": "markdown",
      "source": [
        "* Выбросы в многомерном пространстве\n",
        "\n",
        "Для обнаружения выбосов в многомерном пространстве воспользуемся библиотекой pca - [здесь](https://erdogant.github.io/pca/pages/html/Outlier%20detection.html) cсылка"
      ],
      "metadata": {
        "id": "cRPpGq1__BCB"
      }
    },
    {
      "cell_type": "code",
      "source": [
        "!pip install pca -q"
      ],
      "metadata": {
        "id": "hZ3H6aYMKesM"
      },
      "execution_count": 34,
      "outputs": []
    },
    {
      "cell_type": "code",
      "source": [
        "from pca import pca\n",
        "\n",
        "model = pca(alpha=0.05, detect_outliers=['ht2', 'spe'])\n",
        "results = model.fit_transform(image_frame_cleaned.fillna(0))"
      ],
      "metadata": {
        "colab": {
          "base_uri": "https://localhost:8080/"
        },
        "id": "mqlrFvIb8iiL",
        "outputId": "d2429427-3d65-40a6-f9b8-1bf89b9552de"
      },
      "execution_count": 35,
      "outputs": [
        {
          "output_type": "stream",
          "name": "stdout",
          "text": [
            "[pca] >Extracting column labels from dataframe.\n",
            "[pca] >Extracting row labels from dataframe.\n",
            "[pca] >The PCA reduction is performed to capture [95.0%] explained variance using the [1296] columns of the input data.\n",
            "[pca] >Fit using PCA.\n",
            "[pca] >Compute loadings and PCs.\n",
            "[pca] >Compute explained variance.\n",
            "[pca] >Number of components is [565] that covers the [95.00%] explained variance.\n",
            "[pca] >The PCA reduction is performed on the [1296] columns of the input dataframe.\n",
            "[pca] >Fit using PCA.\n",
            "[pca] >Compute loadings and PCs.\n",
            "[pca] >Outlier detection using Hotelling T2 test with alpha=[0.05] and n_components=[565]\n",
            "[pca] >Multiple test correction applied for Hotelling T2 test: [fdr_bh]\n",
            "[pca] >Outlier detection using SPE/DmodX with n_std=[3]\n"
          ]
        }
      ]
    },
    {
      "cell_type": "code",
      "source": [
        "results['outliers'].head()"
      ],
      "metadata": {
        "colab": {
          "base_uri": "https://localhost:8080/",
          "height": 206
        },
        "id": "S0N9E0CYKjtQ",
        "outputId": "06c65923-af4e-4882-e832-dcc7f05c7e30"
      },
      "execution_count": 36,
      "outputs": [
        {
          "output_type": "execute_result",
          "data": {
            "text/plain": [
              "                        y_proba          p_raw       y_score  y_bool  \\\n",
              "well_10_patch_0    1.000000e+00   1.000000e+00    444.349966   False   \n",
              "well_10_patch_1    0.000000e+00   0.000000e+00   5971.025320    True   \n",
              "well_10_patch_10   0.000000e+00   0.000000e+00  12905.344307    True   \n",
              "well_10_patch_11   5.002527e-35   2.333266e-35   1822.255057    True   \n",
              "well_10_patch_12  1.572010e-172  4.698243e-173   3028.331689    True   \n",
              "\n",
              "                  y_bool_spe  y_score_spe  \n",
              "well_10_patch_0        False     0.211141  \n",
              "well_10_patch_1         True     0.846392  \n",
              "well_10_patch_10        True     1.502118  \n",
              "well_10_patch_11       False     0.377149  \n",
              "well_10_patch_12       False     0.379019  "
            ],
            "text/html": [
              "\n",
              "  <div id=\"df-ebedfba5-d51d-472c-91d6-2c39483e6e3a\" class=\"colab-df-container\">\n",
              "    <div>\n",
              "<style scoped>\n",
              "    .dataframe tbody tr th:only-of-type {\n",
              "        vertical-align: middle;\n",
              "    }\n",
              "\n",
              "    .dataframe tbody tr th {\n",
              "        vertical-align: top;\n",
              "    }\n",
              "\n",
              "    .dataframe thead th {\n",
              "        text-align: right;\n",
              "    }\n",
              "</style>\n",
              "<table border=\"1\" class=\"dataframe\">\n",
              "  <thead>\n",
              "    <tr style=\"text-align: right;\">\n",
              "      <th></th>\n",
              "      <th>y_proba</th>\n",
              "      <th>p_raw</th>\n",
              "      <th>y_score</th>\n",
              "      <th>y_bool</th>\n",
              "      <th>y_bool_spe</th>\n",
              "      <th>y_score_spe</th>\n",
              "    </tr>\n",
              "  </thead>\n",
              "  <tbody>\n",
              "    <tr>\n",
              "      <th>well_10_patch_0</th>\n",
              "      <td>1.000000e+00</td>\n",
              "      <td>1.000000e+00</td>\n",
              "      <td>444.349966</td>\n",
              "      <td>False</td>\n",
              "      <td>False</td>\n",
              "      <td>0.211141</td>\n",
              "    </tr>\n",
              "    <tr>\n",
              "      <th>well_10_patch_1</th>\n",
              "      <td>0.000000e+00</td>\n",
              "      <td>0.000000e+00</td>\n",
              "      <td>5971.025320</td>\n",
              "      <td>True</td>\n",
              "      <td>True</td>\n",
              "      <td>0.846392</td>\n",
              "    </tr>\n",
              "    <tr>\n",
              "      <th>well_10_patch_10</th>\n",
              "      <td>0.000000e+00</td>\n",
              "      <td>0.000000e+00</td>\n",
              "      <td>12905.344307</td>\n",
              "      <td>True</td>\n",
              "      <td>True</td>\n",
              "      <td>1.502118</td>\n",
              "    </tr>\n",
              "    <tr>\n",
              "      <th>well_10_patch_11</th>\n",
              "      <td>5.002527e-35</td>\n",
              "      <td>2.333266e-35</td>\n",
              "      <td>1822.255057</td>\n",
              "      <td>True</td>\n",
              "      <td>False</td>\n",
              "      <td>0.377149</td>\n",
              "    </tr>\n",
              "    <tr>\n",
              "      <th>well_10_patch_12</th>\n",
              "      <td>1.572010e-172</td>\n",
              "      <td>4.698243e-173</td>\n",
              "      <td>3028.331689</td>\n",
              "      <td>True</td>\n",
              "      <td>False</td>\n",
              "      <td>0.379019</td>\n",
              "    </tr>\n",
              "  </tbody>\n",
              "</table>\n",
              "</div>\n",
              "    <div class=\"colab-df-buttons\">\n",
              "\n",
              "  <div class=\"colab-df-container\">\n",
              "    <button class=\"colab-df-convert\" onclick=\"convertToInteractive('df-ebedfba5-d51d-472c-91d6-2c39483e6e3a')\"\n",
              "            title=\"Convert this dataframe to an interactive table.\"\n",
              "            style=\"display:none;\">\n",
              "\n",
              "  <svg xmlns=\"http://www.w3.org/2000/svg\" height=\"24px\" viewBox=\"0 -960 960 960\">\n",
              "    <path d=\"M120-120v-720h720v720H120Zm60-500h600v-160H180v160Zm220 220h160v-160H400v160Zm0 220h160v-160H400v160ZM180-400h160v-160H180v160Zm440 0h160v-160H620v160ZM180-180h160v-160H180v160Zm440 0h160v-160H620v160Z\"/>\n",
              "  </svg>\n",
              "    </button>\n",
              "\n",
              "  <style>\n",
              "    .colab-df-container {\n",
              "      display:flex;\n",
              "      gap: 12px;\n",
              "    }\n",
              "\n",
              "    .colab-df-convert {\n",
              "      background-color: #E8F0FE;\n",
              "      border: none;\n",
              "      border-radius: 50%;\n",
              "      cursor: pointer;\n",
              "      display: none;\n",
              "      fill: #1967D2;\n",
              "      height: 32px;\n",
              "      padding: 0 0 0 0;\n",
              "      width: 32px;\n",
              "    }\n",
              "\n",
              "    .colab-df-convert:hover {\n",
              "      background-color: #E2EBFA;\n",
              "      box-shadow: 0px 1px 2px rgba(60, 64, 67, 0.3), 0px 1px 3px 1px rgba(60, 64, 67, 0.15);\n",
              "      fill: #174EA6;\n",
              "    }\n",
              "\n",
              "    .colab-df-buttons div {\n",
              "      margin-bottom: 4px;\n",
              "    }\n",
              "\n",
              "    [theme=dark] .colab-df-convert {\n",
              "      background-color: #3B4455;\n",
              "      fill: #D2E3FC;\n",
              "    }\n",
              "\n",
              "    [theme=dark] .colab-df-convert:hover {\n",
              "      background-color: #434B5C;\n",
              "      box-shadow: 0px 1px 3px 1px rgba(0, 0, 0, 0.15);\n",
              "      filter: drop-shadow(0px 1px 2px rgba(0, 0, 0, 0.3));\n",
              "      fill: #FFFFFF;\n",
              "    }\n",
              "  </style>\n",
              "\n",
              "    <script>\n",
              "      const buttonEl =\n",
              "        document.querySelector('#df-ebedfba5-d51d-472c-91d6-2c39483e6e3a button.colab-df-convert');\n",
              "      buttonEl.style.display =\n",
              "        google.colab.kernel.accessAllowed ? 'block' : 'none';\n",
              "\n",
              "      async function convertToInteractive(key) {\n",
              "        const element = document.querySelector('#df-ebedfba5-d51d-472c-91d6-2c39483e6e3a');\n",
              "        const dataTable =\n",
              "          await google.colab.kernel.invokeFunction('convertToInteractive',\n",
              "                                                    [key], {});\n",
              "        if (!dataTable) return;\n",
              "\n",
              "        const docLinkHtml = 'Like what you see? Visit the ' +\n",
              "          '<a target=\"_blank\" href=https://colab.research.google.com/notebooks/data_table.ipynb>data table notebook</a>'\n",
              "          + ' to learn more about interactive tables.';\n",
              "        element.innerHTML = '';\n",
              "        dataTable['output_type'] = 'display_data';\n",
              "        await google.colab.output.renderOutput(dataTable, element);\n",
              "        const docLink = document.createElement('div');\n",
              "        docLink.innerHTML = docLinkHtml;\n",
              "        element.appendChild(docLink);\n",
              "      }\n",
              "    </script>\n",
              "  </div>\n",
              "\n",
              "\n",
              "<div id=\"df-80ea04bb-1d50-454f-90c8-e0f7e1d24183\">\n",
              "  <button class=\"colab-df-quickchart\" onclick=\"quickchart('df-80ea04bb-1d50-454f-90c8-e0f7e1d24183')\"\n",
              "            title=\"Suggest charts\"\n",
              "            style=\"display:none;\">\n",
              "\n",
              "<svg xmlns=\"http://www.w3.org/2000/svg\" height=\"24px\"viewBox=\"0 0 24 24\"\n",
              "     width=\"24px\">\n",
              "    <g>\n",
              "        <path d=\"M19 3H5c-1.1 0-2 .9-2 2v14c0 1.1.9 2 2 2h14c1.1 0 2-.9 2-2V5c0-1.1-.9-2-2-2zM9 17H7v-7h2v7zm4 0h-2V7h2v10zm4 0h-2v-4h2v4z\"/>\n",
              "    </g>\n",
              "</svg>\n",
              "  </button>\n",
              "\n",
              "<style>\n",
              "  .colab-df-quickchart {\n",
              "      --bg-color: #E8F0FE;\n",
              "      --fill-color: #1967D2;\n",
              "      --hover-bg-color: #E2EBFA;\n",
              "      --hover-fill-color: #174EA6;\n",
              "      --disabled-fill-color: #AAA;\n",
              "      --disabled-bg-color: #DDD;\n",
              "  }\n",
              "\n",
              "  [theme=dark] .colab-df-quickchart {\n",
              "      --bg-color: #3B4455;\n",
              "      --fill-color: #D2E3FC;\n",
              "      --hover-bg-color: #434B5C;\n",
              "      --hover-fill-color: #FFFFFF;\n",
              "      --disabled-bg-color: #3B4455;\n",
              "      --disabled-fill-color: #666;\n",
              "  }\n",
              "\n",
              "  .colab-df-quickchart {\n",
              "    background-color: var(--bg-color);\n",
              "    border: none;\n",
              "    border-radius: 50%;\n",
              "    cursor: pointer;\n",
              "    display: none;\n",
              "    fill: var(--fill-color);\n",
              "    height: 32px;\n",
              "    padding: 0;\n",
              "    width: 32px;\n",
              "  }\n",
              "\n",
              "  .colab-df-quickchart:hover {\n",
              "    background-color: var(--hover-bg-color);\n",
              "    box-shadow: 0 1px 2px rgba(60, 64, 67, 0.3), 0 1px 3px 1px rgba(60, 64, 67, 0.15);\n",
              "    fill: var(--button-hover-fill-color);\n",
              "  }\n",
              "\n",
              "  .colab-df-quickchart-complete:disabled,\n",
              "  .colab-df-quickchart-complete:disabled:hover {\n",
              "    background-color: var(--disabled-bg-color);\n",
              "    fill: var(--disabled-fill-color);\n",
              "    box-shadow: none;\n",
              "  }\n",
              "\n",
              "  .colab-df-spinner {\n",
              "    border: 2px solid var(--fill-color);\n",
              "    border-color: transparent;\n",
              "    border-bottom-color: var(--fill-color);\n",
              "    animation:\n",
              "      spin 1s steps(1) infinite;\n",
              "  }\n",
              "\n",
              "  @keyframes spin {\n",
              "    0% {\n",
              "      border-color: transparent;\n",
              "      border-bottom-color: var(--fill-color);\n",
              "      border-left-color: var(--fill-color);\n",
              "    }\n",
              "    20% {\n",
              "      border-color: transparent;\n",
              "      border-left-color: var(--fill-color);\n",
              "      border-top-color: var(--fill-color);\n",
              "    }\n",
              "    30% {\n",
              "      border-color: transparent;\n",
              "      border-left-color: var(--fill-color);\n",
              "      border-top-color: var(--fill-color);\n",
              "      border-right-color: var(--fill-color);\n",
              "    }\n",
              "    40% {\n",
              "      border-color: transparent;\n",
              "      border-right-color: var(--fill-color);\n",
              "      border-top-color: var(--fill-color);\n",
              "    }\n",
              "    60% {\n",
              "      border-color: transparent;\n",
              "      border-right-color: var(--fill-color);\n",
              "    }\n",
              "    80% {\n",
              "      border-color: transparent;\n",
              "      border-right-color: var(--fill-color);\n",
              "      border-bottom-color: var(--fill-color);\n",
              "    }\n",
              "    90% {\n",
              "      border-color: transparent;\n",
              "      border-bottom-color: var(--fill-color);\n",
              "    }\n",
              "  }\n",
              "</style>\n",
              "\n",
              "  <script>\n",
              "    async function quickchart(key) {\n",
              "      const quickchartButtonEl =\n",
              "        document.querySelector('#' + key + ' button');\n",
              "      quickchartButtonEl.disabled = true;  // To prevent multiple clicks.\n",
              "      quickchartButtonEl.classList.add('colab-df-spinner');\n",
              "      try {\n",
              "        const charts = await google.colab.kernel.invokeFunction(\n",
              "            'suggestCharts', [key], {});\n",
              "      } catch (error) {\n",
              "        console.error('Error during call to suggestCharts:', error);\n",
              "      }\n",
              "      quickchartButtonEl.classList.remove('colab-df-spinner');\n",
              "      quickchartButtonEl.classList.add('colab-df-quickchart-complete');\n",
              "    }\n",
              "    (() => {\n",
              "      let quickchartButtonEl =\n",
              "        document.querySelector('#df-80ea04bb-1d50-454f-90c8-e0f7e1d24183 button');\n",
              "      quickchartButtonEl.style.display =\n",
              "        google.colab.kernel.accessAllowed ? 'block' : 'none';\n",
              "    })();\n",
              "  </script>\n",
              "</div>\n",
              "    </div>\n",
              "  </div>\n"
            ],
            "application/vnd.google.colaboratory.intrinsic+json": {
              "type": "dataframe",
              "summary": "{\n  \"name\": \"results['outliers']\",\n  \"rows\": 5,\n  \"fields\": [\n    {\n      \"column\": \"y_proba\",\n      \"properties\": {\n        \"dtype\": \"number\",\n        \"std\": 0.44721359549995804,\n        \"min\": 0.0,\n        \"max\": 1.0,\n        \"num_unique_values\": 4,\n        \"samples\": [\n          0.0,\n          1.5720102761042895e-172,\n          1.0\n        ],\n        \"semantic_type\": \"\",\n        \"description\": \"\"\n      }\n    },\n    {\n      \"column\": \"p_raw\",\n      \"properties\": {\n        \"dtype\": \"number\",\n        \"std\": 0.44721359549995804,\n        \"min\": 0.0,\n        \"max\": 1.0,\n        \"num_unique_values\": 4,\n        \"samples\": [\n          0.0,\n          4.698243106928526e-173,\n          1.0\n        ],\n        \"semantic_type\": \"\",\n        \"description\": \"\"\n      }\n    },\n    {\n      \"column\": \"y_score\",\n      \"properties\": {\n        \"dtype\": \"number\",\n        \"std\": 4950.744848739346,\n        \"min\": 444.3499663120737,\n        \"max\": 12905.344306992885,\n        \"num_unique_values\": 5,\n        \"samples\": [\n          5971.025320377392,\n          3028.331688965185,\n          12905.344306992885\n        ],\n        \"semantic_type\": \"\",\n        \"description\": \"\"\n      }\n    },\n    {\n      \"column\": \"y_bool\",\n      \"properties\": {\n        \"dtype\": \"boolean\",\n        \"num_unique_values\": 2,\n        \"samples\": [\n          true,\n          false\n        ],\n        \"semantic_type\": \"\",\n        \"description\": \"\"\n      }\n    },\n    {\n      \"column\": \"y_bool_spe\",\n      \"properties\": {\n        \"dtype\": \"boolean\",\n        \"num_unique_values\": 2,\n        \"samples\": [\n          true,\n          false\n        ],\n        \"semantic_type\": \"\",\n        \"description\": \"\"\n      }\n    },\n    {\n      \"column\": \"y_score_spe\",\n      \"properties\": {\n        \"dtype\": \"float32\",\n        \"num_unique_values\": 5,\n        \"samples\": [\n          0.8463919758796692,\n          0.37901949882507324\n        ],\n        \"semantic_type\": \"\",\n        \"description\": \"\"\n      }\n    }\n  ]\n}"
            }
          },
          "metadata": {},
          "execution_count": 36
        }
      ]
    },
    {
      "cell_type": "markdown",
      "source": [
        "Здесь есть возможность настройки порога отнесения к выбросам. Пока рассмотрим предложение из коробки - ```y_bool_spe```."
      ],
      "metadata": {
        "id": "GIvlfo61Kvm7"
      }
    },
    {
      "cell_type": "code",
      "source": [
        "idx = image_frame_cleaned[results['outliers'][\"y_bool_spe\"]].index.tolist()"
      ],
      "metadata": {
        "id": "MlBttJh091m6"
      },
      "execution_count": 37,
      "outputs": []
    },
    {
      "cell_type": "code",
      "source": [
        "for n in range(3):\n",
        "  fig, axes = plt.subplots(2, 4, figsize=(12, 6))\n",
        "\n",
        "  img_name_list = random.sample(idx, 4)\n",
        "  for i, img_name in enumerate(img_name_list):\n",
        "      mask = np.array(y_train.loc[img_name]).reshape(36, 36)\n",
        "      image = np.array(image_frame_cleaned.loc[img_name]).reshape(36, 36)\n",
        "\n",
        "      axes[0, i].imshow(image)\n",
        "      axes[0, i].set_title(img_name)\n",
        "      axes[0, i].axis('off')\n",
        "\n",
        "      axes[1, i].imshow(mask, cmap='gray')\n",
        "      axes[1, i].set_title('Mask')\n",
        "      axes[1, i].axis('off')\n",
        "\n",
        "      plt.tight_layout()\n",
        "\n",
        "  plt.show()"
      ],
      "metadata": {
        "colab": {
          "base_uri": "https://localhost:8080/",
          "height": 1000
        },
        "id": "kyudMn5JDZYl",
        "outputId": "cf2cfef6-5407-4f03-ae55-6868a0e8b019"
      },
      "execution_count": 38,
      "outputs": [
        {
          "output_type": "display_data",
          "data": {
            "text/plain": [
              "<Figure size 1200x600 with 8 Axes>"
            ],
            "image/png": "[encoded data removed]"
          },
          "metadata": {}
        },
        {
          "output_type": "display_data",
          "data": {
            "text/plain": [
              "<Figure size 1200x600 with 8 Axes>"
            ],
            "image/png": "[encoded data removed]"
          },
          "metadata": {}
        },
        {
          "output_type": "display_data",
          "data": {
            "text/plain": [
              "<Figure size 1200x600 with 8 Axes>"
            ],
            "image/png": "[encoded data removed]"
          },
          "metadata": {}
        }
      ]
    },
    {
      "cell_type": "markdown",
      "source": [
        "Для обнаружения выбросов в многомерном пространстве есть масса методов, можно попробовать другие варианты.\n",
        "\n",
        "Изображения, отнесенные к выбросам в многомерном пространстве, имеет смысл удалить из датасета:"
      ],
      "metadata": {
        "id": "WfU-TQzTLhdt"
      }
    },
    {
      "cell_type": "code",
      "source": [
        "to_delete += idx\n",
        "idx = [i for i in image_frame.index if i not in to_delete]\n",
        "image_frame_cleaned = image_frame_cleaned.loc[idx]"
      ],
      "metadata": {
        "id": "F0XN47x1MvJV"
      },
      "execution_count": 39,
      "outputs": []
    },
    {
      "cell_type": "code",
      "source": [
        "image_frame_cleaned.shape"
      ],
      "metadata": {
        "colab": {
          "base_uri": "https://localhost:8080/"
        },
        "id": "UGqI_EOZXvtQ",
        "outputId": "ca71511a-0f8a-480a-db15-07c1454b26bc"
      },
      "execution_count": 40,
      "outputs": [
        {
          "output_type": "execute_result",
          "data": {
            "text/plain": [
              "(9398, 1296)"
            ]
          },
          "metadata": {},
          "execution_count": 40
        }
      ]
    },
    {
      "cell_type": "markdown",
      "source": [
        "* Кластеризация"
      ],
      "metadata": {
        "id": "DZAhXHnQN7nh"
      }
    },
    {
      "cell_type": "code",
      "source": [
        "from sklearn.cluster import DBSCAN\n",
        "from sklearn.metrics import silhouette_score"
      ],
      "metadata": {
        "id": "jGC9lVCXN_kh"
      },
      "execution_count": 41,
      "outputs": []
    },
    {
      "cell_type": "code",
      "source": [
        "image_clustering = DBSCAN(eps=1.5, min_samples=2).fit(image_frame_cleaned.fillna(0))\n",
        "np.unique(image_clustering.labels_, return_counts=True)"
      ],
      "metadata": {
        "colab": {
          "base_uri": "https://localhost:8080/"
        },
        "id": "hSi6oUEyYdVQ",
        "outputId": "f15855ec-d396-496d-f149-bf9a42528ad5"
      },
      "execution_count": 42,
      "outputs": [
        {
          "output_type": "execute_result",
          "data": {
            "text/plain": [
              "(array([-1,  0,  1,  2,  3,  4]), array([   6, 9384,    2,    2,    2,    2]))"
            ]
          },
          "metadata": {},
          "execution_count": 42
        }
      ]
    },
    {
      "cell_type": "code",
      "source": [
        "silhouette_score(\n",
        "    image_frame_cleaned.fillna(0),\n",
        "    image_clustering .fit_predict(image_frame_cleaned.fillna(0))\n",
        ")"
      ],
      "metadata": {
        "colab": {
          "base_uri": "https://localhost:8080/"
        },
        "id": "DxRwIsykWozN",
        "outputId": "066e4838-669e-4c75-da0b-70bdbf4f2f25"
      },
      "execution_count": 43,
      "outputs": [
        {
          "output_type": "execute_result",
          "data": {
            "text/plain": [
              "0.5231138"
            ]
          },
          "metadata": {},
          "execution_count": 43
        }
      ]
    },
    {
      "cell_type": "code",
      "source": [
        "img_name_list = image_frame_cleaned[image_clustering.labels_ != 0].index.tolist()\n",
        "img_name_list"
      ],
      "metadata": {
        "colab": {
          "base_uri": "https://localhost:8080/"
        },
        "id": "qk7Dyp63ZVe3",
        "outputId": "7146d66c-6885-4995-d0f8-fe7af1e432eb"
      },
      "execution_count": 44,
      "outputs": [
        {
          "output_type": "execute_result",
          "data": {
            "text/plain": [
              "['well_11_patch_394',\n",
              " 'well_11_patch_684',\n",
              " 'well_2_patch_400',\n",
              " 'well_2_patch_456',\n",
              " 'well_3_patch_1150',\n",
              " 'well_3_patch_171',\n",
              " 'well_3_patch_968',\n",
              " 'well_6_patch_46',\n",
              " 'well_7_patch_1434',\n",
              " 'well_7_patch_1543',\n",
              " 'well_13_patch_1154',\n",
              " 'well_13_patch_228',\n",
              " 'well_13_patch_517',\n",
              " 'well_13_patch_658']"
            ]
          },
          "metadata": {},
          "execution_count": 44
        }
      ]
    },
    {
      "cell_type": "code",
      "source": [
        "for n in range(3):\n",
        "  fig, axes = plt.subplots(2, 5, figsize=(15, 5))\n",
        "  for i, img_name in enumerate(img_name_list[5*n:5*(n+1)]):\n",
        "        mask = np.array(y_train.loc[img_name]).reshape(36, 36)\n",
        "        image = np.array(image_frame_cleaned.loc[img_name]).reshape(36, 36)\n",
        "\n",
        "        axes[0, i].imshow(image)\n",
        "        axes[0, i].set_title(img_name)\n",
        "        axes[0, i].axis('off')\n",
        "\n",
        "        axes[1, i].imshow(mask, cmap='gray')\n",
        "        axes[1, i].set_title('Mask')\n",
        "        axes[1, i].axis('off')\n",
        "\n",
        "        plt.tight_layout()\n",
        "\n",
        "plt.show()"
      ],
      "metadata": {
        "colab": {
          "base_uri": "https://localhost:8080/",
          "height": 1000
        },
        "id": "MHiwgOhIV3y6",
        "outputId": "67ff434b-ef6d-4c51-e726-a824acc838a0"
      },
      "execution_count": 45,
      "outputs": [
        {
          "output_type": "display_data",
          "data": {
            "text/plain": [
              "<Figure size 1500x500 with 10 Axes>"
            ],
            "image/png": "[encoded data removed]"
          },
          "metadata": {}
        },
        {
          "output_type": "display_data",
          "data": {
            "text/plain": [
              "<Figure size 1500x500 with 10 Axes>"
            ],
            "image/png": "[encoded data removed]"
          },
          "metadata": {}
        },
        {
          "output_type": "display_data",
          "data": {
            "text/plain": [
              "<Figure size 1500x500 with 10 Axes>"
            ],
            "image/png": "[encoded data removed]"
          },
          "metadata": {}
        }
      ]
    },
    {
      "cell_type": "markdown",
      "source": [
        "Эти снимки также лучше удалить из обучвющей выборки."
      ],
      "metadata": {
        "id": "TyBSkhBnW-X5"
      }
    },
    {
      "cell_type": "code",
      "source": [
        "to_delete += img_name_list\n",
        "idx = [i for i in image_frame_cleaned.index if i not in to_delete]\n",
        "image_frame_cleaned = image_frame_cleaned.loc[idx]"
      ],
      "metadata": {
        "id": "Ax-RgyGYOEy3"
      },
      "execution_count": 46,
      "outputs": []
    },
    {
      "cell_type": "code",
      "source": [
        "image_frame_cleaned.shape"
      ],
      "metadata": {
        "colab": {
          "base_uri": "https://localhost:8080/"
        },
        "id": "GAGD2vPxXhct",
        "outputId": "87b5f3fe-310c-43e6-f4f7-142eea9cbb5a"
      },
      "execution_count": 47,
      "outputs": [
        {
          "output_type": "execute_result",
          "data": {
            "text/plain": [
              "(9384, 1296)"
            ]
          },
          "metadata": {},
          "execution_count": 47
        }
      ]
    },
    {
      "cell_type": "markdown",
      "source": [
        " ## Распределение скважин между обучающей, валидационной и тестовой выборкой"
      ],
      "metadata": {
        "id": "6p575BuvOrxV"
      }
    },
    {
      "cell_type": "code",
      "source": [
        "well_ref = image_frame_cleaned.reset_index()[\"index\"].apply(lambda x: int(x.split(\"_\")[1])).tolist()\n",
        "masks_frame = y_train.loc[image_frame_cleaned.index]\n",
        "masks_frame[\"well\"] = well_ref\n",
        "\n",
        "\n",
        "well_info = masks_frame.groupby(\"well\").agg(patches_count = (\"well\", \"count\"))\n",
        "well_info[\"mean_corrosion\"] = masks_frame.groupby(\"well\").mean().mean(axis=1)\n",
        "well_info"
      ],
      "metadata": {
        "colab": {
          "base_uri": "https://localhost:8080/",
          "height": 551
        },
        "id": "8eIQgujKhYV_",
        "outputId": "3eb6d59f-dd30-4dd7-83db-6fd904505eaa"
      },
      "execution_count": 48,
      "outputs": [
        {
          "output_type": "execute_result",
          "data": {
            "text/plain": [
              "      patches_count  mean_corrosion\n",
              "well                               \n",
              "1               162        0.051621\n",
              "2               595        0.062859\n",
              "3              1722        0.101137\n",
              "4                57        0.066656\n",
              "5                94        0.015957\n",
              "6               935        0.055716\n",
              "7              1611        0.048298\n",
              "8                77        0.016514\n",
              "9               162        0.000000\n",
              "10               76        0.000000\n",
              "11             1466        0.055573\n",
              "12               43        0.071364\n",
              "13             1844        0.101954\n",
              "14              345        0.079923\n",
              "15              195        0.072475"
            ],
            "text/html": [
              "\n",
              "  <div id=\"df-6696a3d2-d721-46f2-b481-d688c8432c58\" class=\"colab-df-container\">\n",
              "    <div>\n",
              "<style scoped>\n",
              "    .dataframe tbody tr th:only-of-type {\n",
              "        vertical-align: middle;\n",
              "    }\n",
              "\n",
              "    .dataframe tbody tr th {\n",
              "        vertical-align: top;\n",
              "    }\n",
              "\n",
              "    .dataframe thead th {\n",
              "        text-align: right;\n",
              "    }\n",
              "</style>\n",
              "<table border=\"1\" class=\"dataframe\">\n",
              "  <thead>\n",
              "    <tr style=\"text-align: right;\">\n",
              "      <th></th>\n",
              "      <th>patches_count</th>\n",
              "      <th>mean_corrosion</th>\n",
              "    </tr>\n",
              "    <tr>\n",
              "      <th>well</th>\n",
              "      <th></th>\n",
              "      <th></th>\n",
              "    </tr>\n",
              "  </thead>\n",
              "  <tbody>\n",
              "    <tr>\n",
              "      <th>1</th>\n",
              "      <td>162</td>\n",
              "      <td>0.051621</td>\n",
              "    </tr>\n",
              "    <tr>\n",
              "      <th>2</th>\n",
              "      <td>595</td>\n",
              "      <td>0.062859</td>\n",
              "    </tr>\n",
              "    <tr>\n",
              "      <th>3</th>\n",
              "      <td>1722</td>\n",
              "      <td>0.101137</td>\n",
              "    </tr>\n",
              "    <tr>\n",
              "      <th>4</th>\n",
              "      <td>57</td>\n",
              "      <td>0.066656</td>\n",
              "    </tr>\n",
              "    <tr>\n",
              "      <th>5</th>\n",
              "      <td>94</td>\n",
              "      <td>0.015957</td>\n",
              "    </tr>\n",
              "    <tr>\n",
              "      <th>6</th>\n",
              "      <td>935</td>\n",
              "      <td>0.055716</td>\n",
              "    </tr>\n",
              "    <tr>\n",
              "      <th>7</th>\n",
              "      <td>1611</td>\n",
              "      <td>0.048298</td>\n",
              "    </tr>\n",
              "    <tr>\n",
              "      <th>8</th>\n",
              "      <td>77</td>\n",
              "      <td>0.016514</td>\n",
              "    </tr>\n",
              "    <tr>\n",
              "      <th>9</th>\n",
              "      <td>162</td>\n",
              "      <td>0.000000</td>\n",
              "    </tr>\n",
              "    <tr>\n",
              "      <th>10</th>\n",
              "      <td>76</td>\n",
              "      <td>0.000000</td>\n",
              "    </tr>\n",
              "    <tr>\n",
              "      <th>11</th>\n",
              "      <td>1466</td>\n",
              "      <td>0.055573</td>\n",
              "    </tr>\n",
              "    <tr>\n",
              "      <th>12</th>\n",
              "      <td>43</td>\n",
              "      <td>0.071364</td>\n",
              "    </tr>\n",
              "    <tr>\n",
              "      <th>13</th>\n",
              "      <td>1844</td>\n",
              "      <td>0.101954</td>\n",
              "    </tr>\n",
              "    <tr>\n",
              "      <th>14</th>\n",
              "      <td>345</td>\n",
              "      <td>0.079923</td>\n",
              "    </tr>\n",
              "    <tr>\n",
              "      <th>15</th>\n",
              "      <td>195</td>\n",
              "      <td>0.072475</td>\n",
              "    </tr>\n",
              "  </tbody>\n",
              "</table>\n",
              "</div>\n",
              "    <div class=\"colab-df-buttons\">\n",
              "\n",
              "  <div class=\"colab-df-container\">\n",
              "    <button class=\"colab-df-convert\" onclick=\"convertToInteractive('df-6696a3d2-d721-46f2-b481-d688c8432c58')\"\n",
              "            title=\"Convert this dataframe to an interactive table.\"\n",
              "            style=\"display:none;\">\n",
              "\n",
              "  <svg xmlns=\"http://www.w3.org/2000/svg\" height=\"24px\" viewBox=\"0 -960 960 960\">\n",
              "    <path d=\"M120-120v-720h720v720H120Zm60-500h600v-160H180v160Zm220 220h160v-160H400v160Zm0 220h160v-160H400v160ZM180-400h160v-160H180v160Zm440 0h160v-160H620v160ZM180-180h160v-160H180v160Zm440 0h160v-160H620v160Z\"/>\n",
              "  </svg>\n",
              "    </button>\n",
              "\n",
              "  <style>\n",
              "    .colab-df-container {\n",
              "      display:flex;\n",
              "      gap: 12px;\n",
              "    }\n",
              "\n",
              "    .colab-df-convert {\n",
              "      background-color: #E8F0FE;\n",
              "      border: none;\n",
              "      border-radius: 50%;\n",
              "      cursor: pointer;\n",
              "      display: none;\n",
              "      fill: #1967D2;\n",
              "      height: 32px;\n",
              "      padding: 0 0 0 0;\n",
              "      width: 32px;\n",
              "    }\n",
              "\n",
              "    .colab-df-convert:hover {\n",
              "      background-color: #E2EBFA;\n",
              "      box-shadow: 0px 1px 2px rgba(60, 64, 67, 0.3), 0px 1px 3px 1px rgba(60, 64, 67, 0.15);\n",
              "      fill: #174EA6;\n",
              "    }\n",
              "\n",
              "    .colab-df-buttons div {\n",
              "      margin-bottom: 4px;\n",
              "    }\n",
              "\n",
              "    [theme=dark] .colab-df-convert {\n",
              "      background-color: #3B4455;\n",
              "      fill: #D2E3FC;\n",
              "    }\n",
              "\n",
              "    [theme=dark] .colab-df-convert:hover {\n",
              "      background-color: #434B5C;\n",
              "      box-shadow: 0px 1px 3px 1px rgba(0, 0, 0, 0.15);\n",
              "      filter: drop-shadow(0px 1px 2px rgba(0, 0, 0, 0.3));\n",
              "      fill: #FFFFFF;\n",
              "    }\n",
              "  </style>\n",
              "\n",
              "    <script>\n",
              "      const buttonEl =\n",
              "        document.querySelector('#df-6696a3d2-d721-46f2-b481-d688c8432c58 button.colab-df-convert');\n",
              "      buttonEl.style.display =\n",
              "        google.colab.kernel.accessAllowed ? 'block' : 'none';\n",
              "\n",
              "      async function convertToInteractive(key) {\n",
              "        const element = document.querySelector('#df-6696a3d2-d721-46f2-b481-d688c8432c58');\n",
              "        const dataTable =\n",
              "          await google.colab.kernel.invokeFunction('convertToInteractive',\n",
              "                                                    [key], {});\n",
              "        if (!dataTable) return;\n",
              "\n",
              "        const docLinkHtml = 'Like what you see? Visit the ' +\n",
              "          '<a target=\"_blank\" href=https://colab.research.google.com/notebooks/data_table.ipynb>data table notebook</a>'\n",
              "          + ' to learn more about interactive tables.';\n",
              "        element.innerHTML = '';\n",
              "        dataTable['output_type'] = 'display_data';\n",
              "        await google.colab.output.renderOutput(dataTable, element);\n",
              "        const docLink = document.createElement('div');\n",
              "        docLink.innerHTML = docLinkHtml;\n",
              "        element.appendChild(docLink);\n",
              "      }\n",
              "    </script>\n",
              "  </div>\n",
              "\n",
              "\n",
              "<div id=\"df-a94f3a09-dfe0-4de2-a27f-258da255ceb6\">\n",
              "  <button class=\"colab-df-quickchart\" onclick=\"quickchart('df-a94f3a09-dfe0-4de2-a27f-258da255ceb6')\"\n",
              "            title=\"Suggest charts\"\n",
              "            style=\"display:none;\">\n",
              "\n",
              "<svg xmlns=\"http://www.w3.org/2000/svg\" height=\"24px\"viewBox=\"0 0 24 24\"\n",
              "     width=\"24px\">\n",
              "    <g>\n",
              "        <path d=\"M19 3H5c-1.1 0-2 .9-2 2v14c0 1.1.9 2 2 2h14c1.1 0 2-.9 2-2V5c0-1.1-.9-2-2-2zM9 17H7v-7h2v7zm4 0h-2V7h2v10zm4 0h-2v-4h2v4z\"/>\n",
              "    </g>\n",
              "</svg>\n",
              "  </button>\n",
              "\n",
              "<style>\n",
              "  .colab-df-quickchart {\n",
              "      --bg-color: #E8F0FE;\n",
              "      --fill-color: #1967D2;\n",
              "      --hover-bg-color: #E2EBFA;\n",
              "      --hover-fill-color: #174EA6;\n",
              "      --disabled-fill-color: #AAA;\n",
              "      --disabled-bg-color: #DDD;\n",
              "  }\n",
              "\n",
              "  [theme=dark] .colab-df-quickchart {\n",
              "      --bg-color: #3B4455;\n",
              "      --fill-color: #D2E3FC;\n",
              "      --hover-bg-color: #434B5C;\n",
              "      --hover-fill-color: #FFFFFF;\n",
              "      --disabled-bg-color: #3B4455;\n",
              "      --disabled-fill-color: #666;\n",
              "  }\n",
              "\n",
              "  .colab-df-quickchart {\n",
              "    background-color: var(--bg-color);\n",
              "    border: none;\n",
              "    border-radius: 50%;\n",
              "    cursor: pointer;\n",
              "    display: none;\n",
              "    fill: var(--fill-color);\n",
              "    height: 32px;\n",
              "    padding: 0;\n",
              "    width: 32px;\n",
              "  }\n",
              "\n",
              "  .colab-df-quickchart:hover {\n",
              "    background-color: var(--hover-bg-color);\n",
              "    box-shadow: 0 1px 2px rgba(60, 64, 67, 0.3), 0 1px 3px 1px rgba(60, 64, 67, 0.15);\n",
              "    fill: var(--button-hover-fill-color);\n",
              "  }\n",
              "\n",
              "  .colab-df-quickchart-complete:disabled,\n",
              "  .colab-df-quickchart-complete:disabled:hover {\n",
              "    background-color: var(--disabled-bg-color);\n",
              "    fill: var(--disabled-fill-color);\n",
              "    box-shadow: none;\n",
              "  }\n",
              "\n",
              "  .colab-df-spinner {\n",
              "    border: 2px solid var(--fill-color);\n",
              "    border-color: transparent;\n",
              "    border-bottom-color: var(--fill-color);\n",
              "    animation:\n",
              "      spin 1s steps(1) infinite;\n",
              "  }\n",
              "\n",
              "  @keyframes spin {\n",
              "    0% {\n",
              "      border-color: transparent;\n",
              "      border-bottom-color: var(--fill-color);\n",
              "      border-left-color: var(--fill-color);\n",
              "    }\n",
              "    20% {\n",
              "      border-color: transparent;\n",
              "      border-left-color: var(--fill-color);\n",
              "      border-top-color: var(--fill-color);\n",
              "    }\n",
              "    30% {\n",
              "      border-color: transparent;\n",
              "      border-left-color: var(--fill-color);\n",
              "      border-top-color: var(--fill-color);\n",
              "      border-right-color: var(--fill-color);\n",
              "    }\n",
              "    40% {\n",
              "      border-color: transparent;\n",
              "      border-right-color: var(--fill-color);\n",
              "      border-top-color: var(--fill-color);\n",
              "    }\n",
              "    60% {\n",
              "      border-color: transparent;\n",
              "      border-right-color: var(--fill-color);\n",
              "    }\n",
              "    80% {\n",
              "      border-color: transparent;\n",
              "      border-right-color: var(--fill-color);\n",
              "      border-bottom-color: var(--fill-color);\n",
              "    }\n",
              "    90% {\n",
              "      border-color: transparent;\n",
              "      border-bottom-color: var(--fill-color);\n",
              "    }\n",
              "  }\n",
              "</style>\n",
              "\n",
              "  <script>\n",
              "    async function quickchart(key) {\n",
              "      const quickchartButtonEl =\n",
              "        document.querySelector('#' + key + ' button');\n",
              "      quickchartButtonEl.disabled = true;  // To prevent multiple clicks.\n",
              "      quickchartButtonEl.classList.add('colab-df-spinner');\n",
              "      try {\n",
              "        const charts = await google.colab.kernel.invokeFunction(\n",
              "            'suggestCharts', [key], {});\n",
              "      } catch (error) {\n",
              "        console.error('Error during call to suggestCharts:', error);\n",
              "      }\n",
              "      quickchartButtonEl.classList.remove('colab-df-spinner');\n",
              "      quickchartButtonEl.classList.add('colab-df-quickchart-complete');\n",
              "    }\n",
              "    (() => {\n",
              "      let quickchartButtonEl =\n",
              "        document.querySelector('#df-a94f3a09-dfe0-4de2-a27f-258da255ceb6 button');\n",
              "      quickchartButtonEl.style.display =\n",
              "        google.colab.kernel.accessAllowed ? 'block' : 'none';\n",
              "    })();\n",
              "  </script>\n",
              "</div>\n",
              "    </div>\n",
              "  </div>\n"
            ],
            "application/vnd.google.colaboratory.intrinsic+json": {
              "type": "dataframe",
              "variable_name": "well_info",
              "summary": "{\n  \"name\": \"well_info\",\n  \"rows\": 15,\n  \"fields\": [\n    {\n      \"column\": \"well\",\n      \"properties\": {\n        \"dtype\": \"number\",\n        \"std\": 4,\n        \"min\": 1,\n        \"max\": 15,\n        \"num_unique_values\": 15,\n        \"samples\": [\n          10,\n          12,\n          1\n        ],\n        \"semantic_type\": \"\",\n        \"description\": \"\"\n      }\n    },\n    {\n      \"column\": \"patches_count\",\n      \"properties\": {\n        \"dtype\": \"number\",\n        \"std\": 691,\n        \"min\": 43,\n        \"max\": 1844,\n        \"num_unique_values\": 14,\n        \"samples\": [\n          1466,\n          1844,\n          162\n        ],\n        \"semantic_type\": \"\",\n        \"description\": \"\"\n      }\n    },\n    {\n      \"column\": \"mean_corrosion\",\n      \"properties\": {\n        \"dtype\": \"number\",\n        \"std\": 0.032509729913881354,\n        \"min\": 0.0,\n        \"max\": 0.10195353297983452,\n        \"num_unique_values\": 14,\n        \"samples\": [\n          0.05557292456166945,\n          0.10195353297983452,\n          0.0516213229690596\n        ],\n        \"semantic_type\": \"\",\n        \"description\": \"\"\n      }\n    }\n  ]\n}"
            }
          },
          "metadata": {},
          "execution_count": 48
        }
      ]
    },
    {
      "cell_type": "markdown",
      "source": [
        "### Кластеризация скважин по данным снимков и разметки."
      ],
      "metadata": {
        "id": "vgPmycD8nNOk"
      }
    },
    {
      "cell_type": "code",
      "source": [
        "well_mask_frame = masks_frame.groupby(\"well\").mean()\n",
        "\n",
        "mask_clustering = DBSCAN(eps=6, min_samples=2).fit(well_mask_frame)\n",
        "silhouette_score(well_mask_frame, mask_clustering.fit_predict(well_mask_frame))"
      ],
      "metadata": {
        "colab": {
          "base_uri": "https://localhost:8080/"
        },
        "id": "_kAsM9a-luA4",
        "outputId": "e99006f1-97e4-4ffa-bae4-fa50bd82a43e"
      },
      "execution_count": 49,
      "outputs": [
        {
          "output_type": "execute_result",
          "data": {
            "text/plain": [
              "0.4462276797486458"
            ]
          },
          "metadata": {},
          "execution_count": 49
        }
      ]
    },
    {
      "cell_type": "code",
      "source": [
        "image_frame_cleaned[\"well\"] = well_ref\n",
        "well_image_frame = image_frame_cleaned.groupby(\"well\").mean()\n",
        "\n",
        "image_clustering = DBSCAN(eps=0.09, min_samples=2).fit(well_image_frame)\n",
        "silhouette_score(well_image_frame, image_clustering .fit_predict(well_image_frame))"
      ],
      "metadata": {
        "colab": {
          "base_uri": "https://localhost:8080/"
        },
        "id": "flF8hTpLck2G",
        "outputId": "9fdea14e-6f36-4604-f29c-db2c28d6aa44"
      },
      "execution_count": 50,
      "outputs": [
        {
          "output_type": "execute_result",
          "data": {
            "text/plain": [
              "0.4658839"
            ]
          },
          "metadata": {},
          "execution_count": 50
        }
      ]
    },
    {
      "cell_type": "code",
      "source": [
        "well_info.loc[:, \"image_cluster\"] = image_clustering.labels_\n",
        "well_info.loc[:, \"mask_cluster\"] = mask_clustering.labels_"
      ],
      "metadata": {
        "id": "JTIfR3z3cvCK"
      },
      "execution_count": 51,
      "outputs": []
    },
    {
      "cell_type": "code",
      "source": [
        "well_info"
      ],
      "metadata": {
        "colab": {
          "base_uri": "https://localhost:8080/",
          "height": 551
        },
        "id": "qWbabhPoe-Fd",
        "outputId": "11f39df6-106e-4cff-9404-d7b1a33b08b5"
      },
      "execution_count": 52,
      "outputs": [
        {
          "output_type": "execute_result",
          "data": {
            "text/plain": [
              "      patches_count  mean_corrosion  image_cluster  mask_cluster\n",
              "well                                                            \n",
              "1               162        0.051621              0             0\n",
              "2               595        0.062859              0             0\n",
              "3              1722        0.101137              0             0\n",
              "4                57        0.066656              0             0\n",
              "5                94        0.015957              0             0\n",
              "6               935        0.055716              0             0\n",
              "7              1611        0.048298              0             0\n",
              "8                77        0.016514              0             0\n",
              "9               162        0.000000              0             0\n",
              "10               76        0.000000              0             0\n",
              "11             1466        0.055573              0             0\n",
              "12               43        0.071364             -1            -1\n",
              "13             1844        0.101954              0             0\n",
              "14              345        0.079923              0             0\n",
              "15              195        0.072475              0             0"
            ],
            "text/html": [
              "\n",
              "  <div id=\"df-47180d8c-1d30-463b-8e5a-27d6c0d261b9\" class=\"colab-df-container\">\n",
              "    <div>\n",
              "<style scoped>\n",
              "    .dataframe tbody tr th:only-of-type {\n",
              "        vertical-align: middle;\n",
              "    }\n",
              "\n",
              "    .dataframe tbody tr th {\n",
              "        vertical-align: top;\n",
              "    }\n",
              "\n",
              "    .dataframe thead th {\n",
              "        text-align: right;\n",
              "    }\n",
              "</style>\n",
              "<table border=\"1\" class=\"dataframe\">\n",
              "  <thead>\n",
              "    <tr style=\"text-align: right;\">\n",
              "      <th></th>\n",
              "      <th>patches_count</th>\n",
              "      <th>mean_corrosion</th>\n",
              "      <th>image_cluster</th>\n",
              "      <th>mask_cluster</th>\n",
              "    </tr>\n",
              "    <tr>\n",
              "      <th>well</th>\n",
              "      <th></th>\n",
              "      <th></th>\n",
              "      <th></th>\n",
              "      <th></th>\n",
              "    </tr>\n",
              "  </thead>\n",
              "  <tbody>\n",
              "    <tr>\n",
              "      <th>1</th>\n",
              "      <td>162</td>\n",
              "      <td>0.051621</td>\n",
              "      <td>0</td>\n",
              "      <td>0</td>\n",
              "    </tr>\n",
              "    <tr>\n",
              "      <th>2</th>\n",
              "      <td>595</td>\n",
              "      <td>0.062859</td>\n",
              "      <td>0</td>\n",
              "      <td>0</td>\n",
              "    </tr>\n",
              "    <tr>\n",
              "      <th>3</th>\n",
              "      <td>1722</td>\n",
              "      <td>0.101137</td>\n",
              "      <td>0</td>\n",
              "      <td>0</td>\n",
              "    </tr>\n",
              "    <tr>\n",
              "      <th>4</th>\n",
              "      <td>57</td>\n",
              "      <td>0.066656</td>\n",
              "      <td>0</td>\n",
              "      <td>0</td>\n",
              "    </tr>\n",
              "    <tr>\n",
              "      <th>5</th>\n",
              "      <td>94</td>\n",
              "      <td>0.015957</td>\n",
              "      <td>0</td>\n",
              "      <td>0</td>\n",
              "    </tr>\n",
              "    <tr>\n",
              "      <th>6</th>\n",
              "      <td>935</td>\n",
              "      <td>0.055716</td>\n",
              "      <td>0</td>\n",
              "      <td>0</td>\n",
              "    </tr>\n",
              "    <tr>\n",
              "      <th>7</th>\n",
              "      <td>1611</td>\n",
              "      <td>0.048298</td>\n",
              "      <td>0</td>\n",
              "      <td>0</td>\n",
              "    </tr>\n",
              "    <tr>\n",
              "      <th>8</th>\n",
              "      <td>77</td>\n",
              "      <td>0.016514</td>\n",
              "      <td>0</td>\n",
              "      <td>0</td>\n",
              "    </tr>\n",
              "    <tr>\n",
              "      <th>9</th>\n",
              "      <td>162</td>\n",
              "      <td>0.000000</td>\n",
              "      <td>0</td>\n",
              "      <td>0</td>\n",
              "    </tr>\n",
              "    <tr>\n",
              "      <th>10</th>\n",
              "      <td>76</td>\n",
              "      <td>0.000000</td>\n",
              "      <td>0</td>\n",
              "      <td>0</td>\n",
              "    </tr>\n",
              "    <tr>\n",
              "      <th>11</th>\n",
              "      <td>1466</td>\n",
              "      <td>0.055573</td>\n",
              "      <td>0</td>\n",
              "      <td>0</td>\n",
              "    </tr>\n",
              "    <tr>\n",
              "      <th>12</th>\n",
              "      <td>43</td>\n",
              "      <td>0.071364</td>\n",
              "      <td>-1</td>\n",
              "      <td>-1</td>\n",
              "    </tr>\n",
              "    <tr>\n",
              "      <th>13</th>\n",
              "      <td>1844</td>\n",
              "      <td>0.101954</td>\n",
              "      <td>0</td>\n",
              "      <td>0</td>\n",
              "    </tr>\n",
              "    <tr>\n",
              "      <th>14</th>\n",
              "      <td>345</td>\n",
              "      <td>0.079923</td>\n",
              "      <td>0</td>\n",
              "      <td>0</td>\n",
              "    </tr>\n",
              "    <tr>\n",
              "      <th>15</th>\n",
              "      <td>195</td>\n",
              "      <td>0.072475</td>\n",
              "      <td>0</td>\n",
              "      <td>0</td>\n",
              "    </tr>\n",
              "  </tbody>\n",
              "</table>\n",
              "</div>\n",
              "    <div class=\"colab-df-buttons\">\n",
              "\n",
              "  <div class=\"colab-df-container\">\n",
              "    <button class=\"colab-df-convert\" onclick=\"convertToInteractive('df-47180d8c-1d30-463b-8e5a-27d6c0d261b9')\"\n",
              "            title=\"Convert this dataframe to an interactive table.\"\n",
              "            style=\"display:none;\">\n",
              "\n",
              "  <svg xmlns=\"http://www.w3.org/2000/svg\" height=\"24px\" viewBox=\"0 -960 960 960\">\n",
              "    <path d=\"M120-120v-720h720v720H120Zm60-500h600v-160H180v160Zm220 220h160v-160H400v160Zm0 220h160v-160H400v160ZM180-400h160v-160H180v160Zm440 0h160v-160H620v160ZM180-180h160v-160H180v160Zm440 0h160v-160H620v160Z\"/>\n",
              "  </svg>\n",
              "    </button>\n",
              "\n",
              "  <style>\n",
              "    .colab-df-container {\n",
              "      display:flex;\n",
              "      gap: 12px;\n",
              "    }\n",
              "\n",
              "    .colab-df-convert {\n",
              "      background-color: #E8F0FE;\n",
              "      border: none;\n",
              "      border-radius: 50%;\n",
              "      cursor: pointer;\n",
              "      display: none;\n",
              "      fill: #1967D2;\n",
              "      height: 32px;\n",
              "      padding: 0 0 0 0;\n",
              "      width: 32px;\n",
              "    }\n",
              "\n",
              "    .colab-df-convert:hover {\n",
              "      background-color: #E2EBFA;\n",
              "      box-shadow: 0px 1px 2px rgba(60, 64, 67, 0.3), 0px 1px 3px 1px rgba(60, 64, 67, 0.15);\n",
              "      fill: #174EA6;\n",
              "    }\n",
              "\n",
              "    .colab-df-buttons div {\n",
              "      margin-bottom: 4px;\n",
              "    }\n",
              "\n",
              "    [theme=dark] .colab-df-convert {\n",
              "      background-color: #3B4455;\n",
              "      fill: #D2E3FC;\n",
              "    }\n",
              "\n",
              "    [theme=dark] .colab-df-convert:hover {\n",
              "      background-color: #434B5C;\n",
              "      box-shadow: 0px 1px 3px 1px rgba(0, 0, 0, 0.15);\n",
              "      filter: drop-shadow(0px 1px 2px rgba(0, 0, 0, 0.3));\n",
              "      fill: #FFFFFF;\n",
              "    }\n",
              "  </style>\n",
              "\n",
              "    <script>\n",
              "      const buttonEl =\n",
              "        document.querySelector('#df-47180d8c-1d30-463b-8e5a-27d6c0d261b9 button.colab-df-convert');\n",
              "      buttonEl.style.display =\n",
              "        google.colab.kernel.accessAllowed ? 'block' : 'none';\n",
              "\n",
              "      async function convertToInteractive(key) {\n",
              "        const element = document.querySelector('#df-47180d8c-1d30-463b-8e5a-27d6c0d261b9');\n",
              "        const dataTable =\n",
              "          await google.colab.kernel.invokeFunction('convertToInteractive',\n",
              "                                                    [key], {});\n",
              "        if (!dataTable) return;\n",
              "\n",
              "        const docLinkHtml = 'Like what you see? Visit the ' +\n",
              "          '<a target=\"_blank\" href=https://colab.research.google.com/notebooks/data_table.ipynb>data table notebook</a>'\n",
              "          + ' to learn more about interactive tables.';\n",
              "        element.innerHTML = '';\n",
              "        dataTable['output_type'] = 'display_data';\n",
              "        await google.colab.output.renderOutput(dataTable, element);\n",
              "        const docLink = document.createElement('div');\n",
              "        docLink.innerHTML = docLinkHtml;\n",
              "        element.appendChild(docLink);\n",
              "      }\n",
              "    </script>\n",
              "  </div>\n",
              "\n",
              "\n",
              "<div id=\"df-073c9eb4-47df-4d9f-a568-debda541bf58\">\n",
              "  <button class=\"colab-df-quickchart\" onclick=\"quickchart('df-073c9eb4-47df-4d9f-a568-debda541bf58')\"\n",
              "            title=\"Suggest charts\"\n",
              "            style=\"display:none;\">\n",
              "\n",
              "<svg xmlns=\"http://www.w3.org/2000/svg\" height=\"24px\"viewBox=\"0 0 24 24\"\n",
              "     width=\"24px\">\n",
              "    <g>\n",
              "        <path d=\"M19 3H5c-1.1 0-2 .9-2 2v14c0 1.1.9 2 2 2h14c1.1 0 2-.9 2-2V5c0-1.1-.9-2-2-2zM9 17H7v-7h2v7zm4 0h-2V7h2v10zm4 0h-2v-4h2v4z\"/>\n",
              "    </g>\n",
              "</svg>\n",
              "  </button>\n",
              "\n",
              "<style>\n",
              "  .colab-df-quickchart {\n",
              "      --bg-color: #E8F0FE;\n",
              "      --fill-color: #1967D2;\n",
              "      --hover-bg-color: #E2EBFA;\n",
              "      --hover-fill-color: #174EA6;\n",
              "      --disabled-fill-color: #AAA;\n",
              "      --disabled-bg-color: #DDD;\n",
              "  }\n",
              "\n",
              "  [theme=dark] .colab-df-quickchart {\n",
              "      --bg-color: #3B4455;\n",
              "      --fill-color: #D2E3FC;\n",
              "      --hover-bg-color: #434B5C;\n",
              "      --hover-fill-color: #FFFFFF;\n",
              "      --disabled-bg-color: #3B4455;\n",
              "      --disabled-fill-color: #666;\n",
              "  }\n",
              "\n",
              "  .colab-df-quickchart {\n",
              "    background-color: var(--bg-color);\n",
              "    border: none;\n",
              "    border-radius: 50%;\n",
              "    cursor: pointer;\n",
              "    display: none;\n",
              "    fill: var(--fill-color);\n",
              "    height: 32px;\n",
              "    padding: 0;\n",
              "    width: 32px;\n",
              "  }\n",
              "\n",
              "  .colab-df-quickchart:hover {\n",
              "    background-color: var(--hover-bg-color);\n",
              "    box-shadow: 0 1px 2px rgba(60, 64, 67, 0.3), 0 1px 3px 1px rgba(60, 64, 67, 0.15);\n",
              "    fill: var(--button-hover-fill-color);\n",
              "  }\n",
              "\n",
              "  .colab-df-quickchart-complete:disabled,\n",
              "  .colab-df-quickchart-complete:disabled:hover {\n",
              "    background-color: var(--disabled-bg-color);\n",
              "    fill: var(--disabled-fill-color);\n",
              "    box-shadow: none;\n",
              "  }\n",
              "\n",
              "  .colab-df-spinner {\n",
              "    border: 2px solid var(--fill-color);\n",
              "    border-color: transparent;\n",
              "    border-bottom-color: var(--fill-color);\n",
              "    animation:\n",
              "      spin 1s steps(1) infinite;\n",
              "  }\n",
              "\n",
              "  @keyframes spin {\n",
              "    0% {\n",
              "      border-color: transparent;\n",
              "      border-bottom-color: var(--fill-color);\n",
              "      border-left-color: var(--fill-color);\n",
              "    }\n",
              "    20% {\n",
              "      border-color: transparent;\n",
              "      border-left-color: var(--fill-color);\n",
              "      border-top-color: var(--fill-color);\n",
              "    }\n",
              "    30% {\n",
              "      border-color: transparent;\n",
              "      border-left-color: var(--fill-color);\n",
              "      border-top-color: var(--fill-color);\n",
              "      border-right-color: var(--fill-color);\n",
              "    }\n",
              "    40% {\n",
              "      border-color: transparent;\n",
              "      border-right-color: var(--fill-color);\n",
              "      border-top-color: var(--fill-color);\n",
              "    }\n",
              "    60% {\n",
              "      border-color: transparent;\n",
              "      border-right-color: var(--fill-color);\n",
              "    }\n",
              "    80% {\n",
              "      border-color: transparent;\n",
              "      border-right-color: var(--fill-color);\n",
              "      border-bottom-color: var(--fill-color);\n",
              "    }\n",
              "    90% {\n",
              "      border-color: transparent;\n",
              "      border-bottom-color: var(--fill-color);\n",
              "    }\n",
              "  }\n",
              "</style>\n",
              "\n",
              "  <script>\n",
              "    async function quickchart(key) {\n",
              "      const quickchartButtonEl =\n",
              "        document.querySelector('#' + key + ' button');\n",
              "      quickchartButtonEl.disabled = true;  // To prevent multiple clicks.\n",
              "      quickchartButtonEl.classList.add('colab-df-spinner');\n",
              "      try {\n",
              "        const charts = await google.colab.kernel.invokeFunction(\n",
              "            'suggestCharts', [key], {});\n",
              "      } catch (error) {\n",
              "        console.error('Error during call to suggestCharts:', error);\n",
              "      }\n",
              "      quickchartButtonEl.classList.remove('colab-df-spinner');\n",
              "      quickchartButtonEl.classList.add('colab-df-quickchart-complete');\n",
              "    }\n",
              "    (() => {\n",
              "      let quickchartButtonEl =\n",
              "        document.querySelector('#df-073c9eb4-47df-4d9f-a568-debda541bf58 button');\n",
              "      quickchartButtonEl.style.display =\n",
              "        google.colab.kernel.accessAllowed ? 'block' : 'none';\n",
              "    })();\n",
              "  </script>\n",
              "</div>\n",
              "    </div>\n",
              "  </div>\n"
            ],
            "application/vnd.google.colaboratory.intrinsic+json": {
              "type": "dataframe",
              "variable_name": "well_info",
              "summary": "{\n  \"name\": \"well_info\",\n  \"rows\": 15,\n  \"fields\": [\n    {\n      \"column\": \"well\",\n      \"properties\": {\n        \"dtype\": \"number\",\n        \"std\": 4,\n        \"min\": 1,\n        \"max\": 15,\n        \"num_unique_values\": 15,\n        \"samples\": [\n          10,\n          12,\n          1\n        ],\n        \"semantic_type\": \"\",\n        \"description\": \"\"\n      }\n    },\n    {\n      \"column\": \"patches_count\",\n      \"properties\": {\n        \"dtype\": \"number\",\n        \"std\": 691,\n        \"min\": 43,\n        \"max\": 1844,\n        \"num_unique_values\": 14,\n        \"samples\": [\n          1466,\n          1844,\n          162\n        ],\n        \"semantic_type\": \"\",\n        \"description\": \"\"\n      }\n    },\n    {\n      \"column\": \"mean_corrosion\",\n      \"properties\": {\n        \"dtype\": \"number\",\n        \"std\": 0.032509729913881354,\n        \"min\": 0.0,\n        \"max\": 0.10195353297983452,\n        \"num_unique_values\": 14,\n        \"samples\": [\n          0.05557292456166945,\n          0.10195353297983452,\n          0.0516213229690596\n        ],\n        \"semantic_type\": \"\",\n        \"description\": \"\"\n      }\n    },\n    {\n      \"column\": \"image_cluster\",\n      \"properties\": {\n        \"dtype\": \"number\",\n        \"std\": 0,\n        \"min\": -1,\n        \"max\": 0,\n        \"num_unique_values\": 2,\n        \"samples\": [\n          -1,\n          0\n        ],\n        \"semantic_type\": \"\",\n        \"description\": \"\"\n      }\n    },\n    {\n      \"column\": \"mask_cluster\",\n      \"properties\": {\n        \"dtype\": \"number\",\n        \"std\": 0,\n        \"min\": -1,\n        \"max\": 0,\n        \"num_unique_values\": 2,\n        \"samples\": [\n          -1,\n          0\n        ],\n        \"semantic_type\": \"\",\n        \"description\": \"\"\n      }\n    }\n  ]\n}"
            }
          },
          "metadata": {},
          "execution_count": 52
        }
      ]
    },
    {
      "cell_type": "markdown",
      "source": [
        "* 12 скважина отличается от остальных и по снимкам, и по разметке. Поместим ее в обучающую выборку."
      ],
      "metadata": {
        "id": "mx17v5zYNMup"
      }
    },
    {
      "cell_type": "markdown",
      "source": [
        "### Распределение скважин и оценка распределения"
      ],
      "metadata": {
        "id": "pYKUVRhLc8An"
      }
    },
    {
      "cell_type": "markdown",
      "source": [
        "* При распределении скважин между обучающей, валидационной и тестовой выборками, стараемся добиться более-менее сбалансированных характеристик."
      ],
      "metadata": {
        "id": "a3WoMAAETm6k"
      }
    },
    {
      "cell_type": "code",
      "source": [
        "train = [1, 6, 7, 8, 10, 11, 12, 13, 14]\n",
        "val = [3, 9]\n",
        "test = [2, 4, 5, 15]"
      ],
      "metadata": {
        "id": "99spjpdiUYPu"
      },
      "execution_count": 53,
      "outputs": []
    },
    {
      "cell_type": "code",
      "source": [
        "n = len(image_frame_cleaned)\n",
        "n1 = int(n * 0.7)\n",
        "n2 = int(n * 0.2)\n",
        "n3 = n - n1 - n2\n",
        "print(n1, n2, n3)\n",
        "\n",
        "n_train = well_info.loc[train, \"patches_count\"].sum()\n",
        "n_val = well_info.loc[val, \"patches_count\"].sum()\n",
        "n_test = well_info.loc[test, \"patches_count\"].sum()\n",
        "\n",
        "print(n_train, n_val, n_test)\n",
        "print(f\"{n_train/n1: .2f} {n_val/n2: .2f} {n_test/n3: .2f}\")"
      ],
      "metadata": {
        "colab": {
          "base_uri": "https://localhost:8080/"
        },
        "id": "JFm8s-HrVeJA",
        "outputId": "622b6e36-1d77-4743-852e-e3184b1ac6f5"
      },
      "execution_count": 54,
      "outputs": [
        {
          "output_type": "stream",
          "name": "stdout",
          "text": [
            "6568 1876 940\n",
            "6559 1884 941\n",
            " 1.00  1.00  1.00\n"
          ]
        }
      ]
    },
    {
      "cell_type": "code",
      "source": [
        "mean_corrosion_train = well_info.loc[train, \"mean_corrosion\"].mean()\n",
        "mean_corrosion_val = well_info.loc[val, \"mean_corrosion\"].mean()\n",
        "mean_corrosion_test = well_info.loc[test, \"mean_corrosion\"].mean()\n",
        "\n",
        "print(f\"{mean_corrosion_train: .3f} {mean_corrosion_val: .3f} {mean_corrosion_test: .3f}\")"
      ],
      "metadata": {
        "colab": {
          "base_uri": "https://localhost:8080/"
        },
        "id": "2H-A3WgTV0KT",
        "outputId": "88d563ca-1df8-4670-edf3-d3a91bc143c9"
      },
      "execution_count": 55,
      "outputs": [
        {
          "output_type": "stream",
          "name": "stdout",
          "text": [
            " 0.053  0.051  0.054\n"
          ]
        }
      ]
    },
    {
      "cell_type": "markdown",
      "source": [
        "## Label Refinement"
      ],
      "metadata": {
        "id": "TdBxyOFIkY8r"
      }
    },
    {
      "cell_type": "markdown",
      "source": [
        "### binary fill holes"
      ],
      "metadata": {
        "id": "HJAREwPqknaa"
      }
    },
    {
      "cell_type": "code",
      "source": [
        "filled = binary_fill_holes(mask)\n",
        "fig, axes = plt.subplots(1, 2, figsize=(10, 5))\n",
        "\n",
        "axes[0].imshow(mask, cmap='gray')\n",
        "axes[0].set_title('Original Mask')\n",
        "axes[0].axis('off')\n",
        "\n",
        "# Plot filled mask\n",
        "axes[1].imshow(filled, cmap='gray')\n",
        "axes[1].set_title('Filled Mask')\n",
        "axes[1].axis('off')\n",
        "\n",
        "plt.show()"
      ],
      "metadata": {
        "colab": {
          "base_uri": "https://localhost:8080/",
          "height": 411
        },
        "id": "TXPOhuIZkYQ9",
        "outputId": "8a066ccd-f400-4aeb-faf3-99d2777b5a00"
      },
      "execution_count": 56,
      "outputs": [
        {
          "output_type": "display_data",
          "data": {
            "text/plain": [
              "<Figure size 1000x500 with 2 Axes>"
            ],
            "image/png": "[encoded data removed]"
          },
          "metadata": {}
        }
      ]
    },
    {
      "cell_type": "markdown",
      "source": [
        "### Structuring Element & Morphological Operations"
      ],
      "metadata": {
        "id": "nYjVddfNk6vX"
      }
    },
    {
      "cell_type": "code",
      "source": [
        "kernel_size = (2, 2)\n",
        "kernel_shape = cv2.MORPH_RECT\n",
        "# Create the adaptive structuring element\n",
        "adaptive_kernel = cv2.getStructuringElement(kernel_shape, kernel_size)\n",
        "# Apply morphological operations : dilation\n",
        "result = cv2.dilate(mask, adaptive_kernel)\n",
        "fig, axes = plt.subplots(1, 2, figsize=(10, 5))\n",
        "axes[0].imshow(mask, cmap='gray')\n",
        "axes[0].set_title('Original Mask')\n",
        "axes[0].axis('off')\n",
        "# Plot filled mask\n",
        "axes[1].imshow(result, cmap='gray')\n",
        "axes[1].set_title('Dilat  Mask')\n",
        "axes[1].axis('off')\n",
        "plt.show()"
      ],
      "metadata": {
        "colab": {
          "base_uri": "https://localhost:8080/",
          "height": 237
        },
        "id": "8JBO64lXk9x-",
        "outputId": "8de2618f-7692-4f19-ba12-8376a3b7713a"
      },
      "execution_count": 57,
      "outputs": [
        {
          "output_type": "error",
          "ename": "error",
          "evalue": "OpenCV(4.10.0) /io/opencv/modules/imgproc/src/morph.simd.hpp:756: error: (-213:The function/feature is not implemented) Unsupported data type (=4) in function 'getMorphologyRowFilter'\n",
          "traceback": [
            "\u001b[0;31m---------------------------------------------------------------------------\u001b[0m",
            "\u001b[0;31merror\u001b[0m                                     Traceback (most recent call last)",
            "\u001b[0;32m<ipython-input-57-beb8a202ebbd>\u001b[0m in \u001b[0;36m<cell line: 6>\u001b[0;34m()\u001b[0m\n\u001b[1;32m      4\u001b[0m \u001b[0madaptive_kernel\u001b[0m \u001b[0;34m=\u001b[0m \u001b[0mcv2\u001b[0m\u001b[0;34m.\u001b[0m\u001b[0mgetStructuringElement\u001b[0m\u001b[0;34m(\u001b[0m\u001b[0mkernel_shape\u001b[0m\u001b[0;34m,\u001b[0m \u001b[0mkernel_size\u001b[0m\u001b[0;34m)\u001b[0m\u001b[0;34m\u001b[0m\u001b[0;34m\u001b[0m\u001b[0m\n\u001b[1;32m      5\u001b[0m \u001b[0;31m# Apply morphological operations : dilation\u001b[0m\u001b[0;34m\u001b[0m\u001b[0;34m\u001b[0m\u001b[0m\n\u001b[0;32m----> 6\u001b[0;31m \u001b[0mresult\u001b[0m \u001b[0;34m=\u001b[0m \u001b[0mcv2\u001b[0m\u001b[0;34m.\u001b[0m\u001b[0mdilate\u001b[0m\u001b[0;34m(\u001b[0m\u001b[0mmask\u001b[0m\u001b[0;34m,\u001b[0m \u001b[0madaptive_kernel\u001b[0m\u001b[0;34m)\u001b[0m\u001b[0;34m\u001b[0m\u001b[0;34m\u001b[0m\u001b[0m\n\u001b[0m\u001b[1;32m      7\u001b[0m \u001b[0mfig\u001b[0m\u001b[0;34m,\u001b[0m \u001b[0maxes\u001b[0m \u001b[0;34m=\u001b[0m \u001b[0mplt\u001b[0m\u001b[0;34m.\u001b[0m\u001b[0msubplots\u001b[0m\u001b[0;34m(\u001b[0m\u001b[0;36m1\u001b[0m\u001b[0;34m,\u001b[0m \u001b[0;36m2\u001b[0m\u001b[0;34m,\u001b[0m \u001b[0mfigsize\u001b[0m\u001b[0;34m=\u001b[0m\u001b[0;34m(\u001b[0m\u001b[0;36m10\u001b[0m\u001b[0;34m,\u001b[0m \u001b[0;36m5\u001b[0m\u001b[0;34m)\u001b[0m\u001b[0;34m)\u001b[0m\u001b[0;34m\u001b[0m\u001b[0;34m\u001b[0m\u001b[0m\n\u001b[1;32m      8\u001b[0m \u001b[0maxes\u001b[0m\u001b[0;34m[\u001b[0m\u001b[0;36m0\u001b[0m\u001b[0;34m]\u001b[0m\u001b[0;34m.\u001b[0m\u001b[0mimshow\u001b[0m\u001b[0;34m(\u001b[0m\u001b[0mmask\u001b[0m\u001b[0;34m,\u001b[0m \u001b[0mcmap\u001b[0m\u001b[0;34m=\u001b[0m\u001b[0;34m'gray'\u001b[0m\u001b[0;34m)\u001b[0m\u001b[0;34m\u001b[0m\u001b[0;34m\u001b[0m\u001b[0m\n",
            "\u001b[0;31merror\u001b[0m: OpenCV(4.10.0) /io/opencv/modules/imgproc/src/morph.simd.hpp:756: error: (-213:The function/feature is not implemented) Unsupported data type (=4) in function 'getMorphologyRowFilter'\n"
          ]
        }
      ]
    },
    {
      "cell_type": "code",
      "source": [
        "kernel_size = (2, 2)\n",
        "kernel_shape = cv2.MORPH_RECT\n",
        "# Create the adaptive structuring element\n",
        "adaptive_kernel = cv2.getStructuringElement(kernel_shape, kernel_size)\n",
        "# Apply morphological operations : dilation\n",
        "\n",
        "result = cv2.dilate(np.ones((36, 36)) * mask, adaptive_kernel)\n",
        "\n",
        "fig, axes = plt.subplots(1, 2, figsize=(10, 5))\n",
        "axes[0].imshow(mask, cmap='gray')\n",
        "axes[0].set_title('Original Mask')\n",
        "axes[0].axis('off')\n",
        "# Plot filled mask\n",
        "axes[1].imshow(result, cmap='gray')\n",
        "axes[1].set_title('Dilat  Mask')\n",
        "axes[1].axis('off')\n",
        "plt.show()"
      ],
      "metadata": {
        "colab": {
          "base_uri": "https://localhost:8080/",
          "height": 411
        },
        "id": "S4N5Hbu7lCml",
        "outputId": "437b0941-e0f3-4c81-f6d8-0b0450a17bb6"
      },
      "execution_count": 58,
      "outputs": [
        {
          "output_type": "display_data",
          "data": {
            "text/plain": [
              "<Figure size 1000x500 with 2 Axes>"
            ],
            "image/png": "[encoded data removed]"
          },
          "metadata": {}
        }
      ]
    },
    {
      "cell_type": "markdown",
      "source": [
        "В выражении\n",
        "```\n",
        "result = cv2.dilate(mask, adaptive_kernel)\n",
        "```\n",
        "mask должна быть в в виде 0/1, а не False/ True.\n",
        "\n",
        "Исправленная версия выглядит так:\n",
        "```\n",
        "result = cv2.dilate(np.ones((36, 36)) * mask, adaptive_kernel)\n",
        "```\n"
      ],
      "metadata": {
        "id": "AuGKsKMmglHX"
      }
    },
    {
      "cell_type": "markdown",
      "source": [
        "## Image Enhancement"
      ],
      "metadata": {
        "id": "8QIsPkIZlc5w"
      }
    },
    {
      "cell_type": "markdown",
      "source": [
        "### CLAHE and bilateral filter"
      ],
      "metadata": {
        "id": "Jv_7gui4lpQH"
      }
    },
    {
      "cell_type": "code",
      "source": [
        "clahe = cv2.createCLAHE(clipLimit=2.0, tileGridSize=(8,8))\n",
        "image = np.uint8(image * 255)\n",
        "\n",
        "# Apply CLAHE to the grayscale image\n",
        "clahe_img = clahe.apply(image)\n",
        "#Apply bilateral filter\n",
        "bilateral_img = cv2.bilateralFilter(clahe_img, d=2, sigmaColor=4, sigmaSpace=4)\n",
        "fig, axes = plt.subplots(1, 3, figsize=(10, 5))\n",
        "# Plot Image\n",
        "image = np.uint8(image /255)\n",
        "\n",
        "axes[0].imshow(image)\n",
        "axes[0].set_title('Image')\n",
        "axes[0].axis('off')\n",
        "\n",
        "#  Plot CLAHE result\n",
        "axes[1].imshow(clahe_img)\n",
        "axes[1].set_title('CLAHE')\n",
        "axes[1].axis('off')\n",
        "\n",
        "# Plot Bilateral filter\n",
        "axes[2].imshow(clahe_img/255)\n",
        "axes[2].set_title('Bilateral filter ')\n",
        "axes[2].axis('off')\n",
        "plt.show()"
      ],
      "metadata": {
        "colab": {
          "base_uri": "https://localhost:8080/",
          "height": 287
        },
        "id": "ab1EEmz2lgmf",
        "outputId": "295bc646-b8d4-49a3-99a2-5e54a745e98d"
      },
      "execution_count": 59,
      "outputs": [
        {
          "output_type": "display_data",
          "data": {
            "text/plain": [
              "<Figure size 1000x500 with 3 Axes>"
            ],
            "image/png": "[encoded data removed]"
          },
          "metadata": {}
        }
      ]
    },
    {
      "cell_type": "markdown",
      "source": [
        "## Рекомендации"
      ],
      "metadata": {
        "id": "OcOIUvb37kUt"
      }
    },
    {
      "cell_type": "markdown",
      "source": [
        "1. Блок Look at the data (EDA) лучше делать в отдельном ноутбуке и давать на него ссылку.\n",
        "2. Для воспроизводимости среды необходимые версии библиотек лучше зафиксировать, например, в файле requirements.txt.\n",
        "3. Импорт лучше упорядочить по алфавиту с разделением на секции и по типам, например, как это делает библиотека [isort](https://pycqa.github.io/isort/).\n",
        "Это позволит избежать повторений как, например ```from tqdm import tqdm```, ```import random``` и т.п.\n",
        "4. Лучше избегать избыточного кода, как, например, в ```display(y_train.head())``` - достаточно ```y_train.head()```.\n",
        "5. Для генерации ```dict_wells_masks``` и ```dict_wells_images```, чтобы не дублировать код, лучше воспользоваться формулой:\n",
        "\n",
        "```\n",
        "from collections import Counter\n",
        "\n",
        "def get_patches_per_well(patches_list):\n",
        "  patch_names = [int(name_patch.split(\"_\")[1]) for name_patch in patches_list]\n",
        "  dict_wells_patches = Counter(patch_names)\n",
        "\n",
        "  for key in sorted(dict_wells_patches.keys()):\n",
        "    print(f'Well : {key} Number of patches : {dict_wells_patches[key]}')\n",
        "\n",
        "  print(f'\\nTotal number of wells : {len(dict_wells_patches)}')\n",
        "  print(f'Total number of patches :', sum(dict_wells_patches.values()))\n",
        "\n",
        "  return dict_wells_patches\n",
        "```\n",
        "6. Для того чтобы убедиться, что число patches у Mask well и Image well совпадают, лучше использовать ```assert```:\n",
        "\n",
        "```\n",
        "for y_key in sorted(dict_wells_masks.keys()):\n",
        "  assert dict_wells_masks[y_key] == dict_wells_images[y_key]\n",
        "\n",
        "```\n",
        "7. ```dict(sorted(dict_wells_masks.items())).keys()``` - неудачная конструкция;\n",
        "достаточно ```dict_wells_masks.keys()```\n",
        "8. В коде\n",
        "\n",
        "```\n",
        "for i, key in enumerate(y_keys):\n",
        "    print('Mask well :',key, 'Number of patches :', dict_wells_masks[key])\n",
        "    if i == 15:\n",
        "        break\n",
        "    print('Image well :',list(image_keys)[i], 'Number of patches :', dict_wells_images[list(image_keys)[i]],'\\n')\n",
        "```\n",
        "\n",
        "использование\n",
        "```\n",
        "if i == 15:\n",
        "    break\n",
        "```\n",
        "избыточно - у нас всего 15 скважин, цикл остановится и без break.\n",
        "Соответственно, избыточно использовать и ```enumerate```.\n",
        "\n",
        "9. Код строк ниже избыточен:\n",
        "```\n",
        "print('Ratio of pixels with corrosion :', round(n_pixels*100/overall, ndigits= 3),'%')\n",
        "print('Ratio of patches with corrosion :', round(n_patches*100/len(y_train), ndigits=3),'%')\n",
        "```\n",
        "Лучше написать так:\n",
        "```\n",
        "print(f'Ratio of pixels with corrosion : {n_pixels*100/overall: .3f} %')\n",
        "print(f'Ratio of patches with corrosion : {n_patches*100/len(y_train): .3f} %')\n",
        "```\n",
        "Эти параметры лучше проанализировать в разрезе скважин - ```Ratio of pixels with corrosion``` существенно отличается межуду скважинами - у скважин 9 и 10 информации разметки по коррозиии нет.\n",
        "\n",
        "10. В ячейке Data analysis в Number of outliers речь о доле выбросов в процентах, а не о числе выбросов - лучше написать Ratio of outliers.\n",
        "\n",
        "11. В ячейке, где генерируется Histogram of the pixels from train images имеет смысл убрать дублирование кода.\n",
        "\n",
        "12. Пропуски есть только в 2 изображениях. Почти все пропуски приходятся на один снимок, его лучше удалить. В другом 11 пропусков можно заполнить медианной этого снимка.\n",
        "\n",
        "13. Анализировать информацию по всем точкам ```flat_list_img_train``` не информативно. Лучше смотеть по кадрам.\n",
        "\n",
        "14. Выбросы в одномерном пространстве: из 347 изображений с выбросами (с минимальным значением меньше -0.25):\n",
        "\n",
        "    - у трети (119) поврежденны 1-2 пикселя;\n",
        "    - почти у половины (159) из 1296 пикселей повреждены меньше 15;\n",
        "    - только 40 изображений содержат больше 200 выбросов, из них 34 полностью повреждены - их можно удалить.\n",
        "    \n",
        "  У остальных выбросы можно заполнить медианным значением.\n",
        "\n",
        "15. Выбросы в многомерном пространстве: для обнаружения выбосов в многомерном пространстве можно воспользоваться библиотекой pca, кластеризацией DBSCAN, есть множество других методов. В обучающей выборке свыше 200 изображений - выбросы в многомерном пространстве, их лучше удалить.\n",
        "\n",
        "16. Чтобы избежать data leakage, распределение данных между обучающей, валидационной и тестовой выборкой делаем по скважинам:\n",
        "```\n",
        "train = [6, 7, 8, 9, 11, 12, 13, 14]\n",
        "val = [3, 10, 15]\n",
        "test = [1, 2, 4, 5]\n",
        "```\n",
        "При распределении скважин стараемся добиться более-менее сбалансированных характеристик.\n",
        "\n",
        "17. Материалы о Label Refinement и Image Enhancement лучше поместить в EDA.\n",
        "\n",
        "18. Для удобства чтения хорошо использовать подзаголовки, чтобы была видна структура материла. Этого легко добиться, используя разное число знаков ```#```, например: ```#```, ```##``` или ```###```, в зависимости от уровня подзаголовка.\n",
        "\n",
        "\n",
        "Рекомендации реализованы в коде этого ноутбука, код можно посмотреть выше.\n"
      ],
      "metadata": {
        "id": "n2o6vE778NSK"
      }
    }
  ],
  "metadata": {
    "colab": {
      "provenance": [],
      "include_colab_link": true
    },
    "kaggle": {
      "accelerator": "gpu",
      "dataSources": [
        {
          "datasetId": 4451693,
          "sourceId": 7638652,
          "sourceType": "datasetVersion"
        }
      ],
      "dockerImageVersionId": 30646,
      "isGpuEnabled": true,
      "isInternetEnabled": true,
      "language": "python",
      "sourceType": "notebook"
    },
    "kernelspec": {
      "display_name": "Python 3",
      "name": "python3"
    },
    "language_info": {
      "codemirror_mode": {
        "name": "ipython",
        "version": 3
      },
      "file_extension": ".py",
      "mimetype": "text/x-python",
      "name": "python",
      "nbconvert_exporter": "python",
      "pygments_lexer": "ipython3",
      "version": "3.10.12"
    }
  },
  "nbformat": 4,
  "nbformat_minor": 0
}