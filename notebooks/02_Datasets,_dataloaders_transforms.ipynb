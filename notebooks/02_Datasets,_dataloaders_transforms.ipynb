{
  "cells": [
    {
      "cell_type": "markdown",
      "metadata": {
        "id": "view-in-github",
        "colab_type": "text"
      },
      "source": [
        "<a href=\"https://colab.research.google.com/github/YaninaK/cv-segmentation/blob/b1/notebooks/02_Datasets%2C_dataloaders_transforms.ipynb\" target=\"_parent\"><img src=\"https://colab.research.google.com/assets/colab-badge.svg\" alt=\"Open In Colab\"/></a>"
      ]
    },
    {
      "cell_type": "markdown",
      "metadata": {
        "id": "oKCgu2rHwEc8"
      },
      "source": [
        "# Corrosion detection in steel pipes\n",
        "\n",
        "## 2. Datasets, DataLoaders and Transforms"
      ]
    },
    {
      "cell_type": "markdown",
      "metadata": {
        "id": "EUGZlBgnwX7R"
      },
      "source": [
        "* **The objective**:\n",
        "The objective of this challenge is to train a model that have the highest possible score for the segmentation of groove defects using the provided data"
      ]
    },
    {
      "cell_type": "code",
      "source": [
        "initiate = True\n",
        "if initiate:\n",
        "  !git init -q\n",
        "  !git clone -b b1 https://github.com/YaninaK/cv-segmentation.git -q\n",
        "\n",
        "  from google.colab import drive\n",
        "  drive.mount('/content/drive')\n",
        "\n",
        "  !unzip -u -q /content/drive/MyDrive/ML_projects/07_CV/data/01_raw/X_train_corrected.zip -d /content/cv-segmentation/data/raw\n",
        "  !unzip -u -q /content/drive/MyDrive/ML_projects/07_CV/data/01_raw/masks.zip -d /content/cv-segmentation/data/raw\n",
        "  !cp /content/drive/MyDrive/ML_projects/07_CV/data/01_raw/y_train.csv -d /content/cv-segmentation/data/raw\n",
        "\n",
        "  !pip install -r /content/cv-segmentation/requirements_Colab.txt -q\n",
        "\n",
        "%cd /content/cv-segmentation/notebooks"
      ],
      "metadata": {
        "id": "kLUatu0znap0",
        "colab": {
          "base_uri": "https://localhost:8080/"
        },
        "outputId": "9f1fbaf6-1424-47e1-b142-7a14a920dc41"
      },
      "execution_count": 1,
      "outputs": [
        {
          "output_type": "stream",
          "name": "stdout",
          "text": [
            "Mounted at /content/drive\n",
            "\u001b[2K   \u001b[90m━━━━━━━━━━━━━━━━━━━━━━━━━━━━━━━━━━━━━━━━\u001b[0m \u001b[32m869.2/869.2 kB\u001b[0m \u001b[31m15.8 MB/s\u001b[0m eta \u001b[36m0:00:00\u001b[0m\n",
            "\u001b[2K   \u001b[90m━━━━━━━━━━━━━━━━━━━━━━━━━━━━━━━━━━━━━━━━\u001b[0m \u001b[32m51.3/51.3 kB\u001b[0m \u001b[31m3.6 MB/s\u001b[0m eta \u001b[36m0:00:00\u001b[0m\n",
            "\u001b[?25h/content/cv-segmentation/notebooks\n"
          ]
        }
      ]
    },
    {
      "cell_type": "code",
      "source": [
        "import glob\n",
        "import os\n",
        "import sys\n",
        "\n",
        "sys.path.append(os.getcwd())\n",
        "sys.path.append(os.path.join(os.getcwd(), \"..\", \"src\", \"cv_segmentation\"))"
      ],
      "metadata": {
        "id": "2RQcCYyXt-QS"
      },
      "execution_count": 2,
      "outputs": []
    },
    {
      "cell_type": "code",
      "source": [
        "import random\n",
        "import shutil\n",
        "from typing import Optional, Tuple\n",
        "\n",
        "import cv2\n",
        "import matplotlib.pyplot as plt\n",
        "import numpy as np\n",
        "import pandas as pd\n",
        "import torch\n",
        "from scipy.ndimage import binary_fill_holes\n",
        "from torch.utils.data import DataLoader, Dataset\n",
        "from tqdm import tqdm"
      ],
      "metadata": {
        "id": "KxpnMSPhXtd-"
      },
      "execution_count": 3,
      "outputs": []
    },
    {
      "cell_type": "code",
      "source": [
        "import warnings\n",
        "warnings.filterwarnings('ignore')"
      ],
      "metadata": {
        "id": "NwEz1hVXNNem"
      },
      "execution_count": 4,
      "outputs": []
    },
    {
      "cell_type": "markdown",
      "source": [
        "## Preparing The Dataset"
      ],
      "metadata": {
        "id": "Jn8-lDrEjJON"
      }
    },
    {
      "cell_type": "code",
      "source": [
        "y_train=pd.read_csv('../data/raw/y_train.csv', index_col=0)"
      ],
      "metadata": {
        "id": "4pbjiDPXKPw_"
      },
      "execution_count": 5,
      "outputs": []
    },
    {
      "cell_type": "code",
      "source": [
        "#convert df to bunch of numpy array- masks\n",
        "import numpy as np\n",
        "import os\n",
        "\n",
        "# Set the directory where the .npy files will be saved\n",
        "save_dir = '../data/raw/masks'\n",
        "\n",
        "# Iterate over the rows of the dataframe\n",
        "for index, row in y_train.iterrows():\n",
        "    # Reshape the row into a 36x36 numpy array\n",
        "    arr = np.array(row).reshape(36, 36)\n",
        "\n",
        "    # Set the file name as the index of the dataframe\n",
        "    file_name = f'{index}.npy'\n",
        "\n",
        "    # Save the numpy array as a .npy file in the specified directory\n",
        "    np.save(os.path.join(save_dir, file_name), arr)"
      ],
      "metadata": {
        "id": "eh5FEi2G7FsA"
      },
      "execution_count": 6,
      "outputs": []
    },
    {
      "cell_type": "code",
      "source": [
        "# Define paths\n",
        "train_images_dir = \"../data/raw/images\"\n",
        "train_masks_dir = \"../data/raw/masks\"\n",
        "\n",
        "\n",
        "train_data = [(os.path.join(train_images_dir, filename), os.path.join(train_masks_dir, filename)) for filename in os.listdir(train_images_dir)]\n",
        "\n",
        "\n",
        "# Shuffle the merged data\n",
        "random.shuffle(train_data)\n",
        "\n",
        "# Define split ratio (e.g., 80% train, 20% validation)\n",
        "split_ratio = 0.90\n",
        "train_size = int(len(train_data) * split_ratio)\n",
        "train_images, train_masks = zip(*train_data[:train_size])\n",
        "val_images, val_masks = zip(*train_data[train_size:])\n",
        "\n",
        "# Define new directories\n",
        "new_train_images_dir = \"../data/interim/train/images\"\n",
        "new_train_masks_dir = \"../data/interim/train/masks\"\n",
        "new_val_images_dir = \"../data/interim/val/images\"\n",
        "new_val_masks_dir = \"../data/interim/val/masks\"\n",
        "\n",
        "# Create new directories\n",
        "os.makedirs(new_train_images_dir, exist_ok=True)\n",
        "os.makedirs(new_train_masks_dir, exist_ok=True)\n",
        "os.makedirs(new_val_images_dir, exist_ok=True)\n",
        "os.makedirs(new_val_masks_dir, exist_ok=True)\n",
        "\n",
        "for src, dest in zip(train_images, [os.path.join(new_train_images_dir, os.path.basename(img)) for img in train_images]):\n",
        "    shutil.copy(src, dest)\n",
        "\n",
        "for src, dest in zip(train_masks, [os.path.join(new_train_masks_dir, os.path.basename(mask)) for mask in train_masks]):\n",
        "    shutil.copy(src, dest)\n",
        "\n",
        "for src, dest in zip(val_images, [os.path.join(new_val_images_dir, os.path.basename(img)) for img in val_images]):\n",
        "    shutil.copy(src, dest)\n",
        "\n",
        "for src, dest in zip(val_masks, [os.path.join(new_val_masks_dir, os.path.basename(mask)) for mask in val_masks]):\n",
        "    shutil.copy(src, dest)\n",
        "\n",
        "print(\"Data merging and splitting complete.\")\n"
      ],
      "metadata": {
        "colab": {
          "base_uri": "https://localhost:8080/"
        },
        "id": "0Fs29D0T7G2n",
        "outputId": "2f994475-66d6-4ec6-933c-101bc12c556b"
      },
      "execution_count": 7,
      "outputs": [
        {
          "output_type": "stream",
          "name": "stdout",
          "text": [
            "Data merging and splitting complete.\n"
          ]
        }
      ]
    },
    {
      "cell_type": "markdown",
      "source": [
        "* Желательно избегать дублирования импорта библиотек:\n",
        "```\n",
        "import numpy as np\n",
        "import os\n",
        "```\n",
        "* До генерации датасета имеет смысл очистить данные от выбросов. Препроцессинг лучше сделать в виде отдельного модуля.\n",
        "* Выбор модели/ ансамбля моделей для обнаружения аномалий, настройка гиперпараметров - отдельный блок задач, встроенный в процесс построения ```data preprocessing pipeline```.\n",
        "* Порог, после которого начиаются выбросы, другие гиперпараметры определяются, начиная с этапа EDA.\n",
        "* Гиперпараметры передаем через CONFIG.\n",
        "* ```train```, ```val``` и ```test``` в CONFIG - номера скважин, попавшие в обучающую, валидационную и тестовую выборки соответственно:"
      ],
      "metadata": {
        "id": "cUnsD52JOKuD"
      }
    },
    {
      "cell_type": "code",
      "source": [
        "CONFIG = {\n",
        "    \"csv_file\": \"../data/raw/y_train.csv\",\n",
        "    \"root_dir\": \"/content/cv-segmentation/data/raw/images/\",\n",
        "    \"save_dir\": \"../data/interim/\",\n",
        "    \"fill_nan_threshold\": 100,\n",
        "    \"outlier_threshold\": -0.25,\n",
        "    \"n_outlier_threshold\": 200,\n",
        "    \"alpha\": 0.05,\n",
        "    \"train\": [1, 6, 7, 8, 10, 11, 12, 13, 14],\n",
        "    \"val\": [3, 9],\n",
        "    \"test\": [2, 4, 5, 15],\n",
        "    \"batch_size\": {\n",
        "        \"train\": 4,\n",
        "        \"val\": 4,\n",
        "        \"test\": 4,\n",
        "    },\n",
        "    \"num_workers\": {\n",
        "        \"train\": 4,\n",
        "        \"val\": 4,\n",
        "        \"test\": 4,\n",
        "    },\n",
        "}\n",
        "config = CONFIG"
      ],
      "metadata": {
        "id": "tzGGXCuwpP8M"
      },
      "execution_count": 8,
      "outputs": []
    },
    {
      "cell_type": "code",
      "source": [
        "def load_data(config: Optional[dict] = None) -> Tuple[pd.DataFrame, list[np.array]]:\n",
        "    if config is None:\n",
        "        config = CONFIG\n",
        "\n",
        "    y_train = pd.read_csv(config[\"csv_file\"], index_col=0)\n",
        "\n",
        "    images_train = []\n",
        "    for index in tqdm(y_train.index):\n",
        "        img = np.load(os.path.join(config[\"root_dir\"], f\"{index}.npy\"))\n",
        "        images_train.append(img)\n",
        "\n",
        "    return y_train, images_train"
      ],
      "metadata": {
        "id": "GG_bZlZDFmm8"
      },
      "execution_count": 9,
      "outputs": []
    },
    {
      "cell_type": "code",
      "source": [
        "from pca import pca\n",
        "\n",
        "\n",
        "class PreprocessData:\n",
        "    def __init__(self, config: Optional[dict] = None):\n",
        "        if config is None:\n",
        "            config = CONFIG\n",
        "\n",
        "        self.config = config\n",
        "        self.to_delete = None\n",
        "\n",
        "    def fit_transform(\n",
        "        self, y_train: pd.DataFrame, images_train: list[np.array]\n",
        "    ) -> Tuple[pd.DataFrame, pd.DataFrame]:\n",
        "        self.selected_idx = y_train.index.tolist()\n",
        "\n",
        "        image_frame = self._fill_nan(y_train, images_train)\n",
        "        image_frame = self._clean_univariate_outliers(image_frame)\n",
        "\n",
        "        if self.to_delete:\n",
        "            self.selected_idx = [\n",
        "                i for i in self.selected_idx if i not in self.to_delete\n",
        "            ]\n",
        "        self._clean_multivariate_outliers(image_frame.loc[self.selected_idx])\n",
        "\n",
        "        return y_train.loc[self.selected_idx], image_frame.loc[self.selected_idx]\n",
        "\n",
        "    def _fill_nan(\n",
        "        self, y_train: pd.DataFrame, images_train: list[np.array]\n",
        "    ) -> pd.DataFrame:\n",
        "        image_arr = np.reshape(np.asarray(images_train), (len(images_train), -1))\n",
        "        image_frame = pd.DataFrame(image_arr, y_train.index)\n",
        "\n",
        "        n_missing = image_frame.isnull().sum(axis=1)\n",
        "        self.to_delete = image_frame[\n",
        "            n_missing >= self.config[\"fill_nan_threshold\"]\n",
        "        ].index.tolist()\n",
        "\n",
        "        fill_nan_condition = (n_missing > 0) & (\n",
        "            n_missing < self.config[\"fill_nan_threshold\"]\n",
        "        )\n",
        "        image_frame.mask(\n",
        "            fill_nan_condition, image_frame.median(axis=1), axis=0, inplace=True\n",
        "        )\n",
        "        return image_frame\n",
        "\n",
        "    def _clean_univariate_outliers(self, image_frame: pd.DataFrame) -> pd.DataFrame:\n",
        "        n_outliers = (image_frame < self.config[\"outlier_threshold\"]).sum(axis=1)\n",
        "        self.to_delete += n_outliers[\n",
        "            n_outliers >= self.config[\"n_outlier_threshold\"]\n",
        "        ].index.tolist()\n",
        "\n",
        "        image_frame.mask(\n",
        "            image_frame < self.config[\"outlier_threshold\"],\n",
        "            image_frame.median(axis=1),\n",
        "            axis=0,\n",
        "            inplace=True,\n",
        "        )\n",
        "        return image_frame\n",
        "\n",
        "    def _clean_multivariate_outliers(self, image_frame: pd.DataFrame) -> None:\n",
        "        model = pca(alpha=self.config[\"alpha\"], detect_outliers=[\"spe\"])\n",
        "        results = model.fit_transform(image_frame)\n",
        "        delete_list = image_frame[results[\"outliers\"][\"y_bool_spe\"]].index.tolist()\n",
        "        self.to_delete += delete_list\n",
        "\n",
        "        self.selected_idx = [i for i in image_frame.index if i not in delete_list]\n"
      ],
      "metadata": {
        "id": "_a-zArAcGdlW"
      },
      "execution_count": 10,
      "outputs": []
    },
    {
      "cell_type": "code",
      "source": [
        "y_train, images_train = load_data()\n",
        "\n",
        "preprocess = PreprocessData()\n",
        "y_train, _  = preprocess.fit_transform(y_train, images_train)\n",
        "\n",
        "y_train.shape"
      ],
      "metadata": {
        "colab": {
          "base_uri": "https://localhost:8080/"
        },
        "id": "fd-BxJ-FspBG",
        "outputId": "316ebd99-a167-4fcd-ee1c-4b17306fbbfd"
      },
      "execution_count": 11,
      "outputs": [
        {
          "output_type": "stream",
          "name": "stderr",
          "text": [
            "100%|██████████| 9674/9674 [00:03<00:00, 2993.73it/s]\n"
          ]
        },
        {
          "output_type": "stream",
          "name": "stdout",
          "text": [
            "[pca] >Extracting column labels from dataframe.\n",
            "[pca] >Extracting row labels from dataframe.\n",
            "[pca] >The PCA reduction is performed to capture [95.0%] explained variance using the [1296] columns of the input data.\n",
            "[pca] >Fit using PCA.\n",
            "[pca] >Compute loadings and PCs.\n",
            "[pca] >Compute explained variance.\n",
            "[pca] >Number of components is [565] that covers the [95.00%] explained variance.\n",
            "[pca] >The PCA reduction is performed on the [1296] columns of the input dataframe.\n",
            "[pca] >Fit using PCA.\n",
            "[pca] >Compute loadings and PCs.\n",
            "[pca] >Outlier detection using SPE/DmodX with n_std=[3]\n"
          ]
        },
        {
          "output_type": "execute_result",
          "data": {
            "text/plain": [
              "(9398, 1296)"
            ]
          },
          "metadata": {},
          "execution_count": 11
        }
      ]
    },
    {
      "cell_type": "markdown",
      "source": [
        "* Здесь лучше не дублировать данные обучающей выборки в папке ```data/interim/```. Достаточно разбить y_train на 3 файла: ```y_train.csv```, ```y_val.csv``` и ```y_test.csv```  и поместить их в папку ```data/interim/```.\n",
        "* Тестовая выборка в дополнение к валидационной потребуется для анализа ошибок моделей.\n",
        "\n",
        "* Чтобы избежать data leakage, данные на обучающую, валидационную и тестовую выборки разбиваем в разрезе скважин, чтобы снимки и разметка каждой скважины появлялись только в одном блоке. Отбор скважин для каждого блока делаем на этапе EDA."
      ],
      "metadata": {
        "id": "zG16IKlS8aXS"
      }
    },
    {
      "cell_type": "code",
      "source": [
        "def split_y_to_train_val_test(\n",
        "    y_train: pd.DataFrame,\n",
        "    config: Optional[dict] = None,\n",
        ") -> None:\n",
        "    if config is None:\n",
        "        config = CONFIG\n",
        "\n",
        "    y_train[\"well\"] = (\n",
        "        y_train.reset_index()[\"index\"].apply(lambda x: int(x.split(\"_\")[1])).tolist()\n",
        "    )\n",
        "\n",
        "    for stage in [\"train\", \"val\", \"test\"]:\n",
        "        y_train.loc[y_train[\"well\"].isin(config[stage]), y_train.columns[:-1]].to_csv(\n",
        "            os.path.join(config[\"save_dir\"], f\"y_{stage}.csv\"), index=True\n",
        "        )"
      ],
      "metadata": {
        "id": "ISVPuBDiHhl-"
      },
      "execution_count": 12,
      "outputs": []
    },
    {
      "cell_type": "code",
      "source": [
        "split_y_to_train_val_test(y_train)"
      ],
      "metadata": {
        "id": "jUlMPVwV5wqS"
      },
      "execution_count": 13,
      "outputs": []
    },
    {
      "cell_type": "code",
      "source": [
        "y_train = pd.read_csv('../data/interim/y_train.csv')\n",
        "y_val = pd.read_csv('../data/interim/y_val.csv')\n",
        "y_test = pd.read_csv('../data/interim/y_test.csv')\n",
        "\n",
        "y_train.shape, y_val.shape, y_test.shape"
      ],
      "metadata": {
        "colab": {
          "base_uri": "https://localhost:8080/"
        },
        "id": "A06XSqUIosO0",
        "outputId": "bd7efcca-e833-487d-f7d0-8087dcc1973b"
      },
      "execution_count": 14,
      "outputs": [
        {
          "output_type": "execute_result",
          "data": {
            "text/plain": [
              "((6606, 1297), (1872, 1297), (920, 1297))"
            ]
          },
          "metadata": {},
          "execution_count": 14
        }
      ]
    },
    {
      "cell_type": "markdown",
      "metadata": {
        "id": "syyBMoEQgIfX"
      },
      "source": [
        "## Dataset Class"
      ]
    },
    {
      "cell_type": "code",
      "execution_count": 15,
      "metadata": {
        "id": "3WVhXhpRrjWK"
      },
      "outputs": [],
      "source": [
        "from scipy.ndimage import rotate\n",
        "\n",
        "class SegmentationDataset_v1(Dataset):\n",
        "    def __init__(self, imagePaths, maskPaths, filelist, transform=True):\n",
        "        self.imagePaths = [os.path.join(imagePaths, file) for file in filelist]\n",
        "        self.maskPaths = [os.path.join(maskPaths, file) for file in filelist]\n",
        "        self.transform = transform\n",
        "        self.valid_indices = self._get_valid_indices()\n",
        "\n",
        "    def __len__(self):\n",
        "        return len(self.valid_indices)\n",
        "\n",
        "    def __getitem__(self, idx):\n",
        "        idx = self.valid_indices[idx]  # Get the valid index\n",
        "        imagePath = self.imagePaths[idx]\n",
        "        maskPath = self.maskPaths[idx]\n",
        "\n",
        "        # Read image from file\n",
        "        image = np.load(imagePath)\n",
        "        if image is None or np.isnan(image).any():\n",
        "            # Skip images with NaN values\n",
        "            return self.__getitem__((idx + 1) % len(self.valid_indices))\n",
        "\n",
        "        # Read mask from file\n",
        "        mask = np.load(maskPath)\n",
        "        if mask is None:\n",
        "            raise FileNotFoundError(f\"Mask file not found: {maskPath}\")\n",
        "\n",
        "        if self.transform:\n",
        "            image, mask = self.apply_numpy_transform(image, mask)\n",
        "\n",
        "        \"\"\"kernel_size = (2, 2)\n",
        "        kernel_shape = cv2.MORPH_RECT\n",
        "        adaptive_kernel = cv2.getStructuringElement(kernel_shape, kernel_size)\n",
        "        mask = cv2.dilate(mask, adaptive_kernel)\"\"\"\n",
        "        mask = binary_fill_holes(mask)\n",
        "\n",
        "        # Convert to PyTorch tensors\n",
        "        image = torch.from_numpy(np.array(image)).float()\n",
        "        mask = torch.from_numpy(np.array(mask)).long()\n",
        "\n",
        "        return image, mask, imagePath, maskPath\n",
        "\n",
        "    def _get_valid_indices(self):\n",
        "        valid_indices = []\n",
        "        for idx, imagePath in enumerate(self.imagePaths):\n",
        "            image = np.load(imagePath)\n",
        "            if image is not None and not np.isnan(image).any():\n",
        "                valid_indices.append(idx)\n",
        "        return valid_indices\n",
        "\n",
        "\n",
        "    def apply_numpy_transform(self, image, mask):\n",
        "        # Apply horizontal and vertical flips with 50% probability\n",
        "        if np.random.random() > 0.5:\n",
        "            image = np.fliplr(image)  # Horizontal flip\n",
        "            mask = np.fliplr(mask)\n",
        "        if np.random.random() > 0.5:\n",
        "            image = np.flipud(image)  # Vertical flip\n",
        "            mask = np.flipud(mask)\n",
        "        \"\"\"# Apply 90 and 135-degree rotations with 50% probability\n",
        "        if np.random.random() > 0.5:\n",
        "            rotation_angle = np.random.choice([0, 45, 90, 180,135])\n",
        "            if rotation_angle != 0:\n",
        "                image = rotate(image, angle=rotation_angle, reshape=False)\n",
        "                mask = rotate(mask, angle=rotation_angle, reshape=False)\"\"\"\n",
        "\n",
        "        return image, mask\n"
      ]
    },
    {
      "cell_type": "markdown",
      "source": [
        "* Вместе с блоком ```Dataset Class``` в части подготовки данных блоком логично рассмотреть ```Start Training```."
      ],
      "metadata": {
        "id": "QS6u7Cb1PBiy"
      }
    },
    {
      "cell_type": "markdown",
      "source": [
        "## Start Training"
      ],
      "metadata": {
        "id": "RD4UlnbXPFcf"
      }
    },
    {
      "cell_type": "code",
      "source": [
        "new_train_images_dir = \"../data/interim/train/images\"\n",
        "new_train_masks_dir = \"../data/interim/train/masks\"\n",
        "new_val_images_dir = \"../data/interim/val/images\"\n",
        "new_val_masks_dir = \"../data/interim/val/masks\""
      ],
      "metadata": {
        "id": "yzFndJeVO90m"
      },
      "execution_count": 16,
      "outputs": []
    },
    {
      "cell_type": "code",
      "source": [
        "#batch size for data loaders\n",
        "batch_size = 16\n",
        "# Train Set\n",
        "IMAGE_DATASET_PATH = \"../data/interim/train/images/\"\n",
        "IMAGE_Label_PATH = \"../data/interim/train/masks/\"\n",
        "imagePaths_full = sorted(glob.glob(IMAGE_DATASET_PATH + \"*.npy\"))\n",
        "imagePaths = [os.path.basename(path) for path in imagePaths_full]\n",
        "train_dataset = SegmentationDataset_v1(IMAGE_DATASET_PATH, IMAGE_Label_PATH, imagePaths)\n",
        "# Validation Set\n",
        "IMAGE_DATASET_PATH_VAL = \"../data/interim/val/images/\"\n",
        "IMAGE_Label_PATH_VAL = \"../data/interim/val/masks/\"\n",
        "val_imagePaths_full = sorted(glob.glob(IMAGE_DATASET_PATH_VAL + \"*.npy\"))\n",
        "val_imagePaths = [os.path.basename(path) for path in val_imagePaths_full]\n",
        "val_dataset = SegmentationDataset_v1(IMAGE_DATASET_PATH_VAL, IMAGE_Label_PATH_VAL, val_imagePaths)\n",
        "\n",
        "#Define data loaders\n",
        "val_loader = DataLoader(val_dataset, batch_size=batch_size, shuffle=False)\n",
        "train_loader = DataLoader(train_dataset, batch_size=batch_size, shuffle=True)"
      ],
      "metadata": {
        "id": "PExZZ7AwO933"
      },
      "execution_count": 17,
      "outputs": []
    },
    {
      "cell_type": "code",
      "source": [
        "for images, masks,image_path,mask_path in train_loader:\n",
        "    num_images_to_plot = min(4, len(images))\n",
        "\n",
        "    fig, axes = plt.subplots(2, num_images_to_plot, figsize=(15, 6))\n",
        "\n",
        "    for i in range(num_images_to_plot):\n",
        "        axes[0, i].imshow(images[i])\n",
        "        #axes[0, i].set_title(image_path[i])\n",
        "        #print(image_path[i])\n",
        "        #print(mask_path[i])\n",
        "        axes[0, i].axis('off')\n",
        "\n",
        "        axes[1, i].imshow(masks[i], cmap='gray')\n",
        "        axes[1, i].set_title('Mask')\n",
        "        axes[1, i].axis('off')\n",
        "\n",
        "    plt.tight_layout()\n",
        "    plt.show()\n",
        "    break"
      ],
      "metadata": {
        "colab": {
          "base_uri": "https://localhost:8080/",
          "height": 493
        },
        "id": "XlNXszW7O97h",
        "outputId": "a3857e37-5661-4b06-9b81-9a39a4f36075"
      },
      "execution_count": 18,
      "outputs": [
        {
          "output_type": "display_data",
          "data": {
            "text/plain": [
              "<Figure size 1500x600 with 8 Axes>"
            ],
            "image/png": "[encoded data removed]"
          },
          "metadata": {}
        }
      ]
    },
    {
      "cell_type": "markdown",
      "source": [
        "Трансформацию данных лучше делать отдельно от датасета и присоединять при его инициализации - вместо\n",
        "```\n",
        "transform = False\n",
        "```\n",
        "использовать, например, внешнюю функцию ```apply_numpy_transform```:\n",
        "```\n",
        "transform = apply_numpy_transform\n",
        "```\n",
        "Подходы к трансформации данных в обучающей и валидационной/ тестовой выборках отличаются:\n",
        "* В валидационной/ тестовой выборке зачастую достаточно трансформировать данные в torch.Tensor\n",
        "\n",
        "Идеи для аугментации данных можно почерпнуть в библитеке torchvision.transforms.v2\n",
        "\n",
        "Например:\n",
        "1. Вращение в диапазоне от -15° и +15° - v2.RandomRotation\n",
        "2. Обрезка - v2.RandomResizedCrop\n",
        "3. Размытие до 1,75 пикселей - v2.GaussianBlur\n",
        "4. Добавление шума до 10% пикселей\n",
        "5. Регулировка яркости между -50% и +50% - v2.functional.adjust_brightness\n",
        "6. Данные у нас находятся в диапазоне -0.25 до 0.47 - можно подумать об их нормализации.\n",
        "\n",
        "Важно проследить, чтобы маска обучающей выборки трансформировалась также как изображение.\n",
        "\n",
        "Из-за дублирования кода блок ```Start Training``` получилас достаточно громоздким.\n",
        "\n",
        "Ниже - пример реализации SegmentationDataset и более изящная конструкция для генерации ```dataset_loading```:"
      ],
      "metadata": {
        "id": "NOfEg7r2_mhx"
      }
    },
    {
      "cell_type": "code",
      "source": [
        "def data_transform(image: np.array, mask: np.array) -> np.array:\n",
        "    \"\"\"\n",
        "    Apply horizontal and vertical flips with 50% probability\n",
        "    \"\"\"\n",
        "    if np.random.random() > 0.5:\n",
        "        image = np.fliplr(image)  # Horizontal flip\n",
        "        mask = np.fliplr(mask)\n",
        "\n",
        "    if np.random.random() > 0.5:\n",
        "        image = np.flipud(image)  # Vertical flip\n",
        "        mask = np.flipud(mask)\n",
        "\n",
        "    # Label refinement\n",
        "    mask = binary_fill_holes(mask)\n",
        "    mask = apply_dilation(mask)\n",
        "\n",
        "    return image, mask\n",
        "\n",
        "\n",
        "def apply_dilation(mask: np.array) -> np.array:\n",
        "    \"\"\"\n",
        "    Structuring Element & Morphological Operations\n",
        "    \"\"\"\n",
        "    kernel_size = (2, 2)\n",
        "    kernel_shape = cv2.MORPH_RECT\n",
        "\n",
        "    # Create the adaptive structuring element\n",
        "    adaptive_kernel = cv2.getStructuringElement(kernel_shape, kernel_size)\n",
        "\n",
        "    # Apply morphological operations : dilation\n",
        "    mask = cv2.dilate(np.ones((36, 36)) * mask, adaptive_kernel)\n",
        "\n",
        "    return mask\n"
      ],
      "metadata": {
        "id": "KvqPEosSRbmU"
      },
      "execution_count": 19,
      "outputs": []
    },
    {
      "cell_type": "code",
      "source": [
        "class SegmentationDataset(Dataset):\n",
        "    \"\"\"Segmentation dataset.\"\"\"\n",
        "\n",
        "    def __init__(\n",
        "        self,\n",
        "        csv_file: str,\n",
        "        root_dir: str,\n",
        "        transform=None,\n",
        "        config: Optional[dict] = None,\n",
        "    ):\n",
        "        \"\"\"\n",
        "        Arguments:\n",
        "            csv_file (string): Path to the csv file with annotations.\n",
        "            root_dir (string): Directory with all the images.\n",
        "            transform (callable, optional): Optional transform to be applied\n",
        "                on a sample.\n",
        "            config (dict): Contains outlier_threshold to detect outliers.\n",
        "        \"\"\"\n",
        "        if config is None:\n",
        "            config = CONFIG\n",
        "\n",
        "        self.mask_frame = pd.read_csv(csv_file)\n",
        "        self.root_dir = root_dir\n",
        "        self.transform = transform\n",
        "        self.config = config\n",
        "\n",
        "    def __len__(self):\n",
        "        return len(self.mask_frame)\n",
        "\n",
        "    def __getitem__(self, idx):\n",
        "        if torch.is_tensor(idx):\n",
        "            idx = idx.tolist()\n",
        "\n",
        "        img_name = self.mask_frame.iloc[idx, 0]\n",
        "        image = np.load(os.path.join(self.root_dir, f\"{img_name}.npy\"))\n",
        "        image = np.nan_to_num(image, nan=np.quantile(np.nan_to_num(image), 0.5))\n",
        "        image = np.where(\n",
        "            image < self.config[\"outlier_threshold\"], np.quantile(image, 0.5), image\n",
        "        )\n",
        "        mask = np.array(self.mask_frame.iloc[idx, 1:], dtype=float).reshape(36, 36)\n",
        "\n",
        "        if self.transform:\n",
        "            image, mask = self.transform(image, mask)\n",
        "\n",
        "        image = torch.from_numpy(image.copy())\n",
        "        mask = torch.from_numpy(mask.copy())\n",
        "\n",
        "        return image, mask, img_name"
      ],
      "metadata": {
        "id": "2tLLg3v9UUqo"
      },
      "execution_count": 20,
      "outputs": []
    },
    {
      "cell_type": "code",
      "source": [
        "stages = [\"train\", \"val\", \"test\"]\n",
        "config = CONFIG\n",
        "\n",
        "transform = {\n",
        "    'train': data_transform,\n",
        "    'val': None,\n",
        "    'test': None\n",
        "}\n",
        "segmentation_datasets = {\n",
        "    stage: SegmentationDataset(\n",
        "        csv_file=os.path.join(config[\"save_dir\"], f\"y_{stage}.csv\"),\n",
        "        root_dir=config[\"root_dir\"],\n",
        "        transform=transform[stage]\n",
        "    )\n",
        "    for stage in stages\n",
        "}\n",
        "dataset_loader = {\n",
        "    stage: torch.utils.data.DataLoader(\n",
        "        segmentation_datasets[stage],\n",
        "        batch_size=config[\"batch_size\"][stage],\n",
        "        shuffle=np.where(stage == \"train\", True, False),\n",
        "        num_workers=config[\"num_workers\"][stage],\n",
        "    )\n",
        "    for stage in stages\n",
        "}\n",
        "dataset_sizes = {stage: len(segmentation_datasets[stage]) for stage in stages}\n",
        "dataset_sizes"
      ],
      "metadata": {
        "colab": {
          "base_uri": "https://localhost:8080/"
        },
        "id": "Z-uiYE8vSNqf",
        "outputId": "285b51d8-b73c-4052-eebf-263681d45ed1"
      },
      "execution_count": 21,
      "outputs": [
        {
          "output_type": "execute_result",
          "data": {
            "text/plain": [
              "{'train': 6606, 'val': 1872, 'test': 920}"
            ]
          },
          "metadata": {},
          "execution_count": 21
        }
      ]
    },
    {
      "cell_type": "markdown",
      "source": [
        "* Таким образом, получаем data_preparation_pipeline:"
      ],
      "metadata": {
        "id": "UqhNZhN3oZ8V"
      }
    },
    {
      "cell_type": "code",
      "source": [
        "def data_preparation_pipeline(\n",
        "    config: Optional[dict] = None,\n",
        ") -> Tuple[torch.utils.data.Dataset, torch.utils.data.DataLoader]:\n",
        "    if config is None:\n",
        "        config = CONFIG\n",
        "\n",
        "    y_train, images_train = load_data(config)\n",
        "    preprocess = PreprocessData()\n",
        "    y_train, _ = preprocess.fit_transform(y_train, images_train)\n",
        "    split_y_to_train_val_test(y_train)\n",
        "\n",
        "    stages = [\"train\", \"val\", \"test\"]\n",
        "\n",
        "    transform = {\"train\": data_transform, \"val\": None, \"test\": None}\n",
        "    segmentation_datasets = {\n",
        "        stage: SegmentationDataset(\n",
        "            csv_file=os.path.join(config[\"save_dir\"], f\"y_{stage}.csv\"),\n",
        "            root_dir=config[\"root_dir\"],\n",
        "            transform=transform[stage],\n",
        "        )\n",
        "        for stage in stages\n",
        "    }\n",
        "    dataset_loader = {\n",
        "        stage: torch.utils.data.DataLoader(\n",
        "            segmentation_datasets[stage],\n",
        "            batch_size=config[\"batch_size\"][stage],\n",
        "            shuffle=np.where(stage == \"train\", True, False),\n",
        "            num_workers=config[\"num_workers\"][stage],\n",
        "        )\n",
        "        for stage in stages\n",
        "    }\n",
        "\n",
        "    return segmentation_datasets, dataset_loader"
      ],
      "metadata": {
        "id": "pJQA5BFKoWBA"
      },
      "execution_count": 22,
      "outputs": []
    },
    {
      "cell_type": "code",
      "source": [
        "segmentation_datasets, dataset_loader = data_preparation_pipeline()\n",
        "\n",
        "# Report split sizes\n",
        "print('\\nTraining set has {} instances'.format(len(segmentation_datasets[\"train\"])))\n",
        "print('Validation set has {} instances'.format(len(segmentation_datasets[\"val\"])))"
      ],
      "metadata": {
        "colab": {
          "base_uri": "https://localhost:8080/"
        },
        "id": "tjRPrhjg48R4",
        "outputId": "14696544-0542-4592-9e16-0faa48743e64"
      },
      "execution_count": 23,
      "outputs": [
        {
          "output_type": "stream",
          "name": "stderr",
          "text": [
            "100%|██████████| 9674/9674 [00:01<00:00, 8248.41it/s]\n"
          ]
        },
        {
          "output_type": "stream",
          "name": "stdout",
          "text": [
            "[pca] >Extracting column labels from dataframe.\n",
            "[pca] >Extracting row labels from dataframe.\n",
            "[pca] >The PCA reduction is performed to capture [95.0%] explained variance using the [1296] columns of the input data.\n",
            "[pca] >Fit using PCA.\n",
            "[pca] >Compute loadings and PCs.\n",
            "[pca] >Compute explained variance.\n",
            "[pca] >Number of components is [565] that covers the [95.00%] explained variance.\n",
            "[pca] >The PCA reduction is performed on the [1296] columns of the input dataframe.\n",
            "[pca] >Fit using PCA.\n",
            "[pca] >Compute loadings and PCs.\n",
            "[pca] >Outlier detection using SPE/DmodX with n_std=[3]\n",
            "\n",
            "Training set has 6606 instances\n",
            "Validation set has 1872 instances\n"
          ]
        }
      ]
    },
    {
      "cell_type": "code",
      "source": [
        "dataiter = iter(dataset_loader[\"train\"])\n",
        "images, masks, image_names = next(dataiter)\n",
        "\n",
        "num_images_to_plot = 4\n",
        "fig, axes = plt.subplots(2, num_images_to_plot, figsize=(15, 7))\n",
        "for i in range(num_images_to_plot):\n",
        "  axes[0, i].imshow(images[i])\n",
        "  axes[0, i].set_title(image_names[i])\n",
        "  axes[1, i].imshow(masks[i], cmap='gray')\n",
        "  axes[1, i].set_title('Mask')\n",
        "  plt.tight_layout()\n",
        "\n",
        "plt.show()"
      ],
      "metadata": {
        "colab": {
          "base_uri": "https://localhost:8080/",
          "height": 555
        },
        "id": "HIgcauqf5H14",
        "outputId": "7f0ed936-058c-4316-978f-a01a404978c2"
      },
      "execution_count": 24,
      "outputs": [
        {
          "output_type": "display_data",
          "data": {
            "text/plain": [
              "<Figure size 1500x700 with 8 Axes>"
            ],
            "image/png": "[encoded data removed]"
          },
          "metadata": {}
        }
      ]
    },
    {
      "cell_type": "markdown",
      "source": [
        "## Рекомендации"
      ],
      "metadata": {
        "id": "HBWC2gqOTja-"
      }
    },
    {
      "cell_type": "markdown",
      "source": [
        "1. До генерации датасета имеет смысл очистить данные от выбросов. Препроцессинг данных лучше сделать в виде отдельного модуля:\n",
        "```\n",
        "y_train, images_train = load_data()\n",
        "preprocess = PreprocessData()\n",
        "y_train, _  = preprocess.fit_transform(y_train, images_train)\n",
        "```\n",
        "  Выбор модели/ ансамбля моделей для обнаружения аномалий, настройка гиперпараметров - отдельный блок задач, встроенный в процесс построения ```data preprocessing pipeline```.\n",
        "\n",
        "  Порог, после которого начиаются выбросы, другие гиперпараметры определяются, начиная с этапа EDA.\n",
        "\n",
        "2. Лучше отказаться от дублирования данных обучающей выборки в папке ```data/interim/```. Достаточно разбить y_train на 3 файла: ```y_train.csv```, ```y_val.csv``` и ```y_test.csv```  и поместить их в папку ```data/interim/```.\n",
        "Тестовая выборка, в дополнение к валидационной, потребуется для анализа ошибок моделей.\n",
        "\n",
        "3. Чтобы избежать data leakage, данные на обучающую, валидационную и тестовую выборки разбиваем в разрезе скважин, чтобы снимки и разметка каждой скважины появлялись только в одном блоке. Отбор скважин для каждого блока делаем на этапе EDA.\n",
        "```\n",
        "split_y_to_train_val_test(y_train)\n",
        "```\n",
        "4. Трансформацию данных лучше делать отдельно от датасета и присоединять при его инициализации - вместо\n",
        "```\n",
        "transform = False\n",
        "```\n",
        "использовать, например, внешнюю функцию ```apply_numpy_transform```:\n",
        "```\n",
        "transform = apply_numpy_transform\n",
        "```\n",
        "Подходы к трансформации данных в обучающей и валидационной/ тестовой выборках отличаются:\n",
        "  * В валидационной/ тестовой выборке зачастую достаточно трансформировать данные в torch.Tensor\n",
        "\n",
        "5. Идеи для аугментации данных можно почерпнуть в библитеке torchvision.transforms.v2\n",
        "\n",
        "  Например:\n",
        "  - Вращение в диапазоне от -15° и +15° - v2.RandomRotation\n",
        "  - Обрезка - v2.RandomResizedCrop\n",
        "  - Размытие до 1,75 пикселей - v2.GaussianBlur\n",
        "  - Добавление шума до 10% пикселей\n",
        "  - Регулировка яркости между -50% и +50% - v2.functional.adjust_brightness\n",
        "  - Данные у нас находятся в диапазоне -0.25 до 0.47 - можно подумать об их нормализации.\n",
        "\n",
        "  Важно проследить, чтобы маска обучающей выборки трансформировалась также как изображение.\n",
        "\n",
        "Пример реализации ```PreprocessData```, ```SegmentationDataset``` и иллюстрация работы ```DataLoader``` в рамках ```data_preparation_pipeline``` - выше в коде этого ноутбука."
      ],
      "metadata": {
        "id": "-d0yAesJTkXK"
      }
    }
  ],
  "metadata": {
    "colab": {
      "provenance": [],
      "toc_visible": true,
      "include_colab_link": true
    },
    "kaggle": {
      "accelerator": "gpu",
      "dataSources": [
        {
          "datasetId": 4451693,
          "sourceId": 7638652,
          "sourceType": "datasetVersion"
        }
      ],
      "dockerImageVersionId": 30646,
      "isGpuEnabled": true,
      "isInternetEnabled": true,
      "language": "python",
      "sourceType": "notebook"
    },
    "kernelspec": {
      "display_name": "Python 3",
      "name": "python3"
    },
    "language_info": {
      "codemirror_mode": {
        "name": "ipython",
        "version": 3
      },
      "file_extension": ".py",
      "mimetype": "text/x-python",
      "name": "python",
      "nbconvert_exporter": "python",
      "pygments_lexer": "ipython3",
      "version": "3.10.12"
    }
  },
  "nbformat": 4,
  "nbformat_minor": 0
}