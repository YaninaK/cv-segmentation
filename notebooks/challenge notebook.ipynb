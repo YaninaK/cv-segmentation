{
  "cells": [
    {
      "cell_type": "markdown",
      "metadata": {
        "id": "oKCgu2rHwEc8"
      },
      "source": [
        "# Corrosion detection in steel pipes"
      ]
    },
    {
      "cell_type": "markdown",
      "metadata": {
        "id": "EUGZlBgnwX7R"
      },
      "source": [
        "* **The objective**:\n",
        "The objective of this challenge is to train a model that have the highest possible score for the segmentation of groove defects using the provided data"
      ]
    },
    {
      "cell_type": "markdown",
      "metadata": {
        "id": "3r-hNlo2CICN"
      },
      "source": [
        "# Install Packages"
      ]
    },
    {
      "cell_type": "code",
      "execution_count": null,
      "metadata": {
        "id": "mkTL_grICFx0"
      },
      "outputs": [],
      "source": [
        "#install packages\n",
        "!pip install imutils\n",
        "!pip install torchsummary"
      ]
    },
    {
      "cell_type": "code",
      "execution_count": 23,
      "metadata": {
        "id": "FeDqIfAVrjWJ"
      },
      "outputs": [],
      "source": [
        "import torch\n",
        "import torch.nn as nn\n",
        "from torch.utils.data import Dataset, DataLoader\n",
        "import numpy as np\n",
        "import imutils.paths as paths\n",
        "import glob\n",
        "import matplotlib.pyplot as plt\n",
        "import os\n",
        "from torchvision import transforms\n",
        "from PIL import Image\n",
        "from torch.optim import Adam\n",
        "from torchsummary import summary\n",
        "from tqdm import tqdm\n",
        "import random\n",
        "import shutil\n",
        "import cv2\n",
        "from scipy.ndimage import binary_fill_holes\n",
        "import pandas as pd\n",
        "from pathlib import Path"
      ]
    },
    {
      "cell_type": "code",
      "execution_count": 31,
      "metadata": {},
      "outputs": [],
      "source": [
        "import pandas as pd\n",
        "import os\n",
        "import numpy as np\n",
        "import matplotlib.pyplot as plt\n",
        "from tqdm import tqdm\n",
        "import random"
      ]
    },
    {
      "cell_type": "markdown",
      "metadata": {},
      "source": [
        "# Look at the data\n"
      ]
    },
    {
      "cell_type": "code",
      "execution_count": 3,
      "metadata": {},
      "outputs": [
        {
          "name": "stdout",
          "output_type": "stream",
          "text": [
            "<class 'pandas.core.frame.DataFrame'>\n",
            "Index: 9674 entries, well_10_patch_0 to well_15_patch_99\n",
            "Columns: 1296 entries, 0 to 1295\n",
            "dtypes: int64(1296)\n",
            "memory usage: 95.7+ MB\n"
          ]
        }
      ],
      "source": [
        "# Read file\n",
        "y_train=pd.read_csv('../data/raw/y_train.csv',index_col=0) #Table with index being the name of the patch\n",
        "y_train.info()"
      ]
    },
    {
      "cell_type": "code",
      "execution_count": 4,
      "metadata": {},
      "outputs": [
        {
          "data": {
            "text/html": [
              "<div>\n",
              "<style scoped>\n",
              "    .dataframe tbody tr th:only-of-type {\n",
              "        vertical-align: middle;\n",
              "    }\n",
              "\n",
              "    .dataframe tbody tr th {\n",
              "        vertical-align: top;\n",
              "    }\n",
              "\n",
              "    .dataframe thead th {\n",
              "        text-align: right;\n",
              "    }\n",
              "</style>\n",
              "<table border=\"1\" class=\"dataframe\">\n",
              "  <thead>\n",
              "    <tr style=\"text-align: right;\">\n",
              "      <th></th>\n",
              "      <th>0</th>\n",
              "      <th>1</th>\n",
              "      <th>2</th>\n",
              "      <th>3</th>\n",
              "      <th>4</th>\n",
              "      <th>5</th>\n",
              "      <th>6</th>\n",
              "      <th>7</th>\n",
              "      <th>8</th>\n",
              "      <th>9</th>\n",
              "      <th>...</th>\n",
              "      <th>1286</th>\n",
              "      <th>1287</th>\n",
              "      <th>1288</th>\n",
              "      <th>1289</th>\n",
              "      <th>1290</th>\n",
              "      <th>1291</th>\n",
              "      <th>1292</th>\n",
              "      <th>1293</th>\n",
              "      <th>1294</th>\n",
              "      <th>1295</th>\n",
              "    </tr>\n",
              "  </thead>\n",
              "  <tbody>\n",
              "    <tr>\n",
              "      <th>well_10_patch_0</th>\n",
              "      <td>0</td>\n",
              "      <td>0</td>\n",
              "      <td>0</td>\n",
              "      <td>0</td>\n",
              "      <td>0</td>\n",
              "      <td>0</td>\n",
              "      <td>0</td>\n",
              "      <td>0</td>\n",
              "      <td>0</td>\n",
              "      <td>0</td>\n",
              "      <td>...</td>\n",
              "      <td>0</td>\n",
              "      <td>0</td>\n",
              "      <td>0</td>\n",
              "      <td>0</td>\n",
              "      <td>0</td>\n",
              "      <td>0</td>\n",
              "      <td>0</td>\n",
              "      <td>0</td>\n",
              "      <td>0</td>\n",
              "      <td>0</td>\n",
              "    </tr>\n",
              "    <tr>\n",
              "      <th>well_10_patch_1</th>\n",
              "      <td>0</td>\n",
              "      <td>0</td>\n",
              "      <td>0</td>\n",
              "      <td>0</td>\n",
              "      <td>0</td>\n",
              "      <td>0</td>\n",
              "      <td>0</td>\n",
              "      <td>0</td>\n",
              "      <td>0</td>\n",
              "      <td>0</td>\n",
              "      <td>...</td>\n",
              "      <td>0</td>\n",
              "      <td>0</td>\n",
              "      <td>0</td>\n",
              "      <td>0</td>\n",
              "      <td>0</td>\n",
              "      <td>0</td>\n",
              "      <td>0</td>\n",
              "      <td>0</td>\n",
              "      <td>0</td>\n",
              "      <td>0</td>\n",
              "    </tr>\n",
              "    <tr>\n",
              "      <th>well_10_patch_10</th>\n",
              "      <td>0</td>\n",
              "      <td>0</td>\n",
              "      <td>0</td>\n",
              "      <td>0</td>\n",
              "      <td>0</td>\n",
              "      <td>0</td>\n",
              "      <td>0</td>\n",
              "      <td>0</td>\n",
              "      <td>0</td>\n",
              "      <td>0</td>\n",
              "      <td>...</td>\n",
              "      <td>0</td>\n",
              "      <td>0</td>\n",
              "      <td>0</td>\n",
              "      <td>0</td>\n",
              "      <td>0</td>\n",
              "      <td>0</td>\n",
              "      <td>0</td>\n",
              "      <td>0</td>\n",
              "      <td>0</td>\n",
              "      <td>0</td>\n",
              "    </tr>\n",
              "    <tr>\n",
              "      <th>well_10_patch_11</th>\n",
              "      <td>0</td>\n",
              "      <td>0</td>\n",
              "      <td>0</td>\n",
              "      <td>0</td>\n",
              "      <td>0</td>\n",
              "      <td>0</td>\n",
              "      <td>0</td>\n",
              "      <td>0</td>\n",
              "      <td>0</td>\n",
              "      <td>0</td>\n",
              "      <td>...</td>\n",
              "      <td>0</td>\n",
              "      <td>0</td>\n",
              "      <td>0</td>\n",
              "      <td>0</td>\n",
              "      <td>0</td>\n",
              "      <td>0</td>\n",
              "      <td>0</td>\n",
              "      <td>0</td>\n",
              "      <td>0</td>\n",
              "      <td>0</td>\n",
              "    </tr>\n",
              "    <tr>\n",
              "      <th>well_10_patch_12</th>\n",
              "      <td>0</td>\n",
              "      <td>0</td>\n",
              "      <td>0</td>\n",
              "      <td>0</td>\n",
              "      <td>0</td>\n",
              "      <td>0</td>\n",
              "      <td>0</td>\n",
              "      <td>0</td>\n",
              "      <td>0</td>\n",
              "      <td>0</td>\n",
              "      <td>...</td>\n",
              "      <td>0</td>\n",
              "      <td>0</td>\n",
              "      <td>0</td>\n",
              "      <td>0</td>\n",
              "      <td>0</td>\n",
              "      <td>0</td>\n",
              "      <td>0</td>\n",
              "      <td>0</td>\n",
              "      <td>0</td>\n",
              "      <td>0</td>\n",
              "    </tr>\n",
              "  </tbody>\n",
              "</table>\n",
              "<p>5 rows × 1296 columns</p>\n",
              "</div>"
            ],
            "text/plain": [
              "                  0  1  2  3  4  5  6  7  8  9  ...  1286  1287  1288  1289  \\\n",
              "well_10_patch_0   0  0  0  0  0  0  0  0  0  0  ...     0     0     0     0   \n",
              "well_10_patch_1   0  0  0  0  0  0  0  0  0  0  ...     0     0     0     0   \n",
              "well_10_patch_10  0  0  0  0  0  0  0  0  0  0  ...     0     0     0     0   \n",
              "well_10_patch_11  0  0  0  0  0  0  0  0  0  0  ...     0     0     0     0   \n",
              "well_10_patch_12  0  0  0  0  0  0  0  0  0  0  ...     0     0     0     0   \n",
              "\n",
              "                  1290  1291  1292  1293  1294  1295  \n",
              "well_10_patch_0      0     0     0     0     0     0  \n",
              "well_10_patch_1      0     0     0     0     0     0  \n",
              "well_10_patch_10     0     0     0     0     0     0  \n",
              "well_10_patch_11     0     0     0     0     0     0  \n",
              "well_10_patch_12     0     0     0     0     0     0  \n",
              "\n",
              "[5 rows x 1296 columns]"
            ]
          },
          "metadata": {},
          "output_type": "display_data"
        }
      ],
      "source": [
        "display(y_train.head())"
      ]
    },
    {
      "cell_type": "code",
      "execution_count": 5,
      "metadata": {},
      "outputs": [
        {
          "name": "stdout",
          "output_type": "stream",
          "text": [
            "Well : 1 Number of patches : 166\n",
            "Well : 2 Number of patches : 616\n",
            "Well : 3 Number of patches : 1774\n",
            "Well : 4 Number of patches : 59\n",
            "Well : 5 Number of patches : 98\n",
            "Well : 6 Number of patches : 964\n",
            "Well : 7 Number of patches : 1654\n",
            "Well : 8 Number of patches : 78\n",
            "Well : 9 Number of patches : 166\n",
            "Well : 10 Number of patches : 80\n",
            "Well : 11 Number of patches : 1512\n",
            "Well : 12 Number of patches : 44\n",
            "Well : 13 Number of patches : 1905\n",
            "Well : 14 Number of patches : 355\n",
            "Well : 15 Number of patches : 203\n",
            "Total number of wells : 15\n",
            "Total number of patches : 9674\n"
          ]
        }
      ],
      "source": [
        "dict_wells_masks = {}\n",
        "\n",
        "\n",
        "for name_patch in y_train.index:\n",
        "    if (int(name_patch[5:7].replace('_', '')) in dict_wells_masks.keys()):\n",
        "        dict_wells_masks[int(name_patch[5:7].replace('_', ''))] += 1\n",
        "        \n",
        "    else:\n",
        "        dict_wells_masks[int(name_patch[5:7].replace('_', ''))]  = 1\n",
        "\n",
        "\n",
        "for key in dict(sorted(dict_wells_masks.items())).keys():\n",
        "    print('Well :',key, 'Number of patches :', dict_wells_masks[key])\n",
        "\n",
        "print('Total number of wells :',len(dict_wells_masks.keys()))\n",
        "print('Total number of patches :', sum(dict_wells_masks.values()))\n",
        "\n",
        "# First well and 450 first images of well 1 are false"
      ]
    },
    {
      "cell_type": "code",
      "execution_count": 6,
      "metadata": {},
      "outputs": [
        {
          "name": "stdout",
          "output_type": "stream",
          "text": [
            "Well : 1 Number of patches : 166\n",
            "Well : 2 Number of patches : 616\n",
            "Well : 3 Number of patches : 1774\n",
            "Well : 4 Number of patches : 59\n",
            "Well : 5 Number of patches : 98\n",
            "Well : 6 Number of patches : 964\n",
            "Well : 7 Number of patches : 1654\n",
            "Well : 8 Number of patches : 78\n",
            "Well : 9 Number of patches : 166\n",
            "Well : 10 Number of patches : 80\n",
            "Well : 11 Number of patches : 1512\n",
            "Well : 12 Number of patches : 44\n",
            "Well : 13 Number of patches : 1905\n",
            "Well : 14 Number of patches : 355\n",
            "Well : 15 Number of patches : 203\n",
            "Total number of wells : 15\n",
            "Total number of patches : 9674\n"
          ]
        }
      ],
      "source": [
        "folder_path = '../data/raw/images'  \n",
        "file_names = os.listdir(folder_path)\n",
        "\n",
        "dict_wells_images = {}\n",
        "\n",
        "\n",
        "for name_patch in file_names:\n",
        "    if (int(name_patch[5:7].replace('_', '')) in dict_wells_images.keys()):\n",
        "        dict_wells_images[int(name_patch[5:7].replace('_', ''))] += 1\n",
        "        \n",
        "    else:\n",
        "        dict_wells_images[int(name_patch[5:7].replace('_', ''))]  = 1\n",
        "\n",
        "\n",
        "for key in dict(sorted(dict_wells_images.items())).keys():\n",
        "    print('Well :',key, 'Number of patches :', dict_wells_images[key])\n",
        "\n",
        "print('Total number of wells :',len(dict_wells_images.keys()))\n",
        "print('Total number of patches :', sum(dict_wells_images.values()))"
      ]
    },
    {
      "cell_type": "code",
      "execution_count": 7,
      "metadata": {},
      "outputs": [
        {
          "name": "stdout",
          "output_type": "stream",
          "text": [
            "Mask well : 1 Number of patches : 166\n",
            "Image well : 1 Number of patches : 166 \n",
            "\n",
            "Mask well : 2 Number of patches : 616\n",
            "Image well : 2 Number of patches : 616 \n",
            "\n",
            "Mask well : 3 Number of patches : 1774\n",
            "Image well : 3 Number of patches : 1774 \n",
            "\n",
            "Mask well : 4 Number of patches : 59\n",
            "Image well : 4 Number of patches : 59 \n",
            "\n",
            "Mask well : 5 Number of patches : 98\n",
            "Image well : 5 Number of patches : 98 \n",
            "\n",
            "Mask well : 6 Number of patches : 964\n",
            "Image well : 6 Number of patches : 964 \n",
            "\n",
            "Mask well : 7 Number of patches : 1654\n",
            "Image well : 7 Number of patches : 1654 \n",
            "\n",
            "Mask well : 8 Number of patches : 78\n",
            "Image well : 8 Number of patches : 78 \n",
            "\n",
            "Mask well : 9 Number of patches : 166\n",
            "Image well : 9 Number of patches : 166 \n",
            "\n",
            "Mask well : 10 Number of patches : 80\n",
            "Image well : 10 Number of patches : 80 \n",
            "\n",
            "Mask well : 11 Number of patches : 1512\n",
            "Image well : 11 Number of patches : 1512 \n",
            "\n",
            "Mask well : 12 Number of patches : 44\n",
            "Image well : 12 Number of patches : 44 \n",
            "\n",
            "Mask well : 13 Number of patches : 1905\n",
            "Image well : 13 Number of patches : 1905 \n",
            "\n",
            "Mask well : 14 Number of patches : 355\n",
            "Image well : 14 Number of patches : 355 \n",
            "\n",
            "Mask well : 15 Number of patches : 203\n",
            "Image well : 15 Number of patches : 203 \n",
            "\n"
          ]
        }
      ],
      "source": [
        "y_keys = dict(sorted(dict_wells_masks.items())).keys()\n",
        "image_keys = dict(sorted(dict_wells_images.items())).keys()\n",
        "\n",
        "for i, key in enumerate(y_keys):\n",
        "    print('Mask well :',key, 'Number of patches :', dict_wells_masks[key])\n",
        "    if i == 15:\n",
        "        break\n",
        "    print('Image well :',list(image_keys)[i], 'Number of patches :', dict_wells_images[list(image_keys)[i]],'\\n')"
      ]
    },
    {
      "cell_type": "markdown",
      "metadata": {},
      "source": [
        "## Imbalance analysis"
      ]
    },
    {
      "cell_type": "code",
      "execution_count": 8,
      "metadata": {},
      "outputs": [],
      "source": [
        "n_patches = 0\n",
        "n_pixels = 0\n",
        "overall = 0\n",
        "for row in y_train.iterrows():\n",
        "\n",
        "    psum = np.sum(row[1]) \n",
        "    if psum > 0:\n",
        "        n_patches += 1\n",
        "        n_pixels += psum\n",
        "    overall += len(row[1])"
      ]
    },
    {
      "cell_type": "code",
      "execution_count": 9,
      "metadata": {},
      "outputs": [
        {
          "name": "stdout",
          "output_type": "stream",
          "text": [
            "Number of patches with corrosion : 7674\n",
            "Number of pixels with corrosion : 896993\n",
            "Overall number of pixels : 12537504\n",
            "Ratio of pixels with corrosion : 7.154 %\n",
            "Ratio of patches with corrosion : 79.326 %\n"
          ]
        }
      ],
      "source": [
        "print('Number of patches with corrosion :', n_patches)\n",
        "print('Number of pixels with corrosion :', n_pixels)\n",
        "print('Overall number of pixels :', overall)    \n",
        "print('Ratio of pixels with corrosion :', round(n_pixels*100/overall, ndigits= 3),'%')\n",
        "print('Ratio of patches with corrosion :', round(n_patches*100/len(y_train), ndigits=3),'%')"
      ]
    },
    {
      "cell_type": "markdown",
      "metadata": {},
      "source": [
        "## Preprocessing analysis"
      ]
    },
    {
      "cell_type": "code",
      "execution_count": 10,
      "metadata": {},
      "outputs": [
        {
          "data": {
            "image/png": "[encoded data removed]",
            "text/plain": [
              "<Figure size 640x480 with 1 Axes>"
            ]
          },
          "metadata": {},
          "output_type": "display_data"
        },
        {
          "data": {
            "image/png": "[encoded data removed]",
            "text/plain": [
              "<Figure size 640x480 with 1 Axes>"
            ]
          },
          "metadata": {},
          "output_type": "display_data"
        }
      ],
      "source": [
        "image = np.load('../data/raw/images/well_2_patch_3.npy')\n",
        "plt.imshow(image)\n",
        "plt.show()\n",
        "\n",
        "mask = np.array(y_train.loc['well_2_patch_3']).reshape(36,36)\n",
        "plt.imshow(mask)\n",
        "plt.show()"
      ]
    },
    {
      "cell_type": "code",
      "execution_count": 11,
      "metadata": {},
      "outputs": [
        {
          "data": {
            "image/png": "[encoded data removed]",
            "text/plain": [
              "<Figure size 640x480 with 1 Axes>"
            ]
          },
          "metadata": {},
          "output_type": "display_data"
        }
      ],
      "source": [
        "# Data analysis\n",
        "file_names = os.listdir('../data/raw/images/')\n",
        "images = []\n",
        "for img_name in file_names:\n",
        "    img = np.load(os.path.join('../data/raw/images/',\n",
        "                               img_name))\n",
        "    if np.sum(img < -800) > 0:\n",
        "        plt.imshow(img)\n",
        "        plt.show()\n",
        "        break\n",
        "        \n",
        "    images.append(img)"
      ]
    },
    {
      "cell_type": "code",
      "execution_count": 12,
      "metadata": {},
      "outputs": [
        {
          "data": {
            "text/plain": [
              "(np.float32(-999.0),\n",
              " np.float32(0.02619489),\n",
              " array([-9.9900000e+02, -6.0668353e-02, -6.0539667e-02, ...,\n",
              "         2.5462953e-02,  2.5556546e-02,  2.6194889e-02], dtype=float32))"
            ]
          },
          "execution_count": 12,
          "metadata": {},
          "output_type": "execute_result"
        }
      ],
      "source": [
        "np.min(img),np.max(img), np.unique(img)"
      ]
    },
    {
      "cell_type": "code",
      "execution_count": 13,
      "metadata": {},
      "outputs": [
        {
          "name": "stderr",
          "output_type": "stream",
          "text": [
            "100%|██████████| 9674/9674 [00:03<00:00, 2946.30it/s]\n"
          ]
        },
        {
          "name": "stdout",
          "output_type": "stream",
          "text": [
            "Number patches train set: 9674\n",
            "Number of outliers: 3.514575149886293\n"
          ]
        }
      ],
      "source": [
        " # Data analysis\n",
        "file_names = os.listdir('../data/raw/images/')\n",
        "images_train = []\n",
        "count_outliers = 0\n",
        "for img_name in tqdm(file_names):\n",
        "    # print(img_name)\n",
        "    img = np.load(os.path.join('../data/raw/images/',\n",
        "                               img_name))\n",
        "    if img.min() < -100:\n",
        "        count_outliers += 1 \n",
        "        \n",
        "\n",
        "    images_train.append(img)\n",
        "flat_list_img_train = np.array(images_train).flatten()  \n",
        "print('Number patches train set:',len(images_train))\n",
        "print('Number of outliers:',count_outliers*100/len(file_names))"
      ]
    },
    {
      "cell_type": "code",
      "execution_count": 14,
      "metadata": {},
      "outputs": [
        {
          "name": "stdout",
          "output_type": "stream",
          "text": [
            "For the training images :\n",
            "Mean : -4.650981\n",
            "Std : 68.01066\n",
            "Max : 0.4703434\n",
            "Min : -999.25\n"
          ]
        }
      ],
      "source": [
        "# Statistics on the train images\n",
        "\n",
        "cleaned_img = np.nan_to_num(flat_list_img_train)\n",
        "print('For the training images :')\n",
        "print('Mean :',np.mean(cleaned_img))\n",
        "print('Std :',np.std(cleaned_img))\n",
        "print('Max :',np.max(cleaned_img))\n",
        "print('Min :',np.min(cleaned_img))\n",
        "\n"
      ]
    },
    {
      "cell_type": "code",
      "execution_count": 15,
      "metadata": {},
      "outputs": [
        {
          "name": "stderr",
          "output_type": "stream",
          "text": [
            "100%|██████████| 9674/9674 [00:03<00:00, 2964.92it/s]\n"
          ]
        },
        {
          "data": {
            "image/png": "[encoded data removed]",
            "text/plain": [
              "<Figure size 1000x500 with 1 Axes>"
            ]
          },
          "metadata": {},
          "output_type": "display_data"
        },
        {
          "name": "stdout",
          "output_type": "stream",
          "text": [
            "Ratio outliers pixels: 0.465 %\n"
          ]
        }
      ],
      "source": [
        "file_names = os.listdir('../data/raw/images/')\n",
        "images_train = []\n",
        "count_outliers = 0\n",
        "for img_name in tqdm(file_names):\n",
        "    # print(img_name)\n",
        "    img = np.load(os.path.join('../data/raw/images/',\n",
        "                               img_name))\n",
        "    if img.min() < -100:\n",
        "        count_outliers += 1 \n",
        "\n",
        "    images_train.append(img)\n",
        "flat_list_img_train = np.array(images_train).flatten() \n",
        "cleaned_img = np.nan_to_num(flat_list_img_train)\n",
        "plt.figure(figsize=(10, 5))\n",
        "plt.hist(cleaned_img[cleaned_img > -100] , bins=100)\n",
        "plt.title('Histogram of the pixels from train images (without outliers <0.5%)')\n",
        "plt.xlabel('Pixel value')\n",
        "plt.ylabel('Number of pixels')\n",
        "plt.show()\n",
        "print('Ratio outliers pixels:',round(len(cleaned_img[cleaned_img <-100])*100/len(cleaned_img),ndigits=3),'%')"
      ]
    },
    {
      "cell_type": "markdown",
      "metadata": {
        "id": "VELh-T75TUjS"
      },
      "source": [
        "# Preparing The Dataset"
      ]
    },
    {
      "cell_type": "code",
      "execution_count": 16,
      "metadata": {},
      "outputs": [],
      "source": [
        "#convert df to bunch of numpy array- masks\n",
        "import numpy as np\n",
        "import os\n",
        "\n",
        "# Set the directory where the .npy files will be saved\n",
        "save_dir = '../data/raw/masks'\n",
        "\n",
        "# Iterate over the rows of the dataframe\n",
        "for index, row in y_train.iterrows():\n",
        "    # Reshape the row into a 36x36 numpy array\n",
        "    arr = np.array(row).reshape(36, 36)\n",
        "\n",
        "    # Set the file name as the index of the dataframe\n",
        "    file_name = f'{index}.npy'\n",
        "\n",
        "    # Save the numpy array as a .npy file in the specified directory\n",
        "    np.save(os.path.join(save_dir, file_name), arr)"
      ]
    },
    {
      "cell_type": "code",
      "execution_count": 17,
      "metadata": {
        "colab": {
          "base_uri": "https://localhost:8080/"
        },
        "id": "nIUOm0WwRs_9",
        "outputId": "9c09994f-f2b5-45ef-dc81-dbe2590310c0"
      },
      "outputs": [
        {
          "name": "stdout",
          "output_type": "stream",
          "text": [
            "Data merging and splitting complete.\n"
          ]
        }
      ],
      "source": [
        "# Define paths\n",
        "train_images_dir = \"../data/raw/images\"\n",
        "train_masks_dir = \"../data/raw/masks\"\n",
        "\n",
        "\n",
        "train_data = [(os.path.join(train_images_dir, filename), os.path.join(train_masks_dir, filename)) for filename in os.listdir(train_images_dir)]\n",
        "\n",
        "\n",
        "# Shuffle the merged data\n",
        "random.shuffle(train_data)\n",
        "\n",
        "# Define split ratio (e.g., 80% train, 20% validation)\n",
        "split_ratio = 0.90\n",
        "train_size = int(len(train_data) * split_ratio)\n",
        "train_images, train_masks = zip(*train_data[:train_size])\n",
        "val_images, val_masks = zip(*train_data[train_size:])\n",
        "\n",
        "# Define new directories\n",
        "new_train_images_dir = \"../data/interim/train/images\"\n",
        "new_train_masks_dir = \"../data/interim/train/masks\"\n",
        "new_val_images_dir = \"../data/interim/val/images\"\n",
        "new_val_masks_dir = \"../data/interim/val/masks\"\n",
        "\n",
        "# Create new directories\n",
        "os.makedirs(new_train_images_dir, exist_ok=True)\n",
        "os.makedirs(new_train_masks_dir, exist_ok=True)\n",
        "os.makedirs(new_val_images_dir, exist_ok=True)\n",
        "os.makedirs(new_val_masks_dir, exist_ok=True)\n",
        "\n",
        "for src, dest in zip(train_images, [os.path.join(new_train_images_dir, os.path.basename(img)) for img in train_images]):\n",
        "    shutil.copy(src, dest)\n",
        "\n",
        "for src, dest in zip(train_masks, [os.path.join(new_train_masks_dir, os.path.basename(mask)) for mask in train_masks]):\n",
        "    shutil.copy(src, dest)\n",
        "\n",
        "for src, dest in zip(val_images, [os.path.join(new_val_images_dir, os.path.basename(img)) for img in val_images]):\n",
        "    shutil.copy(src, dest)\n",
        "\n",
        "for src, dest in zip(val_masks, [os.path.join(new_val_masks_dir, os.path.basename(mask)) for mask in val_masks]):\n",
        "    shutil.copy(src, dest)\n",
        "\n",
        "print(\"Data merging and splitting complete.\")\n"
      ]
    },
    {
      "cell_type": "markdown",
      "metadata": {
        "id": "2kZN3qYOx5jB"
      },
      "source": [
        "# Visualize some Images and the Masks from the Data"
      ]
    },
    {
      "cell_type": "code",
      "execution_count": 26,
      "metadata": {
        "colab": {
          "base_uri": "https://localhost:8080/",
          "height": 482
        },
        "id": "br5ra3lFrjWJ",
        "outputId": "f363e08b-087e-4a24-9c29-b5cd557a7ef1"
      },
      "outputs": [
        {
          "data": {
            "image/png": "[encoded data removed]",
            "text/plain": [
              "<Figure size 1200x600 with 2 Axes>"
            ]
          },
          "metadata": {},
          "output_type": "display_data"
        }
      ],
      "source": [
        "#Path\n",
        "image_path = \"../data/interim/train/images/well_5_patch_50.npy\"\n",
        "mask_path = \"../data/interim/train/masks/well_5_patch_50.npy\"\n",
        "# Load\n",
        "image = np.load(image_path)\n",
        "mask = np.load(mask_path)\n",
        "mask = binary_fill_holes(mask)\n",
        "# Plot\n",
        "fig, axes = plt.subplots(1, 2, figsize=(12, 6))\n",
        "\n",
        "axes[0].imshow(image)\n",
        "axes[0].set_title('Image')\n",
        "axes[0].axis('off')\n",
        "axes[1].imshow(mask)\n",
        "axes[1].set_title('Mask')\n",
        "axes[1].axis('off')\n",
        "plt.show()"
      ]
    },
    {
      "cell_type": "code",
      "execution_count": 27,
      "metadata": {
        "colab": {
          "base_uri": "https://localhost:8080/"
        },
        "id": "kki7UOS5yy5y",
        "outputId": "777ca9c2-67ea-4ee2-c548-bbcd5215a129"
      },
      "outputs": [
        {
          "name": "stdout",
          "output_type": "stream",
          "text": [
            "(36, 36)\n",
            "(36, 36)\n"
          ]
        }
      ],
      "source": [
        "#Print the size of the mask and the image\n",
        "print(image.shape)\n",
        "print(mask.shape)"
      ]
    },
    {
      "cell_type": "markdown",
      "metadata": {
        "id": "VeRiKn6Jv2bl"
      },
      "source": [
        "# Label Refinement"
      ]
    },
    {
      "cell_type": "markdown",
      "metadata": {
        "id": "inUjgko3v6Sb"
      },
      "source": [
        "# binary fill holes"
      ]
    },
    {
      "cell_type": "code",
      "execution_count": 28,
      "metadata": {
        "colab": {
          "base_uri": "https://localhost:8080/",
          "height": 411
        },
        "id": "13d-Ic6Lv5EH",
        "outputId": "f352b648-9206-41cf-916d-fe746f751695"
      },
      "outputs": [
        {
          "data": {
            "image/png": "[encoded data removed]",
            "text/plain": [
              "<Figure size 1000x500 with 2 Axes>"
            ]
          },
          "metadata": {},
          "output_type": "display_data"
        }
      ],
      "source": [
        "filled = binary_fill_holes(mask)\n",
        "fig, axes = plt.subplots(1, 2, figsize=(10, 5))\n",
        "\n",
        "axes[0].imshow(mask, cmap='gray')\n",
        "axes[0].set_title('Original Mask')\n",
        "axes[0].axis('off')\n",
        "\n",
        "# Plot filled mask\n",
        "axes[1].imshow(filled, cmap='gray')\n",
        "axes[1].set_title('Filled Mask')\n",
        "axes[1].axis('off')\n",
        "\n",
        "plt.show()"
      ]
    },
    {
      "cell_type": "markdown",
      "metadata": {
        "id": "hSsaYH1fhzj2"
      },
      "source": [
        "# Structuring Element & Morphological Operations"
      ]
    },
    {
      "cell_type": "code",
      "execution_count": 29,
      "metadata": {
        "colab": {
          "base_uri": "https://localhost:8080/",
          "height": 411
        },
        "id": "crw9nYqCh0c3",
        "outputId": "1e4bab94-fcc8-446a-b86c-8c5e47b22ad7"
      },
      "outputs": [
        {
          "ename": "error",
          "evalue": "OpenCV(4.10.0) :-1: error: (-5:Bad argument) in function 'dilate'\n> Overload resolution failed:\n>  - src data type = bool is not supported\n>  - Expected Ptr<cv::UMat> for argument 'src'\n",
          "output_type": "error",
          "traceback": [
            "\u001b[0;31m---------------------------------------------------------------------------\u001b[0m",
            "\u001b[0;31merror\u001b[0m                                     Traceback (most recent call last)",
            "Cell \u001b[0;32mIn[29], line 6\u001b[0m\n\u001b[1;32m      4\u001b[0m adaptive_kernel \u001b[38;5;241m=\u001b[39m cv2\u001b[38;5;241m.\u001b[39mgetStructuringElement(kernel_shape, kernel_size)\n\u001b[1;32m      5\u001b[0m \u001b[38;5;66;03m# Apply morphological operations : dilation\u001b[39;00m\n\u001b[0;32m----> 6\u001b[0m result \u001b[38;5;241m=\u001b[39m \u001b[43mcv2\u001b[49m\u001b[38;5;241;43m.\u001b[39;49m\u001b[43mdilate\u001b[49m\u001b[43m(\u001b[49m\u001b[43mmask\u001b[49m\u001b[43m,\u001b[49m\u001b[43m \u001b[49m\u001b[43madaptive_kernel\u001b[49m\u001b[43m)\u001b[49m\n\u001b[1;32m      7\u001b[0m fig, axes \u001b[38;5;241m=\u001b[39m plt\u001b[38;5;241m.\u001b[39msubplots(\u001b[38;5;241m1\u001b[39m, \u001b[38;5;241m2\u001b[39m, figsize\u001b[38;5;241m=\u001b[39m(\u001b[38;5;241m10\u001b[39m, \u001b[38;5;241m5\u001b[39m))\n\u001b[1;32m      8\u001b[0m axes[\u001b[38;5;241m0\u001b[39m]\u001b[38;5;241m.\u001b[39mimshow(mask, cmap\u001b[38;5;241m=\u001b[39m\u001b[38;5;124m'\u001b[39m\u001b[38;5;124mgray\u001b[39m\u001b[38;5;124m'\u001b[39m)\n",
            "\u001b[0;31merror\u001b[0m: OpenCV(4.10.0) :-1: error: (-5:Bad argument) in function 'dilate'\n> Overload resolution failed:\n>  - src data type = bool is not supported\n>  - Expected Ptr<cv::UMat> for argument 'src'\n"
          ]
        }
      ],
      "source": [
        "kernel_size = (2, 2)\n",
        "kernel_shape = cv2.MORPH_RECT\n",
        "# Create the adaptive structuring element\n",
        "adaptive_kernel = cv2.getStructuringElement(kernel_shape, kernel_size)\n",
        "# Apply morphological operations : dilation\n",
        "result = cv2.dilate(mask, adaptive_kernel)\n",
        "fig, axes = plt.subplots(1, 2, figsize=(10, 5))\n",
        "axes[0].imshow(mask, cmap='gray')\n",
        "axes[0].set_title('Original Mask')\n",
        "axes[0].axis('off')\n",
        "# Plot filled mask\n",
        "axes[1].imshow(result, cmap='gray')\n",
        "axes[1].set_title('Dilat  Mask')\n",
        "axes[1].axis('off')\n",
        "plt.show()"
      ]
    },
    {
      "cell_type": "markdown",
      "metadata": {
        "id": "_9e1zRqThXw5"
      },
      "source": [
        "# Image Enhancement"
      ]
    },
    {
      "cell_type": "markdown",
      "metadata": {
        "id": "95D_MTKvcea_"
      },
      "source": [
        "CLAHE and bilateral filter"
      ]
    },
    {
      "cell_type": "code",
      "execution_count": 30,
      "metadata": {
        "colab": {
          "base_uri": "https://localhost:8080/",
          "height": 287
        },
        "id": "dMYdhCt2cej_",
        "outputId": "5eb2c602-9fae-4bdf-b277-7af9b3eed83b"
      },
      "outputs": [
        {
          "data": {
            "image/png": "[encoded data removed]",
            "text/plain": [
              "<Figure size 1000x500 with 3 Axes>"
            ]
          },
          "metadata": {},
          "output_type": "display_data"
        }
      ],
      "source": [
        "clahe = cv2.createCLAHE(clipLimit=2.0, tileGridSize=(8,8))\n",
        "image = np.uint8(image * 255)\n",
        "\n",
        "# Apply CLAHE to the grayscale image\n",
        "clahe_img = clahe.apply(image)\n",
        "#Apply bilateral filter\n",
        "bilateral_img = cv2.bilateralFilter(clahe_img, d=2, sigmaColor=4, sigmaSpace=4)\n",
        "fig, axes = plt.subplots(1, 3, figsize=(10, 5))\n",
        "# Plot Image\n",
        "image = np.uint8(image /255)\n",
        "\n",
        "axes[0].imshow(image)\n",
        "axes[0].set_title('Image')\n",
        "axes[0].axis('off')\n",
        "\n",
        "#  Plot CLAHE result\n",
        "axes[1].imshow(clahe_img)\n",
        "axes[1].set_title('CLAHE')\n",
        "axes[1].axis('off')\n",
        "\n",
        "# Plot Bilateral filter\n",
        "axes[2].imshow(clahe_img/255)\n",
        "axes[2].set_title('Bilateral filter ')\n",
        "axes[2].axis('off')\n",
        "plt.show()"
      ]
    },
    {
      "cell_type": "markdown",
      "metadata": {
        "id": "syyBMoEQgIfX"
      },
      "source": [
        "# Dataset Class"
      ]
    },
    {
      "cell_type": "code",
      "execution_count": 31,
      "metadata": {
        "id": "3WVhXhpRrjWK"
      },
      "outputs": [],
      "source": [
        "from scipy.ndimage import rotate\n",
        "\n",
        "class SegmentationDataset(Dataset):\n",
        "    def __init__(self, imagePaths, maskPaths, filelist, transform=True):\n",
        "        self.imagePaths = [os.path.join(imagePaths, file) for file in filelist]\n",
        "        self.maskPaths = [os.path.join(maskPaths, file) for file in filelist]\n",
        "        self.transform = transform\n",
        "        self.valid_indices = self._get_valid_indices()\n",
        "\n",
        "    def __len__(self):\n",
        "        return len(self.valid_indices)\n",
        "\n",
        "    def __getitem__(self, idx):\n",
        "        idx = self.valid_indices[idx]  # Get the valid index\n",
        "        imagePath = self.imagePaths[idx]\n",
        "        maskPath = self.maskPaths[idx]\n",
        "\n",
        "        # Read image from file\n",
        "        image = np.load(imagePath)\n",
        "        if image is None or np.isnan(image).any():\n",
        "            # Skip images with NaN values\n",
        "            return self.__getitem__((idx + 1) % len(self.valid_indices))\n",
        "\n",
        "        # Read mask from file\n",
        "        mask = np.load(maskPath)\n",
        "        if mask is None:\n",
        "            raise FileNotFoundError(f\"Mask file not found: {maskPath}\")\n",
        "\n",
        "        if self.transform:\n",
        "            image, mask = self.apply_numpy_transform(image, mask)\n",
        "\n",
        "        \"\"\"kernel_size = (2, 2)\n",
        "        kernel_shape = cv2.MORPH_RECT\n",
        "        adaptive_kernel = cv2.getStructuringElement(kernel_shape, kernel_size)\n",
        "        mask = cv2.dilate(mask, adaptive_kernel)\"\"\"\n",
        "        mask = binary_fill_holes(mask)\n",
        "\n",
        "        # Convert to PyTorch tensors\n",
        "        image = torch.from_numpy(np.array(image)).float()\n",
        "        mask = torch.from_numpy(np.array(mask)).long()\n",
        "\n",
        "        return image, mask, imagePath, maskPath\n",
        "\n",
        "    def _get_valid_indices(self):\n",
        "        valid_indices = []\n",
        "        for idx, imagePath in enumerate(self.imagePaths):\n",
        "            image = np.load(imagePath)\n",
        "            if image is not None and not np.isnan(image).any():\n",
        "                valid_indices.append(idx)\n",
        "        return valid_indices\n",
        "\n",
        "\n",
        "    def apply_numpy_transform(self, image, mask):\n",
        "        # Apply horizontal and vertical flips with 50% probability\n",
        "        if np.random.random() > 0.5:\n",
        "            image = np.fliplr(image)  # Horizontal flip\n",
        "            mask = np.fliplr(mask)\n",
        "        if np.random.random() > 0.5:\n",
        "            image = np.flipud(image)  # Vertical flip\n",
        "            mask = np.flipud(mask)\n",
        "        \"\"\"# Apply 90 and 135-degree rotations with 50% probability\n",
        "        if np.random.random() > 0.5:\n",
        "            rotation_angle = np.random.choice([0, 45, 90, 180,135])\n",
        "            if rotation_angle != 0:\n",
        "                image = rotate(image, angle=rotation_angle, reshape=False)\n",
        "                mask = rotate(mask, angle=rotation_angle, reshape=False)\"\"\"\n",
        "\n",
        "        return image, mask\n"
      ]
    },
    {
      "cell_type": "markdown",
      "metadata": {
        "id": "OnUlcI3XgKhf"
      },
      "source": [
        "# Models for Segmentation"
      ]
    },
    {
      "cell_type": "markdown",
      "metadata": {
        "id": "0pAW06SRzxj6"
      },
      "source": [
        "# UNET Model\n",
        "\n",
        "We have chosen a compact architecture for the UNET model 🏗️ consisting of:\n",
        "\n",
        "- 3 down-sampling blocks: (36 x 36), (18 x 18), and (9 x 9).\n",
        "- 3 up-sampling blocks: (9 x 9), (18 x 18), and (36 x 36).\n",
        "\n",
        "Here's an illustration of the UNET model:\n",
        "\n",
        "<img src=\"https://miro.medium.com/v2/resize:fit:1100/format:webp/1*VUS2cCaPB45wcHHFp_fQZQ.png\" alt=\"UNET Model\" width=\"500\" height=\"250\">\n",
        "\n"
      ]
    },
    {
      "cell_type": "code",
      "execution_count": 32,
      "metadata": {
        "id": "fnoDG8uNWvPM"
      },
      "outputs": [],
      "source": [
        "class UNet(nn.Module):\n",
        "    def __init__(self, dropout_prob=0.5):\n",
        "        super(UNet, self).__init__()\n",
        "\n",
        "        # Encoder\n",
        "        self.enc_conv1 = nn.Conv2d(1, 32, 3, padding=1)\n",
        "        self.enc_conv2 = nn.Conv2d(32, 64, 3, padding=1)\n",
        "        self.enc_conv3 = nn.Conv2d(64, 128, 3, padding=1)\n",
        "        self.enc_conv4 = nn.Conv2d(128, 128, 3, padding=1)\n",
        "        self.maxpool = nn.MaxPool2d(2, 2)\n",
        "\n",
        "        # Additional layers in encoder\n",
        "        self.enc_conv1_additional = nn.Conv2d(32, 32, 3, padding=1)\n",
        "        self.enc_conv2_additional = nn.Conv2d(64, 64, 3, padding=1)\n",
        "\n",
        "        # Dropout layers\n",
        "        self.dropout = nn.Dropout2d(p=dropout_prob)\n",
        "\n",
        "        # Decoder\n",
        "        self.upconv1 = nn.ConvTranspose2d(128, 64, 2, stride=2)\n",
        "        self.dec_conv1 = nn.Conv2d(128, 64, 3, padding=1)\n",
        "        self.upconv2 = nn.ConvTranspose2d(64, 32, 2, stride=2)\n",
        "        self.dec_conv2 = nn.Conv2d(64, 32, 3, padding=1)\n",
        "        self.final_conv = nn.Conv2d(32, 1, 1)\n",
        "\n",
        "    def forward(self, x):\n",
        "        # Encoder\n",
        "        x1 = torch.relu(self.enc_conv1(x))\n",
        "        x1 = torch.relu(self.enc_conv1_additional(x1))\n",
        "        x2 = self.maxpool(x1)\n",
        "        x2 = torch.relu(self.enc_conv2(x2))\n",
        "        x2 = torch.relu(self.enc_conv2_additional(x2))\n",
        "        #x2 = self.dropout(x2)\n",
        "        x3 = self.maxpool(x2)\n",
        "        x3 = torch.relu(self.enc_conv3(x3))\n",
        "        x3 = torch.relu(self.enc_conv4(x3))\n",
        "        #x3 = self.dropout(x3)\n",
        "\n",
        "        # Decoder\n",
        "        x = torch.relu(self.upconv1(x3))\n",
        "        x = torch.cat([x2, x], dim=1)\n",
        "        x = torch.relu(self.dec_conv1(x))\n",
        "        x = torch.relu(self.upconv2(x))\n",
        "        x = torch.cat([x1, x], dim=1)\n",
        "        x = torch.relu(self.dec_conv2(x))\n",
        "        x = torch.sigmoid(self.final_conv(x))\n",
        "        #(x.shape)\n",
        "        return x"
      ]
    },
    {
      "cell_type": "code",
      "execution_count": 33,
      "metadata": {
        "id": "-bp9CCjsgfgf"
      },
      "outputs": [
        {
          "name": "stdout",
          "output_type": "stream",
          "text": [
            "----------------------------------------------------------------\n",
            "        Layer (type)               Output Shape         Param #\n",
            "================================================================\n",
            "            Conv2d-1           [-1, 32, 36, 36]             320\n",
            "            Conv2d-2           [-1, 32, 36, 36]           9,248\n",
            "         MaxPool2d-3           [-1, 32, 18, 18]               0\n",
            "            Conv2d-4           [-1, 64, 18, 18]          18,496\n",
            "            Conv2d-5           [-1, 64, 18, 18]          36,928\n",
            "         MaxPool2d-6             [-1, 64, 9, 9]               0\n",
            "            Conv2d-7            [-1, 128, 9, 9]          73,856\n",
            "            Conv2d-8            [-1, 128, 9, 9]         147,584\n",
            "   ConvTranspose2d-9           [-1, 64, 18, 18]          32,832\n",
            "           Conv2d-10           [-1, 64, 18, 18]          73,792\n",
            "  ConvTranspose2d-11           [-1, 32, 36, 36]           8,224\n",
            "           Conv2d-12           [-1, 32, 36, 36]          18,464\n",
            "           Conv2d-13            [-1, 1, 36, 36]              33\n",
            "================================================================\n",
            "Total params: 419,777\n",
            "Trainable params: 419,777\n",
            "Non-trainable params: 0\n",
            "----------------------------------------------------------------\n",
            "Input size (MB): 0.00\n",
            "Forward/backward pass size (MB): 2.19\n",
            "Params size (MB): 1.60\n",
            "Estimated Total Size (MB): 3.79\n",
            "----------------------------------------------------------------\n"
          ]
        }
      ],
      "source": [
        "device = torch.device('cuda' if torch.cuda.is_available() else 'cpu')\n",
        "#Initialize the model\n",
        "model = UNet()\n",
        "model.to(device)\n",
        "summary(model, input_size=(1, 36, 36))"
      ]
    },
    {
      "cell_type": "code",
      "execution_count": 34,
      "metadata": {
        "id": "zC-reNrFgaqd"
      },
      "outputs": [
        {
          "data": {
            "text/plain": [
              "tensor([[[[0.5257, 0.5257, 0.5254,  ..., 0.5268, 0.5257, 0.5232],\n",
              "          [0.5239, 0.5244, 0.5256,  ..., 0.5253, 0.5245, 0.5218],\n",
              "          [0.5251, 0.5256, 0.5246,  ..., 0.5271, 0.5272, 0.5206],\n",
              "          ...,\n",
              "          [0.5236, 0.5259, 0.5261,  ..., 0.5304, 0.5274, 0.5189],\n",
              "          [0.5244, 0.5255, 0.5257,  ..., 0.5253, 0.5243, 0.5226],\n",
              "          [0.5233, 0.5268, 0.5223,  ..., 0.5222, 0.5248, 0.5219]]]],\n",
              "       grad_fn=<SigmoidBackward0>)"
            ]
          },
          "execution_count": 34,
          "metadata": {},
          "output_type": "execute_result"
        }
      ],
      "source": [
        "tensor = torch.rand(1,1, 36, 36).to(device)\n",
        "model(tensor)"
      ]
    },
    {
      "cell_type": "markdown",
      "metadata": {
        "id": "n2QiancrguFG"
      },
      "source": [
        "# Attention U-Net\n",
        "\n",
        "We have chosen to incorporate attention mechanisms into the U-Net to enhance focus on the critical regions of the input image.\n",
        "\n",
        "Here's an illustration of the Attention U-Net architecture:\n",
        "\n",
        "<img src=\"https://idiotdeveloper.com/wp-content/uploads/2021/06/attention_unet-compressed-2.jpg\" alt=\"Attention U-Net architecture\" width=\"500\" height=\"250\">\n",
        "\n"
      ]
    },
    {
      "cell_type": "code",
      "execution_count": 35,
      "metadata": {
        "id": "2jPZDjvH6TlX"
      },
      "outputs": [],
      "source": [
        "class AttentionBlock(nn.Module):\n",
        "    \"\"\"Attention block with learnable parameters\"\"\"\n",
        "\n",
        "    def __init__(self, F_g, F_l, n_coefficients):\n",
        "        \"\"\"\n",
        "        :param F_g: number of feature maps (channels) in previous layer\n",
        "        :param F_l: number of feature maps in corresponding encoder layer, transferred via skip connection\n",
        "        :param n_coefficients: number of learnable multi-dimensional attention coefficients\n",
        "        \"\"\"\n",
        "        super(AttentionBlock, self).__init__()\n",
        "\n",
        "        self.W_gate = nn.Sequential(\n",
        "            nn.Conv2d(F_g, n_coefficients, kernel_size=1, stride=1, padding=0, bias=True),\n",
        "            nn.BatchNorm2d(n_coefficients)\n",
        "        )\n",
        "\n",
        "        self.W_x = nn.Sequential(\n",
        "            nn.Conv2d(F_l, n_coefficients, kernel_size=1, stride=1, padding=0, bias=True),\n",
        "            nn.BatchNorm2d(n_coefficients)\n",
        "        )\n",
        "\n",
        "        self.psi = nn.Sequential(\n",
        "            nn.Conv2d(n_coefficients, 1, kernel_size=1, stride=1, padding=0, bias=True),\n",
        "            nn.BatchNorm2d(1),\n",
        "            nn.Sigmoid()\n",
        "        )\n",
        "\n",
        "        self.relu = nn.ReLU(inplace=True)\n",
        "\n",
        "    def forward(self, gate, skip_connection):\n",
        "        \"\"\"\n",
        "        :param gate: gating signal from previous layer\n",
        "        :param skip_connection: activation from corresponding encoder layer\n",
        "        :return: output activations\n",
        "        \"\"\"\n",
        "        g1 = self.W_gate(gate)\n",
        "        x1 = self.W_x(skip_connection)\n",
        "        result = torch.add(g1, x1)\n",
        "        psi = self.relu(result)\n",
        "        #print(g1.shape)\n",
        "        #print(x1.shape)\n",
        "        psi = self.psi(psi)\n",
        "        out = skip_connection * psi\n",
        "        return out"
      ]
    },
    {
      "cell_type": "code",
      "execution_count": 36,
      "metadata": {
        "id": "QQmMSz3lCVWG"
      },
      "outputs": [],
      "source": [
        "import torch\n",
        "import torch.nn as nn\n",
        "\n",
        "class AttUNet(nn.Module):\n",
        "    def __init__(self, dropout_prob=0.3):\n",
        "        super(AttUNet, self).__init__()\n",
        "\n",
        "        # Encoder\n",
        "        self.enc_conv1 = nn.Conv2d(1, 16, 3, padding=1)\n",
        "        self.enc_conv2 = nn.Conv2d(16, 32, 3, padding=1)\n",
        "        self.enc_conv3 = nn.Conv2d(32, 64, 3, padding=1)\n",
        "        self.enc_conv4 = nn.Conv2d(64, 64, 3, padding=1)\n",
        "        self.maxpool = nn.MaxPool2d(2, 2)\n",
        "\n",
        "\n",
        "\n",
        "        # Dropout layers\n",
        "        self.dropout = nn.Dropout2d(p=dropout_prob)\n",
        "\n",
        "        # Decoder\n",
        "        self.upconv1 = nn.ConvTranspose2d(64, 32, 2, stride=2)\n",
        "        self.Att1 = AttentionBlock(F_g=32, F_l=32, n_coefficients=32)\n",
        "        self.dec_conv1 = nn.Conv2d(64, 32, 3, padding=1)\n",
        "        self.upconv2 = nn.ConvTranspose2d(32, 16, 2, stride=2)\n",
        "        self.Att2 = AttentionBlock(F_g=16, F_l=16, n_coefficients=16)\n",
        "        self.dec_conv2 = nn.Conv2d(32, 16, 3, padding=1)\n",
        "        self.final_conv = nn.Conv2d(16, 1, 1)\n",
        "\n",
        "    def forward(self, x):\n",
        "        # Encoder\n",
        "        e1 = torch.relu(self.enc_conv1(x)) #32x36x36\n",
        "        e2 = self.maxpool(e1) #32x18x18\n",
        "        e2 = torch.relu(self.enc_conv2(e2)) #64x18x18\n",
        "        e2 = self.dropout(e2) #64x18x18\n",
        "        e3 = self.maxpool(e2) #64x9x9\n",
        "        e3 = torch.relu(self.enc_conv3(e3)) #128x9x9\n",
        "        elif3 = torch.relu(self.enc_conv4(e3)) #128x9x9\n",
        "        e3 = self.dropout(e3)\n",
        "\n",
        "        # Decoder\n",
        "        d2 = torch.relu(self.upconv1(e3)) #[2, 64, 18, 18]\n",
        "        s2 = self.Att1(gate=d2, skip_connection=e2)\n",
        "        d2 = torch.cat([s2, d2], dim=1)\n",
        "        d2 = torch.relu(self.dec_conv1(d2))\n",
        "        #print(d2.shape)\n",
        "        d1 = torch.relu(self.upconv2(d2))\n",
        "        #print(e1.shape)\n",
        "        #print(d1.shape)\n",
        "        s1 = self.Att2(gate=d1, skip_connection=e1)\n",
        "        d1 = torch.cat([s1, d1], dim=1)\n",
        "        #print(d1.shape)\n",
        "        d1 = torch.relu(self.dec_conv2(d1))\n",
        "        out = torch.sigmoid(self.final_conv(d1))\n",
        "        #(x.shape)\n",
        "\n",
        "        return out\n"
      ]
    },
    {
      "cell_type": "markdown",
      "metadata": {
        "id": "zRcDAYFghwc9"
      },
      "source": [
        "# ResUNet\n",
        "\n",
        "\n",
        "We have chosen to incorporate  residual connections within the architecture. These residual connections can help to alleviate the vanishing gradient problem and improve the overall performance of the network\n",
        "\n",
        "Here's an illustration of the ResUNet architecture:\n",
        "\n",
        "<img src=\"https://idiotdeveloper.com/wp-content/uploads/2022/01/MultiResUNET.png\" alt=\"ResUNet architecture\" width=\"500\" height=\"250\">\n"
      ]
    },
    {
      "cell_type": "code",
      "execution_count": 37,
      "metadata": {
        "id": "CxNYxo2Mav9-"
      },
      "outputs": [],
      "source": [
        "\n",
        "class batchnorm_relu(nn.Module):\n",
        "    def __init__(self, in_c):\n",
        "        super().__init__()\n",
        "\n",
        "        self.bn = nn.BatchNorm2d(in_c)\n",
        "        self.relu = nn.ReLU()\n",
        "\n",
        "    def forward(self, inputs):\n",
        "        x = self.bn(inputs)\n",
        "        x = self.relu(x)\n",
        "        return x\n",
        "\n",
        "class residual_block(nn.Module):\n",
        "    def __init__(self, in_c, out_c, stride=1):\n",
        "        super().__init__()\n",
        "\n",
        "        \"\"\" Convolutional layer \"\"\"\n",
        "        self.b1 = batchnorm_relu(in_c)\n",
        "        self.c1 = nn.Conv2d(in_c, out_c, kernel_size=3, padding=1, stride=stride)\n",
        "        self.b2 = batchnorm_relu(out_c)\n",
        "        self.c2 = nn.Conv2d(out_c, out_c, kernel_size=3, padding=1, stride=1)\n",
        "\n",
        "        \"\"\" Shortcut Connection (Identity Mapping) \"\"\"\n",
        "        self.s = nn.Conv2d(in_c, out_c, kernel_size=1, padding=0, stride=stride)\n",
        "\n",
        "    def forward(self, inputs):\n",
        "        x = self.b1(inputs)\n",
        "        x = self.c1(x)\n",
        "        x = self.b2(x)\n",
        "        x = self.c2(x)\n",
        "        s = self.s(inputs)\n",
        "\n",
        "        skip = x + s\n",
        "        return skip\n",
        "\n",
        "class decoder_block(nn.Module):\n",
        "    def __init__(self, in_c, out_c):\n",
        "        super().__init__()\n",
        "\n",
        "        self.upsample = nn.Upsample(scale_factor=2, mode=\"bilinear\", align_corners=False)\n",
        "        self.r = residual_block(in_c+out_c, out_c)\n",
        "\n",
        "    def forward(self, inputs, skip):\n",
        "        x = self.upsample(inputs)\n",
        "        #print(x.shape)\n",
        "        x = torch.cat([x, skip], axis=1)\n",
        "        x = self.r(x)\n",
        "        return x\n",
        "\n",
        "class build_resunet(nn.Module):\n",
        "    def __init__(self):\n",
        "        super().__init__()\n",
        "\n",
        "        \"\"\" Encoder 1 \"\"\"\n",
        "        self.c11 = nn.Conv2d(1, 64, kernel_size=3, padding=1)\n",
        "        self.br1 = batchnorm_relu(64)\n",
        "        self.c12 = nn.Conv2d(64, 64, kernel_size=3, padding=1)\n",
        "        self.c13 = nn.Conv2d(1, 64, kernel_size=1, padding=0)\n",
        "\n",
        "        \"\"\" Encoder 2 and 3 \"\"\"\n",
        "        self.r2 = residual_block(64, 128, stride=2)\n",
        "        #self.r3 = residual_block(128, 256, stride=2)\n",
        "\n",
        "        \"\"\" Bridge \"\"\"\n",
        "        self.r4 = residual_block(128, 256, stride=2)\n",
        "\n",
        "        \"\"\" Decoder \"\"\"\n",
        "        #self.d1 = decoder_block(512, 256)\n",
        "        self.d2 = decoder_block(256, 128)\n",
        "        self.d3 = decoder_block(128, 64)\n",
        "\n",
        "        \"\"\" Output \"\"\"\n",
        "        self.output = nn.Conv2d(64, 1, kernel_size=1, padding=0)\n",
        "        self.sigmoid = nn.Sigmoid()\n",
        "\n",
        "    def forward(self, inputs):\n",
        "        \"\"\" Encoder 1 \"\"\"\n",
        "        x = self.c11(inputs)\n",
        "        x = self.br1(x)\n",
        "        x = self.c12(x)\n",
        "        s = self.c13(inputs)\n",
        "        skip1 = x + s\n",
        "\n",
        "        \"\"\" Encoder 2 and 3 \"\"\"\n",
        "        skip2 = self.r2(skip1)\n",
        "        #skip3 = self.r3(skip2)\n",
        "\n",
        "        \"\"\" Bridge \"\"\"\n",
        "        b = self.r4(skip2)\n",
        "\n",
        "        \"\"\" Decoder \"\"\"\n",
        "        #d1 = self.d1(b, skip3)\n",
        "        d2 = self.d2(b, skip2)\n",
        "        d3 = self.d3(d2, skip1)\n",
        "\n",
        "        \"\"\" output \"\"\"\n",
        "        output = self.output(d3)\n",
        "        output = self.sigmoid(output)\n",
        "\n",
        "        return output\n",
        "\n",
        "\n"
      ]
    },
    {
      "cell_type": "markdown",
      "metadata": {
        "id": "16MGf14Dih04"
      },
      "source": [
        "# Various Losses for Training"
      ]
    },
    {
      "cell_type": "markdown",
      "metadata": {
        "id": "b3qaOra2ilt3"
      },
      "source": [
        "Dice Loss + BCE  "
      ]
    },
    {
      "cell_type": "code",
      "execution_count": 38,
      "metadata": {
        "id": "vOJdr61OiohX"
      },
      "outputs": [],
      "source": [
        "class BinaryDiceLoss(nn.Module):\n",
        "    \"\"\"Dice loss of binary class\n",
        "    Args:\n",
        "        smooth: A float number to smooth loss, and avoid NaN error, default: 1\n",
        "        p: Denominator value: \\sum{x^p} + \\sum{y^p}, default: 2\n",
        "        predict: A tensor of shape [N, *]\n",
        "        target: A tensor of shape same with predict\n",
        "        reduction: Reduction method to apply, return mean over batch if 'mean',\n",
        "            return sum if 'sum', return a tensor of shape [N,] if 'none'\n",
        "    Returns:\n",
        "        Loss tensor according to arg reduction\n",
        "    Raise:\n",
        "        Exception if unexpected reduction\n",
        "    \"\"\"\n",
        "    def __init__(self, smooth=1, p=2, reduction='mean'):\n",
        "        super(BinaryDiceLoss, self).__init__()\n",
        "        self.smooth = smooth\n",
        "        self.p = p\n",
        "        self.reduction = reduction\n",
        "        self.bce=nn.BCELoss()\n",
        "\n",
        "    def forward(self, predict, target):\n",
        "        assert predict.shape[0] == target.shape[0], \"predict & target batch size don't match\"\n",
        "        predict = predict.contiguous().view(predict.shape[0], -1)\n",
        "        target = target.contiguous().view(target.shape[0], -1)\n",
        "\n",
        "        num = torch.sum(torch.mul(predict, target), dim=1) + self.smooth\n",
        "        den = torch.sum(predict.pow(self.p) + target.pow(self.p), dim=1) + self.smooth\n",
        "        bce_loss = self.bce(predict, target)\n",
        "        loss = (1 - num / den)+bce_loss\n",
        "\n",
        "        if self.reduction == 'mean':\n",
        "            return loss.mean()\n",
        "        elif self.reduction == 'sum':\n",
        "            return loss.sum()\n",
        "        elif self.reduction == 'none':\n",
        "            return loss\n",
        "        else:\n",
        "            raise Exception('Unexpected reduction {}'.format(self.reduction))"
      ]
    },
    {
      "cell_type": "markdown",
      "metadata": {
        "id": "4NT9gRyYi8fW"
      },
      "source": [
        "Focal Loss"
      ]
    },
    {
      "cell_type": "code",
      "execution_count": 39,
      "metadata": {
        "id": "wIzO136PilCa"
      },
      "outputs": [],
      "source": [
        "class FocalLoss(nn.modules.loss._WeightedLoss):\n",
        "\n",
        "    def __init__(self, gamma=0, size_average=None, ignore_index=-100,\n",
        "                 reduce=None, balance_param=1.0):\n",
        "        super(FocalLoss, self).__init__(size_average)\n",
        "        self.gamma = gamma\n",
        "        self.size_average = size_average\n",
        "        self.ignore_index = ignore_index\n",
        "        self.balance_param = balance_param\n",
        "        self.bce=nn.BCELoss()\n",
        "\n",
        "    def forward(self, input, target):\n",
        "        # inputs and targets are assumed to be BatchxClasses\n",
        "        assert len(input.shape) == len(target.shape)\n",
        "        assert input.size(0) == target.size(0)\n",
        "        assert input.size(1) == target.size(1)\n",
        "        # compute the negative likelyhood\n",
        "        bce_loss = self.bce(input.view(-1), target.float().view(-1))\n",
        "        logpt = - bce_loss\n",
        "        pt = torch.exp(logpt)\n",
        "        # compute the loss\n",
        "        focal_loss = -( (1-pt)**self.gamma ) * logpt\n",
        "        balanced_focal_loss = self.balance_param * focal_loss\n",
        "        loss=balanced_focal_loss+bce_loss\n",
        "        return loss"
      ]
    },
    {
      "cell_type": "markdown",
      "metadata": {
        "id": "MOlc3484icoY"
      },
      "source": [
        "## Start Training"
      ]
    },
    {
      "cell_type": "code",
      "execution_count": null,
      "metadata": {},
      "outputs": [],
      "source": [
        "new_train_images_dir = \"../data/interim/train/images\"\n",
        "new_train_masks_dir = \"../data/interim/train/masks\"\n",
        "new_val_images_dir = \"../data/interim/val/images\"\n",
        "new_val_masks_dir = \"../data/interim/val/masks\""
      ]
    },
    {
      "cell_type": "code",
      "execution_count": 41,
      "metadata": {
        "id": "wnLq1JQVrjWM"
      },
      "outputs": [],
      "source": [
        "#batch size for data loaders\n",
        "batch_size = 16\n",
        "# Train Set\n",
        "IMAGE_DATASET_PATH = \"../data/interim/train/images/\"\n",
        "IMAGE_Label_PATH = \"../data/interim/train/masks/\"\n",
        "imagePaths_full = sorted(glob.glob(IMAGE_DATASET_PATH + \"*.npy\"))\n",
        "imagePaths = [os.path.basename(path) for path in imagePaths_full]\n",
        "train_dataset = SegmentationDataset(IMAGE_DATASET_PATH, IMAGE_Label_PATH, imagePaths)\n",
        "# Validation Set\n",
        "IMAGE_DATASET_PATH_VAL = \"../data/interim/val/images/\"\n",
        "IMAGE_Label_PATH_VAL = \"../data/interim/val/masks/\"\n",
        "val_imagePaths_full = sorted(glob.glob(IMAGE_DATASET_PATH_VAL + \"*.npy\"))\n",
        "val_imagePaths = [os.path.basename(path) for path in val_imagePaths_full]\n",
        "val_dataset = SegmentationDataset(IMAGE_DATASET_PATH_VAL, IMAGE_Label_PATH_VAL, val_imagePaths)\n",
        "\n",
        "#Define data loaders\n",
        "val_loader = DataLoader(val_dataset, batch_size=batch_size, shuffle=False)\n",
        "train_loader = DataLoader(train_dataset, batch_size=batch_size, shuffle=True)\n"
      ]
    },
    {
      "cell_type": "markdown",
      "metadata": {
        "id": "ua0MQ64xnkzg"
      },
      "source": [
        "Displaying Images and Mask from train set :"
      ]
    },
    {
      "cell_type": "code",
      "execution_count": 42,
      "metadata": {
        "colab": {
          "base_uri": "https://localhost:8080/",
          "height": 497
        },
        "id": "lZfvgoINofsB",
        "outputId": "e1997c15-5789-45c9-96ec-d5580c23c7cc"
      },
      "outputs": [
        {
          "data": {
            "image/png": "[encoded data removed]",
            "text/plain": [
              "<Figure size 1500x600 with 8 Axes>"
            ]
          },
          "metadata": {},
          "output_type": "display_data"
        }
      ],
      "source": [
        "for images, masks,image_path,mask_path in train_loader:\n",
        "    num_images_to_plot = min(4, len(images))\n",
        "\n",
        "    fig, axes = plt.subplots(2, num_images_to_plot, figsize=(15, 6))\n",
        "\n",
        "    for i in range(num_images_to_plot):\n",
        "        axes[0, i].imshow(images[i])\n",
        "        #axes[0, i].set_title(image_path[i])\n",
        "        #print(image_path[i])\n",
        "        #print(mask_path[i])\n",
        "        axes[0, i].axis('off')\n",
        "\n",
        "        axes[1, i].imshow(masks[i], cmap='gray')\n",
        "        axes[1, i].set_title('Mask')\n",
        "        axes[1, i].axis('off')\n",
        "\n",
        "    plt.tight_layout()\n",
        "    plt.show()\n",
        "    break"
      ]
    },
    {
      "cell_type": "markdown",
      "metadata": {
        "id": "iOPFPcBQ8tMf"
      },
      "source": [
        "# Evalution Score"
      ]
    },
    {
      "cell_type": "markdown",
      "metadata": {
        "id": "N1H03DDk133G"
      },
      "source": [
        "Dice Score"
      ]
    },
    {
      "cell_type": "code",
      "execution_count": 43,
      "metadata": {
        "id": "Ooq9ASbWe78Z"
      },
      "outputs": [],
      "source": [
        "def dice_coeff(prediction, target):\n",
        "\n",
        "    mask = np.zeros_like(prediction)\n",
        "    mask[prediction >= 0.5] = 1\n",
        "\n",
        "    inter = np.sum(mask * target)\n",
        "    union = np.sum(mask) + np.sum(target)\n",
        "    epsilon=1e-6\n",
        "    result = np.mean(2 * inter / (union + epsilon))\n",
        "    return result"
      ]
    },
    {
      "cell_type": "markdown",
      "metadata": {
        "id": "kimUl14w2IEE"
      },
      "source": [
        "Validation function"
      ]
    },
    {
      "cell_type": "code",
      "execution_count": 44,
      "metadata": {
        "id": "WAznNSkzrjWO"
      },
      "outputs": [],
      "source": [
        "#Validation function\n",
        "def validation(model, val_loader, criterion, device):\n",
        "    model.eval()\n",
        "    total_val_loss = 0\n",
        "    total_val_dice_coef = 0\n",
        "    sample = 0\n",
        "    nb_batch = 0\n",
        "    with torch.no_grad():\n",
        "        with tqdm(val_loader, desc='Validation', unit='batch') as tqdm_loader:\n",
        "            for images, masks,_ ,_ in tqdm_loader:\n",
        "                images = images.to(device)\n",
        "                masks = masks.to(device)\n",
        "                masks = masks.float()\n",
        "                images = images.unsqueeze(1)\n",
        "                masks = masks.unsqueeze(1)\n",
        "                pred = model(images)\n",
        "                val_loss = criterion(pred, masks)\n",
        "                y_pred = pred.data.cpu().numpy().ravel()\n",
        "                y_true = masks.data.cpu().numpy().ravel()\n",
        "                val_dice_coef = dice_coeff(y_pred, y_true)\n",
        "                total_val_loss += val_loss.item()\n",
        "                total_val_dice_coef += val_dice_coef.item()\n",
        "                sample += len(images)\n",
        "                nb_batch += 1\n",
        "                tqdm_loader.set_postfix(loss=val_loss.item(), DiceCoef=val_dice_coef.item())\n",
        "    overall_val_loss = total_val_loss / nb_batch\n",
        "    overall_val_dice_coef = total_val_dice_coef / nb_batch\n",
        "    print(f\"Validation Loss: {overall_val_loss}\")\n",
        "    print(f\"Validation Dice Score Coef: {overall_val_dice_coef}\")\n",
        "    return overall_val_loss,overall_val_dice_coef"
      ]
    },
    {
      "cell_type": "markdown",
      "metadata": {
        "id": "_FiDl_mI9DFC"
      },
      "source": [
        "# Training"
      ]
    },
    {
      "cell_type": "code",
      "execution_count": 46,
      "metadata": {
        "colab": {
          "base_uri": "https://localhost:8080/"
        },
        "id": "VPo9FLfirjWO",
        "outputId": "daa8c77f-747a-45f1-abd1-1d2012bd8810"
      },
      "outputs": [
        {
          "name": "stderr",
          "output_type": "stream",
          "text": [
            "Epoch 1/25: 100%|██████████| 544/544 [00:22<00:00, 24.15batch/s, DiceCoef=0.638, loss=0.131]  \n"
          ]
        },
        {
          "name": "stdout",
          "output_type": "stream",
          "text": [
            "Epoch [1/25], Total Train Loss: 104.54001262784004\n",
            "Epoch [1/25], Dice Score for Training : 0.36690873287914333\n"
          ]
        },
        {
          "name": "stderr",
          "output_type": "stream",
          "text": [
            "Validation: 100%|██████████| 61/61 [00:01<00:00, 40.67batch/s, DiceCoef=0, loss=0.0366]    \n"
          ]
        },
        {
          "name": "stdout",
          "output_type": "stream",
          "text": [
            "Validation Loss: 0.1193649372482886\n",
            "Validation Dice Score Coef: 0.5470500418030825\n"
          ]
        },
        {
          "name": "stderr",
          "output_type": "stream",
          "text": [
            "Epoch 2/25: 100%|██████████| 544/544 [00:20<00:00, 26.61batch/s, DiceCoef=0.746, loss=0.091] \n"
          ]
        },
        {
          "name": "stdout",
          "output_type": "stream",
          "text": [
            "Epoch [2/25], Total Train Loss: 62.96734831854701\n",
            "Epoch [2/25], Dice Score for Training : 0.6613243223332307\n"
          ]
        },
        {
          "name": "stderr",
          "output_type": "stream",
          "text": [
            "Validation: 100%|██████████| 61/61 [00:01<00:00, 45.84batch/s, DiceCoef=0, loss=0.0445]    \n"
          ]
        },
        {
          "name": "stdout",
          "output_type": "stream",
          "text": [
            "Validation Loss: 0.10249091208469673\n",
            "Validation Dice Score Coef: 0.6307887464273171\n"
          ]
        },
        {
          "name": "stderr",
          "output_type": "stream",
          "text": [
            "Epoch 3/25: 100%|██████████| 544/544 [00:20<00:00, 26.22batch/s, DiceCoef=0.88, loss=0.0509] \n"
          ]
        },
        {
          "name": "stdout",
          "output_type": "stream",
          "text": [
            "Epoch [3/25], Total Train Loss: 56.79790999367833\n",
            "Epoch [3/25], Dice Score for Training : 0.6920614493462969\n"
          ]
        },
        {
          "name": "stderr",
          "output_type": "stream",
          "text": [
            "Validation: 100%|██████████| 61/61 [00:01<00:00, 46.30batch/s, DiceCoef=0, loss=0.0258]    \n"
          ]
        },
        {
          "name": "stdout",
          "output_type": "stream",
          "text": [
            "Validation Loss: 0.10040981991247075\n",
            "Validation Dice Score Coef: 0.6047338896018805\n"
          ]
        },
        {
          "name": "stderr",
          "output_type": "stream",
          "text": [
            "Epoch 4/25: 100%|██████████| 544/544 [00:20<00:00, 26.39batch/s, DiceCoef=0.694, loss=0.0633]\n"
          ]
        },
        {
          "name": "stdout",
          "output_type": "stream",
          "text": [
            "Epoch [4/25], Total Train Loss: 53.203037433326244\n",
            "Epoch [4/25], Dice Score for Training : 0.7116512817823711\n"
          ]
        },
        {
          "name": "stderr",
          "output_type": "stream",
          "text": [
            "Validation: 100%|██████████| 61/61 [00:01<00:00, 46.87batch/s, DiceCoef=0, loss=0.0213]    \n"
          ]
        },
        {
          "name": "stdout",
          "output_type": "stream",
          "text": [
            "Validation Loss: 0.0901641811198387\n",
            "Validation Dice Score Coef: 0.6662703640148288\n"
          ]
        },
        {
          "name": "stderr",
          "output_type": "stream",
          "text": [
            "Epoch 5/25: 100%|██████████| 544/544 [00:20<00:00, 26.41batch/s, DiceCoef=0.752, loss=0.11]  \n"
          ]
        },
        {
          "name": "stdout",
          "output_type": "stream",
          "text": [
            "Epoch [5/25], Total Train Loss: 50.91993135213852\n",
            "Epoch [5/25], Dice Score for Training : 0.7234119254657451\n"
          ]
        },
        {
          "name": "stderr",
          "output_type": "stream",
          "text": [
            "Validation: 100%|██████████| 61/61 [00:01<00:00, 47.43batch/s, DiceCoef=0, loss=0.022]     \n"
          ]
        },
        {
          "name": "stdout",
          "output_type": "stream",
          "text": [
            "Validation Loss: 0.08977909047217643\n",
            "Validation Dice Score Coef: 0.6891099519905497\n"
          ]
        },
        {
          "name": "stderr",
          "output_type": "stream",
          "text": [
            "Epoch 6/25: 100%|██████████| 544/544 [00:20<00:00, 26.34batch/s, DiceCoef=0.76, loss=0.0851] \n"
          ]
        },
        {
          "name": "stdout",
          "output_type": "stream",
          "text": [
            "Epoch [6/25], Total Train Loss: 49.38214245438576\n",
            "Epoch [6/25], Dice Score for Training : 0.7326057208154131\n"
          ]
        },
        {
          "name": "stderr",
          "output_type": "stream",
          "text": [
            "Validation: 100%|██████████| 61/61 [00:01<00:00, 45.57batch/s, DiceCoef=0, loss=0.0255]    \n"
          ]
        },
        {
          "name": "stdout",
          "output_type": "stream",
          "text": [
            "Validation Loss: 0.08723369155262338\n",
            "Validation Dice Score Coef: 0.6729921056110351\n"
          ]
        },
        {
          "name": "stderr",
          "output_type": "stream",
          "text": [
            "Epoch 7/25: 100%|██████████| 544/544 [00:20<00:00, 26.35batch/s, DiceCoef=0.647, loss=0.116] \n"
          ]
        },
        {
          "name": "stdout",
          "output_type": "stream",
          "text": [
            "Epoch [7/25], Total Train Loss: 47.96748733520508\n",
            "Epoch [7/25], Dice Score for Training : 0.741284525131478\n"
          ]
        },
        {
          "name": "stderr",
          "output_type": "stream",
          "text": [
            "Validation: 100%|██████████| 61/61 [00:01<00:00, 45.44batch/s, DiceCoef=0, loss=0.0184]    \n"
          ]
        },
        {
          "name": "stdout",
          "output_type": "stream",
          "text": [
            "Validation Loss: 0.08658917865059415\n",
            "Validation Dice Score Coef: 0.7033558492777777\n"
          ]
        },
        {
          "name": "stderr",
          "output_type": "stream",
          "text": [
            "Epoch 8/25: 100%|██████████| 544/544 [00:20<00:00, 25.93batch/s, DiceCoef=0.778, loss=0.0536]\n"
          ]
        },
        {
          "name": "stdout",
          "output_type": "stream",
          "text": [
            "Epoch [8/25], Total Train Loss: 47.1751457080245\n",
            "Epoch [8/25], Dice Score for Training : 0.7438507290995297\n"
          ]
        },
        {
          "name": "stderr",
          "output_type": "stream",
          "text": [
            "Validation: 100%|██████████| 61/61 [00:01<00:00, 45.26batch/s, DiceCoef=0, loss=0.0228]    \n"
          ]
        },
        {
          "name": "stdout",
          "output_type": "stream",
          "text": [
            "Validation Loss: 0.08439965729342132\n",
            "Validation Dice Score Coef: 0.6984710346479885\n"
          ]
        },
        {
          "name": "stderr",
          "output_type": "stream",
          "text": [
            "Epoch 9/25: 100%|██████████| 544/544 [00:20<00:00, 26.23batch/s, DiceCoef=0.723, loss=0.0881]\n"
          ]
        },
        {
          "name": "stdout",
          "output_type": "stream",
          "text": [
            "Epoch [9/25], Total Train Loss: 46.13220363110304\n",
            "Epoch [9/25], Dice Score for Training : 0.7507954378447989\n"
          ]
        },
        {
          "name": "stderr",
          "output_type": "stream",
          "text": [
            "Validation: 100%|██████████| 61/61 [00:01<00:00, 46.97batch/s, DiceCoef=0, loss=0.0268]    \n"
          ]
        },
        {
          "name": "stdout",
          "output_type": "stream",
          "text": [
            "Validation Loss: 0.08230474667593105\n",
            "Validation Dice Score Coef: 0.7151159859094464\n"
          ]
        },
        {
          "name": "stderr",
          "output_type": "stream",
          "text": [
            "Epoch 10/25: 100%|██████████| 544/544 [00:20<00:00, 26.31batch/s, DiceCoef=0.805, loss=0.0551]\n"
          ]
        },
        {
          "name": "stdout",
          "output_type": "stream",
          "text": [
            "Epoch [10/25], Total Train Loss: 44.89843036606908\n",
            "Epoch [10/25], Dice Score for Training : 0.7569613319766872\n"
          ]
        },
        {
          "name": "stderr",
          "output_type": "stream",
          "text": [
            "Validation: 100%|██████████| 61/61 [00:01<00:00, 46.71batch/s, DiceCoef=0, loss=0.0184]    \n"
          ]
        },
        {
          "name": "stdout",
          "output_type": "stream",
          "text": [
            "Validation Loss: 0.08223510124400014\n",
            "Validation Dice Score Coef: 0.7111223178808806\n"
          ]
        },
        {
          "name": "stderr",
          "output_type": "stream",
          "text": [
            "Epoch 11/25: 100%|██████████| 544/544 [00:20<00:00, 26.35batch/s, DiceCoef=0.701, loss=0.111] \n"
          ]
        },
        {
          "name": "stdout",
          "output_type": "stream",
          "text": [
            "Epoch [11/25], Total Train Loss: 44.164787355810404\n",
            "Epoch [11/25], Dice Score for Training : 0.7614594296935726\n"
          ]
        },
        {
          "name": "stderr",
          "output_type": "stream",
          "text": [
            "Validation: 100%|██████████| 61/61 [00:01<00:00, 46.72batch/s, DiceCoef=0, loss=0.0115]    \n"
          ]
        },
        {
          "name": "stdout",
          "output_type": "stream",
          "text": [
            "Validation Loss: 0.08183736923593478\n",
            "Validation Dice Score Coef: 0.7048631151680087\n"
          ]
        },
        {
          "name": "stderr",
          "output_type": "stream",
          "text": [
            "Epoch 12/25: 100%|██████████| 544/544 [00:20<00:00, 26.91batch/s, DiceCoef=0.89, loss=0.0505] \n"
          ]
        },
        {
          "name": "stdout",
          "output_type": "stream",
          "text": [
            "Epoch [12/25], Total Train Loss: 43.22323048859835\n",
            "Epoch [12/25], Dice Score for Training : 0.7650890071492862\n"
          ]
        },
        {
          "name": "stderr",
          "output_type": "stream",
          "text": [
            "Validation: 100%|██████████| 61/61 [00:01<00:00, 45.94batch/s, DiceCoef=0, loss=0.0146]    \n"
          ]
        },
        {
          "name": "stdout",
          "output_type": "stream",
          "text": [
            "Validation Loss: 0.07922367357694712\n",
            "Validation Dice Score Coef: 0.713746395267424\n"
          ]
        },
        {
          "name": "stderr",
          "output_type": "stream",
          "text": [
            "Epoch 13/25: 100%|██████████| 544/544 [00:20<00:00, 25.98batch/s, DiceCoef=0.834, loss=0.0639]\n"
          ]
        },
        {
          "name": "stdout",
          "output_type": "stream",
          "text": [
            "Epoch [13/25], Total Train Loss: 42.67110164090991\n",
            "Epoch [13/25], Dice Score for Training : 0.7678282324443845\n"
          ]
        },
        {
          "name": "stderr",
          "output_type": "stream",
          "text": [
            "Validation: 100%|██████████| 61/61 [00:01<00:00, 46.54batch/s, DiceCoef=0, loss=0.0118]    \n"
          ]
        },
        {
          "name": "stdout",
          "output_type": "stream",
          "text": [
            "Validation Loss: 0.0758617996528256\n",
            "Validation Dice Score Coef: 0.7339381771009477\n"
          ]
        },
        {
          "name": "stderr",
          "output_type": "stream",
          "text": [
            "Epoch 14/25: 100%|██████████| 544/544 [00:20<00:00, 26.58batch/s, DiceCoef=0.725, loss=0.076] \n"
          ]
        },
        {
          "name": "stdout",
          "output_type": "stream",
          "text": [
            "Epoch [14/25], Total Train Loss: 41.71807462722063\n",
            "Epoch [14/25], Dice Score for Training : 0.7731326504007858\n"
          ]
        },
        {
          "name": "stderr",
          "output_type": "stream",
          "text": [
            "Validation: 100%|██████████| 61/61 [00:01<00:00, 44.79batch/s, DiceCoef=0, loss=0.0152]    \n"
          ]
        },
        {
          "name": "stdout",
          "output_type": "stream",
          "text": [
            "Validation Loss: 0.07753579628455345\n",
            "Validation Dice Score Coef: 0.7266914502519076\n"
          ]
        },
        {
          "name": "stderr",
          "output_type": "stream",
          "text": [
            "Epoch 15/25: 100%|██████████| 544/544 [00:20<00:00, 26.95batch/s, DiceCoef=0.622, loss=0.116] \n"
          ]
        },
        {
          "name": "stdout",
          "output_type": "stream",
          "text": [
            "Epoch [15/25], Total Train Loss: 41.030425269156694\n",
            "Epoch [15/25], Dice Score for Training : 0.7764719267759252\n"
          ]
        },
        {
          "name": "stderr",
          "output_type": "stream",
          "text": [
            "Validation: 100%|██████████| 61/61 [00:01<00:00, 45.55batch/s, DiceCoef=0, loss=0.00986]   \n"
          ]
        },
        {
          "name": "stdout",
          "output_type": "stream",
          "text": [
            "Validation Loss: 0.0737921452363495\n",
            "Validation Dice Score Coef: 0.7184944604752493\n"
          ]
        },
        {
          "name": "stderr",
          "output_type": "stream",
          "text": [
            "Epoch 16/25: 100%|██████████| 544/544 [00:20<00:00, 26.07batch/s, DiceCoef=0.799, loss=0.0717]\n"
          ]
        },
        {
          "name": "stdout",
          "output_type": "stream",
          "text": [
            "Epoch [16/25], Total Train Loss: 40.31827165931463\n",
            "Epoch [16/25], Dice Score for Training : 0.7792710454805809\n"
          ]
        },
        {
          "name": "stderr",
          "output_type": "stream",
          "text": [
            "Validation: 100%|██████████| 61/61 [00:01<00:00, 38.70batch/s, DiceCoef=0, loss=0.0182]    \n"
          ]
        },
        {
          "name": "stdout",
          "output_type": "stream",
          "text": [
            "Validation Loss: 0.07497677423792784\n",
            "Validation Dice Score Coef: 0.7384225022597392\n"
          ]
        },
        {
          "name": "stderr",
          "output_type": "stream",
          "text": [
            "Epoch 17/25: 100%|██████████| 544/544 [00:20<00:00, 26.58batch/s, DiceCoef=0.765, loss=0.0733]\n"
          ]
        },
        {
          "name": "stdout",
          "output_type": "stream",
          "text": [
            "Epoch [17/25], Total Train Loss: 39.89084164425731\n",
            "Epoch [17/25], Dice Score for Training : 0.7821392146322657\n"
          ]
        },
        {
          "name": "stderr",
          "output_type": "stream",
          "text": [
            "Validation: 100%|██████████| 61/61 [00:01<00:00, 43.67batch/s, DiceCoef=0, loss=0.00563]   \n"
          ]
        },
        {
          "name": "stdout",
          "output_type": "stream",
          "text": [
            "Validation Loss: 0.08204283752310716\n",
            "Validation Dice Score Coef: 0.7330573254921398\n"
          ]
        },
        {
          "name": "stderr",
          "output_type": "stream",
          "text": [
            "Epoch 18/25: 100%|██████████| 544/544 [00:20<00:00, 26.49batch/s, DiceCoef=0.847, loss=0.0571]\n"
          ]
        },
        {
          "name": "stdout",
          "output_type": "stream",
          "text": [
            "Epoch [18/25], Total Train Loss: 39.46258461475372\n",
            "Epoch [18/25], Dice Score for Training : 0.7867496683097938\n"
          ]
        },
        {
          "name": "stderr",
          "output_type": "stream",
          "text": [
            "Validation: 100%|██████████| 61/61 [00:01<00:00, 47.82batch/s, DiceCoef=0, loss=0.00757]   \n"
          ]
        },
        {
          "name": "stdout",
          "output_type": "stream",
          "text": [
            "Validation Loss: 0.07820607572946636\n",
            "Validation Dice Score Coef: 0.7431085813240926\n"
          ]
        },
        {
          "name": "stderr",
          "output_type": "stream",
          "text": [
            "Epoch 19/25: 100%|██████████| 544/544 [00:20<00:00, 26.29batch/s, DiceCoef=0.79, loss=0.0759] \n"
          ]
        },
        {
          "name": "stdout",
          "output_type": "stream",
          "text": [
            "Epoch [19/25], Total Train Loss: 38.923779260367155\n",
            "Epoch [19/25], Dice Score for Training : 0.7890570754294887\n"
          ]
        },
        {
          "name": "stderr",
          "output_type": "stream",
          "text": [
            "Validation: 100%|██████████| 61/61 [00:01<00:00, 45.73batch/s, DiceCoef=0, loss=0.00998]   \n"
          ]
        },
        {
          "name": "stdout",
          "output_type": "stream",
          "text": [
            "Validation Loss: 0.07173347433448815\n",
            "Validation Dice Score Coef: 0.7504895368560416\n"
          ]
        },
        {
          "name": "stderr",
          "output_type": "stream",
          "text": [
            "Epoch 20/25: 100%|██████████| 544/544 [00:20<00:00, 26.64batch/s, DiceCoef=0.687, loss=0.0979]\n"
          ]
        },
        {
          "name": "stdout",
          "output_type": "stream",
          "text": [
            "Epoch [20/25], Total Train Loss: 37.805984646081924\n",
            "Epoch [20/25], Dice Score for Training : 0.7934005898149574\n"
          ]
        },
        {
          "name": "stderr",
          "output_type": "stream",
          "text": [
            "Validation: 100%|██████████| 61/61 [00:01<00:00, 47.91batch/s, DiceCoef=0, loss=0.00359]   \n"
          ]
        },
        {
          "name": "stdout",
          "output_type": "stream",
          "text": [
            "Validation Loss: 0.07383180281040488\n",
            "Validation Dice Score Coef: 0.7383444055182035\n"
          ]
        },
        {
          "name": "stderr",
          "output_type": "stream",
          "text": [
            "Epoch 21/25: 100%|██████████| 544/544 [00:20<00:00, 26.78batch/s, DiceCoef=0.737, loss=0.0747]\n"
          ]
        },
        {
          "name": "stdout",
          "output_type": "stream",
          "text": [
            "Epoch [21/25], Total Train Loss: 37.390493251383305\n",
            "Epoch [21/25], Dice Score for Training : 0.7935285826816278\n"
          ]
        },
        {
          "name": "stderr",
          "output_type": "stream",
          "text": [
            "Validation: 100%|██████████| 61/61 [00:01<00:00, 44.96batch/s, DiceCoef=0, loss=0.0057]    \n"
          ]
        },
        {
          "name": "stdout",
          "output_type": "stream",
          "text": [
            "Validation Loss: 0.06959388176070862\n",
            "Validation Dice Score Coef: 0.7495908663898218\n"
          ]
        },
        {
          "name": "stderr",
          "output_type": "stream",
          "text": [
            "Epoch 22/25: 100%|██████████| 544/544 [00:20<00:00, 26.88batch/s, DiceCoef=0.742, loss=0.0972]\n"
          ]
        },
        {
          "name": "stdout",
          "output_type": "stream",
          "text": [
            "Epoch [22/25], Total Train Loss: 36.808616664260626\n",
            "Epoch [22/25], Dice Score for Training : 0.7983871573472724\n"
          ]
        },
        {
          "name": "stderr",
          "output_type": "stream",
          "text": [
            "Validation: 100%|██████████| 61/61 [00:01<00:00, 50.07batch/s, DiceCoef=0, loss=0.00315]   \n"
          ]
        },
        {
          "name": "stdout",
          "output_type": "stream",
          "text": [
            "Validation Loss: 0.06897652354549433\n",
            "Validation Dice Score Coef: 0.7556586588015322\n"
          ]
        },
        {
          "name": "stderr",
          "output_type": "stream",
          "text": [
            "Epoch 23/25: 100%|██████████| 544/544 [00:20<00:00, 26.51batch/s, DiceCoef=0.789, loss=0.0945]\n"
          ]
        },
        {
          "name": "stdout",
          "output_type": "stream",
          "text": [
            "Epoch [23/25], Total Train Loss: 36.37376603111625\n",
            "Epoch [23/25], Dice Score for Training : 0.8006689666825182\n"
          ]
        },
        {
          "name": "stderr",
          "output_type": "stream",
          "text": [
            "Validation: 100%|██████████| 61/61 [00:01<00:00, 47.55batch/s, DiceCoef=0, loss=0.00631]   \n"
          ]
        },
        {
          "name": "stdout",
          "output_type": "stream",
          "text": [
            "Validation Loss: 0.07073551364487311\n",
            "Validation Dice Score Coef: 0.7572746579764319\n"
          ]
        },
        {
          "name": "stderr",
          "output_type": "stream",
          "text": [
            "Epoch 24/25: 100%|██████████| 544/544 [00:20<00:00, 26.07batch/s, DiceCoef=0.782, loss=0.0577]\n"
          ]
        },
        {
          "name": "stdout",
          "output_type": "stream",
          "text": [
            "Epoch [24/25], Total Train Loss: 37.60629217326641\n",
            "Epoch [24/25], Dice Score for Training : 0.7985367193160688\n"
          ]
        },
        {
          "name": "stderr",
          "output_type": "stream",
          "text": [
            "Validation: 100%|██████████| 61/61 [00:01<00:00, 47.38batch/s, DiceCoef=0, loss=0.0131]    \n"
          ]
        },
        {
          "name": "stdout",
          "output_type": "stream",
          "text": [
            "Validation Loss: 0.07028070432668337\n",
            "Validation Dice Score Coef: 0.7551788648620981\n"
          ]
        },
        {
          "name": "stderr",
          "output_type": "stream",
          "text": [
            "Epoch 25/25: 100%|██████████| 544/544 [00:20<00:00, 26.47batch/s, DiceCoef=0.767, loss=0.0695]\n"
          ]
        },
        {
          "name": "stdout",
          "output_type": "stream",
          "text": [
            "Epoch [25/25], Total Train Loss: 35.435794088989496\n",
            "Epoch [25/25], Dice Score for Training : 0.8048774522236165\n"
          ]
        },
        {
          "name": "stderr",
          "output_type": "stream",
          "text": [
            "Validation: 100%|██████████| 61/61 [00:01<00:00, 45.75batch/s, DiceCoef=0, loss=0.00475]   \n"
          ]
        },
        {
          "name": "stdout",
          "output_type": "stream",
          "text": [
            "Validation Loss: 0.06782137183472514\n",
            "Validation Dice Score Coef: 0.7652512490749359\n"
          ]
        }
      ],
      "source": [
        "#Model\n",
        "model = UNet()\n",
        "model.to(device)\n",
        "#Hyper Parameters\n",
        "lr = 0.001\n",
        "weight_decay = 1e-5\n",
        "betas = (0.9, 0.999)\n",
        "optimizer = Adam(model.parameters(), lr=lr)\n",
        "#criterion = FocalLoss() #FocalLoss + BCE\n",
        "#criterion =BinaryDiceLoss() #DiceLoss + BCE\n",
        "criterion = nn.BCELoss() #Binary Score Entropy\n",
        "num_epochs = 25\n",
        "train_loss=[]\n",
        "train_dice_score=[]\n",
        "validation_loss=[]\n",
        "validation_dice_score=[]\n",
        "for e in range(num_epochs):\n",
        "    model.train()\n",
        "    total_train_loss = 0\n",
        "    total_dice_coef = 0\n",
        "    sample = 0\n",
        "    nb_batch = 0\n",
        "    with tqdm(train_loader, desc=f'Epoch {e+1}/{num_epochs}', unit='batch') as tqdm_loader:\n",
        "        for images, masks,_,_ in tqdm_loader:\n",
        "            optimizer.zero_grad()\n",
        "            images = images.to(device)\n",
        "            masks = masks.to(device)\n",
        "            masks = masks.float()\n",
        "            images = images.unsqueeze(1)\n",
        "            masks = masks.unsqueeze(1)\n",
        "            pred = model(images)\n",
        "            loss = criterion(pred, masks).mean().float()\n",
        "            y_pred = pred.data.cpu().numpy().ravel()\n",
        "            y_true = masks.data.cpu().numpy().ravel()\n",
        "            dice_coef = dice_coeff(y_pred, y_true)\n",
        "            loss.backward()\n",
        "            optimizer.step()\n",
        "            total_train_loss += loss.item()\n",
        "            total_dice_coef += dice_coef.item()\n",
        "            sample += len(images)\n",
        "            nb_batch += 1\n",
        "            tqdm_loader.set_postfix(loss=loss.item(), DiceCoef=dice_coef.item())\n",
        "\n",
        "        overall_loss=total_train_loss/nb_batch\n",
        "        overall_score = total_dice_coef / nb_batch\n",
        "        train_loss.append(overall_loss)\n",
        "        train_dice_score.append(overall_score)\n",
        "    print(f\"Epoch [{e+1}/{num_epochs}], Total Train Loss: {total_train_loss}\")\n",
        "    print(f\"Epoch [{e+1}/{num_epochs}], Dice Score for Training : {overall_score}\")\n",
        "    # Validation\n",
        "    val_loss,val_dice_coef=validation(model, val_loader, criterion, device)\n",
        "    validation_loss.append(val_loss)\n",
        "    validation_dice_score.append(val_dice_coef)\n",
        "    # Save the model\n",
        "    save_dir = \"../results\"\n",
        "    model_path = os.path.join(save_dir, f\"model_epoch_{e+1}.pt\")\n",
        "    torch.save(model.state_dict(), model_path)"
      ]
    },
    {
      "cell_type": "markdown",
      "metadata": {
        "id": "BoKWDZHi9czf"
      },
      "source": [
        "Visualizing the results:"
      ]
    },
    {
      "cell_type": "code",
      "execution_count": null,
      "metadata": {
        "colab": {
          "base_uri": "https://localhost:8080/",
          "height": 957
        },
        "id": "twuod6Ni_w4b",
        "outputId": "f62c9608-a6d9-49c1-ea23-3013a1843485"
      },
      "outputs": [
        {
          "data": {
            "image/png": "[encoded data removed]",
            "text/plain": [
              "<Figure size 1000x500 with 1 Axes>"
            ]
          },
          "metadata": {},
          "output_type": "display_data"
        },
        {
          "data": {
            "image/png": "[encoded data removed]",
            "text/plain": [
              "<Figure size 1000x500 with 1 Axes>"
            ]
          },
          "metadata": {},
          "output_type": "display_data"
        }
      ],
      "source": [
        "# Plot training and validation loss\n",
        "plt.figure(figsize=(10, 5))\n",
        "plt.plot(range(1, len(train_loss) + 1), train_loss, label='Training Loss', color='blue')\n",
        "plt.plot(range(1, len(validation_loss) + 1), validation_loss, label='Validation Loss', color='orange')\n",
        "plt.xlabel('Epoch')\n",
        "plt.ylabel('Loss')\n",
        "plt.title('Training and Validation Loss')\n",
        "plt.legend()\n",
        "plt.grid(True)\n",
        "plt.show()\n",
        "\n",
        "# Plot training and validation dice score\n",
        "plt.figure(figsize=(10, 5))\n",
        "plt.plot(range(1, len(train_dice_score) + 1), train_dice_score, label='Training Dice Score', color='blue')\n",
        "plt.plot(range(1, len(validation_dice_score) + 1), validation_dice_score, label='Validation Dice Score', color='orange')\n",
        "plt.xlabel('Epoch')\n",
        "plt.ylabel('Dice Score')\n",
        "plt.title('Training and Validation Dice Score')\n",
        "plt.legend()\n",
        "plt.grid(True)\n",
        "plt.show()"
      ]
    }
  ],
  "metadata": {
    "accelerator": "GPU",
    "colab": {
      "gpuType": "T4",
      "provenance": []
    },
    "kaggle": {
      "accelerator": "gpu",
      "dataSources": [
        {
          "datasetId": 4451693,
          "sourceId": 7638652,
          "sourceType": "datasetVersion"
        }
      ],
      "dockerImageVersionId": 30646,
      "isGpuEnabled": true,
      "isInternetEnabled": true,
      "language": "python",
      "sourceType": "notebook"
    },
    "kernelspec": {
      "display_name": "Python 3",
      "name": "python3"
    },
    "language_info": {
      "codemirror_mode": {
        "name": "ipython",
        "version": 3
      },
      "file_extension": ".py",
      "mimetype": "text/x-python",
      "name": "python",
      "nbconvert_exporter": "python",
      "pygments_lexer": "ipython3",
      "version": "3.10.12"
    }
  },
  "nbformat": 4,
  "nbformat_minor": 0
}
