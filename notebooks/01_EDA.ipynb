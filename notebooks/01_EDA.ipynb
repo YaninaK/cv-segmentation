{
  "cells": [
    {
      "cell_type": "markdown",
      "metadata": {
        "id": "view-in-github",
        "colab_type": "text"
      },
      "source": [
        "<a href=\"https://colab.research.google.com/github/YaninaK/cv-segmentation/blob/b1/notebooks/01_EDA.ipynb\" target=\"_parent\"><img src=\"https://colab.research.google.com/assets/colab-badge.svg\" alt=\"Open In Colab\"/></a>"
      ]
    },
    {
      "cell_type": "markdown",
      "metadata": {
        "id": "oKCgu2rHwEc8"
      },
      "source": [
        "# Corrosion detection in steel pipes\n",
        "\n",
        "## 1. EDA, Label Refinement & Image Enhancement"
      ]
    },
    {
      "cell_type": "markdown",
      "metadata": {
        "id": "EUGZlBgnwX7R"
      },
      "source": [
        "* **The objective**:\n",
        "The objective of this challenge is to train a model that have the highest possible score for the segmentation of groove defects using the provided data"
      ]
    },
    {
      "cell_type": "code",
      "execution_count": 1,
      "metadata": {
        "colab": {
          "base_uri": "https://localhost:8080/"
        },
        "id": "kLUatu0znap0",
        "outputId": "e12127cb-728a-4c7d-cdd2-ad7d83e7d8df"
      },
      "outputs": [
        {
          "output_type": "stream",
          "name": "stdout",
          "text": [
            "Mounted at /content/drive\n",
            "/content/cv-segmentation/notebooks\n"
          ]
        }
      ],
      "source": [
        "initiate = True\n",
        "if initiate:\n",
        "  !git init -q\n",
        "  !git clone -b b1 https://github.com/YaninaK/cv-segmentation.git -q\n",
        "\n",
        "  from google.colab import drive\n",
        "  drive.mount('/content/drive')\n",
        "\n",
        "  !unzip -u -q /content/drive/MyDrive/ML_projects/07_CV/data/01_raw/X_train_corrected.zip -d /content/cv-segmentation/data/raw\n",
        "  !unzip -u -q /content/drive/MyDrive/ML_projects/07_CV/data/01_raw/masks.zip -d /content/cv-segmentation/data/raw\n",
        "  !cp /content/drive/MyDrive/ML_projects/07_CV/data/01_raw/y_train.csv -d /content/cv-segmentation/data/raw\n",
        "\n",
        "%cd /content/cv-segmentation/notebooks"
      ]
    },
    {
      "cell_type": "markdown",
      "metadata": {
        "id": "3r-hNlo2CICN"
      },
      "source": [
        "## Install Packages"
      ]
    },
    {
      "cell_type": "code",
      "execution_count": 2,
      "metadata": {
        "colab": {
          "base_uri": "https://localhost:8080/"
        },
        "id": "mkTL_grICFx0",
        "outputId": "445ee149-155d-439d-8d6c-e9ed25dc2065"
      },
      "outputs": [
        {
          "output_type": "stream",
          "name": "stdout",
          "text": [
            "Requirement already satisfied: imutils in /usr/local/lib/python3.10/dist-packages (0.5.4)\n",
            "Requirement already satisfied: torchsummary in /usr/local/lib/python3.10/dist-packages (1.5.1)\n"
          ]
        }
      ],
      "source": [
        "#install packages\n",
        "!pip install imutils\n",
        "!pip install torchsummary"
      ]
    },
    {
      "cell_type": "markdown",
      "metadata": {
        "id": "5vxsdjjFcnNq"
      },
      "source": [
        "* Для воспроизводимости среды необходимые версии библиотек лучше зафиксировать, например, в файле requirements.txt\n",
        "```\n",
        "imutils==0.5.4\n",
        "torchsummary==1.5.1\n",
        "...\n",
        "```\n",
        "\n",
        "\n",
        "Тогда установка будет выглдеть так:\n",
        "\n",
        "```\n",
        "!pip install -r requirements.txt\n",
        "```"
      ]
    },
    {
      "cell_type": "code",
      "execution_count": 3,
      "metadata": {
        "id": "FeDqIfAVrjWJ"
      },
      "outputs": [],
      "source": [
        "import torch\n",
        "import torch.nn as nn\n",
        "from torch.utils.data import Dataset, DataLoader\n",
        "import numpy as np\n",
        "import imutils.paths as paths\n",
        "import glob\n",
        "import matplotlib.pyplot as plt\n",
        "import os\n",
        "from torchvision import transforms\n",
        "from PIL import Image\n",
        "from torch.optim import Adam\n",
        "from torchsummary import summary\n",
        "from tqdm import tqdm\n",
        "import random\n",
        "import shutil\n",
        "import cv2\n",
        "from scipy.ndimage import binary_fill_holes\n",
        "import pandas as pd\n",
        "from pathlib import Path"
      ]
    },
    {
      "cell_type": "code",
      "execution_count": 4,
      "metadata": {
        "id": "Xpx2Ozg2cNy3"
      },
      "outputs": [],
      "source": [
        "import pandas as pd\n",
        "import os\n",
        "import numpy as np\n",
        "import matplotlib.pyplot as plt\n",
        "from tqdm import tqdm\n",
        "import random"
      ]
    },
    {
      "cell_type": "markdown",
      "metadata": {
        "id": "8rPppdLsgFEk"
      },
      "source": [
        "* Импорт лучше упорядочить по алфавиту с разделением на секции и по типам, например, как это делает библиотека [isort](https://pycqa.github.io/isort/).\n",
        "Это позволит избежать повторений как, например ```from tqdm import tqdm```, ```import random``` и т.п.\n",
        "\n",
        "Тогда иморт выглядел бы так:\n"
      ]
    },
    {
      "cell_type": "markdown",
      "metadata": {
        "id": "pf452ljZjULv"
      },
      "source": [
        "```\n",
        "import glob\n",
        "import os\n",
        "import random\n",
        "import shutil\n",
        "from pathlib import Path\n",
        "\n",
        "import cv2\n",
        "import imutils.paths as paths\n",
        "import matplotlib.pyplot as plt\n",
        "import numpy as np\n",
        "import pandas as pd\n",
        "import torch\n",
        "import torch.nn as nn\n",
        "from PIL import Image\n",
        "from scipy.ndimage import binary_fill_holes\n",
        "from torch.optim import Adam\n",
        "from torch.utils.data import DataLoader, Dataset\n",
        "from torchsummary import summary\n",
        "from torchvision import transforms\n",
        "from tqdm import tqdm\n",
        "```"
      ]
    },
    {
      "cell_type": "markdown",
      "metadata": {
        "id": "BrSQharecNy3"
      },
      "source": [
        "## Look at the data\n"
      ]
    },
    {
      "cell_type": "markdown",
      "metadata": {
        "id": "2IiBEzWejtvf"
      },
      "source": [
        "* Блок Look at the data (EDA) лучше делать в отдельном ноутбуке и давать на него ссылку"
      ]
    },
    {
      "cell_type": "code",
      "execution_count": 5,
      "metadata": {
        "colab": {
          "base_uri": "https://localhost:8080/"
        },
        "id": "hQMdcno_cNy4",
        "outputId": "37362bfd-9b78-46f8-db74-ca72cabaadfb"
      },
      "outputs": [
        {
          "output_type": "stream",
          "name": "stdout",
          "text": [
            "<class 'pandas.core.frame.DataFrame'>\n",
            "Index: 9674 entries, well_10_patch_0 to well_15_patch_99\n",
            "Columns: 1296 entries, 0 to 1295\n",
            "dtypes: int64(1296)\n",
            "memory usage: 95.7+ MB\n"
          ]
        }
      ],
      "source": [
        "# Read file\n",
        "y_train=pd.read_csv('../data/raw/y_train.csv',index_col=0) #Table with index being the name of the patch\n",
        "y_train.info()"
      ]
    },
    {
      "cell_type": "code",
      "execution_count": 6,
      "metadata": {
        "colab": {
          "base_uri": "https://localhost:8080/",
          "height": 235
        },
        "id": "nBE2kTOPcNy5",
        "outputId": "da5b7b60-6d05-4377-df24-bc1a077f6e4c"
      },
      "outputs": [
        {
          "output_type": "display_data",
          "data": {
            "text/plain": [
              "                  0  1  2  3  4  5  6  7  8  9  ...  1286  1287  1288  1289  \\\n",
              "well_10_patch_0   0  0  0  0  0  0  0  0  0  0  ...     0     0     0     0   \n",
              "well_10_patch_1   0  0  0  0  0  0  0  0  0  0  ...     0     0     0     0   \n",
              "well_10_patch_10  0  0  0  0  0  0  0  0  0  0  ...     0     0     0     0   \n",
              "well_10_patch_11  0  0  0  0  0  0  0  0  0  0  ...     0     0     0     0   \n",
              "well_10_patch_12  0  0  0  0  0  0  0  0  0  0  ...     0     0     0     0   \n",
              "\n",
              "                  1290  1291  1292  1293  1294  1295  \n",
              "well_10_patch_0      0     0     0     0     0     0  \n",
              "well_10_patch_1      0     0     0     0     0     0  \n",
              "well_10_patch_10     0     0     0     0     0     0  \n",
              "well_10_patch_11     0     0     0     0     0     0  \n",
              "well_10_patch_12     0     0     0     0     0     0  \n",
              "\n",
              "[5 rows x 1296 columns]"
            ],
            "text/html": [
              "\n",
              "  <div id=\"df-75af77fe-597d-43a8-b8b4-4c3379874123\" class=\"colab-df-container\">\n",
              "    <div>\n",
              "<style scoped>\n",
              "    .dataframe tbody tr th:only-of-type {\n",
              "        vertical-align: middle;\n",
              "    }\n",
              "\n",
              "    .dataframe tbody tr th {\n",
              "        vertical-align: top;\n",
              "    }\n",
              "\n",
              "    .dataframe thead th {\n",
              "        text-align: right;\n",
              "    }\n",
              "</style>\n",
              "<table border=\"1\" class=\"dataframe\">\n",
              "  <thead>\n",
              "    <tr style=\"text-align: right;\">\n",
              "      <th></th>\n",
              "      <th>0</th>\n",
              "      <th>1</th>\n",
              "      <th>2</th>\n",
              "      <th>3</th>\n",
              "      <th>4</th>\n",
              "      <th>5</th>\n",
              "      <th>6</th>\n",
              "      <th>7</th>\n",
              "      <th>8</th>\n",
              "      <th>9</th>\n",
              "      <th>...</th>\n",
              "      <th>1286</th>\n",
              "      <th>1287</th>\n",
              "      <th>1288</th>\n",
              "      <th>1289</th>\n",
              "      <th>1290</th>\n",
              "      <th>1291</th>\n",
              "      <th>1292</th>\n",
              "      <th>1293</th>\n",
              "      <th>1294</th>\n",
              "      <th>1295</th>\n",
              "    </tr>\n",
              "  </thead>\n",
              "  <tbody>\n",
              "    <tr>\n",
              "      <th>well_10_patch_0</th>\n",
              "      <td>0</td>\n",
              "      <td>0</td>\n",
              "      <td>0</td>\n",
              "      <td>0</td>\n",
              "      <td>0</td>\n",
              "      <td>0</td>\n",
              "      <td>0</td>\n",
              "      <td>0</td>\n",
              "      <td>0</td>\n",
              "      <td>0</td>\n",
              "      <td>...</td>\n",
              "      <td>0</td>\n",
              "      <td>0</td>\n",
              "      <td>0</td>\n",
              "      <td>0</td>\n",
              "      <td>0</td>\n",
              "      <td>0</td>\n",
              "      <td>0</td>\n",
              "      <td>0</td>\n",
              "      <td>0</td>\n",
              "      <td>0</td>\n",
              "    </tr>\n",
              "    <tr>\n",
              "      <th>well_10_patch_1</th>\n",
              "      <td>0</td>\n",
              "      <td>0</td>\n",
              "      <td>0</td>\n",
              "      <td>0</td>\n",
              "      <td>0</td>\n",
              "      <td>0</td>\n",
              "      <td>0</td>\n",
              "      <td>0</td>\n",
              "      <td>0</td>\n",
              "      <td>0</td>\n",
              "      <td>...</td>\n",
              "      <td>0</td>\n",
              "      <td>0</td>\n",
              "      <td>0</td>\n",
              "      <td>0</td>\n",
              "      <td>0</td>\n",
              "      <td>0</td>\n",
              "      <td>0</td>\n",
              "      <td>0</td>\n",
              "      <td>0</td>\n",
              "      <td>0</td>\n",
              "    </tr>\n",
              "    <tr>\n",
              "      <th>well_10_patch_10</th>\n",
              "      <td>0</td>\n",
              "      <td>0</td>\n",
              "      <td>0</td>\n",
              "      <td>0</td>\n",
              "      <td>0</td>\n",
              "      <td>0</td>\n",
              "      <td>0</td>\n",
              "      <td>0</td>\n",
              "      <td>0</td>\n",
              "      <td>0</td>\n",
              "      <td>...</td>\n",
              "      <td>0</td>\n",
              "      <td>0</td>\n",
              "      <td>0</td>\n",
              "      <td>0</td>\n",
              "      <td>0</td>\n",
              "      <td>0</td>\n",
              "      <td>0</td>\n",
              "      <td>0</td>\n",
              "      <td>0</td>\n",
              "      <td>0</td>\n",
              "    </tr>\n",
              "    <tr>\n",
              "      <th>well_10_patch_11</th>\n",
              "      <td>0</td>\n",
              "      <td>0</td>\n",
              "      <td>0</td>\n",
              "      <td>0</td>\n",
              "      <td>0</td>\n",
              "      <td>0</td>\n",
              "      <td>0</td>\n",
              "      <td>0</td>\n",
              "      <td>0</td>\n",
              "      <td>0</td>\n",
              "      <td>...</td>\n",
              "      <td>0</td>\n",
              "      <td>0</td>\n",
              "      <td>0</td>\n",
              "      <td>0</td>\n",
              "      <td>0</td>\n",
              "      <td>0</td>\n",
              "      <td>0</td>\n",
              "      <td>0</td>\n",
              "      <td>0</td>\n",
              "      <td>0</td>\n",
              "    </tr>\n",
              "    <tr>\n",
              "      <th>well_10_patch_12</th>\n",
              "      <td>0</td>\n",
              "      <td>0</td>\n",
              "      <td>0</td>\n",
              "      <td>0</td>\n",
              "      <td>0</td>\n",
              "      <td>0</td>\n",
              "      <td>0</td>\n",
              "      <td>0</td>\n",
              "      <td>0</td>\n",
              "      <td>0</td>\n",
              "      <td>...</td>\n",
              "      <td>0</td>\n",
              "      <td>0</td>\n",
              "      <td>0</td>\n",
              "      <td>0</td>\n",
              "      <td>0</td>\n",
              "      <td>0</td>\n",
              "      <td>0</td>\n",
              "      <td>0</td>\n",
              "      <td>0</td>\n",
              "      <td>0</td>\n",
              "    </tr>\n",
              "  </tbody>\n",
              "</table>\n",
              "<p>5 rows × 1296 columns</p>\n",
              "</div>\n",
              "    <div class=\"colab-df-buttons\">\n",
              "\n",
              "  <div class=\"colab-df-container\">\n",
              "    <button class=\"colab-df-convert\" onclick=\"convertToInteractive('df-75af77fe-597d-43a8-b8b4-4c3379874123')\"\n",
              "            title=\"Convert this dataframe to an interactive table.\"\n",
              "            style=\"display:none;\">\n",
              "\n",
              "  <svg xmlns=\"http://www.w3.org/2000/svg\" height=\"24px\" viewBox=\"0 -960 960 960\">\n",
              "    <path d=\"M120-120v-720h720v720H120Zm60-500h600v-160H180v160Zm220 220h160v-160H400v160Zm0 220h160v-160H400v160ZM180-400h160v-160H180v160Zm440 0h160v-160H620v160ZM180-180h160v-160H180v160Zm440 0h160v-160H620v160Z\"/>\n",
              "  </svg>\n",
              "    </button>\n",
              "\n",
              "  <style>\n",
              "    .colab-df-container {\n",
              "      display:flex;\n",
              "      gap: 12px;\n",
              "    }\n",
              "\n",
              "    .colab-df-convert {\n",
              "      background-color: #E8F0FE;\n",
              "      border: none;\n",
              "      border-radius: 50%;\n",
              "      cursor: pointer;\n",
              "      display: none;\n",
              "      fill: #1967D2;\n",
              "      height: 32px;\n",
              "      padding: 0 0 0 0;\n",
              "      width: 32px;\n",
              "    }\n",
              "\n",
              "    .colab-df-convert:hover {\n",
              "      background-color: #E2EBFA;\n",
              "      box-shadow: 0px 1px 2px rgba(60, 64, 67, 0.3), 0px 1px 3px 1px rgba(60, 64, 67, 0.15);\n",
              "      fill: #174EA6;\n",
              "    }\n",
              "\n",
              "    .colab-df-buttons div {\n",
              "      margin-bottom: 4px;\n",
              "    }\n",
              "\n",
              "    [theme=dark] .colab-df-convert {\n",
              "      background-color: #3B4455;\n",
              "      fill: #D2E3FC;\n",
              "    }\n",
              "\n",
              "    [theme=dark] .colab-df-convert:hover {\n",
              "      background-color: #434B5C;\n",
              "      box-shadow: 0px 1px 3px 1px rgba(0, 0, 0, 0.15);\n",
              "      filter: drop-shadow(0px 1px 2px rgba(0, 0, 0, 0.3));\n",
              "      fill: #FFFFFF;\n",
              "    }\n",
              "  </style>\n",
              "\n",
              "    <script>\n",
              "      const buttonEl =\n",
              "        document.querySelector('#df-75af77fe-597d-43a8-b8b4-4c3379874123 button.colab-df-convert');\n",
              "      buttonEl.style.display =\n",
              "        google.colab.kernel.accessAllowed ? 'block' : 'none';\n",
              "\n",
              "      async function convertToInteractive(key) {\n",
              "        const element = document.querySelector('#df-75af77fe-597d-43a8-b8b4-4c3379874123');\n",
              "        const dataTable =\n",
              "          await google.colab.kernel.invokeFunction('convertToInteractive',\n",
              "                                                    [key], {});\n",
              "        if (!dataTable) return;\n",
              "\n",
              "        const docLinkHtml = 'Like what you see? Visit the ' +\n",
              "          '<a target=\"_blank\" href=https://colab.research.google.com/notebooks/data_table.ipynb>data table notebook</a>'\n",
              "          + ' to learn more about interactive tables.';\n",
              "        element.innerHTML = '';\n",
              "        dataTable['output_type'] = 'display_data';\n",
              "        await google.colab.output.renderOutput(dataTable, element);\n",
              "        const docLink = document.createElement('div');\n",
              "        docLink.innerHTML = docLinkHtml;\n",
              "        element.appendChild(docLink);\n",
              "      }\n",
              "    </script>\n",
              "  </div>\n",
              "\n",
              "\n",
              "<div id=\"df-eecb4db3-89b5-45f9-8d15-f5ce6f44ff2c\">\n",
              "  <button class=\"colab-df-quickchart\" onclick=\"quickchart('df-eecb4db3-89b5-45f9-8d15-f5ce6f44ff2c')\"\n",
              "            title=\"Suggest charts\"\n",
              "            style=\"display:none;\">\n",
              "\n",
              "<svg xmlns=\"http://www.w3.org/2000/svg\" height=\"24px\"viewBox=\"0 0 24 24\"\n",
              "     width=\"24px\">\n",
              "    <g>\n",
              "        <path d=\"M19 3H5c-1.1 0-2 .9-2 2v14c0 1.1.9 2 2 2h14c1.1 0 2-.9 2-2V5c0-1.1-.9-2-2-2zM9 17H7v-7h2v7zm4 0h-2V7h2v10zm4 0h-2v-4h2v4z\"/>\n",
              "    </g>\n",
              "</svg>\n",
              "  </button>\n",
              "\n",
              "<style>\n",
              "  .colab-df-quickchart {\n",
              "      --bg-color: #E8F0FE;\n",
              "      --fill-color: #1967D2;\n",
              "      --hover-bg-color: #E2EBFA;\n",
              "      --hover-fill-color: #174EA6;\n",
              "      --disabled-fill-color: #AAA;\n",
              "      --disabled-bg-color: #DDD;\n",
              "  }\n",
              "\n",
              "  [theme=dark] .colab-df-quickchart {\n",
              "      --bg-color: #3B4455;\n",
              "      --fill-color: #D2E3FC;\n",
              "      --hover-bg-color: #434B5C;\n",
              "      --hover-fill-color: #FFFFFF;\n",
              "      --disabled-bg-color: #3B4455;\n",
              "      --disabled-fill-color: #666;\n",
              "  }\n",
              "\n",
              "  .colab-df-quickchart {\n",
              "    background-color: var(--bg-color);\n",
              "    border: none;\n",
              "    border-radius: 50%;\n",
              "    cursor: pointer;\n",
              "    display: none;\n",
              "    fill: var(--fill-color);\n",
              "    height: 32px;\n",
              "    padding: 0;\n",
              "    width: 32px;\n",
              "  }\n",
              "\n",
              "  .colab-df-quickchart:hover {\n",
              "    background-color: var(--hover-bg-color);\n",
              "    box-shadow: 0 1px 2px rgba(60, 64, 67, 0.3), 0 1px 3px 1px rgba(60, 64, 67, 0.15);\n",
              "    fill: var(--button-hover-fill-color);\n",
              "  }\n",
              "\n",
              "  .colab-df-quickchart-complete:disabled,\n",
              "  .colab-df-quickchart-complete:disabled:hover {\n",
              "    background-color: var(--disabled-bg-color);\n",
              "    fill: var(--disabled-fill-color);\n",
              "    box-shadow: none;\n",
              "  }\n",
              "\n",
              "  .colab-df-spinner {\n",
              "    border: 2px solid var(--fill-color);\n",
              "    border-color: transparent;\n",
              "    border-bottom-color: var(--fill-color);\n",
              "    animation:\n",
              "      spin 1s steps(1) infinite;\n",
              "  }\n",
              "\n",
              "  @keyframes spin {\n",
              "    0% {\n",
              "      border-color: transparent;\n",
              "      border-bottom-color: var(--fill-color);\n",
              "      border-left-color: var(--fill-color);\n",
              "    }\n",
              "    20% {\n",
              "      border-color: transparent;\n",
              "      border-left-color: var(--fill-color);\n",
              "      border-top-color: var(--fill-color);\n",
              "    }\n",
              "    30% {\n",
              "      border-color: transparent;\n",
              "      border-left-color: var(--fill-color);\n",
              "      border-top-color: var(--fill-color);\n",
              "      border-right-color: var(--fill-color);\n",
              "    }\n",
              "    40% {\n",
              "      border-color: transparent;\n",
              "      border-right-color: var(--fill-color);\n",
              "      border-top-color: var(--fill-color);\n",
              "    }\n",
              "    60% {\n",
              "      border-color: transparent;\n",
              "      border-right-color: var(--fill-color);\n",
              "    }\n",
              "    80% {\n",
              "      border-color: transparent;\n",
              "      border-right-color: var(--fill-color);\n",
              "      border-bottom-color: var(--fill-color);\n",
              "    }\n",
              "    90% {\n",
              "      border-color: transparent;\n",
              "      border-bottom-color: var(--fill-color);\n",
              "    }\n",
              "  }\n",
              "</style>\n",
              "\n",
              "  <script>\n",
              "    async function quickchart(key) {\n",
              "      const quickchartButtonEl =\n",
              "        document.querySelector('#' + key + ' button');\n",
              "      quickchartButtonEl.disabled = true;  // To prevent multiple clicks.\n",
              "      quickchartButtonEl.classList.add('colab-df-spinner');\n",
              "      try {\n",
              "        const charts = await google.colab.kernel.invokeFunction(\n",
              "            'suggestCharts', [key], {});\n",
              "      } catch (error) {\n",
              "        console.error('Error during call to suggestCharts:', error);\n",
              "      }\n",
              "      quickchartButtonEl.classList.remove('colab-df-spinner');\n",
              "      quickchartButtonEl.classList.add('colab-df-quickchart-complete');\n",
              "    }\n",
              "    (() => {\n",
              "      let quickchartButtonEl =\n",
              "        document.querySelector('#df-eecb4db3-89b5-45f9-8d15-f5ce6f44ff2c button');\n",
              "      quickchartButtonEl.style.display =\n",
              "        google.colab.kernel.accessAllowed ? 'block' : 'none';\n",
              "    })();\n",
              "  </script>\n",
              "</div>\n",
              "    </div>\n",
              "  </div>\n"
            ],
            "application/vnd.google.colaboratory.intrinsic+json": {
              "type": "dataframe"
            }
          },
          "metadata": {}
        }
      ],
      "source": [
        "display(y_train.head())"
      ]
    },
    {
      "cell_type": "markdown",
      "metadata": {
        "id": "Hxkss7R6EJtT"
      },
      "source": [
        "* ```display``` - избыточный код. Здесь достаточно ```y_train.head()```:"
      ]
    },
    {
      "cell_type": "code",
      "execution_count": 7,
      "metadata": {
        "colab": {
          "base_uri": "https://localhost:8080/",
          "height": 235
        },
        "id": "-d8PH_paEFhv",
        "outputId": "1b335abe-c0a9-44f9-b520-905be927c10d"
      },
      "outputs": [
        {
          "output_type": "execute_result",
          "data": {
            "text/plain": [
              "                  0  1  2  3  4  5  6  7  8  9  ...  1286  1287  1288  1289  \\\n",
              "well_10_patch_0   0  0  0  0  0  0  0  0  0  0  ...     0     0     0     0   \n",
              "well_10_patch_1   0  0  0  0  0  0  0  0  0  0  ...     0     0     0     0   \n",
              "well_10_patch_10  0  0  0  0  0  0  0  0  0  0  ...     0     0     0     0   \n",
              "well_10_patch_11  0  0  0  0  0  0  0  0  0  0  ...     0     0     0     0   \n",
              "well_10_patch_12  0  0  0  0  0  0  0  0  0  0  ...     0     0     0     0   \n",
              "\n",
              "                  1290  1291  1292  1293  1294  1295  \n",
              "well_10_patch_0      0     0     0     0     0     0  \n",
              "well_10_patch_1      0     0     0     0     0     0  \n",
              "well_10_patch_10     0     0     0     0     0     0  \n",
              "well_10_patch_11     0     0     0     0     0     0  \n",
              "well_10_patch_12     0     0     0     0     0     0  \n",
              "\n",
              "[5 rows x 1296 columns]"
            ],
            "text/html": [
              "\n",
              "  <div id=\"df-b80a8b40-28a2-4391-8e70-e108ec4e32c9\" class=\"colab-df-container\">\n",
              "    <div>\n",
              "<style scoped>\n",
              "    .dataframe tbody tr th:only-of-type {\n",
              "        vertical-align: middle;\n",
              "    }\n",
              "\n",
              "    .dataframe tbody tr th {\n",
              "        vertical-align: top;\n",
              "    }\n",
              "\n",
              "    .dataframe thead th {\n",
              "        text-align: right;\n",
              "    }\n",
              "</style>\n",
              "<table border=\"1\" class=\"dataframe\">\n",
              "  <thead>\n",
              "    <tr style=\"text-align: right;\">\n",
              "      <th></th>\n",
              "      <th>0</th>\n",
              "      <th>1</th>\n",
              "      <th>2</th>\n",
              "      <th>3</th>\n",
              "      <th>4</th>\n",
              "      <th>5</th>\n",
              "      <th>6</th>\n",
              "      <th>7</th>\n",
              "      <th>8</th>\n",
              "      <th>9</th>\n",
              "      <th>...</th>\n",
              "      <th>1286</th>\n",
              "      <th>1287</th>\n",
              "      <th>1288</th>\n",
              "      <th>1289</th>\n",
              "      <th>1290</th>\n",
              "      <th>1291</th>\n",
              "      <th>1292</th>\n",
              "      <th>1293</th>\n",
              "      <th>1294</th>\n",
              "      <th>1295</th>\n",
              "    </tr>\n",
              "  </thead>\n",
              "  <tbody>\n",
              "    <tr>\n",
              "      <th>well_10_patch_0</th>\n",
              "      <td>0</td>\n",
              "      <td>0</td>\n",
              "      <td>0</td>\n",
              "      <td>0</td>\n",
              "      <td>0</td>\n",
              "      <td>0</td>\n",
              "      <td>0</td>\n",
              "      <td>0</td>\n",
              "      <td>0</td>\n",
              "      <td>0</td>\n",
              "      <td>...</td>\n",
              "      <td>0</td>\n",
              "      <td>0</td>\n",
              "      <td>0</td>\n",
              "      <td>0</td>\n",
              "      <td>0</td>\n",
              "      <td>0</td>\n",
              "      <td>0</td>\n",
              "      <td>0</td>\n",
              "      <td>0</td>\n",
              "      <td>0</td>\n",
              "    </tr>\n",
              "    <tr>\n",
              "      <th>well_10_patch_1</th>\n",
              "      <td>0</td>\n",
              "      <td>0</td>\n",
              "      <td>0</td>\n",
              "      <td>0</td>\n",
              "      <td>0</td>\n",
              "      <td>0</td>\n",
              "      <td>0</td>\n",
              "      <td>0</td>\n",
              "      <td>0</td>\n",
              "      <td>0</td>\n",
              "      <td>...</td>\n",
              "      <td>0</td>\n",
              "      <td>0</td>\n",
              "      <td>0</td>\n",
              "      <td>0</td>\n",
              "      <td>0</td>\n",
              "      <td>0</td>\n",
              "      <td>0</td>\n",
              "      <td>0</td>\n",
              "      <td>0</td>\n",
              "      <td>0</td>\n",
              "    </tr>\n",
              "    <tr>\n",
              "      <th>well_10_patch_10</th>\n",
              "      <td>0</td>\n",
              "      <td>0</td>\n",
              "      <td>0</td>\n",
              "      <td>0</td>\n",
              "      <td>0</td>\n",
              "      <td>0</td>\n",
              "      <td>0</td>\n",
              "      <td>0</td>\n",
              "      <td>0</td>\n",
              "      <td>0</td>\n",
              "      <td>...</td>\n",
              "      <td>0</td>\n",
              "      <td>0</td>\n",
              "      <td>0</td>\n",
              "      <td>0</td>\n",
              "      <td>0</td>\n",
              "      <td>0</td>\n",
              "      <td>0</td>\n",
              "      <td>0</td>\n",
              "      <td>0</td>\n",
              "      <td>0</td>\n",
              "    </tr>\n",
              "    <tr>\n",
              "      <th>well_10_patch_11</th>\n",
              "      <td>0</td>\n",
              "      <td>0</td>\n",
              "      <td>0</td>\n",
              "      <td>0</td>\n",
              "      <td>0</td>\n",
              "      <td>0</td>\n",
              "      <td>0</td>\n",
              "      <td>0</td>\n",
              "      <td>0</td>\n",
              "      <td>0</td>\n",
              "      <td>...</td>\n",
              "      <td>0</td>\n",
              "      <td>0</td>\n",
              "      <td>0</td>\n",
              "      <td>0</td>\n",
              "      <td>0</td>\n",
              "      <td>0</td>\n",
              "      <td>0</td>\n",
              "      <td>0</td>\n",
              "      <td>0</td>\n",
              "      <td>0</td>\n",
              "    </tr>\n",
              "    <tr>\n",
              "      <th>well_10_patch_12</th>\n",
              "      <td>0</td>\n",
              "      <td>0</td>\n",
              "      <td>0</td>\n",
              "      <td>0</td>\n",
              "      <td>0</td>\n",
              "      <td>0</td>\n",
              "      <td>0</td>\n",
              "      <td>0</td>\n",
              "      <td>0</td>\n",
              "      <td>0</td>\n",
              "      <td>...</td>\n",
              "      <td>0</td>\n",
              "      <td>0</td>\n",
              "      <td>0</td>\n",
              "      <td>0</td>\n",
              "      <td>0</td>\n",
              "      <td>0</td>\n",
              "      <td>0</td>\n",
              "      <td>0</td>\n",
              "      <td>0</td>\n",
              "      <td>0</td>\n",
              "    </tr>\n",
              "  </tbody>\n",
              "</table>\n",
              "<p>5 rows × 1296 columns</p>\n",
              "</div>\n",
              "    <div class=\"colab-df-buttons\">\n",
              "\n",
              "  <div class=\"colab-df-container\">\n",
              "    <button class=\"colab-df-convert\" onclick=\"convertToInteractive('df-b80a8b40-28a2-4391-8e70-e108ec4e32c9')\"\n",
              "            title=\"Convert this dataframe to an interactive table.\"\n",
              "            style=\"display:none;\">\n",
              "\n",
              "  <svg xmlns=\"http://www.w3.org/2000/svg\" height=\"24px\" viewBox=\"0 -960 960 960\">\n",
              "    <path d=\"M120-120v-720h720v720H120Zm60-500h600v-160H180v160Zm220 220h160v-160H400v160Zm0 220h160v-160H400v160ZM180-400h160v-160H180v160Zm440 0h160v-160H620v160ZM180-180h160v-160H180v160Zm440 0h160v-160H620v160Z\"/>\n",
              "  </svg>\n",
              "    </button>\n",
              "\n",
              "  <style>\n",
              "    .colab-df-container {\n",
              "      display:flex;\n",
              "      gap: 12px;\n",
              "    }\n",
              "\n",
              "    .colab-df-convert {\n",
              "      background-color: #E8F0FE;\n",
              "      border: none;\n",
              "      border-radius: 50%;\n",
              "      cursor: pointer;\n",
              "      display: none;\n",
              "      fill: #1967D2;\n",
              "      height: 32px;\n",
              "      padding: 0 0 0 0;\n",
              "      width: 32px;\n",
              "    }\n",
              "\n",
              "    .colab-df-convert:hover {\n",
              "      background-color: #E2EBFA;\n",
              "      box-shadow: 0px 1px 2px rgba(60, 64, 67, 0.3), 0px 1px 3px 1px rgba(60, 64, 67, 0.15);\n",
              "      fill: #174EA6;\n",
              "    }\n",
              "\n",
              "    .colab-df-buttons div {\n",
              "      margin-bottom: 4px;\n",
              "    }\n",
              "\n",
              "    [theme=dark] .colab-df-convert {\n",
              "      background-color: #3B4455;\n",
              "      fill: #D2E3FC;\n",
              "    }\n",
              "\n",
              "    [theme=dark] .colab-df-convert:hover {\n",
              "      background-color: #434B5C;\n",
              "      box-shadow: 0px 1px 3px 1px rgba(0, 0, 0, 0.15);\n",
              "      filter: drop-shadow(0px 1px 2px rgba(0, 0, 0, 0.3));\n",
              "      fill: #FFFFFF;\n",
              "    }\n",
              "  </style>\n",
              "\n",
              "    <script>\n",
              "      const buttonEl =\n",
              "        document.querySelector('#df-b80a8b40-28a2-4391-8e70-e108ec4e32c9 button.colab-df-convert');\n",
              "      buttonEl.style.display =\n",
              "        google.colab.kernel.accessAllowed ? 'block' : 'none';\n",
              "\n",
              "      async function convertToInteractive(key) {\n",
              "        const element = document.querySelector('#df-b80a8b40-28a2-4391-8e70-e108ec4e32c9');\n",
              "        const dataTable =\n",
              "          await google.colab.kernel.invokeFunction('convertToInteractive',\n",
              "                                                    [key], {});\n",
              "        if (!dataTable) return;\n",
              "\n",
              "        const docLinkHtml = 'Like what you see? Visit the ' +\n",
              "          '<a target=\"_blank\" href=https://colab.research.google.com/notebooks/data_table.ipynb>data table notebook</a>'\n",
              "          + ' to learn more about interactive tables.';\n",
              "        element.innerHTML = '';\n",
              "        dataTable['output_type'] = 'display_data';\n",
              "        await google.colab.output.renderOutput(dataTable, element);\n",
              "        const docLink = document.createElement('div');\n",
              "        docLink.innerHTML = docLinkHtml;\n",
              "        element.appendChild(docLink);\n",
              "      }\n",
              "    </script>\n",
              "  </div>\n",
              "\n",
              "\n",
              "<div id=\"df-4c584d05-7f11-49ea-998e-4597c87a5cab\">\n",
              "  <button class=\"colab-df-quickchart\" onclick=\"quickchart('df-4c584d05-7f11-49ea-998e-4597c87a5cab')\"\n",
              "            title=\"Suggest charts\"\n",
              "            style=\"display:none;\">\n",
              "\n",
              "<svg xmlns=\"http://www.w3.org/2000/svg\" height=\"24px\"viewBox=\"0 0 24 24\"\n",
              "     width=\"24px\">\n",
              "    <g>\n",
              "        <path d=\"M19 3H5c-1.1 0-2 .9-2 2v14c0 1.1.9 2 2 2h14c1.1 0 2-.9 2-2V5c0-1.1-.9-2-2-2zM9 17H7v-7h2v7zm4 0h-2V7h2v10zm4 0h-2v-4h2v4z\"/>\n",
              "    </g>\n",
              "</svg>\n",
              "  </button>\n",
              "\n",
              "<style>\n",
              "  .colab-df-quickchart {\n",
              "      --bg-color: #E8F0FE;\n",
              "      --fill-color: #1967D2;\n",
              "      --hover-bg-color: #E2EBFA;\n",
              "      --hover-fill-color: #174EA6;\n",
              "      --disabled-fill-color: #AAA;\n",
              "      --disabled-bg-color: #DDD;\n",
              "  }\n",
              "\n",
              "  [theme=dark] .colab-df-quickchart {\n",
              "      --bg-color: #3B4455;\n",
              "      --fill-color: #D2E3FC;\n",
              "      --hover-bg-color: #434B5C;\n",
              "      --hover-fill-color: #FFFFFF;\n",
              "      --disabled-bg-color: #3B4455;\n",
              "      --disabled-fill-color: #666;\n",
              "  }\n",
              "\n",
              "  .colab-df-quickchart {\n",
              "    background-color: var(--bg-color);\n",
              "    border: none;\n",
              "    border-radius: 50%;\n",
              "    cursor: pointer;\n",
              "    display: none;\n",
              "    fill: var(--fill-color);\n",
              "    height: 32px;\n",
              "    padding: 0;\n",
              "    width: 32px;\n",
              "  }\n",
              "\n",
              "  .colab-df-quickchart:hover {\n",
              "    background-color: var(--hover-bg-color);\n",
              "    box-shadow: 0 1px 2px rgba(60, 64, 67, 0.3), 0 1px 3px 1px rgba(60, 64, 67, 0.15);\n",
              "    fill: var(--button-hover-fill-color);\n",
              "  }\n",
              "\n",
              "  .colab-df-quickchart-complete:disabled,\n",
              "  .colab-df-quickchart-complete:disabled:hover {\n",
              "    background-color: var(--disabled-bg-color);\n",
              "    fill: var(--disabled-fill-color);\n",
              "    box-shadow: none;\n",
              "  }\n",
              "\n",
              "  .colab-df-spinner {\n",
              "    border: 2px solid var(--fill-color);\n",
              "    border-color: transparent;\n",
              "    border-bottom-color: var(--fill-color);\n",
              "    animation:\n",
              "      spin 1s steps(1) infinite;\n",
              "  }\n",
              "\n",
              "  @keyframes spin {\n",
              "    0% {\n",
              "      border-color: transparent;\n",
              "      border-bottom-color: var(--fill-color);\n",
              "      border-left-color: var(--fill-color);\n",
              "    }\n",
              "    20% {\n",
              "      border-color: transparent;\n",
              "      border-left-color: var(--fill-color);\n",
              "      border-top-color: var(--fill-color);\n",
              "    }\n",
              "    30% {\n",
              "      border-color: transparent;\n",
              "      border-left-color: var(--fill-color);\n",
              "      border-top-color: var(--fill-color);\n",
              "      border-right-color: var(--fill-color);\n",
              "    }\n",
              "    40% {\n",
              "      border-color: transparent;\n",
              "      border-right-color: var(--fill-color);\n",
              "      border-top-color: var(--fill-color);\n",
              "    }\n",
              "    60% {\n",
              "      border-color: transparent;\n",
              "      border-right-color: var(--fill-color);\n",
              "    }\n",
              "    80% {\n",
              "      border-color: transparent;\n",
              "      border-right-color: var(--fill-color);\n",
              "      border-bottom-color: var(--fill-color);\n",
              "    }\n",
              "    90% {\n",
              "      border-color: transparent;\n",
              "      border-bottom-color: var(--fill-color);\n",
              "    }\n",
              "  }\n",
              "</style>\n",
              "\n",
              "  <script>\n",
              "    async function quickchart(key) {\n",
              "      const quickchartButtonEl =\n",
              "        document.querySelector('#' + key + ' button');\n",
              "      quickchartButtonEl.disabled = true;  // To prevent multiple clicks.\n",
              "      quickchartButtonEl.classList.add('colab-df-spinner');\n",
              "      try {\n",
              "        const charts = await google.colab.kernel.invokeFunction(\n",
              "            'suggestCharts', [key], {});\n",
              "      } catch (error) {\n",
              "        console.error('Error during call to suggestCharts:', error);\n",
              "      }\n",
              "      quickchartButtonEl.classList.remove('colab-df-spinner');\n",
              "      quickchartButtonEl.classList.add('colab-df-quickchart-complete');\n",
              "    }\n",
              "    (() => {\n",
              "      let quickchartButtonEl =\n",
              "        document.querySelector('#df-4c584d05-7f11-49ea-998e-4597c87a5cab button');\n",
              "      quickchartButtonEl.style.display =\n",
              "        google.colab.kernel.accessAllowed ? 'block' : 'none';\n",
              "    })();\n",
              "  </script>\n",
              "</div>\n",
              "    </div>\n",
              "  </div>\n"
            ],
            "application/vnd.google.colaboratory.intrinsic+json": {
              "type": "dataframe",
              "variable_name": "y_train"
            }
          },
          "metadata": {},
          "execution_count": 7
        }
      ],
      "source": [
        "y_train.head()"
      ]
    },
    {
      "cell_type": "code",
      "execution_count": 8,
      "metadata": {
        "colab": {
          "base_uri": "https://localhost:8080/"
        },
        "id": "sKuqyloKcNy6",
        "outputId": "4dcf4d04-89d0-499a-86ad-23ddc5b21912"
      },
      "outputs": [
        {
          "output_type": "stream",
          "name": "stdout",
          "text": [
            "Well : 1 Number of patches : 166\n",
            "Well : 2 Number of patches : 616\n",
            "Well : 3 Number of patches : 1774\n",
            "Well : 4 Number of patches : 59\n",
            "Well : 5 Number of patches : 98\n",
            "Well : 6 Number of patches : 964\n",
            "Well : 7 Number of patches : 1654\n",
            "Well : 8 Number of patches : 78\n",
            "Well : 9 Number of patches : 166\n",
            "Well : 10 Number of patches : 80\n",
            "Well : 11 Number of patches : 1512\n",
            "Well : 12 Number of patches : 44\n",
            "Well : 13 Number of patches : 1905\n",
            "Well : 14 Number of patches : 355\n",
            "Well : 15 Number of patches : 203\n",
            "Total number of wells : 15\n",
            "Total number of patches : 9674\n"
          ]
        }
      ],
      "source": [
        "dict_wells_masks = {}\n",
        "\n",
        "\n",
        "for name_patch in y_train.index:\n",
        "    if (int(name_patch[5:7].replace('_', '')) in dict_wells_masks.keys()):\n",
        "        dict_wells_masks[int(name_patch[5:7].replace('_', ''))] += 1\n",
        "\n",
        "    else:\n",
        "        dict_wells_masks[int(name_patch[5:7].replace('_', ''))]  = 1\n",
        "\n",
        "\n",
        "for key in dict(sorted(dict_wells_masks.items())).keys():\n",
        "    print('Well :',key, 'Number of patches :', dict_wells_masks[key])\n",
        "\n",
        "print('Total number of wells :',len(dict_wells_masks.keys()))\n",
        "print('Total number of patches :', sum(dict_wells_masks.values()))\n",
        "\n",
        "# First well and 450 first images of well 1 are false"
      ]
    },
    {
      "cell_type": "code",
      "execution_count": 9,
      "metadata": {
        "colab": {
          "base_uri": "https://localhost:8080/"
        },
        "id": "35qDwYGBqnFW",
        "outputId": "f5dc272e-fc69-410a-b16a-39e6e1cdc984"
      },
      "outputs": [
        {
          "output_type": "stream",
          "name": "stdout",
          "text": [
            "Well : 1 Number of patches : 166\n",
            "Well : 2 Number of patches : 616\n",
            "Well : 3 Number of patches : 1774\n",
            "Well : 4 Number of patches : 59\n",
            "Well : 5 Number of patches : 98\n",
            "Well : 6 Number of patches : 964\n",
            "Well : 7 Number of patches : 1654\n",
            "Well : 8 Number of patches : 78\n",
            "Well : 9 Number of patches : 166\n",
            "Well : 10 Number of patches : 80\n",
            "Well : 11 Number of patches : 1512\n",
            "Well : 12 Number of patches : 44\n",
            "Well : 13 Number of patches : 1905\n",
            "Well : 14 Number of patches : 355\n",
            "Well : 15 Number of patches : 203\n",
            "Total number of wells : 15\n",
            "Total number of patches : 9674\n"
          ]
        }
      ],
      "source": [
        "folder_path = '../data/raw/images'\n",
        "file_names = os.listdir(folder_path)\n",
        "\n",
        "dict_wells_images = {}\n",
        "\n",
        "\n",
        "for name_patch in file_names:\n",
        "    if (int(name_patch[5:7].replace('_', '')) in dict_wells_images.keys()):\n",
        "        dict_wells_images[int(name_patch[5:7].replace('_', ''))] += 1\n",
        "\n",
        "    else:\n",
        "        dict_wells_images[int(name_patch[5:7].replace('_', ''))]  = 1\n",
        "\n",
        "\n",
        "for key in dict(sorted(dict_wells_images.items())).keys():\n",
        "    print('Well :',key, 'Number of patches :', dict_wells_images[key])\n",
        "\n",
        "print('Total number of wells :',len(dict_wells_images.keys()))\n",
        "print('Total number of patches :', sum(dict_wells_images.values()))"
      ]
    },
    {
      "cell_type": "markdown",
      "metadata": {
        "id": "4GiMWURGphYu"
      },
      "source": [
        "* Здесь лучше использовать Counter.\n",
        "* Использовать трижды код ```int(name_patch[5:7].replace('_', ''))``` неэффективно.\n",
        "* Для вывода результата лучше использовать f-strings:\n",
        "```\n",
        "f'Well : {key} Number of patches : {dict_wells_masks[key]}'\n",
        "```\n",
        "* Totals для наглядности имеет смысл отделить строкой с помощью ```\\n```:\n",
        "```\n",
        "f'\\nTotal number of wells : {len(dict_wells_masks)}'\n",
        "```\n",
        "\n",
        "Поскольку код используется неоднократно, лучше его оформить в виде формулы:"
      ]
    },
    {
      "cell_type": "code",
      "execution_count": 10,
      "metadata": {
        "id": "UvR_3HgwrnLn"
      },
      "outputs": [],
      "source": [
        "from collections import Counter\n",
        "\n",
        "def get_patches_per_well(patches_list):\n",
        "  patch_names = [int(name_patch.split(\"_\")[1]) for name_patch in patches_list]\n",
        "  dict_wells_patches = Counter(patch_names)\n",
        "\n",
        "  for key in sorted(dict_wells_patches.keys()):\n",
        "    print(f'Well : {key} Number of patches : {dict_wells_patches[key]}')\n",
        "\n",
        "  print(f'\\nTotal number of wells : {len(dict_wells_patches)}')\n",
        "  print(f'Total number of patches :', sum(dict_wells_patches.values()))\n",
        "\n",
        "  return dict_wells_patches"
      ]
    },
    {
      "cell_type": "code",
      "execution_count": 11,
      "metadata": {
        "colab": {
          "base_uri": "https://localhost:8080/"
        },
        "id": "Db0gELxIsGsO",
        "outputId": "81828d70-292a-44ea-bbb7-a3e5167a4abd"
      },
      "outputs": [
        {
          "output_type": "stream",
          "name": "stdout",
          "text": [
            "Well : 1 Number of patches : 166\n",
            "Well : 2 Number of patches : 616\n",
            "Well : 3 Number of patches : 1774\n",
            "Well : 4 Number of patches : 59\n",
            "Well : 5 Number of patches : 98\n",
            "Well : 6 Number of patches : 964\n",
            "Well : 7 Number of patches : 1654\n",
            "Well : 8 Number of patches : 78\n",
            "Well : 9 Number of patches : 166\n",
            "Well : 10 Number of patches : 80\n",
            "Well : 11 Number of patches : 1512\n",
            "Well : 12 Number of patches : 44\n",
            "Well : 13 Number of patches : 1905\n",
            "Well : 14 Number of patches : 355\n",
            "Well : 15 Number of patches : 203\n",
            "\n",
            "Total number of wells : 15\n",
            "Total number of patches : 9674\n"
          ]
        }
      ],
      "source": [
        "dict_wells_masks = get_patches_per_well(y_train.index)"
      ]
    },
    {
      "cell_type": "code",
      "execution_count": 12,
      "metadata": {
        "colab": {
          "base_uri": "https://localhost:8080/"
        },
        "id": "_l_tzimFscXl",
        "outputId": "f35e228a-9dfd-4889-8c37-43a38959b434"
      },
      "outputs": [
        {
          "output_type": "stream",
          "name": "stdout",
          "text": [
            "Well : 1 Number of patches : 166\n",
            "Well : 2 Number of patches : 616\n",
            "Well : 3 Number of patches : 1774\n",
            "Well : 4 Number of patches : 59\n",
            "Well : 5 Number of patches : 98\n",
            "Well : 6 Number of patches : 964\n",
            "Well : 7 Number of patches : 1654\n",
            "Well : 8 Number of patches : 78\n",
            "Well : 9 Number of patches : 166\n",
            "Well : 10 Number of patches : 80\n",
            "Well : 11 Number of patches : 1512\n",
            "Well : 12 Number of patches : 44\n",
            "Well : 13 Number of patches : 1905\n",
            "Well : 14 Number of patches : 355\n",
            "Well : 15 Number of patches : 203\n",
            "\n",
            "Total number of wells : 15\n",
            "Total number of patches : 9674\n"
          ]
        }
      ],
      "source": [
        "folder_path = '../data/raw/images'\n",
        "file_names = os.listdir(folder_path)\n",
        "dict_wells_images = get_patches_per_well(file_names)"
      ]
    },
    {
      "cell_type": "code",
      "execution_count": 13,
      "metadata": {
        "colab": {
          "base_uri": "https://localhost:8080/"
        },
        "id": "HGQDSxygcNy7",
        "outputId": "dc4d3827-405d-4ab2-b3ed-443bcd705a3a"
      },
      "outputs": [
        {
          "output_type": "stream",
          "name": "stdout",
          "text": [
            "Mask well : 1 Number of patches : 166\n",
            "Image well : 1 Number of patches : 166 \n",
            "\n",
            "Mask well : 2 Number of patches : 616\n",
            "Image well : 2 Number of patches : 616 \n",
            "\n",
            "Mask well : 3 Number of patches : 1774\n",
            "Image well : 3 Number of patches : 1774 \n",
            "\n",
            "Mask well : 4 Number of patches : 59\n",
            "Image well : 4 Number of patches : 59 \n",
            "\n",
            "Mask well : 5 Number of patches : 98\n",
            "Image well : 5 Number of patches : 98 \n",
            "\n",
            "Mask well : 6 Number of patches : 964\n",
            "Image well : 6 Number of patches : 964 \n",
            "\n",
            "Mask well : 7 Number of patches : 1654\n",
            "Image well : 7 Number of patches : 1654 \n",
            "\n",
            "Mask well : 8 Number of patches : 78\n",
            "Image well : 8 Number of patches : 78 \n",
            "\n",
            "Mask well : 9 Number of patches : 166\n",
            "Image well : 9 Number of patches : 166 \n",
            "\n",
            "Mask well : 10 Number of patches : 80\n",
            "Image well : 10 Number of patches : 80 \n",
            "\n",
            "Mask well : 11 Number of patches : 1512\n",
            "Image well : 11 Number of patches : 1512 \n",
            "\n",
            "Mask well : 12 Number of patches : 44\n",
            "Image well : 12 Number of patches : 44 \n",
            "\n",
            "Mask well : 13 Number of patches : 1905\n",
            "Image well : 13 Number of patches : 1905 \n",
            "\n",
            "Mask well : 14 Number of patches : 355\n",
            "Image well : 14 Number of patches : 355 \n",
            "\n",
            "Mask well : 15 Number of patches : 203\n",
            "Image well : 15 Number of patches : 203 \n",
            "\n"
          ]
        }
      ],
      "source": [
        "y_keys = dict(sorted(dict_wells_masks.items())).keys()\n",
        "image_keys = dict(sorted(dict_wells_images.items())).keys()\n",
        "\n",
        "for i, key in enumerate(y_keys):\n",
        "    print('Mask well :',key, 'Number of patches :', dict_wells_masks[key])\n",
        "    if i == 15:\n",
        "        break\n",
        "    print('Image well :',list(image_keys)[i], 'Number of patches :', dict_wells_images[list(image_keys)[i]],'\\n')"
      ]
    },
    {
      "cell_type": "markdown",
      "metadata": {
        "id": "MOyt0fsHySkM"
      },
      "source": [
        "Для того чтобы убедиться, что число patches у Mask well и Image well совпадают, лучше использовать ```assert```:"
      ]
    },
    {
      "cell_type": "code",
      "execution_count": 14,
      "metadata": {
        "id": "HUEn0kuVyRsq"
      },
      "outputs": [],
      "source": [
        "for y_key in sorted(dict_wells_masks.keys()):\n",
        "  assert dict_wells_masks[y_key] == dict_wells_images[y_key]"
      ]
    },
    {
      "cell_type": "markdown",
      "metadata": {
        "id": "_sVXv-cKzZNK"
      },
      "source": [
        "* ```dict(sorted(dict_wells_masks.items())).keys()``` - неудачная конструкция;\n",
        "достаточно ```dict_wells_masks.keys()```\n",
        "* Использование\n",
        "```\n",
        "if i == 15:\n",
        "    break\n",
        "```\n",
        "избыточно - у нас всего 15 скважин, цикл остановится и без break.\n",
        "Соответственно, избыточно использовать ```enumerate```."
      ]
    },
    {
      "cell_type": "markdown",
      "metadata": {
        "id": "zmgKofM8cNy7"
      },
      "source": [
        "### Imbalance analysis"
      ]
    },
    {
      "cell_type": "code",
      "execution_count": 15,
      "metadata": {
        "id": "RvD-VFbacNy8"
      },
      "outputs": [],
      "source": [
        "n_patches = 0\n",
        "n_pixels = 0\n",
        "overall = 0\n",
        "for row in y_train.iterrows():\n",
        "\n",
        "    psum = np.sum(row[1])\n",
        "    if psum > 0:\n",
        "        n_patches += 1\n",
        "        n_pixels += psum\n",
        "    overall += len(row[1])"
      ]
    },
    {
      "cell_type": "code",
      "execution_count": 16,
      "metadata": {
        "colab": {
          "base_uri": "https://localhost:8080/"
        },
        "id": "Kd5ENP1CcNy8",
        "outputId": "ad2fad76-39cd-4128-c245-a22c98cfbfe6"
      },
      "outputs": [
        {
          "output_type": "stream",
          "name": "stdout",
          "text": [
            "Number of patches with corrosion : 7674\n",
            "Number of pixels with corrosion : 896993\n",
            "Overall number of pixels : 12537504\n",
            "Ratio of pixels with corrosion : 7.154 %\n",
            "Ratio of patches with corrosion : 79.326 %\n"
          ]
        }
      ],
      "source": [
        "print('Number of patches with corrosion :', n_patches)\n",
        "print('Number of pixels with corrosion :', n_pixels)\n",
        "print('Overall number of pixels :', overall)\n",
        "print('Ratio of pixels with corrosion :', round(n_pixels*100/overall, ndigits= 3),'%')\n",
        "print('Ratio of patches with corrosion :', round(n_patches*100/len(y_train), ndigits=3),'%')"
      ]
    },
    {
      "cell_type": "markdown",
      "source": [
        "* Эффективнее было бы посчитать так:"
      ],
      "metadata": {
        "id": "1etgAslkH8Ib"
      }
    },
    {
      "cell_type": "code",
      "source": [
        "n_patches = (y_train.sum(axis=1) > 0).sum()\n",
        "n_pixels = y_train.sum(axis=1).sum()\n",
        "overall = y_train.shape[0] * y_train.shape[1]"
      ],
      "metadata": {
        "id": "afoITrbSH4RL"
      },
      "execution_count": 17,
      "outputs": []
    },
    {
      "cell_type": "markdown",
      "metadata": {
        "id": "DzVuNM9T7Hdr"
      },
      "source": [
        "* Код последних двух строк избыточен. Лучше сделать так:"
      ]
    },
    {
      "cell_type": "code",
      "execution_count": 18,
      "metadata": {
        "colab": {
          "base_uri": "https://localhost:8080/"
        },
        "id": "jowxljfj6Jpt",
        "outputId": "d38e9679-c530-4507-ee19-f8f1aa8bbfe8"
      },
      "outputs": [
        {
          "output_type": "stream",
          "name": "stdout",
          "text": [
            "Ratio of pixels with corrosion :  7.154 %\n",
            "Ratio of patches with corrosion :  79.326 %\n"
          ]
        }
      ],
      "source": [
        "print(f'Ratio of pixels with corrosion : {n_pixels*100/overall: .3f} %')\n",
        "print(f'Ratio of patches with corrosion : {n_patches*100/len(y_train): .3f} %')"
      ]
    },
    {
      "cell_type": "markdown",
      "source": [
        "* Имеет смысл сделать ```Imbalance analysis``` в разрезе скважин:"
      ],
      "metadata": {
        "id": "IcZ4WyTMIYJi"
      }
    },
    {
      "cell_type": "code",
      "source": [
        "well_ref = y_train.reset_index()[\"index\"].apply(lambda x: int(x.split(\"_\")[1])).tolist()\n",
        "\n",
        "masks_frame = y_train.copy()\n",
        "masks_frame[\"n_patches\"] = y_train.sum(axis=1) > 0\n",
        "masks_frame[\"n_pixels\"] = masks_frame.sum(axis=1)\n",
        "masks_frame[\"well\"] = well_ref\n",
        "\n",
        "n_patches = masks_frame.groupby(\"well\")['n_patches'].sum()\n",
        "n_pixels = masks_frame.groupby(\"well\")['n_pixels'].sum()\n",
        "overall = masks_frame.groupby(\"well\").agg(overall = (\"well\", \"count\")) * y_train.shape[1]\n",
        "count = masks_frame[\"well\"].value_counts()\n",
        "well_info = pd.concat([n_patches, n_pixels, overall, count], axis=1)\n",
        "\n",
        "well_info[\"pixels with corrosion\"] = well_info[\"n_pixels\"] / well_info[\"overall\"]\n",
        "well_info[\"patches with corrosion\"] = well_info[\"n_patches\"] / well_info[\"count\"]\n",
        "\n",
        "well_info"
      ],
      "metadata": {
        "colab": {
          "base_uri": "https://localhost:8080/",
          "height": 551
        },
        "id": "G_ADwAByOJm0",
        "outputId": "76ec6e56-8d13-4c53-f71c-d3e0b2e20f96"
      },
      "execution_count": 19,
      "outputs": [
        {
          "output_type": "execute_result",
          "data": {
            "text/plain": [
              "      n_patches n_pixels  overall  count pixels with corrosion  \\\n",
              "well                                                             \n",
              "1           130    11116   215136    166               0.05167   \n",
              "2           580    50541   798336    616              0.063308   \n",
              "3          1611   234831  2299104   1774               0.10214   \n",
              "4            53     5139    76464     59              0.067208   \n",
              "5            24     1968   127008     98              0.015495   \n",
              "6           496    70235  1249344    964              0.056218   \n",
              "7          1420   105092  2143584   1654              0.049026   \n",
              "8            30     1678   101088     78              0.016599   \n",
              "9             0        0   215136    166                   0.0   \n",
              "10            0        0   103680     80                   0.0   \n",
              "11         1103   110139  1959552   1512              0.056206   \n",
              "12           44     4093    57024     44              0.071777   \n",
              "13         1777   253338  2468880   1905              0.102613   \n",
              "14          278    37226   460080    355              0.080912   \n",
              "15          128    19271   263088    203              0.073249   \n",
              "\n",
              "      patches with corrosion  \n",
              "well                          \n",
              "1                   0.783133  \n",
              "2                   0.941558  \n",
              "3                   0.908117  \n",
              "4                   0.898305  \n",
              "5                   0.244898  \n",
              "6                   0.514523  \n",
              "7                   0.858525  \n",
              "8                   0.384615  \n",
              "9                   0.000000  \n",
              "10                  0.000000  \n",
              "11                  0.729497  \n",
              "12                  1.000000  \n",
              "13                  0.932808  \n",
              "14                  0.783099  \n",
              "15                  0.630542  "
            ],
            "text/html": [
              "\n",
              "  <div id=\"df-aa8081d2-ddfc-4bcc-8047-a1df6fd48723\" class=\"colab-df-container\">\n",
              "    <div>\n",
              "<style scoped>\n",
              "    .dataframe tbody tr th:only-of-type {\n",
              "        vertical-align: middle;\n",
              "    }\n",
              "\n",
              "    .dataframe tbody tr th {\n",
              "        vertical-align: top;\n",
              "    }\n",
              "\n",
              "    .dataframe thead th {\n",
              "        text-align: right;\n",
              "    }\n",
              "</style>\n",
              "<table border=\"1\" class=\"dataframe\">\n",
              "  <thead>\n",
              "    <tr style=\"text-align: right;\">\n",
              "      <th></th>\n",
              "      <th>n_patches</th>\n",
              "      <th>n_pixels</th>\n",
              "      <th>overall</th>\n",
              "      <th>count</th>\n",
              "      <th>pixels with corrosion</th>\n",
              "      <th>patches with corrosion</th>\n",
              "    </tr>\n",
              "    <tr>\n",
              "      <th>well</th>\n",
              "      <th></th>\n",
              "      <th></th>\n",
              "      <th></th>\n",
              "      <th></th>\n",
              "      <th></th>\n",
              "      <th></th>\n",
              "    </tr>\n",
              "  </thead>\n",
              "  <tbody>\n",
              "    <tr>\n",
              "      <th>1</th>\n",
              "      <td>130</td>\n",
              "      <td>11116</td>\n",
              "      <td>215136</td>\n",
              "      <td>166</td>\n",
              "      <td>0.05167</td>\n",
              "      <td>0.783133</td>\n",
              "    </tr>\n",
              "    <tr>\n",
              "      <th>2</th>\n",
              "      <td>580</td>\n",
              "      <td>50541</td>\n",
              "      <td>798336</td>\n",
              "      <td>616</td>\n",
              "      <td>0.063308</td>\n",
              "      <td>0.941558</td>\n",
              "    </tr>\n",
              "    <tr>\n",
              "      <th>3</th>\n",
              "      <td>1611</td>\n",
              "      <td>234831</td>\n",
              "      <td>2299104</td>\n",
              "      <td>1774</td>\n",
              "      <td>0.10214</td>\n",
              "      <td>0.908117</td>\n",
              "    </tr>\n",
              "    <tr>\n",
              "      <th>4</th>\n",
              "      <td>53</td>\n",
              "      <td>5139</td>\n",
              "      <td>76464</td>\n",
              "      <td>59</td>\n",
              "      <td>0.067208</td>\n",
              "      <td>0.898305</td>\n",
              "    </tr>\n",
              "    <tr>\n",
              "      <th>5</th>\n",
              "      <td>24</td>\n",
              "      <td>1968</td>\n",
              "      <td>127008</td>\n",
              "      <td>98</td>\n",
              "      <td>0.015495</td>\n",
              "      <td>0.244898</td>\n",
              "    </tr>\n",
              "    <tr>\n",
              "      <th>6</th>\n",
              "      <td>496</td>\n",
              "      <td>70235</td>\n",
              "      <td>1249344</td>\n",
              "      <td>964</td>\n",
              "      <td>0.056218</td>\n",
              "      <td>0.514523</td>\n",
              "    </tr>\n",
              "    <tr>\n",
              "      <th>7</th>\n",
              "      <td>1420</td>\n",
              "      <td>105092</td>\n",
              "      <td>2143584</td>\n",
              "      <td>1654</td>\n",
              "      <td>0.049026</td>\n",
              "      <td>0.858525</td>\n",
              "    </tr>\n",
              "    <tr>\n",
              "      <th>8</th>\n",
              "      <td>30</td>\n",
              "      <td>1678</td>\n",
              "      <td>101088</td>\n",
              "      <td>78</td>\n",
              "      <td>0.016599</td>\n",
              "      <td>0.384615</td>\n",
              "    </tr>\n",
              "    <tr>\n",
              "      <th>9</th>\n",
              "      <td>0</td>\n",
              "      <td>0</td>\n",
              "      <td>215136</td>\n",
              "      <td>166</td>\n",
              "      <td>0.0</td>\n",
              "      <td>0.000000</td>\n",
              "    </tr>\n",
              "    <tr>\n",
              "      <th>10</th>\n",
              "      <td>0</td>\n",
              "      <td>0</td>\n",
              "      <td>103680</td>\n",
              "      <td>80</td>\n",
              "      <td>0.0</td>\n",
              "      <td>0.000000</td>\n",
              "    </tr>\n",
              "    <tr>\n",
              "      <th>11</th>\n",
              "      <td>1103</td>\n",
              "      <td>110139</td>\n",
              "      <td>1959552</td>\n",
              "      <td>1512</td>\n",
              "      <td>0.056206</td>\n",
              "      <td>0.729497</td>\n",
              "    </tr>\n",
              "    <tr>\n",
              "      <th>12</th>\n",
              "      <td>44</td>\n",
              "      <td>4093</td>\n",
              "      <td>57024</td>\n",
              "      <td>44</td>\n",
              "      <td>0.071777</td>\n",
              "      <td>1.000000</td>\n",
              "    </tr>\n",
              "    <tr>\n",
              "      <th>13</th>\n",
              "      <td>1777</td>\n",
              "      <td>253338</td>\n",
              "      <td>2468880</td>\n",
              "      <td>1905</td>\n",
              "      <td>0.102613</td>\n",
              "      <td>0.932808</td>\n",
              "    </tr>\n",
              "    <tr>\n",
              "      <th>14</th>\n",
              "      <td>278</td>\n",
              "      <td>37226</td>\n",
              "      <td>460080</td>\n",
              "      <td>355</td>\n",
              "      <td>0.080912</td>\n",
              "      <td>0.783099</td>\n",
              "    </tr>\n",
              "    <tr>\n",
              "      <th>15</th>\n",
              "      <td>128</td>\n",
              "      <td>19271</td>\n",
              "      <td>263088</td>\n",
              "      <td>203</td>\n",
              "      <td>0.073249</td>\n",
              "      <td>0.630542</td>\n",
              "    </tr>\n",
              "  </tbody>\n",
              "</table>\n",
              "</div>\n",
              "    <div class=\"colab-df-buttons\">\n",
              "\n",
              "  <div class=\"colab-df-container\">\n",
              "    <button class=\"colab-df-convert\" onclick=\"convertToInteractive('df-aa8081d2-ddfc-4bcc-8047-a1df6fd48723')\"\n",
              "            title=\"Convert this dataframe to an interactive table.\"\n",
              "            style=\"display:none;\">\n",
              "\n",
              "  <svg xmlns=\"http://www.w3.org/2000/svg\" height=\"24px\" viewBox=\"0 -960 960 960\">\n",
              "    <path d=\"M120-120v-720h720v720H120Zm60-500h600v-160H180v160Zm220 220h160v-160H400v160Zm0 220h160v-160H400v160ZM180-400h160v-160H180v160Zm440 0h160v-160H620v160ZM180-180h160v-160H180v160Zm440 0h160v-160H620v160Z\"/>\n",
              "  </svg>\n",
              "    </button>\n",
              "\n",
              "  <style>\n",
              "    .colab-df-container {\n",
              "      display:flex;\n",
              "      gap: 12px;\n",
              "    }\n",
              "\n",
              "    .colab-df-convert {\n",
              "      background-color: #E8F0FE;\n",
              "      border: none;\n",
              "      border-radius: 50%;\n",
              "      cursor: pointer;\n",
              "      display: none;\n",
              "      fill: #1967D2;\n",
              "      height: 32px;\n",
              "      padding: 0 0 0 0;\n",
              "      width: 32px;\n",
              "    }\n",
              "\n",
              "    .colab-df-convert:hover {\n",
              "      background-color: #E2EBFA;\n",
              "      box-shadow: 0px 1px 2px rgba(60, 64, 67, 0.3), 0px 1px 3px 1px rgba(60, 64, 67, 0.15);\n",
              "      fill: #174EA6;\n",
              "    }\n",
              "\n",
              "    .colab-df-buttons div {\n",
              "      margin-bottom: 4px;\n",
              "    }\n",
              "\n",
              "    [theme=dark] .colab-df-convert {\n",
              "      background-color: #3B4455;\n",
              "      fill: #D2E3FC;\n",
              "    }\n",
              "\n",
              "    [theme=dark] .colab-df-convert:hover {\n",
              "      background-color: #434B5C;\n",
              "      box-shadow: 0px 1px 3px 1px rgba(0, 0, 0, 0.15);\n",
              "      filter: drop-shadow(0px 1px 2px rgba(0, 0, 0, 0.3));\n",
              "      fill: #FFFFFF;\n",
              "    }\n",
              "  </style>\n",
              "\n",
              "    <script>\n",
              "      const buttonEl =\n",
              "        document.querySelector('#df-aa8081d2-ddfc-4bcc-8047-a1df6fd48723 button.colab-df-convert');\n",
              "      buttonEl.style.display =\n",
              "        google.colab.kernel.accessAllowed ? 'block' : 'none';\n",
              "\n",
              "      async function convertToInteractive(key) {\n",
              "        const element = document.querySelector('#df-aa8081d2-ddfc-4bcc-8047-a1df6fd48723');\n",
              "        const dataTable =\n",
              "          await google.colab.kernel.invokeFunction('convertToInteractive',\n",
              "                                                    [key], {});\n",
              "        if (!dataTable) return;\n",
              "\n",
              "        const docLinkHtml = 'Like what you see? Visit the ' +\n",
              "          '<a target=\"_blank\" href=https://colab.research.google.com/notebooks/data_table.ipynb>data table notebook</a>'\n",
              "          + ' to learn more about interactive tables.';\n",
              "        element.innerHTML = '';\n",
              "        dataTable['output_type'] = 'display_data';\n",
              "        await google.colab.output.renderOutput(dataTable, element);\n",
              "        const docLink = document.createElement('div');\n",
              "        docLink.innerHTML = docLinkHtml;\n",
              "        element.appendChild(docLink);\n",
              "      }\n",
              "    </script>\n",
              "  </div>\n",
              "\n",
              "\n",
              "<div id=\"df-9ae6446d-67b8-4c61-aa9b-2502a2ab54ba\">\n",
              "  <button class=\"colab-df-quickchart\" onclick=\"quickchart('df-9ae6446d-67b8-4c61-aa9b-2502a2ab54ba')\"\n",
              "            title=\"Suggest charts\"\n",
              "            style=\"display:none;\">\n",
              "\n",
              "<svg xmlns=\"http://www.w3.org/2000/svg\" height=\"24px\"viewBox=\"0 0 24 24\"\n",
              "     width=\"24px\">\n",
              "    <g>\n",
              "        <path d=\"M19 3H5c-1.1 0-2 .9-2 2v14c0 1.1.9 2 2 2h14c1.1 0 2-.9 2-2V5c0-1.1-.9-2-2-2zM9 17H7v-7h2v7zm4 0h-2V7h2v10zm4 0h-2v-4h2v4z\"/>\n",
              "    </g>\n",
              "</svg>\n",
              "  </button>\n",
              "\n",
              "<style>\n",
              "  .colab-df-quickchart {\n",
              "      --bg-color: #E8F0FE;\n",
              "      --fill-color: #1967D2;\n",
              "      --hover-bg-color: #E2EBFA;\n",
              "      --hover-fill-color: #174EA6;\n",
              "      --disabled-fill-color: #AAA;\n",
              "      --disabled-bg-color: #DDD;\n",
              "  }\n",
              "\n",
              "  [theme=dark] .colab-df-quickchart {\n",
              "      --bg-color: #3B4455;\n",
              "      --fill-color: #D2E3FC;\n",
              "      --hover-bg-color: #434B5C;\n",
              "      --hover-fill-color: #FFFFFF;\n",
              "      --disabled-bg-color: #3B4455;\n",
              "      --disabled-fill-color: #666;\n",
              "  }\n",
              "\n",
              "  .colab-df-quickchart {\n",
              "    background-color: var(--bg-color);\n",
              "    border: none;\n",
              "    border-radius: 50%;\n",
              "    cursor: pointer;\n",
              "    display: none;\n",
              "    fill: var(--fill-color);\n",
              "    height: 32px;\n",
              "    padding: 0;\n",
              "    width: 32px;\n",
              "  }\n",
              "\n",
              "  .colab-df-quickchart:hover {\n",
              "    background-color: var(--hover-bg-color);\n",
              "    box-shadow: 0 1px 2px rgba(60, 64, 67, 0.3), 0 1px 3px 1px rgba(60, 64, 67, 0.15);\n",
              "    fill: var(--button-hover-fill-color);\n",
              "  }\n",
              "\n",
              "  .colab-df-quickchart-complete:disabled,\n",
              "  .colab-df-quickchart-complete:disabled:hover {\n",
              "    background-color: var(--disabled-bg-color);\n",
              "    fill: var(--disabled-fill-color);\n",
              "    box-shadow: none;\n",
              "  }\n",
              "\n",
              "  .colab-df-spinner {\n",
              "    border: 2px solid var(--fill-color);\n",
              "    border-color: transparent;\n",
              "    border-bottom-color: var(--fill-color);\n",
              "    animation:\n",
              "      spin 1s steps(1) infinite;\n",
              "  }\n",
              "\n",
              "  @keyframes spin {\n",
              "    0% {\n",
              "      border-color: transparent;\n",
              "      border-bottom-color: var(--fill-color);\n",
              "      border-left-color: var(--fill-color);\n",
              "    }\n",
              "    20% {\n",
              "      border-color: transparent;\n",
              "      border-left-color: var(--fill-color);\n",
              "      border-top-color: var(--fill-color);\n",
              "    }\n",
              "    30% {\n",
              "      border-color: transparent;\n",
              "      border-left-color: var(--fill-color);\n",
              "      border-top-color: var(--fill-color);\n",
              "      border-right-color: var(--fill-color);\n",
              "    }\n",
              "    40% {\n",
              "      border-color: transparent;\n",
              "      border-right-color: var(--fill-color);\n",
              "      border-top-color: var(--fill-color);\n",
              "    }\n",
              "    60% {\n",
              "      border-color: transparent;\n",
              "      border-right-color: var(--fill-color);\n",
              "    }\n",
              "    80% {\n",
              "      border-color: transparent;\n",
              "      border-right-color: var(--fill-color);\n",
              "      border-bottom-color: var(--fill-color);\n",
              "    }\n",
              "    90% {\n",
              "      border-color: transparent;\n",
              "      border-bottom-color: var(--fill-color);\n",
              "    }\n",
              "  }\n",
              "</style>\n",
              "\n",
              "  <script>\n",
              "    async function quickchart(key) {\n",
              "      const quickchartButtonEl =\n",
              "        document.querySelector('#' + key + ' button');\n",
              "      quickchartButtonEl.disabled = true;  // To prevent multiple clicks.\n",
              "      quickchartButtonEl.classList.add('colab-df-spinner');\n",
              "      try {\n",
              "        const charts = await google.colab.kernel.invokeFunction(\n",
              "            'suggestCharts', [key], {});\n",
              "      } catch (error) {\n",
              "        console.error('Error during call to suggestCharts:', error);\n",
              "      }\n",
              "      quickchartButtonEl.classList.remove('colab-df-spinner');\n",
              "      quickchartButtonEl.classList.add('colab-df-quickchart-complete');\n",
              "    }\n",
              "    (() => {\n",
              "      let quickchartButtonEl =\n",
              "        document.querySelector('#df-9ae6446d-67b8-4c61-aa9b-2502a2ab54ba button');\n",
              "      quickchartButtonEl.style.display =\n",
              "        google.colab.kernel.accessAllowed ? 'block' : 'none';\n",
              "    })();\n",
              "  </script>\n",
              "</div>\n",
              "    </div>\n",
              "  </div>\n"
            ],
            "application/vnd.google.colaboratory.intrinsic+json": {
              "type": "dataframe",
              "variable_name": "well_info",
              "summary": "{\n  \"name\": \"well_info\",\n  \"rows\": 15,\n  \"fields\": [\n    {\n      \"column\": \"well\",\n      \"properties\": {\n        \"dtype\": \"number\",\n        \"std\": 4,\n        \"min\": 1,\n        \"max\": 15,\n        \"num_unique_values\": 15,\n        \"samples\": [\n          10,\n          12,\n          1\n        ],\n        \"semantic_type\": \"\",\n        \"description\": \"\"\n      }\n    },\n    {\n      \"column\": \"n_patches\",\n      \"properties\": {\n        \"dtype\": \"number\",\n        \"std\": 641,\n        \"min\": 0,\n        \"max\": 1777,\n        \"num_unique_values\": 14,\n        \"samples\": [\n          1103,\n          1777,\n          130\n        ],\n        \"semantic_type\": \"\",\n        \"description\": \"\"\n      }\n    },\n    {\n      \"column\": \"n_pixels\",\n      \"properties\": {\n        \"dtype\": \"date\",\n        \"min\": 0,\n        \"max\": 253338,\n        \"num_unique_values\": 14,\n        \"samples\": [\n          110139,\n          253338,\n          11116\n        ],\n        \"semantic_type\": \"\",\n        \"description\": \"\"\n      }\n    },\n    {\n      \"column\": \"overall\",\n      \"properties\": {\n        \"dtype\": \"number\",\n        \"std\": 924068,\n        \"min\": 57024,\n        \"max\": 2468880,\n        \"num_unique_values\": 14,\n        \"samples\": [\n          1959552,\n          2468880,\n          215136\n        ],\n        \"semantic_type\": \"\",\n        \"description\": \"\"\n      }\n    },\n    {\n      \"column\": \"count\",\n      \"properties\": {\n        \"dtype\": \"number\",\n        \"std\": 713,\n        \"min\": 44,\n        \"max\": 1905,\n        \"num_unique_values\": 14,\n        \"samples\": [\n          1512,\n          1905,\n          166\n        ],\n        \"semantic_type\": \"\",\n        \"description\": \"\"\n      }\n    },\n    {\n      \"column\": \"pixels with corrosion\",\n      \"properties\": {\n        \"dtype\": \"date\",\n        \"min\": 0.0,\n        \"max\": 0.10261252065714008,\n        \"num_unique_values\": 14,\n        \"samples\": [\n          0.056206214481677445,\n          0.10261252065714008,\n          0.05166964152907928\n        ],\n        \"semantic_type\": \"\",\n        \"description\": \"\"\n      }\n    },\n    {\n      \"column\": \"patches with corrosion\",\n      \"properties\": {\n        \"dtype\": \"number\",\n        \"std\": 0.3378465785195316,\n        \"min\": 0.0,\n        \"max\": 1.0,\n        \"num_unique_values\": 14,\n        \"samples\": [\n          0.7294973544973545,\n          0.9328083989501312,\n          0.7831325301204819\n        ],\n        \"semantic_type\": \"\",\n        \"description\": \"\"\n      }\n    }\n  ]\n}"
            }
          },
          "metadata": {},
          "execution_count": 19
        }
      ]
    },
    {
      "cell_type": "markdown",
      "source": [
        "* Данные в разрезе скважин существенно отличаются по доле пикселей с коррозией. Это необходимо учитывать при составлении обучающей и валидационной/ тестовой выборок. По 9 и 10 скважинам данных по коррозии нет."
      ],
      "metadata": {
        "id": "8nsbMByshlNK"
      }
    },
    {
      "cell_type": "markdown",
      "metadata": {
        "id": "BgF_bYPqcNy8"
      },
      "source": [
        "### Preprocessing analysis"
      ]
    },
    {
      "cell_type": "code",
      "execution_count": 20,
      "metadata": {
        "colab": {
          "base_uri": "https://localhost:8080/",
          "height": 843
        },
        "id": "8cMCiz5icNy9",
        "outputId": "cd352254-ccf7-475f-b792-3d1a9a8dd37f"
      },
      "outputs": [
        {
          "output_type": "display_data",
          "data": {
            "text/plain": [
              "<Figure size 640x480 with 1 Axes>"
            ],
            "image/png": "[encoded data removed]"
          },
          "metadata": {}
        },
        {
          "output_type": "display_data",
          "data": {
            "text/plain": [
              "<Figure size 640x480 with 1 Axes>"
            ],
            "image/png": "[encoded data removed]"
          },
          "metadata": {}
        }
      ],
      "source": [
        "image = np.load('../data/raw/images/well_2_patch_3.npy')\n",
        "plt.imshow(image)\n",
        "plt.show()\n",
        "\n",
        "mask = np.array(y_train.loc['well_2_patch_3']).reshape(36,36)\n",
        "plt.imshow(mask)\n",
        "plt.show()"
      ]
    },
    {
      "cell_type": "code",
      "execution_count": 21,
      "metadata": {
        "colab": {
          "base_uri": "https://localhost:8080/",
          "height": 430
        },
        "id": "3MCD1x8NcNy9",
        "outputId": "23741711-7309-453c-cf9c-97f385d676e6"
      },
      "outputs": [
        {
          "output_type": "display_data",
          "data": {
            "text/plain": [
              "<Figure size 640x480 with 1 Axes>"
            ],
            "image/png": "[encoded data removed]"
          },
          "metadata": {}
        }
      ],
      "source": [
        "# Data analysis\n",
        "file_names = os.listdir('../data/raw/images/')\n",
        "images = []\n",
        "for img_name in file_names:\n",
        "    img = np.load(os.path.join('../data/raw/images/', img_name))\n",
        "\n",
        "    if np.sum(img < -800) > 0:\n",
        "        plt.imshow(img)\n",
        "        plt.show()\n",
        "        break\n",
        "\n",
        "    images.append(img)"
      ]
    },
    {
      "cell_type": "code",
      "execution_count": 22,
      "metadata": {
        "colab": {
          "base_uri": "https://localhost:8080/"
        },
        "id": "f-Jgn88fcNy-",
        "outputId": "e3281dd9-9e17-4ed2-a2ff-0b073077552a"
      },
      "outputs": [
        {
          "output_type": "execute_result",
          "data": {
            "text/plain": [
              "(-999.25,\n",
              " 0.21821465,\n",
              " array([-9.9925000e+02, -4.3391149e-02, -4.2836480e-02, ...,\n",
              "         2.1378002e-01,  2.1693875e-01,  2.1821465e-01], dtype=float32))"
            ]
          },
          "metadata": {},
          "execution_count": 22
        }
      ],
      "source": [
        "np.min(img), np.max(img), np.unique(img),"
      ]
    },
    {
      "cell_type": "code",
      "execution_count": 23,
      "metadata": {
        "colab": {
          "base_uri": "https://localhost:8080/"
        },
        "id": "tpt8YWNUcNy-",
        "outputId": "39587a8e-0562-4a5e-9bf6-6ee036d38147"
      },
      "outputs": [
        {
          "output_type": "stream",
          "name": "stderr",
          "text": [
            "100%|██████████| 9674/9674 [00:03<00:00, 2779.70it/s]\n"
          ]
        },
        {
          "output_type": "stream",
          "name": "stdout",
          "text": [
            "Number patches train set: 9674\n",
            "Number of outliers: 3.514575149886293\n"
          ]
        }
      ],
      "source": [
        " # Data analysis\n",
        "file_names = os.listdir('../data/raw/images/')\n",
        "images_train = []\n",
        "count_outliers = 0\n",
        "for img_name in tqdm(file_names):\n",
        "    # print(img_name)\n",
        "    img = np.load(os.path.join('../data/raw/images/', img_name))\n",
        "    if img.min() < -100:\n",
        "        count_outliers += 1\n",
        "\n",
        "    images_train.append(img)\n",
        "flat_list_img_train = np.array(images_train).flatten()\n",
        "print('Number patches train set:', len(images_train))\n",
        "print('Number of outliers:', count_outliers*100/len(file_names))"
      ]
    },
    {
      "cell_type": "markdown",
      "metadata": {
        "id": "V3y0PMowNq_j"
      },
      "source": [
        "* В Number of outliers речь о доле выбросов в процентах, а не о числе выбросов"
      ]
    },
    {
      "cell_type": "code",
      "execution_count": 24,
      "metadata": {
        "colab": {
          "base_uri": "https://localhost:8080/"
        },
        "id": "_YqYZ0V2cNy_",
        "outputId": "bcb4908c-56e5-43ce-dc87-1dd36d06e777"
      },
      "outputs": [
        {
          "output_type": "stream",
          "name": "stdout",
          "text": [
            "For the training images :\n",
            "Mean : -4.65097\n",
            "Std : 68.01098\n",
            "Max : 0.4703434\n",
            "Min : -999.25\n"
          ]
        }
      ],
      "source": [
        "# Statistics on the train images\n",
        "\n",
        "cleaned_img = np.nan_to_num(flat_list_img_train)\n",
        "print('For the training images :')\n",
        "print('Mean :',np.mean(cleaned_img))\n",
        "print('Std :',np.std(cleaned_img))\n",
        "print('Max :',np.max(cleaned_img))\n",
        "print('Min :',np.min(cleaned_img))"
      ]
    },
    {
      "cell_type": "markdown",
      "source": [
        "* Статистика по квантилям была бы более информативна:"
      ],
      "metadata": {
        "id": "zWkvzCBMnwLc"
      }
    },
    {
      "cell_type": "code",
      "source": [
        "with np.printoptions(precision=3, suppress=True):\n",
        "    print(np.quantile(cleaned_img, [0.0025, 0.005, 0.25, 0.5, 0.75, 0.995]))"
      ],
      "metadata": {
        "colab": {
          "base_uri": "https://localhost:8080/"
        },
        "id": "OiDQG2FplVyP",
        "outputId": "e09532f3-c615-4299-ec8f-7bc711b56dc2"
      },
      "execution_count": 25,
      "outputs": [
        {
          "output_type": "stream",
          "name": "stdout",
          "text": [
            "[-999.25    -0.151   -0.008    0.001    0.01     0.04 ]\n"
          ]
        }
      ]
    },
    {
      "cell_type": "code",
      "execution_count": 26,
      "metadata": {
        "colab": {
          "base_uri": "https://localhost:8080/",
          "height": 523
        },
        "id": "jw81viq0cNy_",
        "outputId": "44ff6a79-1099-4834-917f-dce5e7d82597"
      },
      "outputs": [
        {
          "output_type": "stream",
          "name": "stderr",
          "text": [
            "100%|██████████| 9674/9674 [00:03<00:00, 2529.91it/s]\n"
          ]
        },
        {
          "output_type": "display_data",
          "data": {
            "text/plain": [
              "<Figure size 1000x500 with 1 Axes>"
            ],
            "image/png": "[encoded data removed]"
          },
          "metadata": {}
        },
        {
          "output_type": "stream",
          "name": "stdout",
          "text": [
            "Ratio outliers pixels: 0.465 %\n"
          ]
        }
      ],
      "source": [
        "file_names = os.listdir('../data/raw/images/')\n",
        "images_train = []\n",
        "count_outliers = 0\n",
        "for img_name in tqdm(file_names):\n",
        "    # print(img_name)\n",
        "    img = np.load(os.path.join('../data/raw/images/', img_name))\n",
        "    if img.min() < -100:\n",
        "        count_outliers += 1\n",
        "\n",
        "    images_train.append(img)\n",
        "flat_list_img_train = np.array(images_train).flatten()\n",
        "cleaned_img = np.nan_to_num(flat_list_img_train)\n",
        "plt.figure(figsize=(10, 5))\n",
        "plt.hist(cleaned_img[cleaned_img > -100] , bins=100)\n",
        "plt.title('Histogram of the pixels from train images (without outliers <0.5%)')\n",
        "plt.xlabel('Pixel value')\n",
        "plt.ylabel('Number of pixels')\n",
        "plt.show()\n",
        "print('Ratio outliers pixels:',round(len(cleaned_img[cleaned_img <-100])*100/len(cleaned_img),ndigits=3),'%')"
      ]
    },
    {
      "cell_type": "markdown",
      "metadata": {
        "id": "72cJACCnSY1P"
      },
      "source": [
        "* здесь лучше убрать дублирование кода:\n",
        "```\n",
        "file_names = os.listdir('../data/raw/images/')\n",
        "images_train = []\n",
        "count_outliers = 0\n",
        "for img_name in tqdm(file_names):\n",
        "    # print(img_name)\n",
        "    img = np.load(os.path.join('../data/raw/images/', img_name))\n",
        "    if img.min() < -100:\n",
        "        count_outliers += 1\n",
        "\n",
        "    images_train.append(img)\n",
        "flat_list_img_train = np.array(images_train).flatten()\n",
        "cleaned_img = np.nan_to_num(flat_list_img_train)\n",
        "```\n",
        "и оставить только\n",
        "```\n",
        "plt.figure(figsize=(10, 5))\n",
        "plt.hist(cleaned_img[cleaned_img > -100] , bins=100)\n",
        "plt.title('Histogram of the pixels from train images (without outliers <0.5%)')\n",
        "plt.xlabel('Pixel value')\n",
        "plt.ylabel('Number of pixels')\n",
        "plt.show()\n",
        "print('Ratio outliers pixels:',round(len(cleaned_img[cleaned_img <-100])*100/len(cleaned_img),ndigits=3),'%')\n",
        "```\n",
        "* Анализировать информацию по всем точкам ```flat_list_img_train``` не информативно. Лучше анализировать в разрезе изображений:"
      ]
    },
    {
      "cell_type": "markdown",
      "source": [
        "* Пропуски"
      ],
      "metadata": {
        "id": "jrpg9PLw2Hwe"
      }
    },
    {
      "cell_type": "code",
      "source": [
        "root_dir = \"/content/cv-segmentation/data/raw/images/\"\n",
        "\n",
        "images_train = []\n",
        "for index in tqdm(y_train.index):\n",
        "  img = np.load(os.path.join(root_dir, f\"{index}.npy\"))\n",
        "  images_train.append(img)"
      ],
      "metadata": {
        "colab": {
          "base_uri": "https://localhost:8080/"
        },
        "id": "rx6aHeuxH0ap",
        "outputId": "ad69a278-9f6e-4c4f-9dd4-537f46498680"
      },
      "execution_count": 27,
      "outputs": [
        {
          "output_type": "stream",
          "name": "stderr",
          "text": [
            "100%|██████████| 9674/9674 [00:05<00:00, 1858.01it/s]\n"
          ]
        }
      ]
    },
    {
      "cell_type": "code",
      "source": [
        "image_arr = np.reshape(np.asarray(images_train), (len(images_train), -1))\n",
        "image_frame = pd.DataFrame(image_arr, y_train.index)\n",
        "\n",
        "a = image_frame.isnull().sum(axis=1)\n",
        "a[a > 0]"
      ],
      "metadata": {
        "colab": {
          "base_uri": "https://localhost:8080/",
          "height": 147
        },
        "id": "Axjm_D9vVCe2",
        "outputId": "d80bdf9f-02d7-47b9-a848-36537e4d0866"
      },
      "execution_count": 28,
      "outputs": [
        {
          "output_type": "execute_result",
          "data": {
            "text/plain": [
              "well_15_patch_201     11\n",
              "well_15_patch_202    683\n",
              "dtype: int64"
            ],
            "text/html": [
              "<div>\n",
              "<style scoped>\n",
              "    .dataframe tbody tr th:only-of-type {\n",
              "        vertical-align: middle;\n",
              "    }\n",
              "\n",
              "    .dataframe tbody tr th {\n",
              "        vertical-align: top;\n",
              "    }\n",
              "\n",
              "    .dataframe thead th {\n",
              "        text-align: right;\n",
              "    }\n",
              "</style>\n",
              "<table border=\"1\" class=\"dataframe\">\n",
              "  <thead>\n",
              "    <tr style=\"text-align: right;\">\n",
              "      <th></th>\n",
              "      <th>0</th>\n",
              "    </tr>\n",
              "  </thead>\n",
              "  <tbody>\n",
              "    <tr>\n",
              "      <th>well_15_patch_201</th>\n",
              "      <td>11</td>\n",
              "    </tr>\n",
              "    <tr>\n",
              "      <th>well_15_patch_202</th>\n",
              "      <td>683</td>\n",
              "    </tr>\n",
              "  </tbody>\n",
              "</table>\n",
              "</div><br><label><b>dtype:</b> int64</label>"
            ]
          },
          "metadata": {},
          "execution_count": 28
        }
      ]
    },
    {
      "cell_type": "markdown",
      "source": [
        "У нас всего 2 изображения с пропусками:\n",
        "* ```well_15_patch_202``` лучше удалить,\n",
        "* пропуски в ```well_15_patch_201``` можно заполнить медианой этого изображения."
      ],
      "metadata": {
        "id": "IidijZpbp8Jb"
      }
    },
    {
      "cell_type": "code",
      "source": [
        "to_delete = ['well_15_patch_202']\n",
        "image_frame.loc[\"well_15_patch_201\"] = (\n",
        "    image_frame.loc[\"well_15_patch_201\"].fillna(image_frame.median(axis=1))\n",
        ")"
      ],
      "metadata": {
        "id": "NPYgGUm2tTa8"
      },
      "execution_count": 29,
      "outputs": []
    },
    {
      "cell_type": "markdown",
      "source": [
        "* Выбросы"
      ],
      "metadata": {
        "id": "q6aaMUSz4lfs"
      }
    },
    {
      "cell_type": "markdown",
      "source": [
        "Порогом отсечения выбросов слева будем считать -0.25"
      ],
      "metadata": {
        "id": "EV8WITOhgy-E"
      }
    },
    {
      "cell_type": "code",
      "source": [
        "threshold = -0.25"
      ],
      "metadata": {
        "id": "e4PSyjqvhU8Y"
      },
      "execution_count": 30,
      "outputs": []
    },
    {
      "cell_type": "code",
      "source": [
        "image_frame_anomaly = (image_frame.iloc[:, :-1] < threshold).sum(axis=1)\n",
        "image_frame_anomaly[image_frame_anomaly > 0]"
      ],
      "metadata": {
        "colab": {
          "base_uri": "https://localhost:8080/",
          "height": 458
        },
        "id": "WY5ZcKRSsMhU",
        "outputId": "3e93bfa6-b93c-4210-d928-1a66da8a20c1"
      },
      "execution_count": 31,
      "outputs": [
        {
          "output_type": "execute_result",
          "data": {
            "text/plain": [
              "well_10_patch_0        72\n",
              "well_10_patch_1        72\n",
              "well_10_patch_18        3\n",
              "well_10_patch_19        1\n",
              "well_10_patch_26        1\n",
              "                     ... \n",
              "well_9_patch_8       1295\n",
              "well_9_patch_9       1295\n",
              "well_13_patch_161       2\n",
              "well_13_patch_493       1\n",
              "well_15_patch_201       2\n",
              "Length: 347, dtype: int64"
            ],
            "text/html": [
              "<div>\n",
              "<style scoped>\n",
              "    .dataframe tbody tr th:only-of-type {\n",
              "        vertical-align: middle;\n",
              "    }\n",
              "\n",
              "    .dataframe tbody tr th {\n",
              "        vertical-align: top;\n",
              "    }\n",
              "\n",
              "    .dataframe thead th {\n",
              "        text-align: right;\n",
              "    }\n",
              "</style>\n",
              "<table border=\"1\" class=\"dataframe\">\n",
              "  <thead>\n",
              "    <tr style=\"text-align: right;\">\n",
              "      <th></th>\n",
              "      <th>0</th>\n",
              "    </tr>\n",
              "  </thead>\n",
              "  <tbody>\n",
              "    <tr>\n",
              "      <th>well_10_patch_0</th>\n",
              "      <td>72</td>\n",
              "    </tr>\n",
              "    <tr>\n",
              "      <th>well_10_patch_1</th>\n",
              "      <td>72</td>\n",
              "    </tr>\n",
              "    <tr>\n",
              "      <th>well_10_patch_18</th>\n",
              "      <td>3</td>\n",
              "    </tr>\n",
              "    <tr>\n",
              "      <th>well_10_patch_19</th>\n",
              "      <td>1</td>\n",
              "    </tr>\n",
              "    <tr>\n",
              "      <th>well_10_patch_26</th>\n",
              "      <td>1</td>\n",
              "    </tr>\n",
              "    <tr>\n",
              "      <th>...</th>\n",
              "      <td>...</td>\n",
              "    </tr>\n",
              "    <tr>\n",
              "      <th>well_9_patch_8</th>\n",
              "      <td>1295</td>\n",
              "    </tr>\n",
              "    <tr>\n",
              "      <th>well_9_patch_9</th>\n",
              "      <td>1295</td>\n",
              "    </tr>\n",
              "    <tr>\n",
              "      <th>well_13_patch_161</th>\n",
              "      <td>2</td>\n",
              "    </tr>\n",
              "    <tr>\n",
              "      <th>well_13_patch_493</th>\n",
              "      <td>1</td>\n",
              "    </tr>\n",
              "    <tr>\n",
              "      <th>well_15_patch_201</th>\n",
              "      <td>2</td>\n",
              "    </tr>\n",
              "  </tbody>\n",
              "</table>\n",
              "<p>347 rows × 1 columns</p>\n",
              "</div><br><label><b>dtype:</b> int64</label>"
            ]
          },
          "metadata": {},
          "execution_count": 31
        }
      ]
    },
    {
      "cell_type": "code",
      "source": [
        "cum_outliers = [(image_frame_anomaly > i).sum() for i in np.arange(1295)]\n",
        "\n",
        "plt.plot(cum_outliers)\n",
        "plt.title('Images with outliers')\n",
        "plt.xlabel('the number of outliers in image')\n",
        "plt.ylabel('the number of images')\n",
        "plt.show()\n",
        "\n",
        "print(f\"\\nЧисло изображений с выбросами: {cum_outliers[0]}\")\n",
        "print(f\"Число изображений с 1-2 выбросами: {cum_outliers[0] - cum_outliers[2]}\")\n",
        "print(f\"Число изображений с менее, чем 15 выбросами: {cum_outliers[0] - cum_outliers[15]}\")\n",
        "print(f\"Число изображений, содержащий больше 200 выбросов: {cum_outliers[200]}\")\n",
        "print(f\"Число полностью поврежденных изображений: {cum_outliers[-1]}\")"
      ],
      "metadata": {
        "colab": {
          "base_uri": "https://localhost:8080/",
          "height": 581
        },
        "id": "0uUhbVLAKC6W",
        "outputId": "e39ce27e-e5da-4742-fe1b-a6210d3a7f23"
      },
      "execution_count": 32,
      "outputs": [
        {
          "output_type": "display_data",
          "data": {
            "text/plain": [
              "<Figure size 640x480 with 1 Axes>"
            ],
            "image/png": "[encoded data removed]"
          },
          "metadata": {}
        },
        {
          "output_type": "stream",
          "name": "stdout",
          "text": [
            "\n",
            "Число изображений с выбросами: 347\n",
            "Число изображений с 1-2 выбросами: 119\n",
            "Число изображений с менее, чем 15 выбросами: 159\n",
            "Число изображений, содержащий больше 200 выбросов: 40\n",
            "Число полностью поврежденных изображений: 34\n"
          ]
        }
      ]
    },
    {
      "cell_type": "markdown",
      "source": [
        "Из 347 изображений с выбросами:\n",
        "* у трети (119) поврежденны 1-2 пикселя;\n",
        "* почти у половины (159) из 1296 пикселей повреждены меньше 15;\n",
        "* только 40 изображений содержат больше 200 выбросов, из них 34 полностью повреждены - их можно удалить.\n",
        "\n",
        "У остальных выбросы можно заполнить медианным значением."
      ],
      "metadata": {
        "id": "dpXxQsrXPAvp"
      }
    },
    {
      "cell_type": "code",
      "source": [
        "to_delete += image_frame_anomaly[image_frame_anomaly >= 200].index.tolist()"
      ],
      "metadata": {
        "id": "DDN_IL0_8tP7"
      },
      "execution_count": 33,
      "outputs": []
    },
    {
      "cell_type": "code",
      "source": [
        "idx = [i for i in image_frame.index if i not in to_delete]\n",
        "df = image_frame.loc[idx]\n",
        "image_frame_cleaned = df.mask(df < threshold, df.median(axis=1), axis=0)\n",
        "\n",
        "assert (image_frame_cleaned < threshold).sum().sum() == 0\n",
        "\n",
        "image_frame_cleaned"
      ],
      "metadata": {
        "colab": {
          "base_uri": "https://localhost:8080/",
          "height": 443
        },
        "id": "EV2UA1k308zT",
        "outputId": "ff2e020a-7d57-4295-ecd2-c848fbe969f7"
      },
      "execution_count": 34,
      "outputs": [
        {
          "output_type": "execute_result",
          "data": {
            "text/plain": [
              "                      0         1         2         3         4         5     \\\n",
              "well_10_patch_0  -0.000412 -0.000412 -0.000412 -0.000412 -0.000412 -0.000412   \n",
              "well_10_patch_1  -0.000806 -0.000806 -0.000806 -0.000806 -0.000806 -0.000806   \n",
              "well_10_patch_10 -0.002979 -0.004271 -0.005818 -0.005832  0.001039  0.005100   \n",
              "well_10_patch_11 -0.005269 -0.004466 -0.006988 -0.002586  0.003652  0.006364   \n",
              "well_10_patch_12 -0.002398 -0.006441 -0.006727 -0.001634  0.001214  0.001686   \n",
              "...                    ...       ...       ...       ...       ...       ...   \n",
              "well_15_patch_95  0.013587  0.010484  0.004901  0.005401  0.001618 -0.002305   \n",
              "well_15_patch_96  0.008314  0.003192  0.002544 -0.000044 -0.002885 -0.006004   \n",
              "well_15_patch_97 -0.006141 -0.004707 -0.003163 -0.003406 -0.005355 -0.010469   \n",
              "well_15_patch_98 -0.008180 -0.005605 -0.003797 -0.002707 -0.002596 -0.004241   \n",
              "well_15_patch_99 -0.003674  0.000220  0.003001  0.004887  0.009092  0.004660   \n",
              "\n",
              "                      6         7         8         9     ...      1286  \\\n",
              "well_10_patch_0  -0.000412 -0.000412 -0.000412 -0.000412  ...  0.017024   \n",
              "well_10_patch_1  -0.000806 -0.000806 -0.000806 -0.000806  ...  0.014312   \n",
              "well_10_patch_10  0.007400  0.002055 -0.002632 -0.002859  ... -0.003153   \n",
              "well_10_patch_11  0.005641 -0.001116 -0.002329 -0.001440  ... -0.009542   \n",
              "well_10_patch_12 -0.007389 -0.011920 -0.015679 -0.009842  ... -0.009146   \n",
              "...                    ...       ...       ...       ...  ...       ...   \n",
              "well_15_patch_95 -0.006864 -0.005063 -0.007770 -0.005627  ...  0.012775   \n",
              "well_15_patch_96 -0.013668 -0.005930 -0.011954 -0.006626  ...  0.013687   \n",
              "well_15_patch_97 -0.009236 -0.009228 -0.007228 -0.005192  ...  0.008466   \n",
              "well_15_patch_98 -0.005544 -0.003244 -0.001192  0.002914  ...  0.002424   \n",
              "well_15_patch_99 -0.012744 -0.027340 -0.017845  0.009999  ...  0.002388   \n",
              "\n",
              "                      1287      1288      1289      1290      1291      1292  \\\n",
              "well_10_patch_0   0.016007  0.015039  0.012637 -0.003598  0.001333 -0.002174   \n",
              "well_10_patch_1   0.010064  0.009222 -0.002185 -0.001853  0.000917 -0.010090   \n",
              "well_10_patch_10 -0.014746 -0.011752 -0.015686 -0.017799 -0.020349 -0.019228   \n",
              "well_10_patch_11 -0.015098 -0.011299 -0.016271 -0.020786 -0.019643 -0.010636   \n",
              "well_10_patch_12 -0.005687 -0.010271 -0.013969 -0.015683 -0.013081  0.009609   \n",
              "...                    ...       ...       ...       ...       ...       ...   \n",
              "well_15_patch_95  0.017945  0.019705  0.020901  0.023180  0.026395  0.023254   \n",
              "well_15_patch_96  0.016355  0.016976  0.017689  0.016362  0.016906  0.013601   \n",
              "well_15_patch_97  0.006963  0.011139  0.007176  0.006689  0.006253  0.005782   \n",
              "well_15_patch_98  0.006420  0.010175  0.007500  0.008585  0.010286  0.008796   \n",
              "well_15_patch_99  0.000674  0.002900  0.001445  0.003866  0.005009  0.005695   \n",
              "\n",
              "                      1293      1294      1295  \n",
              "well_10_patch_0  -0.015750 -0.016489 -0.010847  \n",
              "well_10_patch_1  -0.017946 -0.012724 -0.008150  \n",
              "well_10_patch_10  0.003017  0.006789  0.004101  \n",
              "well_10_patch_11  0.003672  0.005662 -0.001582  \n",
              "well_10_patch_12  0.010909  0.009784  0.006019  \n",
              "...                    ...       ...       ...  \n",
              "well_15_patch_95  0.018903  0.015142  0.010999  \n",
              "well_15_patch_96  0.008005  0.004740  0.000551  \n",
              "well_15_patch_97  0.003756  0.001664 -0.001943  \n",
              "well_15_patch_98  0.006398  0.004714 -0.012174  \n",
              "well_15_patch_99  0.004259  0.003792  0.001733  \n",
              "\n",
              "[9633 rows x 1296 columns]"
            ],
            "text/html": [
              "\n",
              "  <div id=\"df-bd811a22-5db5-473b-822e-f2366cb76135\" class=\"colab-df-container\">\n",
              "    <div>\n",
              "<style scoped>\n",
              "    .dataframe tbody tr th:only-of-type {\n",
              "        vertical-align: middle;\n",
              "    }\n",
              "\n",
              "    .dataframe tbody tr th {\n",
              "        vertical-align: top;\n",
              "    }\n",
              "\n",
              "    .dataframe thead th {\n",
              "        text-align: right;\n",
              "    }\n",
              "</style>\n",
              "<table border=\"1\" class=\"dataframe\">\n",
              "  <thead>\n",
              "    <tr style=\"text-align: right;\">\n",
              "      <th></th>\n",
              "      <th>0</th>\n",
              "      <th>1</th>\n",
              "      <th>2</th>\n",
              "      <th>3</th>\n",
              "      <th>4</th>\n",
              "      <th>5</th>\n",
              "      <th>6</th>\n",
              "      <th>7</th>\n",
              "      <th>8</th>\n",
              "      <th>9</th>\n",
              "      <th>...</th>\n",
              "      <th>1286</th>\n",
              "      <th>1287</th>\n",
              "      <th>1288</th>\n",
              "      <th>1289</th>\n",
              "      <th>1290</th>\n",
              "      <th>1291</th>\n",
              "      <th>1292</th>\n",
              "      <th>1293</th>\n",
              "      <th>1294</th>\n",
              "      <th>1295</th>\n",
              "    </tr>\n",
              "  </thead>\n",
              "  <tbody>\n",
              "    <tr>\n",
              "      <th>well_10_patch_0</th>\n",
              "      <td>-0.000412</td>\n",
              "      <td>-0.000412</td>\n",
              "      <td>-0.000412</td>\n",
              "      <td>-0.000412</td>\n",
              "      <td>-0.000412</td>\n",
              "      <td>-0.000412</td>\n",
              "      <td>-0.000412</td>\n",
              "      <td>-0.000412</td>\n",
              "      <td>-0.000412</td>\n",
              "      <td>-0.000412</td>\n",
              "      <td>...</td>\n",
              "      <td>0.017024</td>\n",
              "      <td>0.016007</td>\n",
              "      <td>0.015039</td>\n",
              "      <td>0.012637</td>\n",
              "      <td>-0.003598</td>\n",
              "      <td>0.001333</td>\n",
              "      <td>-0.002174</td>\n",
              "      <td>-0.015750</td>\n",
              "      <td>-0.016489</td>\n",
              "      <td>-0.010847</td>\n",
              "    </tr>\n",
              "    <tr>\n",
              "      <th>well_10_patch_1</th>\n",
              "      <td>-0.000806</td>\n",
              "      <td>-0.000806</td>\n",
              "      <td>-0.000806</td>\n",
              "      <td>-0.000806</td>\n",
              "      <td>-0.000806</td>\n",
              "      <td>-0.000806</td>\n",
              "      <td>-0.000806</td>\n",
              "      <td>-0.000806</td>\n",
              "      <td>-0.000806</td>\n",
              "      <td>-0.000806</td>\n",
              "      <td>...</td>\n",
              "      <td>0.014312</td>\n",
              "      <td>0.010064</td>\n",
              "      <td>0.009222</td>\n",
              "      <td>-0.002185</td>\n",
              "      <td>-0.001853</td>\n",
              "      <td>0.000917</td>\n",
              "      <td>-0.010090</td>\n",
              "      <td>-0.017946</td>\n",
              "      <td>-0.012724</td>\n",
              "      <td>-0.008150</td>\n",
              "    </tr>\n",
              "    <tr>\n",
              "      <th>well_10_patch_10</th>\n",
              "      <td>-0.002979</td>\n",
              "      <td>-0.004271</td>\n",
              "      <td>-0.005818</td>\n",
              "      <td>-0.005832</td>\n",
              "      <td>0.001039</td>\n",
              "      <td>0.005100</td>\n",
              "      <td>0.007400</td>\n",
              "      <td>0.002055</td>\n",
              "      <td>-0.002632</td>\n",
              "      <td>-0.002859</td>\n",
              "      <td>...</td>\n",
              "      <td>-0.003153</td>\n",
              "      <td>-0.014746</td>\n",
              "      <td>-0.011752</td>\n",
              "      <td>-0.015686</td>\n",
              "      <td>-0.017799</td>\n",
              "      <td>-0.020349</td>\n",
              "      <td>-0.019228</td>\n",
              "      <td>0.003017</td>\n",
              "      <td>0.006789</td>\n",
              "      <td>0.004101</td>\n",
              "    </tr>\n",
              "    <tr>\n",
              "      <th>well_10_patch_11</th>\n",
              "      <td>-0.005269</td>\n",
              "      <td>-0.004466</td>\n",
              "      <td>-0.006988</td>\n",
              "      <td>-0.002586</td>\n",
              "      <td>0.003652</td>\n",
              "      <td>0.006364</td>\n",
              "      <td>0.005641</td>\n",
              "      <td>-0.001116</td>\n",
              "      <td>-0.002329</td>\n",
              "      <td>-0.001440</td>\n",
              "      <td>...</td>\n",
              "      <td>-0.009542</td>\n",
              "      <td>-0.015098</td>\n",
              "      <td>-0.011299</td>\n",
              "      <td>-0.016271</td>\n",
              "      <td>-0.020786</td>\n",
              "      <td>-0.019643</td>\n",
              "      <td>-0.010636</td>\n",
              "      <td>0.003672</td>\n",
              "      <td>0.005662</td>\n",
              "      <td>-0.001582</td>\n",
              "    </tr>\n",
              "    <tr>\n",
              "      <th>well_10_patch_12</th>\n",
              "      <td>-0.002398</td>\n",
              "      <td>-0.006441</td>\n",
              "      <td>-0.006727</td>\n",
              "      <td>-0.001634</td>\n",
              "      <td>0.001214</td>\n",
              "      <td>0.001686</td>\n",
              "      <td>-0.007389</td>\n",
              "      <td>-0.011920</td>\n",
              "      <td>-0.015679</td>\n",
              "      <td>-0.009842</td>\n",
              "      <td>...</td>\n",
              "      <td>-0.009146</td>\n",
              "      <td>-0.005687</td>\n",
              "      <td>-0.010271</td>\n",
              "      <td>-0.013969</td>\n",
              "      <td>-0.015683</td>\n",
              "      <td>-0.013081</td>\n",
              "      <td>0.009609</td>\n",
              "      <td>0.010909</td>\n",
              "      <td>0.009784</td>\n",
              "      <td>0.006019</td>\n",
              "    </tr>\n",
              "    <tr>\n",
              "      <th>...</th>\n",
              "      <td>...</td>\n",
              "      <td>...</td>\n",
              "      <td>...</td>\n",
              "      <td>...</td>\n",
              "      <td>...</td>\n",
              "      <td>...</td>\n",
              "      <td>...</td>\n",
              "      <td>...</td>\n",
              "      <td>...</td>\n",
              "      <td>...</td>\n",
              "      <td>...</td>\n",
              "      <td>...</td>\n",
              "      <td>...</td>\n",
              "      <td>...</td>\n",
              "      <td>...</td>\n",
              "      <td>...</td>\n",
              "      <td>...</td>\n",
              "      <td>...</td>\n",
              "      <td>...</td>\n",
              "      <td>...</td>\n",
              "      <td>...</td>\n",
              "    </tr>\n",
              "    <tr>\n",
              "      <th>well_15_patch_95</th>\n",
              "      <td>0.013587</td>\n",
              "      <td>0.010484</td>\n",
              "      <td>0.004901</td>\n",
              "      <td>0.005401</td>\n",
              "      <td>0.001618</td>\n",
              "      <td>-0.002305</td>\n",
              "      <td>-0.006864</td>\n",
              "      <td>-0.005063</td>\n",
              "      <td>-0.007770</td>\n",
              "      <td>-0.005627</td>\n",
              "      <td>...</td>\n",
              "      <td>0.012775</td>\n",
              "      <td>0.017945</td>\n",
              "      <td>0.019705</td>\n",
              "      <td>0.020901</td>\n",
              "      <td>0.023180</td>\n",
              "      <td>0.026395</td>\n",
              "      <td>0.023254</td>\n",
              "      <td>0.018903</td>\n",
              "      <td>0.015142</td>\n",
              "      <td>0.010999</td>\n",
              "    </tr>\n",
              "    <tr>\n",
              "      <th>well_15_patch_96</th>\n",
              "      <td>0.008314</td>\n",
              "      <td>0.003192</td>\n",
              "      <td>0.002544</td>\n",
              "      <td>-0.000044</td>\n",
              "      <td>-0.002885</td>\n",
              "      <td>-0.006004</td>\n",
              "      <td>-0.013668</td>\n",
              "      <td>-0.005930</td>\n",
              "      <td>-0.011954</td>\n",
              "      <td>-0.006626</td>\n",
              "      <td>...</td>\n",
              "      <td>0.013687</td>\n",
              "      <td>0.016355</td>\n",
              "      <td>0.016976</td>\n",
              "      <td>0.017689</td>\n",
              "      <td>0.016362</td>\n",
              "      <td>0.016906</td>\n",
              "      <td>0.013601</td>\n",
              "      <td>0.008005</td>\n",
              "      <td>0.004740</td>\n",
              "      <td>0.000551</td>\n",
              "    </tr>\n",
              "    <tr>\n",
              "      <th>well_15_patch_97</th>\n",
              "      <td>-0.006141</td>\n",
              "      <td>-0.004707</td>\n",
              "      <td>-0.003163</td>\n",
              "      <td>-0.003406</td>\n",
              "      <td>-0.005355</td>\n",
              "      <td>-0.010469</td>\n",
              "      <td>-0.009236</td>\n",
              "      <td>-0.009228</td>\n",
              "      <td>-0.007228</td>\n",
              "      <td>-0.005192</td>\n",
              "      <td>...</td>\n",
              "      <td>0.008466</td>\n",
              "      <td>0.006963</td>\n",
              "      <td>0.011139</td>\n",
              "      <td>0.007176</td>\n",
              "      <td>0.006689</td>\n",
              "      <td>0.006253</td>\n",
              "      <td>0.005782</td>\n",
              "      <td>0.003756</td>\n",
              "      <td>0.001664</td>\n",
              "      <td>-0.001943</td>\n",
              "    </tr>\n",
              "    <tr>\n",
              "      <th>well_15_patch_98</th>\n",
              "      <td>-0.008180</td>\n",
              "      <td>-0.005605</td>\n",
              "      <td>-0.003797</td>\n",
              "      <td>-0.002707</td>\n",
              "      <td>-0.002596</td>\n",
              "      <td>-0.004241</td>\n",
              "      <td>-0.005544</td>\n",
              "      <td>-0.003244</td>\n",
              "      <td>-0.001192</td>\n",
              "      <td>0.002914</td>\n",
              "      <td>...</td>\n",
              "      <td>0.002424</td>\n",
              "      <td>0.006420</td>\n",
              "      <td>0.010175</td>\n",
              "      <td>0.007500</td>\n",
              "      <td>0.008585</td>\n",
              "      <td>0.010286</td>\n",
              "      <td>0.008796</td>\n",
              "      <td>0.006398</td>\n",
              "      <td>0.004714</td>\n",
              "      <td>-0.012174</td>\n",
              "    </tr>\n",
              "    <tr>\n",
              "      <th>well_15_patch_99</th>\n",
              "      <td>-0.003674</td>\n",
              "      <td>0.000220</td>\n",
              "      <td>0.003001</td>\n",
              "      <td>0.004887</td>\n",
              "      <td>0.009092</td>\n",
              "      <td>0.004660</td>\n",
              "      <td>-0.012744</td>\n",
              "      <td>-0.027340</td>\n",
              "      <td>-0.017845</td>\n",
              "      <td>0.009999</td>\n",
              "      <td>...</td>\n",
              "      <td>0.002388</td>\n",
              "      <td>0.000674</td>\n",
              "      <td>0.002900</td>\n",
              "      <td>0.001445</td>\n",
              "      <td>0.003866</td>\n",
              "      <td>0.005009</td>\n",
              "      <td>0.005695</td>\n",
              "      <td>0.004259</td>\n",
              "      <td>0.003792</td>\n",
              "      <td>0.001733</td>\n",
              "    </tr>\n",
              "  </tbody>\n",
              "</table>\n",
              "<p>9633 rows × 1296 columns</p>\n",
              "</div>\n",
              "    <div class=\"colab-df-buttons\">\n",
              "\n",
              "  <div class=\"colab-df-container\">\n",
              "    <button class=\"colab-df-convert\" onclick=\"convertToInteractive('df-bd811a22-5db5-473b-822e-f2366cb76135')\"\n",
              "            title=\"Convert this dataframe to an interactive table.\"\n",
              "            style=\"display:none;\">\n",
              "\n",
              "  <svg xmlns=\"http://www.w3.org/2000/svg\" height=\"24px\" viewBox=\"0 -960 960 960\">\n",
              "    <path d=\"M120-120v-720h720v720H120Zm60-500h600v-160H180v160Zm220 220h160v-160H400v160Zm0 220h160v-160H400v160ZM180-400h160v-160H180v160Zm440 0h160v-160H620v160ZM180-180h160v-160H180v160Zm440 0h160v-160H620v160Z\"/>\n",
              "  </svg>\n",
              "    </button>\n",
              "\n",
              "  <style>\n",
              "    .colab-df-container {\n",
              "      display:flex;\n",
              "      gap: 12px;\n",
              "    }\n",
              "\n",
              "    .colab-df-convert {\n",
              "      background-color: #E8F0FE;\n",
              "      border: none;\n",
              "      border-radius: 50%;\n",
              "      cursor: pointer;\n",
              "      display: none;\n",
              "      fill: #1967D2;\n",
              "      height: 32px;\n",
              "      padding: 0 0 0 0;\n",
              "      width: 32px;\n",
              "    }\n",
              "\n",
              "    .colab-df-convert:hover {\n",
              "      background-color: #E2EBFA;\n",
              "      box-shadow: 0px 1px 2px rgba(60, 64, 67, 0.3), 0px 1px 3px 1px rgba(60, 64, 67, 0.15);\n",
              "      fill: #174EA6;\n",
              "    }\n",
              "\n",
              "    .colab-df-buttons div {\n",
              "      margin-bottom: 4px;\n",
              "    }\n",
              "\n",
              "    [theme=dark] .colab-df-convert {\n",
              "      background-color: #3B4455;\n",
              "      fill: #D2E3FC;\n",
              "    }\n",
              "\n",
              "    [theme=dark] .colab-df-convert:hover {\n",
              "      background-color: #434B5C;\n",
              "      box-shadow: 0px 1px 3px 1px rgba(0, 0, 0, 0.15);\n",
              "      filter: drop-shadow(0px 1px 2px rgba(0, 0, 0, 0.3));\n",
              "      fill: #FFFFFF;\n",
              "    }\n",
              "  </style>\n",
              "\n",
              "    <script>\n",
              "      const buttonEl =\n",
              "        document.querySelector('#df-bd811a22-5db5-473b-822e-f2366cb76135 button.colab-df-convert');\n",
              "      buttonEl.style.display =\n",
              "        google.colab.kernel.accessAllowed ? 'block' : 'none';\n",
              "\n",
              "      async function convertToInteractive(key) {\n",
              "        const element = document.querySelector('#df-bd811a22-5db5-473b-822e-f2366cb76135');\n",
              "        const dataTable =\n",
              "          await google.colab.kernel.invokeFunction('convertToInteractive',\n",
              "                                                    [key], {});\n",
              "        if (!dataTable) return;\n",
              "\n",
              "        const docLinkHtml = 'Like what you see? Visit the ' +\n",
              "          '<a target=\"_blank\" href=https://colab.research.google.com/notebooks/data_table.ipynb>data table notebook</a>'\n",
              "          + ' to learn more about interactive tables.';\n",
              "        element.innerHTML = '';\n",
              "        dataTable['output_type'] = 'display_data';\n",
              "        await google.colab.output.renderOutput(dataTable, element);\n",
              "        const docLink = document.createElement('div');\n",
              "        docLink.innerHTML = docLinkHtml;\n",
              "        element.appendChild(docLink);\n",
              "      }\n",
              "    </script>\n",
              "  </div>\n",
              "\n",
              "\n",
              "<div id=\"df-d2fe2845-156b-4f35-9217-25225a5b6ae9\">\n",
              "  <button class=\"colab-df-quickchart\" onclick=\"quickchart('df-d2fe2845-156b-4f35-9217-25225a5b6ae9')\"\n",
              "            title=\"Suggest charts\"\n",
              "            style=\"display:none;\">\n",
              "\n",
              "<svg xmlns=\"http://www.w3.org/2000/svg\" height=\"24px\"viewBox=\"0 0 24 24\"\n",
              "     width=\"24px\">\n",
              "    <g>\n",
              "        <path d=\"M19 3H5c-1.1 0-2 .9-2 2v14c0 1.1.9 2 2 2h14c1.1 0 2-.9 2-2V5c0-1.1-.9-2-2-2zM9 17H7v-7h2v7zm4 0h-2V7h2v10zm4 0h-2v-4h2v4z\"/>\n",
              "    </g>\n",
              "</svg>\n",
              "  </button>\n",
              "\n",
              "<style>\n",
              "  .colab-df-quickchart {\n",
              "      --bg-color: #E8F0FE;\n",
              "      --fill-color: #1967D2;\n",
              "      --hover-bg-color: #E2EBFA;\n",
              "      --hover-fill-color: #174EA6;\n",
              "      --disabled-fill-color: #AAA;\n",
              "      --disabled-bg-color: #DDD;\n",
              "  }\n",
              "\n",
              "  [theme=dark] .colab-df-quickchart {\n",
              "      --bg-color: #3B4455;\n",
              "      --fill-color: #D2E3FC;\n",
              "      --hover-bg-color: #434B5C;\n",
              "      --hover-fill-color: #FFFFFF;\n",
              "      --disabled-bg-color: #3B4455;\n",
              "      --disabled-fill-color: #666;\n",
              "  }\n",
              "\n",
              "  .colab-df-quickchart {\n",
              "    background-color: var(--bg-color);\n",
              "    border: none;\n",
              "    border-radius: 50%;\n",
              "    cursor: pointer;\n",
              "    display: none;\n",
              "    fill: var(--fill-color);\n",
              "    height: 32px;\n",
              "    padding: 0;\n",
              "    width: 32px;\n",
              "  }\n",
              "\n",
              "  .colab-df-quickchart:hover {\n",
              "    background-color: var(--hover-bg-color);\n",
              "    box-shadow: 0 1px 2px rgba(60, 64, 67, 0.3), 0 1px 3px 1px rgba(60, 64, 67, 0.15);\n",
              "    fill: var(--button-hover-fill-color);\n",
              "  }\n",
              "\n",
              "  .colab-df-quickchart-complete:disabled,\n",
              "  .colab-df-quickchart-complete:disabled:hover {\n",
              "    background-color: var(--disabled-bg-color);\n",
              "    fill: var(--disabled-fill-color);\n",
              "    box-shadow: none;\n",
              "  }\n",
              "\n",
              "  .colab-df-spinner {\n",
              "    border: 2px solid var(--fill-color);\n",
              "    border-color: transparent;\n",
              "    border-bottom-color: var(--fill-color);\n",
              "    animation:\n",
              "      spin 1s steps(1) infinite;\n",
              "  }\n",
              "\n",
              "  @keyframes spin {\n",
              "    0% {\n",
              "      border-color: transparent;\n",
              "      border-bottom-color: var(--fill-color);\n",
              "      border-left-color: var(--fill-color);\n",
              "    }\n",
              "    20% {\n",
              "      border-color: transparent;\n",
              "      border-left-color: var(--fill-color);\n",
              "      border-top-color: var(--fill-color);\n",
              "    }\n",
              "    30% {\n",
              "      border-color: transparent;\n",
              "      border-left-color: var(--fill-color);\n",
              "      border-top-color: var(--fill-color);\n",
              "      border-right-color: var(--fill-color);\n",
              "    }\n",
              "    40% {\n",
              "      border-color: transparent;\n",
              "      border-right-color: var(--fill-color);\n",
              "      border-top-color: var(--fill-color);\n",
              "    }\n",
              "    60% {\n",
              "      border-color: transparent;\n",
              "      border-right-color: var(--fill-color);\n",
              "    }\n",
              "    80% {\n",
              "      border-color: transparent;\n",
              "      border-right-color: var(--fill-color);\n",
              "      border-bottom-color: var(--fill-color);\n",
              "    }\n",
              "    90% {\n",
              "      border-color: transparent;\n",
              "      border-bottom-color: var(--fill-color);\n",
              "    }\n",
              "  }\n",
              "</style>\n",
              "\n",
              "  <script>\n",
              "    async function quickchart(key) {\n",
              "      const quickchartButtonEl =\n",
              "        document.querySelector('#' + key + ' button');\n",
              "      quickchartButtonEl.disabled = true;  // To prevent multiple clicks.\n",
              "      quickchartButtonEl.classList.add('colab-df-spinner');\n",
              "      try {\n",
              "        const charts = await google.colab.kernel.invokeFunction(\n",
              "            'suggestCharts', [key], {});\n",
              "      } catch (error) {\n",
              "        console.error('Error during call to suggestCharts:', error);\n",
              "      }\n",
              "      quickchartButtonEl.classList.remove('colab-df-spinner');\n",
              "      quickchartButtonEl.classList.add('colab-df-quickchart-complete');\n",
              "    }\n",
              "    (() => {\n",
              "      let quickchartButtonEl =\n",
              "        document.querySelector('#df-d2fe2845-156b-4f35-9217-25225a5b6ae9 button');\n",
              "      quickchartButtonEl.style.display =\n",
              "        google.colab.kernel.accessAllowed ? 'block' : 'none';\n",
              "    })();\n",
              "  </script>\n",
              "</div>\n",
              "    </div>\n",
              "  </div>\n"
            ],
            "application/vnd.google.colaboratory.intrinsic+json": {
              "type": "dataframe",
              "variable_name": "image_frame_cleaned"
            }
          },
          "metadata": {},
          "execution_count": 34
        }
      ]
    },
    {
      "cell_type": "markdown",
      "source": [
        "* Выбросы в многомерном пространстве\n",
        "\n",
        "Для обнаружения выбосов в многомерном пространстве воспользуемся библиотекой ```pca``` - [здесь](https://erdogant.github.io/pca/pages/html/Outlier%20detection.html) cсылка"
      ],
      "metadata": {
        "id": "cRPpGq1__BCB"
      }
    },
    {
      "cell_type": "code",
      "source": [
        "!pip install pca -q"
      ],
      "metadata": {
        "id": "hZ3H6aYMKesM",
        "colab": {
          "base_uri": "https://localhost:8080/"
        },
        "outputId": "09b51771-c444-4dc5-f0c3-3dff4a6bca29"
      },
      "execution_count": 35,
      "outputs": [
        {
          "output_type": "stream",
          "name": "stdout",
          "text": [
            "\u001b[?25l   \u001b[90m━━━━━━━━━━━━━━━━━━━━━━━━━━━━━━━━━━━━━━━━\u001b[0m \u001b[32m0.0/51.3 kB\u001b[0m \u001b[31m?\u001b[0m eta \u001b[36m-:--:--\u001b[0m\r\u001b[2K   \u001b[90m━━━━━━━━━━━━━━━━━━━━━━━━━━━━━━━━━━━━━━━━\u001b[0m \u001b[32m51.3/51.3 kB\u001b[0m \u001b[31m2.9 MB/s\u001b[0m eta \u001b[36m0:00:00\u001b[0m\n",
            "\u001b[?25h"
          ]
        }
      ]
    },
    {
      "cell_type": "code",
      "source": [
        "from pca import pca\n",
        "\n",
        "model = pca(alpha=0.05, detect_outliers=['ht2', 'spe'])\n",
        "results = model.fit_transform(image_frame_cleaned.fillna(0))"
      ],
      "metadata": {
        "colab": {
          "base_uri": "https://localhost:8080/"
        },
        "id": "mqlrFvIb8iiL",
        "outputId": "28ea499b-b96d-4c9b-addf-028bcae921cf"
      },
      "execution_count": 36,
      "outputs": [
        {
          "output_type": "stream",
          "name": "stdout",
          "text": [
            "[pca] >Extracting column labels from dataframe.\n",
            "[pca] >Extracting row labels from dataframe.\n",
            "[pca] >The PCA reduction is performed to capture [95.0%] explained variance using the [1296] columns of the input data.\n",
            "[pca] >Fit using PCA.\n",
            "[pca] >Compute loadings and PCs.\n",
            "[pca] >Compute explained variance.\n",
            "[pca] >Number of components is [565] that covers the [95.00%] explained variance.\n",
            "[pca] >The PCA reduction is performed on the [1296] columns of the input dataframe.\n",
            "[pca] >Fit using PCA.\n",
            "[pca] >Compute loadings and PCs.\n",
            "[pca] >Outlier detection using Hotelling T2 test with alpha=[0.05] and n_components=[565]\n",
            "[pca] >Multiple test correction applied for Hotelling T2 test: [fdr_bh]\n",
            "[pca] >Outlier detection using SPE/DmodX with n_std=[3]\n"
          ]
        }
      ]
    },
    {
      "cell_type": "code",
      "source": [
        "results['outliers'].head()"
      ],
      "metadata": {
        "colab": {
          "base_uri": "https://localhost:8080/",
          "height": 206
        },
        "id": "S0N9E0CYKjtQ",
        "outputId": "77cd770e-874b-4ec2-e5e2-b8959d9b3d4a"
      },
      "execution_count": 37,
      "outputs": [
        {
          "output_type": "execute_result",
          "data": {
            "text/plain": [
              "                       y_proba         p_raw      y_score  y_bool  y_bool_spe  \\\n",
              "well_10_patch_0   1.000000e+00  1.000000e+00   493.654370   False       False   \n",
              "well_10_patch_1   1.000000e+00  1.000000e+00   384.312853   False       False   \n",
              "well_10_patch_10  1.000000e+00  1.000000e+00   509.031248   False       False   \n",
              "well_10_patch_11  1.000000e+00  1.000000e+00   414.514655   False       False   \n",
              "well_10_patch_12  1.114379e-25  6.484058e-26  1701.984305    True       False   \n",
              "\n",
              "                  y_score_spe  \n",
              "well_10_patch_0      0.092055  \n",
              "well_10_patch_1      0.129122  \n",
              "well_10_patch_10     0.138088  \n",
              "well_10_patch_11     0.173281  \n",
              "well_10_patch_12     0.296678  "
            ],
            "text/html": [
              "\n",
              "  <div id=\"df-dd5c7445-b345-4d41-b9ac-5e38827ac6ae\" class=\"colab-df-container\">\n",
              "    <div>\n",
              "<style scoped>\n",
              "    .dataframe tbody tr th:only-of-type {\n",
              "        vertical-align: middle;\n",
              "    }\n",
              "\n",
              "    .dataframe tbody tr th {\n",
              "        vertical-align: top;\n",
              "    }\n",
              "\n",
              "    .dataframe thead th {\n",
              "        text-align: right;\n",
              "    }\n",
              "</style>\n",
              "<table border=\"1\" class=\"dataframe\">\n",
              "  <thead>\n",
              "    <tr style=\"text-align: right;\">\n",
              "      <th></th>\n",
              "      <th>y_proba</th>\n",
              "      <th>p_raw</th>\n",
              "      <th>y_score</th>\n",
              "      <th>y_bool</th>\n",
              "      <th>y_bool_spe</th>\n",
              "      <th>y_score_spe</th>\n",
              "    </tr>\n",
              "  </thead>\n",
              "  <tbody>\n",
              "    <tr>\n",
              "      <th>well_10_patch_0</th>\n",
              "      <td>1.000000e+00</td>\n",
              "      <td>1.000000e+00</td>\n",
              "      <td>493.654370</td>\n",
              "      <td>False</td>\n",
              "      <td>False</td>\n",
              "      <td>0.092055</td>\n",
              "    </tr>\n",
              "    <tr>\n",
              "      <th>well_10_patch_1</th>\n",
              "      <td>1.000000e+00</td>\n",
              "      <td>1.000000e+00</td>\n",
              "      <td>384.312853</td>\n",
              "      <td>False</td>\n",
              "      <td>False</td>\n",
              "      <td>0.129122</td>\n",
              "    </tr>\n",
              "    <tr>\n",
              "      <th>well_10_patch_10</th>\n",
              "      <td>1.000000e+00</td>\n",
              "      <td>1.000000e+00</td>\n",
              "      <td>509.031248</td>\n",
              "      <td>False</td>\n",
              "      <td>False</td>\n",
              "      <td>0.138088</td>\n",
              "    </tr>\n",
              "    <tr>\n",
              "      <th>well_10_patch_11</th>\n",
              "      <td>1.000000e+00</td>\n",
              "      <td>1.000000e+00</td>\n",
              "      <td>414.514655</td>\n",
              "      <td>False</td>\n",
              "      <td>False</td>\n",
              "      <td>0.173281</td>\n",
              "    </tr>\n",
              "    <tr>\n",
              "      <th>well_10_patch_12</th>\n",
              "      <td>1.114379e-25</td>\n",
              "      <td>6.484058e-26</td>\n",
              "      <td>1701.984305</td>\n",
              "      <td>True</td>\n",
              "      <td>False</td>\n",
              "      <td>0.296678</td>\n",
              "    </tr>\n",
              "  </tbody>\n",
              "</table>\n",
              "</div>\n",
              "    <div class=\"colab-df-buttons\">\n",
              "\n",
              "  <div class=\"colab-df-container\">\n",
              "    <button class=\"colab-df-convert\" onclick=\"convertToInteractive('df-dd5c7445-b345-4d41-b9ac-5e38827ac6ae')\"\n",
              "            title=\"Convert this dataframe to an interactive table.\"\n",
              "            style=\"display:none;\">\n",
              "\n",
              "  <svg xmlns=\"http://www.w3.org/2000/svg\" height=\"24px\" viewBox=\"0 -960 960 960\">\n",
              "    <path d=\"M120-120v-720h720v720H120Zm60-500h600v-160H180v160Zm220 220h160v-160H400v160Zm0 220h160v-160H400v160ZM180-400h160v-160H180v160Zm440 0h160v-160H620v160ZM180-180h160v-160H180v160Zm440 0h160v-160H620v160Z\"/>\n",
              "  </svg>\n",
              "    </button>\n",
              "\n",
              "  <style>\n",
              "    .colab-df-container {\n",
              "      display:flex;\n",
              "      gap: 12px;\n",
              "    }\n",
              "\n",
              "    .colab-df-convert {\n",
              "      background-color: #E8F0FE;\n",
              "      border: none;\n",
              "      border-radius: 50%;\n",
              "      cursor: pointer;\n",
              "      display: none;\n",
              "      fill: #1967D2;\n",
              "      height: 32px;\n",
              "      padding: 0 0 0 0;\n",
              "      width: 32px;\n",
              "    }\n",
              "\n",
              "    .colab-df-convert:hover {\n",
              "      background-color: #E2EBFA;\n",
              "      box-shadow: 0px 1px 2px rgba(60, 64, 67, 0.3), 0px 1px 3px 1px rgba(60, 64, 67, 0.15);\n",
              "      fill: #174EA6;\n",
              "    }\n",
              "\n",
              "    .colab-df-buttons div {\n",
              "      margin-bottom: 4px;\n",
              "    }\n",
              "\n",
              "    [theme=dark] .colab-df-convert {\n",
              "      background-color: #3B4455;\n",
              "      fill: #D2E3FC;\n",
              "    }\n",
              "\n",
              "    [theme=dark] .colab-df-convert:hover {\n",
              "      background-color: #434B5C;\n",
              "      box-shadow: 0px 1px 3px 1px rgba(0, 0, 0, 0.15);\n",
              "      filter: drop-shadow(0px 1px 2px rgba(0, 0, 0, 0.3));\n",
              "      fill: #FFFFFF;\n",
              "    }\n",
              "  </style>\n",
              "\n",
              "    <script>\n",
              "      const buttonEl =\n",
              "        document.querySelector('#df-dd5c7445-b345-4d41-b9ac-5e38827ac6ae button.colab-df-convert');\n",
              "      buttonEl.style.display =\n",
              "        google.colab.kernel.accessAllowed ? 'block' : 'none';\n",
              "\n",
              "      async function convertToInteractive(key) {\n",
              "        const element = document.querySelector('#df-dd5c7445-b345-4d41-b9ac-5e38827ac6ae');\n",
              "        const dataTable =\n",
              "          await google.colab.kernel.invokeFunction('convertToInteractive',\n",
              "                                                    [key], {});\n",
              "        if (!dataTable) return;\n",
              "\n",
              "        const docLinkHtml = 'Like what you see? Visit the ' +\n",
              "          '<a target=\"_blank\" href=https://colab.research.google.com/notebooks/data_table.ipynb>data table notebook</a>'\n",
              "          + ' to learn more about interactive tables.';\n",
              "        element.innerHTML = '';\n",
              "        dataTable['output_type'] = 'display_data';\n",
              "        await google.colab.output.renderOutput(dataTable, element);\n",
              "        const docLink = document.createElement('div');\n",
              "        docLink.innerHTML = docLinkHtml;\n",
              "        element.appendChild(docLink);\n",
              "      }\n",
              "    </script>\n",
              "  </div>\n",
              "\n",
              "\n",
              "<div id=\"df-4d92ca8b-aa10-46bb-a729-0ecaa0bc3e86\">\n",
              "  <button class=\"colab-df-quickchart\" onclick=\"quickchart('df-4d92ca8b-aa10-46bb-a729-0ecaa0bc3e86')\"\n",
              "            title=\"Suggest charts\"\n",
              "            style=\"display:none;\">\n",
              "\n",
              "<svg xmlns=\"http://www.w3.org/2000/svg\" height=\"24px\"viewBox=\"0 0 24 24\"\n",
              "     width=\"24px\">\n",
              "    <g>\n",
              "        <path d=\"M19 3H5c-1.1 0-2 .9-2 2v14c0 1.1.9 2 2 2h14c1.1 0 2-.9 2-2V5c0-1.1-.9-2-2-2zM9 17H7v-7h2v7zm4 0h-2V7h2v10zm4 0h-2v-4h2v4z\"/>\n",
              "    </g>\n",
              "</svg>\n",
              "  </button>\n",
              "\n",
              "<style>\n",
              "  .colab-df-quickchart {\n",
              "      --bg-color: #E8F0FE;\n",
              "      --fill-color: #1967D2;\n",
              "      --hover-bg-color: #E2EBFA;\n",
              "      --hover-fill-color: #174EA6;\n",
              "      --disabled-fill-color: #AAA;\n",
              "      --disabled-bg-color: #DDD;\n",
              "  }\n",
              "\n",
              "  [theme=dark] .colab-df-quickchart {\n",
              "      --bg-color: #3B4455;\n",
              "      --fill-color: #D2E3FC;\n",
              "      --hover-bg-color: #434B5C;\n",
              "      --hover-fill-color: #FFFFFF;\n",
              "      --disabled-bg-color: #3B4455;\n",
              "      --disabled-fill-color: #666;\n",
              "  }\n",
              "\n",
              "  .colab-df-quickchart {\n",
              "    background-color: var(--bg-color);\n",
              "    border: none;\n",
              "    border-radius: 50%;\n",
              "    cursor: pointer;\n",
              "    display: none;\n",
              "    fill: var(--fill-color);\n",
              "    height: 32px;\n",
              "    padding: 0;\n",
              "    width: 32px;\n",
              "  }\n",
              "\n",
              "  .colab-df-quickchart:hover {\n",
              "    background-color: var(--hover-bg-color);\n",
              "    box-shadow: 0 1px 2px rgba(60, 64, 67, 0.3), 0 1px 3px 1px rgba(60, 64, 67, 0.15);\n",
              "    fill: var(--button-hover-fill-color);\n",
              "  }\n",
              "\n",
              "  .colab-df-quickchart-complete:disabled,\n",
              "  .colab-df-quickchart-complete:disabled:hover {\n",
              "    background-color: var(--disabled-bg-color);\n",
              "    fill: var(--disabled-fill-color);\n",
              "    box-shadow: none;\n",
              "  }\n",
              "\n",
              "  .colab-df-spinner {\n",
              "    border: 2px solid var(--fill-color);\n",
              "    border-color: transparent;\n",
              "    border-bottom-color: var(--fill-color);\n",
              "    animation:\n",
              "      spin 1s steps(1) infinite;\n",
              "  }\n",
              "\n",
              "  @keyframes spin {\n",
              "    0% {\n",
              "      border-color: transparent;\n",
              "      border-bottom-color: var(--fill-color);\n",
              "      border-left-color: var(--fill-color);\n",
              "    }\n",
              "    20% {\n",
              "      border-color: transparent;\n",
              "      border-left-color: var(--fill-color);\n",
              "      border-top-color: var(--fill-color);\n",
              "    }\n",
              "    30% {\n",
              "      border-color: transparent;\n",
              "      border-left-color: var(--fill-color);\n",
              "      border-top-color: var(--fill-color);\n",
              "      border-right-color: var(--fill-color);\n",
              "    }\n",
              "    40% {\n",
              "      border-color: transparent;\n",
              "      border-right-color: var(--fill-color);\n",
              "      border-top-color: var(--fill-color);\n",
              "    }\n",
              "    60% {\n",
              "      border-color: transparent;\n",
              "      border-right-color: var(--fill-color);\n",
              "    }\n",
              "    80% {\n",
              "      border-color: transparent;\n",
              "      border-right-color: var(--fill-color);\n",
              "      border-bottom-color: var(--fill-color);\n",
              "    }\n",
              "    90% {\n",
              "      border-color: transparent;\n",
              "      border-bottom-color: var(--fill-color);\n",
              "    }\n",
              "  }\n",
              "</style>\n",
              "\n",
              "  <script>\n",
              "    async function quickchart(key) {\n",
              "      const quickchartButtonEl =\n",
              "        document.querySelector('#' + key + ' button');\n",
              "      quickchartButtonEl.disabled = true;  // To prevent multiple clicks.\n",
              "      quickchartButtonEl.classList.add('colab-df-spinner');\n",
              "      try {\n",
              "        const charts = await google.colab.kernel.invokeFunction(\n",
              "            'suggestCharts', [key], {});\n",
              "      } catch (error) {\n",
              "        console.error('Error during call to suggestCharts:', error);\n",
              "      }\n",
              "      quickchartButtonEl.classList.remove('colab-df-spinner');\n",
              "      quickchartButtonEl.classList.add('colab-df-quickchart-complete');\n",
              "    }\n",
              "    (() => {\n",
              "      let quickchartButtonEl =\n",
              "        document.querySelector('#df-4d92ca8b-aa10-46bb-a729-0ecaa0bc3e86 button');\n",
              "      quickchartButtonEl.style.display =\n",
              "        google.colab.kernel.accessAllowed ? 'block' : 'none';\n",
              "    })();\n",
              "  </script>\n",
              "</div>\n",
              "    </div>\n",
              "  </div>\n"
            ],
            "application/vnd.google.colaboratory.intrinsic+json": {
              "type": "dataframe",
              "summary": "{\n  \"name\": \"results['outliers']\",\n  \"rows\": 5,\n  \"fields\": [\n    {\n      \"column\": \"y_proba\",\n      \"properties\": {\n        \"dtype\": \"number\",\n        \"std\": 0.4472135954999579,\n        \"min\": 1.1143788519560935e-25,\n        \"max\": 1.0,\n        \"num_unique_values\": 2,\n        \"samples\": [\n          1.1143788519560935e-25,\n          1.0\n        ],\n        \"semantic_type\": \"\",\n        \"description\": \"\"\n      }\n    },\n    {\n      \"column\": \"p_raw\",\n      \"properties\": {\n        \"dtype\": \"number\",\n        \"std\": 0.4472135954999579,\n        \"min\": 6.484058408817506e-26,\n        \"max\": 1.0,\n        \"num_unique_values\": 2,\n        \"samples\": [\n          6.484058408817506e-26,\n          1.0\n        ],\n        \"semantic_type\": \"\",\n        \"description\": \"\"\n      }\n    },\n    {\n      \"column\": \"y_score\",\n      \"properties\": {\n        \"dtype\": \"number\",\n        \"std\": 562.1783394740247,\n        \"min\": 384.31285280977045,\n        \"max\": 1701.984305128667,\n        \"num_unique_values\": 5,\n        \"samples\": [\n          384.31285280977045,\n          1701.984305128667\n        ],\n        \"semantic_type\": \"\",\n        \"description\": \"\"\n      }\n    },\n    {\n      \"column\": \"y_bool\",\n      \"properties\": {\n        \"dtype\": \"boolean\",\n        \"num_unique_values\": 2,\n        \"samples\": [\n          true,\n          false\n        ],\n        \"semantic_type\": \"\",\n        \"description\": \"\"\n      }\n    },\n    {\n      \"column\": \"y_bool_spe\",\n      \"properties\": {\n        \"dtype\": \"boolean\",\n        \"num_unique_values\": 1,\n        \"samples\": [\n          false\n        ],\n        \"semantic_type\": \"\",\n        \"description\": \"\"\n      }\n    },\n    {\n      \"column\": \"y_score_spe\",\n      \"properties\": {\n        \"dtype\": \"float32\",\n        \"num_unique_values\": 5,\n        \"samples\": [\n          0.12912191450595856\n        ],\n        \"semantic_type\": \"\",\n        \"description\": \"\"\n      }\n    }\n  ]\n}"
            }
          },
          "metadata": {},
          "execution_count": 37
        }
      ]
    },
    {
      "cell_type": "markdown",
      "source": [
        "Здесь есть возможность настройки порога отнесения к выбросам. Пока рассмотрим предложение из коробки - ```y_bool_spe```."
      ],
      "metadata": {
        "id": "GIvlfo61Kvm7"
      }
    },
    {
      "cell_type": "code",
      "source": [
        "idx = image_frame_cleaned[results['outliers'][\"y_bool_spe\"]].index.tolist()"
      ],
      "metadata": {
        "id": "MlBttJh091m6"
      },
      "execution_count": 38,
      "outputs": []
    },
    {
      "cell_type": "code",
      "source": [
        "for n in range(3):\n",
        "  fig, axes = plt.subplots(2, 4, figsize=(12, 6))\n",
        "\n",
        "  img_name_list = random.sample(idx, 4)\n",
        "  for i, img_name in enumerate(img_name_list):\n",
        "      mask = np.array(y_train.loc[img_name]).reshape(36, 36)\n",
        "      image = np.array(image_frame_cleaned.loc[img_name]).reshape(36, 36)\n",
        "\n",
        "      axes[0, i].imshow(image)\n",
        "      axes[0, i].set_title(img_name)\n",
        "      axes[0, i].axis('off')\n",
        "\n",
        "      axes[1, i].imshow(mask, cmap='gray')\n",
        "      axes[1, i].set_title('Mask')\n",
        "      axes[1, i].axis('off')\n",
        "\n",
        "      plt.tight_layout()\n",
        "\n",
        "  plt.show()"
      ],
      "metadata": {
        "colab": {
          "base_uri": "https://localhost:8080/",
          "height": 1000
        },
        "id": "kyudMn5JDZYl",
        "outputId": "d4e7b2c8-4ff9-470d-bcd8-c75cc8087804"
      },
      "execution_count": 39,
      "outputs": [
        {
          "output_type": "display_data",
          "data": {
            "text/plain": [
              "<Figure size 1200x600 with 8 Axes>"
            ],
            "image/png": "[encoded data removed]"
          },
          "metadata": {}
        },
        {
          "output_type": "display_data",
          "data": {
            "text/plain": [
              "<Figure size 1200x600 with 8 Axes>"
            ],
            "image/png": "[encoded data removed]"
          },
          "metadata": {}
        },
        {
          "output_type": "display_data",
          "data": {
            "text/plain": [
              "<Figure size 1200x600 with 8 Axes>"
            ],
            "image/png": "[encoded data removed]"
          },
          "metadata": {}
        }
      ]
    },
    {
      "cell_type": "markdown",
      "source": [
        "Для обнаружения выбросов в многомерном пространстве есть масса методов, можно попробовать другие варианты.\n",
        "\n",
        "Изображения, отнесенные к выбросам в многомерном пространстве, имеет смысл удалить из датасета:"
      ],
      "metadata": {
        "id": "WfU-TQzTLhdt"
      }
    },
    {
      "cell_type": "code",
      "source": [
        "to_delete += idx\n",
        "idx = [i for i in image_frame.index if i not in to_delete]\n",
        "image_frame_cleaned = image_frame_cleaned.loc[idx]"
      ],
      "metadata": {
        "id": "F0XN47x1MvJV"
      },
      "execution_count": 40,
      "outputs": []
    },
    {
      "cell_type": "code",
      "source": [
        "image_frame_cleaned.shape"
      ],
      "metadata": {
        "colab": {
          "base_uri": "https://localhost:8080/"
        },
        "id": "UGqI_EOZXvtQ",
        "outputId": "1bb44762-578a-4737-b3d6-e116617fdc05"
      },
      "execution_count": 41,
      "outputs": [
        {
          "output_type": "execute_result",
          "data": {
            "text/plain": [
              "(9398, 1296)"
            ]
          },
          "metadata": {},
          "execution_count": 41
        }
      ]
    },
    {
      "cell_type": "markdown",
      "source": [
        "* Кластеризация"
      ],
      "metadata": {
        "id": "DZAhXHnQN7nh"
      }
    },
    {
      "cell_type": "code",
      "source": [
        "from sklearn.cluster import DBSCAN\n",
        "from sklearn.metrics import silhouette_score"
      ],
      "metadata": {
        "id": "jGC9lVCXN_kh"
      },
      "execution_count": 42,
      "outputs": []
    },
    {
      "cell_type": "code",
      "source": [
        "image_clustering = DBSCAN(eps=1.5, min_samples=2).fit(image_frame_cleaned.fillna(0))\n",
        "np.unique(image_clustering.labels_, return_counts=True)"
      ],
      "metadata": {
        "colab": {
          "base_uri": "https://localhost:8080/"
        },
        "id": "hSi6oUEyYdVQ",
        "outputId": "6b3eaae3-dcb5-4ebb-88f3-c980ab32288f"
      },
      "execution_count": 43,
      "outputs": [
        {
          "output_type": "execute_result",
          "data": {
            "text/plain": [
              "(array([-1,  0,  1,  2,  3,  4]), array([   6, 9384,    2,    2,    2,    2]))"
            ]
          },
          "metadata": {},
          "execution_count": 43
        }
      ]
    },
    {
      "cell_type": "code",
      "source": [
        "silhouette_score(\n",
        "    image_frame_cleaned.fillna(0),\n",
        "    image_clustering .fit_predict(image_frame_cleaned.fillna(0))\n",
        ")"
      ],
      "metadata": {
        "colab": {
          "base_uri": "https://localhost:8080/"
        },
        "id": "DxRwIsykWozN",
        "outputId": "ba8c471e-3920-4545-fb92-8690dabbcbe1"
      },
      "execution_count": 44,
      "outputs": [
        {
          "output_type": "execute_result",
          "data": {
            "text/plain": [
              "0.5231138"
            ]
          },
          "metadata": {},
          "execution_count": 44
        }
      ]
    },
    {
      "cell_type": "code",
      "source": [
        "img_name_list = image_frame_cleaned[image_clustering.labels_ != 0].index.tolist()\n",
        "img_name_list"
      ],
      "metadata": {
        "colab": {
          "base_uri": "https://localhost:8080/"
        },
        "id": "qk7Dyp63ZVe3",
        "outputId": "4f37f04c-5b95-49ad-f746-0f49b23b1cb9"
      },
      "execution_count": 45,
      "outputs": [
        {
          "output_type": "execute_result",
          "data": {
            "text/plain": [
              "['well_11_patch_1379',\n",
              " 'well_11_patch_1509',\n",
              " 'well_12_patch_12',\n",
              " 'well_1_patch_80',\n",
              " 'well_1_patch_81',\n",
              " 'well_1_patch_82',\n",
              " 'well_1_patch_83',\n",
              " 'well_6_patch_926',\n",
              " 'well_6_patch_927',\n",
              " 'well_6_patch_942',\n",
              " 'well_6_patch_943',\n",
              " 'well_6_patch_960',\n",
              " 'well_6_patch_961',\n",
              " 'well_15_patch_201']"
            ]
          },
          "metadata": {},
          "execution_count": 45
        }
      ]
    },
    {
      "cell_type": "code",
      "source": [
        "for n in range(2):\n",
        "  fig, axes = plt.subplots(2, 5, figsize=(15, 5))\n",
        "  for i, img_name in enumerate(img_name_list[5*n:5*(n+1)]):\n",
        "        mask = np.array(y_train.loc[img_name]).reshape(36, 36)\n",
        "        image = np.array(image_frame_cleaned.loc[img_name]).reshape(36, 36)\n",
        "\n",
        "        axes[0, i].imshow(image)\n",
        "        axes[0, i].set_title(img_name)\n",
        "        axes[0, i].axis('off')\n",
        "\n",
        "        axes[1, i].imshow(mask, cmap='gray')\n",
        "        axes[1, i].set_title('Mask')\n",
        "        axes[1, i].axis('off')\n",
        "\n",
        "        plt.tight_layout()\n",
        "\n",
        "plt.show()"
      ],
      "metadata": {
        "colab": {
          "base_uri": "https://localhost:8080/",
          "height": 997
        },
        "id": "MHiwgOhIV3y6",
        "outputId": "bde9cb4e-103b-4fc9-8413-e4ac9e73a99a"
      },
      "execution_count": 46,
      "outputs": [
        {
          "output_type": "display_data",
          "data": {
            "text/plain": [
              "<Figure size 1500x500 with 10 Axes>"
            ],
            "image/png": "[encoded data removed]"
          },
          "metadata": {}
        },
        {
          "output_type": "display_data",
          "data": {
            "text/plain": [
              "<Figure size 1500x500 with 10 Axes>"
            ],
            "image/png": "[encoded data removed]"
          },
          "metadata": {}
        }
      ]
    },
    {
      "cell_type": "markdown",
      "source": [
        "Эти снимки также лучше удалить из обучaющей выборки."
      ],
      "metadata": {
        "id": "TyBSkhBnW-X5"
      }
    },
    {
      "cell_type": "code",
      "source": [
        "to_delete += img_name_list\n",
        "idx = [i for i in image_frame_cleaned.index if i not in to_delete]\n",
        "image_frame_cleaned = image_frame_cleaned.loc[idx]"
      ],
      "metadata": {
        "id": "Ax-RgyGYOEy3"
      },
      "execution_count": 47,
      "outputs": []
    },
    {
      "cell_type": "code",
      "source": [
        "image_frame_cleaned.shape"
      ],
      "metadata": {
        "colab": {
          "base_uri": "https://localhost:8080/"
        },
        "id": "GAGD2vPxXhct",
        "outputId": "0bb571dd-23cc-488b-a9b3-bc617b5941a5"
      },
      "execution_count": 48,
      "outputs": [
        {
          "output_type": "execute_result",
          "data": {
            "text/plain": [
              "(9384, 1296)"
            ]
          },
          "metadata": {},
          "execution_count": 48
        }
      ]
    },
    {
      "cell_type": "markdown",
      "source": [
        " ## Распределение скважин между обучающей, валидационной и тестовой выборкой"
      ],
      "metadata": {
        "id": "6p575BuvOrxV"
      }
    },
    {
      "cell_type": "code",
      "source": [
        "well_ref = image_frame_cleaned.reset_index()[\"index\"].apply(lambda x: int(x.split(\"_\")[1])).tolist()\n",
        "masks_frame = y_train.loc[image_frame_cleaned.index]\n",
        "masks_frame[\"well\"] = well_ref\n",
        "\n",
        "\n",
        "well_info = masks_frame.groupby(\"well\").agg(patches_count = (\"well\", \"count\"))\n",
        "well_info[\"mean_corrosion\"] = masks_frame.groupby(\"well\").mean().mean(axis=1)\n",
        "well_info"
      ],
      "metadata": {
        "colab": {
          "base_uri": "https://localhost:8080/",
          "height": 551
        },
        "id": "8eIQgujKhYV_",
        "outputId": "8809d715-2934-4afb-cfb5-d6001eb4d2a3"
      },
      "execution_count": 49,
      "outputs": [
        {
          "output_type": "execute_result",
          "data": {
            "text/plain": [
              "      patches_count  mean_corrosion\n",
              "well                               \n",
              "1               161        0.051453\n",
              "2               608        0.062704\n",
              "3              1718        0.102898\n",
              "4                56        0.067474\n",
              "5                74        0.020270\n",
              "6               940        0.056081\n",
              "7              1652        0.048355\n",
              "8                78        0.016303\n",
              "9               154        0.000000\n",
              "10               80        0.000000\n",
              "11             1510        0.055634\n",
              "12               43        0.070144\n",
              "13             1794        0.100752\n",
              "14              335        0.078050\n",
              "15              181        0.067539"
            ],
            "text/html": [
              "\n",
              "  <div id=\"df-6bc9c642-ff4f-4001-89f7-ca467fb0beaa\" class=\"colab-df-container\">\n",
              "    <div>\n",
              "<style scoped>\n",
              "    .dataframe tbody tr th:only-of-type {\n",
              "        vertical-align: middle;\n",
              "    }\n",
              "\n",
              "    .dataframe tbody tr th {\n",
              "        vertical-align: top;\n",
              "    }\n",
              "\n",
              "    .dataframe thead th {\n",
              "        text-align: right;\n",
              "    }\n",
              "</style>\n",
              "<table border=\"1\" class=\"dataframe\">\n",
              "  <thead>\n",
              "    <tr style=\"text-align: right;\">\n",
              "      <th></th>\n",
              "      <th>patches_count</th>\n",
              "      <th>mean_corrosion</th>\n",
              "    </tr>\n",
              "    <tr>\n",
              "      <th>well</th>\n",
              "      <th></th>\n",
              "      <th></th>\n",
              "    </tr>\n",
              "  </thead>\n",
              "  <tbody>\n",
              "    <tr>\n",
              "      <th>1</th>\n",
              "      <td>161</td>\n",
              "      <td>0.051453</td>\n",
              "    </tr>\n",
              "    <tr>\n",
              "      <th>2</th>\n",
              "      <td>608</td>\n",
              "      <td>0.062704</td>\n",
              "    </tr>\n",
              "    <tr>\n",
              "      <th>3</th>\n",
              "      <td>1718</td>\n",
              "      <td>0.102898</td>\n",
              "    </tr>\n",
              "    <tr>\n",
              "      <th>4</th>\n",
              "      <td>56</td>\n",
              "      <td>0.067474</td>\n",
              "    </tr>\n",
              "    <tr>\n",
              "      <th>5</th>\n",
              "      <td>74</td>\n",
              "      <td>0.020270</td>\n",
              "    </tr>\n",
              "    <tr>\n",
              "      <th>6</th>\n",
              "      <td>940</td>\n",
              "      <td>0.056081</td>\n",
              "    </tr>\n",
              "    <tr>\n",
              "      <th>7</th>\n",
              "      <td>1652</td>\n",
              "      <td>0.048355</td>\n",
              "    </tr>\n",
              "    <tr>\n",
              "      <th>8</th>\n",
              "      <td>78</td>\n",
              "      <td>0.016303</td>\n",
              "    </tr>\n",
              "    <tr>\n",
              "      <th>9</th>\n",
              "      <td>154</td>\n",
              "      <td>0.000000</td>\n",
              "    </tr>\n",
              "    <tr>\n",
              "      <th>10</th>\n",
              "      <td>80</td>\n",
              "      <td>0.000000</td>\n",
              "    </tr>\n",
              "    <tr>\n",
              "      <th>11</th>\n",
              "      <td>1510</td>\n",
              "      <td>0.055634</td>\n",
              "    </tr>\n",
              "    <tr>\n",
              "      <th>12</th>\n",
              "      <td>43</td>\n",
              "      <td>0.070144</td>\n",
              "    </tr>\n",
              "    <tr>\n",
              "      <th>13</th>\n",
              "      <td>1794</td>\n",
              "      <td>0.100752</td>\n",
              "    </tr>\n",
              "    <tr>\n",
              "      <th>14</th>\n",
              "      <td>335</td>\n",
              "      <td>0.078050</td>\n",
              "    </tr>\n",
              "    <tr>\n",
              "      <th>15</th>\n",
              "      <td>181</td>\n",
              "      <td>0.067539</td>\n",
              "    </tr>\n",
              "  </tbody>\n",
              "</table>\n",
              "</div>\n",
              "    <div class=\"colab-df-buttons\">\n",
              "\n",
              "  <div class=\"colab-df-container\">\n",
              "    <button class=\"colab-df-convert\" onclick=\"convertToInteractive('df-6bc9c642-ff4f-4001-89f7-ca467fb0beaa')\"\n",
              "            title=\"Convert this dataframe to an interactive table.\"\n",
              "            style=\"display:none;\">\n",
              "\n",
              "  <svg xmlns=\"http://www.w3.org/2000/svg\" height=\"24px\" viewBox=\"0 -960 960 960\">\n",
              "    <path d=\"M120-120v-720h720v720H120Zm60-500h600v-160H180v160Zm220 220h160v-160H400v160Zm0 220h160v-160H400v160ZM180-400h160v-160H180v160Zm440 0h160v-160H620v160ZM180-180h160v-160H180v160Zm440 0h160v-160H620v160Z\"/>\n",
              "  </svg>\n",
              "    </button>\n",
              "\n",
              "  <style>\n",
              "    .colab-df-container {\n",
              "      display:flex;\n",
              "      gap: 12px;\n",
              "    }\n",
              "\n",
              "    .colab-df-convert {\n",
              "      background-color: #E8F0FE;\n",
              "      border: none;\n",
              "      border-radius: 50%;\n",
              "      cursor: pointer;\n",
              "      display: none;\n",
              "      fill: #1967D2;\n",
              "      height: 32px;\n",
              "      padding: 0 0 0 0;\n",
              "      width: 32px;\n",
              "    }\n",
              "\n",
              "    .colab-df-convert:hover {\n",
              "      background-color: #E2EBFA;\n",
              "      box-shadow: 0px 1px 2px rgba(60, 64, 67, 0.3), 0px 1px 3px 1px rgba(60, 64, 67, 0.15);\n",
              "      fill: #174EA6;\n",
              "    }\n",
              "\n",
              "    .colab-df-buttons div {\n",
              "      margin-bottom: 4px;\n",
              "    }\n",
              "\n",
              "    [theme=dark] .colab-df-convert {\n",
              "      background-color: #3B4455;\n",
              "      fill: #D2E3FC;\n",
              "    }\n",
              "\n",
              "    [theme=dark] .colab-df-convert:hover {\n",
              "      background-color: #434B5C;\n",
              "      box-shadow: 0px 1px 3px 1px rgba(0, 0, 0, 0.15);\n",
              "      filter: drop-shadow(0px 1px 2px rgba(0, 0, 0, 0.3));\n",
              "      fill: #FFFFFF;\n",
              "    }\n",
              "  </style>\n",
              "\n",
              "    <script>\n",
              "      const buttonEl =\n",
              "        document.querySelector('#df-6bc9c642-ff4f-4001-89f7-ca467fb0beaa button.colab-df-convert');\n",
              "      buttonEl.style.display =\n",
              "        google.colab.kernel.accessAllowed ? 'block' : 'none';\n",
              "\n",
              "      async function convertToInteractive(key) {\n",
              "        const element = document.querySelector('#df-6bc9c642-ff4f-4001-89f7-ca467fb0beaa');\n",
              "        const dataTable =\n",
              "          await google.colab.kernel.invokeFunction('convertToInteractive',\n",
              "                                                    [key], {});\n",
              "        if (!dataTable) return;\n",
              "\n",
              "        const docLinkHtml = 'Like what you see? Visit the ' +\n",
              "          '<a target=\"_blank\" href=https://colab.research.google.com/notebooks/data_table.ipynb>data table notebook</a>'\n",
              "          + ' to learn more about interactive tables.';\n",
              "        element.innerHTML = '';\n",
              "        dataTable['output_type'] = 'display_data';\n",
              "        await google.colab.output.renderOutput(dataTable, element);\n",
              "        const docLink = document.createElement('div');\n",
              "        docLink.innerHTML = docLinkHtml;\n",
              "        element.appendChild(docLink);\n",
              "      }\n",
              "    </script>\n",
              "  </div>\n",
              "\n",
              "\n",
              "<div id=\"df-b7c034b5-3af1-43c1-8c60-4044dfd0c278\">\n",
              "  <button class=\"colab-df-quickchart\" onclick=\"quickchart('df-b7c034b5-3af1-43c1-8c60-4044dfd0c278')\"\n",
              "            title=\"Suggest charts\"\n",
              "            style=\"display:none;\">\n",
              "\n",
              "<svg xmlns=\"http://www.w3.org/2000/svg\" height=\"24px\"viewBox=\"0 0 24 24\"\n",
              "     width=\"24px\">\n",
              "    <g>\n",
              "        <path d=\"M19 3H5c-1.1 0-2 .9-2 2v14c0 1.1.9 2 2 2h14c1.1 0 2-.9 2-2V5c0-1.1-.9-2-2-2zM9 17H7v-7h2v7zm4 0h-2V7h2v10zm4 0h-2v-4h2v4z\"/>\n",
              "    </g>\n",
              "</svg>\n",
              "  </button>\n",
              "\n",
              "<style>\n",
              "  .colab-df-quickchart {\n",
              "      --bg-color: #E8F0FE;\n",
              "      --fill-color: #1967D2;\n",
              "      --hover-bg-color: #E2EBFA;\n",
              "      --hover-fill-color: #174EA6;\n",
              "      --disabled-fill-color: #AAA;\n",
              "      --disabled-bg-color: #DDD;\n",
              "  }\n",
              "\n",
              "  [theme=dark] .colab-df-quickchart {\n",
              "      --bg-color: #3B4455;\n",
              "      --fill-color: #D2E3FC;\n",
              "      --hover-bg-color: #434B5C;\n",
              "      --hover-fill-color: #FFFFFF;\n",
              "      --disabled-bg-color: #3B4455;\n",
              "      --disabled-fill-color: #666;\n",
              "  }\n",
              "\n",
              "  .colab-df-quickchart {\n",
              "    background-color: var(--bg-color);\n",
              "    border: none;\n",
              "    border-radius: 50%;\n",
              "    cursor: pointer;\n",
              "    display: none;\n",
              "    fill: var(--fill-color);\n",
              "    height: 32px;\n",
              "    padding: 0;\n",
              "    width: 32px;\n",
              "  }\n",
              "\n",
              "  .colab-df-quickchart:hover {\n",
              "    background-color: var(--hover-bg-color);\n",
              "    box-shadow: 0 1px 2px rgba(60, 64, 67, 0.3), 0 1px 3px 1px rgba(60, 64, 67, 0.15);\n",
              "    fill: var(--button-hover-fill-color);\n",
              "  }\n",
              "\n",
              "  .colab-df-quickchart-complete:disabled,\n",
              "  .colab-df-quickchart-complete:disabled:hover {\n",
              "    background-color: var(--disabled-bg-color);\n",
              "    fill: var(--disabled-fill-color);\n",
              "    box-shadow: none;\n",
              "  }\n",
              "\n",
              "  .colab-df-spinner {\n",
              "    border: 2px solid var(--fill-color);\n",
              "    border-color: transparent;\n",
              "    border-bottom-color: var(--fill-color);\n",
              "    animation:\n",
              "      spin 1s steps(1) infinite;\n",
              "  }\n",
              "\n",
              "  @keyframes spin {\n",
              "    0% {\n",
              "      border-color: transparent;\n",
              "      border-bottom-color: var(--fill-color);\n",
              "      border-left-color: var(--fill-color);\n",
              "    }\n",
              "    20% {\n",
              "      border-color: transparent;\n",
              "      border-left-color: var(--fill-color);\n",
              "      border-top-color: var(--fill-color);\n",
              "    }\n",
              "    30% {\n",
              "      border-color: transparent;\n",
              "      border-left-color: var(--fill-color);\n",
              "      border-top-color: var(--fill-color);\n",
              "      border-right-color: var(--fill-color);\n",
              "    }\n",
              "    40% {\n",
              "      border-color: transparent;\n",
              "      border-right-color: var(--fill-color);\n",
              "      border-top-color: var(--fill-color);\n",
              "    }\n",
              "    60% {\n",
              "      border-color: transparent;\n",
              "      border-right-color: var(--fill-color);\n",
              "    }\n",
              "    80% {\n",
              "      border-color: transparent;\n",
              "      border-right-color: var(--fill-color);\n",
              "      border-bottom-color: var(--fill-color);\n",
              "    }\n",
              "    90% {\n",
              "      border-color: transparent;\n",
              "      border-bottom-color: var(--fill-color);\n",
              "    }\n",
              "  }\n",
              "</style>\n",
              "\n",
              "  <script>\n",
              "    async function quickchart(key) {\n",
              "      const quickchartButtonEl =\n",
              "        document.querySelector('#' + key + ' button');\n",
              "      quickchartButtonEl.disabled = true;  // To prevent multiple clicks.\n",
              "      quickchartButtonEl.classList.add('colab-df-spinner');\n",
              "      try {\n",
              "        const charts = await google.colab.kernel.invokeFunction(\n",
              "            'suggestCharts', [key], {});\n",
              "      } catch (error) {\n",
              "        console.error('Error during call to suggestCharts:', error);\n",
              "      }\n",
              "      quickchartButtonEl.classList.remove('colab-df-spinner');\n",
              "      quickchartButtonEl.classList.add('colab-df-quickchart-complete');\n",
              "    }\n",
              "    (() => {\n",
              "      let quickchartButtonEl =\n",
              "        document.querySelector('#df-b7c034b5-3af1-43c1-8c60-4044dfd0c278 button');\n",
              "      quickchartButtonEl.style.display =\n",
              "        google.colab.kernel.accessAllowed ? 'block' : 'none';\n",
              "    })();\n",
              "  </script>\n",
              "</div>\n",
              "    </div>\n",
              "  </div>\n"
            ],
            "application/vnd.google.colaboratory.intrinsic+json": {
              "type": "dataframe",
              "variable_name": "well_info",
              "summary": "{\n  \"name\": \"well_info\",\n  \"rows\": 15,\n  \"fields\": [\n    {\n      \"column\": \"well\",\n      \"properties\": {\n        \"dtype\": \"number\",\n        \"std\": 4,\n        \"min\": 1,\n        \"max\": 15,\n        \"num_unique_values\": 15,\n        \"samples\": [\n          10,\n          12,\n          1\n        ],\n        \"semantic_type\": \"\",\n        \"description\": \"\"\n      }\n    },\n    {\n      \"column\": \"patches_count\",\n      \"properties\": {\n        \"dtype\": \"number\",\n        \"std\": 695,\n        \"min\": 43,\n        \"max\": 1794,\n        \"num_unique_values\": 15,\n        \"samples\": [\n          80,\n          43,\n          161\n        ],\n        \"semantic_type\": \"\",\n        \"description\": \"\"\n      }\n    },\n    {\n      \"column\": \"mean_corrosion\",\n      \"properties\": {\n        \"dtype\": \"number\",\n        \"std\": 0.031940098390473376,\n        \"min\": 0.0,\n        \"max\": 0.10289787507725032,\n        \"num_unique_values\": 14,\n        \"samples\": [\n          0.05563424903932631,\n          0.10075207825811688,\n          0.051453109424123906\n        ],\n        \"semantic_type\": \"\",\n        \"description\": \"\"\n      }\n    }\n  ]\n}"
            }
          },
          "metadata": {},
          "execution_count": 49
        }
      ]
    },
    {
      "cell_type": "markdown",
      "source": [
        "### Кластеризация скважин по данным снимков и разметки."
      ],
      "metadata": {
        "id": "vgPmycD8nNOk"
      }
    },
    {
      "cell_type": "code",
      "source": [
        "well_mask_frame = masks_frame.groupby(\"well\").mean()\n",
        "\n",
        "mask_clustering = DBSCAN(eps=6, min_samples=2).fit(well_mask_frame)\n",
        "silhouette_score(well_mask_frame, mask_clustering.fit_predict(well_mask_frame))"
      ],
      "metadata": {
        "colab": {
          "base_uri": "https://localhost:8080/"
        },
        "id": "_kAsM9a-luA4",
        "outputId": "ec5bdcec-614d-472d-eabe-4aa32443f942"
      },
      "execution_count": 50,
      "outputs": [
        {
          "output_type": "execute_result",
          "data": {
            "text/plain": [
              "0.44229493237184403"
            ]
          },
          "metadata": {},
          "execution_count": 50
        }
      ]
    },
    {
      "cell_type": "code",
      "source": [
        "image_frame_cleaned[\"well\"] = well_ref\n",
        "well_image_frame = image_frame_cleaned.groupby(\"well\").mean()\n",
        "\n",
        "image_clustering = DBSCAN(eps=0.15, min_samples=2).fit(well_image_frame)\n",
        "silhouette_score(well_image_frame, image_clustering .fit_predict(well_image_frame))"
      ],
      "metadata": {
        "colab": {
          "base_uri": "https://localhost:8080/"
        },
        "id": "flF8hTpLck2G",
        "outputId": "326007fe-db41-4c53-d23e-6b5aa0b57c34"
      },
      "execution_count": 51,
      "outputs": [
        {
          "output_type": "execute_result",
          "data": {
            "text/plain": [
              "0.38759503"
            ]
          },
          "metadata": {},
          "execution_count": 51
        }
      ]
    },
    {
      "cell_type": "code",
      "source": [
        "well_info.loc[:, \"image_cluster\"] = image_clustering.labels_\n",
        "well_info.loc[:, \"mask_cluster\"] = mask_clustering.labels_"
      ],
      "metadata": {
        "id": "JTIfR3z3cvCK"
      },
      "execution_count": 52,
      "outputs": []
    },
    {
      "cell_type": "code",
      "source": [
        "well_info"
      ],
      "metadata": {
        "colab": {
          "base_uri": "https://localhost:8080/",
          "height": 551
        },
        "id": "qWbabhPoe-Fd",
        "outputId": "a5372a80-3aee-4b4c-9456-bad3cb34eb5c"
      },
      "execution_count": 53,
      "outputs": [
        {
          "output_type": "execute_result",
          "data": {
            "text/plain": [
              "      patches_count  mean_corrosion  image_cluster  mask_cluster\n",
              "well                                                            \n",
              "1               161        0.051453              0             0\n",
              "2               608        0.062704              0             0\n",
              "3              1718        0.102898              0             0\n",
              "4                56        0.067474              0             0\n",
              "5                74        0.020270              0             0\n",
              "6               940        0.056081              0             0\n",
              "7              1652        0.048355              0             0\n",
              "8                78        0.016303              0             0\n",
              "9               154        0.000000              0             0\n",
              "10               80        0.000000              0             0\n",
              "11             1510        0.055634              0             0\n",
              "12               43        0.070144             -1            -1\n",
              "13             1794        0.100752             -1             0\n",
              "14              335        0.078050              0             0\n",
              "15              181        0.067539              0             0"
            ],
            "text/html": [
              "\n",
              "  <div id=\"df-aae21a07-424c-485b-9758-3656eb328599\" class=\"colab-df-container\">\n",
              "    <div>\n",
              "<style scoped>\n",
              "    .dataframe tbody tr th:only-of-type {\n",
              "        vertical-align: middle;\n",
              "    }\n",
              "\n",
              "    .dataframe tbody tr th {\n",
              "        vertical-align: top;\n",
              "    }\n",
              "\n",
              "    .dataframe thead th {\n",
              "        text-align: right;\n",
              "    }\n",
              "</style>\n",
              "<table border=\"1\" class=\"dataframe\">\n",
              "  <thead>\n",
              "    <tr style=\"text-align: right;\">\n",
              "      <th></th>\n",
              "      <th>patches_count</th>\n",
              "      <th>mean_corrosion</th>\n",
              "      <th>image_cluster</th>\n",
              "      <th>mask_cluster</th>\n",
              "    </tr>\n",
              "    <tr>\n",
              "      <th>well</th>\n",
              "      <th></th>\n",
              "      <th></th>\n",
              "      <th></th>\n",
              "      <th></th>\n",
              "    </tr>\n",
              "  </thead>\n",
              "  <tbody>\n",
              "    <tr>\n",
              "      <th>1</th>\n",
              "      <td>161</td>\n",
              "      <td>0.051453</td>\n",
              "      <td>0</td>\n",
              "      <td>0</td>\n",
              "    </tr>\n",
              "    <tr>\n",
              "      <th>2</th>\n",
              "      <td>608</td>\n",
              "      <td>0.062704</td>\n",
              "      <td>0</td>\n",
              "      <td>0</td>\n",
              "    </tr>\n",
              "    <tr>\n",
              "      <th>3</th>\n",
              "      <td>1718</td>\n",
              "      <td>0.102898</td>\n",
              "      <td>0</td>\n",
              "      <td>0</td>\n",
              "    </tr>\n",
              "    <tr>\n",
              "      <th>4</th>\n",
              "      <td>56</td>\n",
              "      <td>0.067474</td>\n",
              "      <td>0</td>\n",
              "      <td>0</td>\n",
              "    </tr>\n",
              "    <tr>\n",
              "      <th>5</th>\n",
              "      <td>74</td>\n",
              "      <td>0.020270</td>\n",
              "      <td>0</td>\n",
              "      <td>0</td>\n",
              "    </tr>\n",
              "    <tr>\n",
              "      <th>6</th>\n",
              "      <td>940</td>\n",
              "      <td>0.056081</td>\n",
              "      <td>0</td>\n",
              "      <td>0</td>\n",
              "    </tr>\n",
              "    <tr>\n",
              "      <th>7</th>\n",
              "      <td>1652</td>\n",
              "      <td>0.048355</td>\n",
              "      <td>0</td>\n",
              "      <td>0</td>\n",
              "    </tr>\n",
              "    <tr>\n",
              "      <th>8</th>\n",
              "      <td>78</td>\n",
              "      <td>0.016303</td>\n",
              "      <td>0</td>\n",
              "      <td>0</td>\n",
              "    </tr>\n",
              "    <tr>\n",
              "      <th>9</th>\n",
              "      <td>154</td>\n",
              "      <td>0.000000</td>\n",
              "      <td>0</td>\n",
              "      <td>0</td>\n",
              "    </tr>\n",
              "    <tr>\n",
              "      <th>10</th>\n",
              "      <td>80</td>\n",
              "      <td>0.000000</td>\n",
              "      <td>0</td>\n",
              "      <td>0</td>\n",
              "    </tr>\n",
              "    <tr>\n",
              "      <th>11</th>\n",
              "      <td>1510</td>\n",
              "      <td>0.055634</td>\n",
              "      <td>0</td>\n",
              "      <td>0</td>\n",
              "    </tr>\n",
              "    <tr>\n",
              "      <th>12</th>\n",
              "      <td>43</td>\n",
              "      <td>0.070144</td>\n",
              "      <td>-1</td>\n",
              "      <td>-1</td>\n",
              "    </tr>\n",
              "    <tr>\n",
              "      <th>13</th>\n",
              "      <td>1794</td>\n",
              "      <td>0.100752</td>\n",
              "      <td>-1</td>\n",
              "      <td>0</td>\n",
              "    </tr>\n",
              "    <tr>\n",
              "      <th>14</th>\n",
              "      <td>335</td>\n",
              "      <td>0.078050</td>\n",
              "      <td>0</td>\n",
              "      <td>0</td>\n",
              "    </tr>\n",
              "    <tr>\n",
              "      <th>15</th>\n",
              "      <td>181</td>\n",
              "      <td>0.067539</td>\n",
              "      <td>0</td>\n",
              "      <td>0</td>\n",
              "    </tr>\n",
              "  </tbody>\n",
              "</table>\n",
              "</div>\n",
              "    <div class=\"colab-df-buttons\">\n",
              "\n",
              "  <div class=\"colab-df-container\">\n",
              "    <button class=\"colab-df-convert\" onclick=\"convertToInteractive('df-aae21a07-424c-485b-9758-3656eb328599')\"\n",
              "            title=\"Convert this dataframe to an interactive table.\"\n",
              "            style=\"display:none;\">\n",
              "\n",
              "  <svg xmlns=\"http://www.w3.org/2000/svg\" height=\"24px\" viewBox=\"0 -960 960 960\">\n",
              "    <path d=\"M120-120v-720h720v720H120Zm60-500h600v-160H180v160Zm220 220h160v-160H400v160Zm0 220h160v-160H400v160ZM180-400h160v-160H180v160Zm440 0h160v-160H620v160ZM180-180h160v-160H180v160Zm440 0h160v-160H620v160Z\"/>\n",
              "  </svg>\n",
              "    </button>\n",
              "\n",
              "  <style>\n",
              "    .colab-df-container {\n",
              "      display:flex;\n",
              "      gap: 12px;\n",
              "    }\n",
              "\n",
              "    .colab-df-convert {\n",
              "      background-color: #E8F0FE;\n",
              "      border: none;\n",
              "      border-radius: 50%;\n",
              "      cursor: pointer;\n",
              "      display: none;\n",
              "      fill: #1967D2;\n",
              "      height: 32px;\n",
              "      padding: 0 0 0 0;\n",
              "      width: 32px;\n",
              "    }\n",
              "\n",
              "    .colab-df-convert:hover {\n",
              "      background-color: #E2EBFA;\n",
              "      box-shadow: 0px 1px 2px rgba(60, 64, 67, 0.3), 0px 1px 3px 1px rgba(60, 64, 67, 0.15);\n",
              "      fill: #174EA6;\n",
              "    }\n",
              "\n",
              "    .colab-df-buttons div {\n",
              "      margin-bottom: 4px;\n",
              "    }\n",
              "\n",
              "    [theme=dark] .colab-df-convert {\n",
              "      background-color: #3B4455;\n",
              "      fill: #D2E3FC;\n",
              "    }\n",
              "\n",
              "    [theme=dark] .colab-df-convert:hover {\n",
              "      background-color: #434B5C;\n",
              "      box-shadow: 0px 1px 3px 1px rgba(0, 0, 0, 0.15);\n",
              "      filter: drop-shadow(0px 1px 2px rgba(0, 0, 0, 0.3));\n",
              "      fill: #FFFFFF;\n",
              "    }\n",
              "  </style>\n",
              "\n",
              "    <script>\n",
              "      const buttonEl =\n",
              "        document.querySelector('#df-aae21a07-424c-485b-9758-3656eb328599 button.colab-df-convert');\n",
              "      buttonEl.style.display =\n",
              "        google.colab.kernel.accessAllowed ? 'block' : 'none';\n",
              "\n",
              "      async function convertToInteractive(key) {\n",
              "        const element = document.querySelector('#df-aae21a07-424c-485b-9758-3656eb328599');\n",
              "        const dataTable =\n",
              "          await google.colab.kernel.invokeFunction('convertToInteractive',\n",
              "                                                    [key], {});\n",
              "        if (!dataTable) return;\n",
              "\n",
              "        const docLinkHtml = 'Like what you see? Visit the ' +\n",
              "          '<a target=\"_blank\" href=https://colab.research.google.com/notebooks/data_table.ipynb>data table notebook</a>'\n",
              "          + ' to learn more about interactive tables.';\n",
              "        element.innerHTML = '';\n",
              "        dataTable['output_type'] = 'display_data';\n",
              "        await google.colab.output.renderOutput(dataTable, element);\n",
              "        const docLink = document.createElement('div');\n",
              "        docLink.innerHTML = docLinkHtml;\n",
              "        element.appendChild(docLink);\n",
              "      }\n",
              "    </script>\n",
              "  </div>\n",
              "\n",
              "\n",
              "<div id=\"df-58aaf701-8a3f-4939-ae22-b41ce9e35418\">\n",
              "  <button class=\"colab-df-quickchart\" onclick=\"quickchart('df-58aaf701-8a3f-4939-ae22-b41ce9e35418')\"\n",
              "            title=\"Suggest charts\"\n",
              "            style=\"display:none;\">\n",
              "\n",
              "<svg xmlns=\"http://www.w3.org/2000/svg\" height=\"24px\"viewBox=\"0 0 24 24\"\n",
              "     width=\"24px\">\n",
              "    <g>\n",
              "        <path d=\"M19 3H5c-1.1 0-2 .9-2 2v14c0 1.1.9 2 2 2h14c1.1 0 2-.9 2-2V5c0-1.1-.9-2-2-2zM9 17H7v-7h2v7zm4 0h-2V7h2v10zm4 0h-2v-4h2v4z\"/>\n",
              "    </g>\n",
              "</svg>\n",
              "  </button>\n",
              "\n",
              "<style>\n",
              "  .colab-df-quickchart {\n",
              "      --bg-color: #E8F0FE;\n",
              "      --fill-color: #1967D2;\n",
              "      --hover-bg-color: #E2EBFA;\n",
              "      --hover-fill-color: #174EA6;\n",
              "      --disabled-fill-color: #AAA;\n",
              "      --disabled-bg-color: #DDD;\n",
              "  }\n",
              "\n",
              "  [theme=dark] .colab-df-quickchart {\n",
              "      --bg-color: #3B4455;\n",
              "      --fill-color: #D2E3FC;\n",
              "      --hover-bg-color: #434B5C;\n",
              "      --hover-fill-color: #FFFFFF;\n",
              "      --disabled-bg-color: #3B4455;\n",
              "      --disabled-fill-color: #666;\n",
              "  }\n",
              "\n",
              "  .colab-df-quickchart {\n",
              "    background-color: var(--bg-color);\n",
              "    border: none;\n",
              "    border-radius: 50%;\n",
              "    cursor: pointer;\n",
              "    display: none;\n",
              "    fill: var(--fill-color);\n",
              "    height: 32px;\n",
              "    padding: 0;\n",
              "    width: 32px;\n",
              "  }\n",
              "\n",
              "  .colab-df-quickchart:hover {\n",
              "    background-color: var(--hover-bg-color);\n",
              "    box-shadow: 0 1px 2px rgba(60, 64, 67, 0.3), 0 1px 3px 1px rgba(60, 64, 67, 0.15);\n",
              "    fill: var(--button-hover-fill-color);\n",
              "  }\n",
              "\n",
              "  .colab-df-quickchart-complete:disabled,\n",
              "  .colab-df-quickchart-complete:disabled:hover {\n",
              "    background-color: var(--disabled-bg-color);\n",
              "    fill: var(--disabled-fill-color);\n",
              "    box-shadow: none;\n",
              "  }\n",
              "\n",
              "  .colab-df-spinner {\n",
              "    border: 2px solid var(--fill-color);\n",
              "    border-color: transparent;\n",
              "    border-bottom-color: var(--fill-color);\n",
              "    animation:\n",
              "      spin 1s steps(1) infinite;\n",
              "  }\n",
              "\n",
              "  @keyframes spin {\n",
              "    0% {\n",
              "      border-color: transparent;\n",
              "      border-bottom-color: var(--fill-color);\n",
              "      border-left-color: var(--fill-color);\n",
              "    }\n",
              "    20% {\n",
              "      border-color: transparent;\n",
              "      border-left-color: var(--fill-color);\n",
              "      border-top-color: var(--fill-color);\n",
              "    }\n",
              "    30% {\n",
              "      border-color: transparent;\n",
              "      border-left-color: var(--fill-color);\n",
              "      border-top-color: var(--fill-color);\n",
              "      border-right-color: var(--fill-color);\n",
              "    }\n",
              "    40% {\n",
              "      border-color: transparent;\n",
              "      border-right-color: var(--fill-color);\n",
              "      border-top-color: var(--fill-color);\n",
              "    }\n",
              "    60% {\n",
              "      border-color: transparent;\n",
              "      border-right-color: var(--fill-color);\n",
              "    }\n",
              "    80% {\n",
              "      border-color: transparent;\n",
              "      border-right-color: var(--fill-color);\n",
              "      border-bottom-color: var(--fill-color);\n",
              "    }\n",
              "    90% {\n",
              "      border-color: transparent;\n",
              "      border-bottom-color: var(--fill-color);\n",
              "    }\n",
              "  }\n",
              "</style>\n",
              "\n",
              "  <script>\n",
              "    async function quickchart(key) {\n",
              "      const quickchartButtonEl =\n",
              "        document.querySelector('#' + key + ' button');\n",
              "      quickchartButtonEl.disabled = true;  // To prevent multiple clicks.\n",
              "      quickchartButtonEl.classList.add('colab-df-spinner');\n",
              "      try {\n",
              "        const charts = await google.colab.kernel.invokeFunction(\n",
              "            'suggestCharts', [key], {});\n",
              "      } catch (error) {\n",
              "        console.error('Error during call to suggestCharts:', error);\n",
              "      }\n",
              "      quickchartButtonEl.classList.remove('colab-df-spinner');\n",
              "      quickchartButtonEl.classList.add('colab-df-quickchart-complete');\n",
              "    }\n",
              "    (() => {\n",
              "      let quickchartButtonEl =\n",
              "        document.querySelector('#df-58aaf701-8a3f-4939-ae22-b41ce9e35418 button');\n",
              "      quickchartButtonEl.style.display =\n",
              "        google.colab.kernel.accessAllowed ? 'block' : 'none';\n",
              "    })();\n",
              "  </script>\n",
              "</div>\n",
              "    </div>\n",
              "  </div>\n"
            ],
            "application/vnd.google.colaboratory.intrinsic+json": {
              "type": "dataframe",
              "variable_name": "well_info",
              "summary": "{\n  \"name\": \"well_info\",\n  \"rows\": 15,\n  \"fields\": [\n    {\n      \"column\": \"well\",\n      \"properties\": {\n        \"dtype\": \"number\",\n        \"std\": 4,\n        \"min\": 1,\n        \"max\": 15,\n        \"num_unique_values\": 15,\n        \"samples\": [\n          10,\n          12,\n          1\n        ],\n        \"semantic_type\": \"\",\n        \"description\": \"\"\n      }\n    },\n    {\n      \"column\": \"patches_count\",\n      \"properties\": {\n        \"dtype\": \"number\",\n        \"std\": 695,\n        \"min\": 43,\n        \"max\": 1794,\n        \"num_unique_values\": 15,\n        \"samples\": [\n          80,\n          43,\n          161\n        ],\n        \"semantic_type\": \"\",\n        \"description\": \"\"\n      }\n    },\n    {\n      \"column\": \"mean_corrosion\",\n      \"properties\": {\n        \"dtype\": \"number\",\n        \"std\": 0.031940098390473376,\n        \"min\": 0.0,\n        \"max\": 0.10289787507725032,\n        \"num_unique_values\": 14,\n        \"samples\": [\n          0.05563424903932631,\n          0.10075207825811688,\n          0.051453109424123906\n        ],\n        \"semantic_type\": \"\",\n        \"description\": \"\"\n      }\n    },\n    {\n      \"column\": \"image_cluster\",\n      \"properties\": {\n        \"dtype\": \"number\",\n        \"std\": 0,\n        \"min\": -1,\n        \"max\": 0,\n        \"num_unique_values\": 2,\n        \"samples\": [\n          -1,\n          0\n        ],\n        \"semantic_type\": \"\",\n        \"description\": \"\"\n      }\n    },\n    {\n      \"column\": \"mask_cluster\",\n      \"properties\": {\n        \"dtype\": \"number\",\n        \"std\": 0,\n        \"min\": -1,\n        \"max\": 0,\n        \"num_unique_values\": 2,\n        \"samples\": [\n          -1,\n          0\n        ],\n        \"semantic_type\": \"\",\n        \"description\": \"\"\n      }\n    }\n  ]\n}"
            }
          },
          "metadata": {},
          "execution_count": 53
        }
      ]
    },
    {
      "cell_type": "markdown",
      "source": [
        "* 12 скважина отличается от остальных и по изображениям, и по разметке. 13 - по изображениям Поместим их в обучающую выборку."
      ],
      "metadata": {
        "id": "mx17v5zYNMup"
      }
    },
    {
      "cell_type": "markdown",
      "source": [
        "### Распределение скважин и оценка распределения"
      ],
      "metadata": {
        "id": "pYKUVRhLc8An"
      }
    },
    {
      "cell_type": "markdown",
      "source": [
        "* При распределении скважин между обучающей, валидационной и тестовой выборками, стараемся добиться более-менее сбалансированных характеристик."
      ],
      "metadata": {
        "id": "a3WoMAAETm6k"
      }
    },
    {
      "cell_type": "code",
      "source": [
        "train = [1, 6, 7, 8, 10, 11, 12, 13, 14]\n",
        "val = [3, 9]\n",
        "test = [2, 4, 5, 15]"
      ],
      "metadata": {
        "id": "99spjpdiUYPu"
      },
      "execution_count": 54,
      "outputs": []
    },
    {
      "cell_type": "code",
      "source": [
        "n = len(image_frame_cleaned)\n",
        "n1 = int(n * 0.7)\n",
        "n2 = int(n * 0.2)\n",
        "n3 = n - n1 - n2\n",
        "print(n1, n2, n3)\n",
        "\n",
        "n_train = well_info.loc[train, \"patches_count\"].sum()\n",
        "n_val = well_info.loc[val, \"patches_count\"].sum()\n",
        "n_test = well_info.loc[test, \"patches_count\"].sum()\n",
        "\n",
        "print(n_train, n_val, n_test)\n",
        "print(f\"{n_train/n1: .2f} {n_val/n2: .2f} {n_test/n3: .2f}\")"
      ],
      "metadata": {
        "colab": {
          "base_uri": "https://localhost:8080/"
        },
        "id": "JFm8s-HrVeJA",
        "outputId": "ad96037e-5685-426a-c219-a8150e6ef62d"
      },
      "execution_count": 55,
      "outputs": [
        {
          "output_type": "stream",
          "name": "stdout",
          "text": [
            "6568 1876 940\n",
            "6593 1872 919\n",
            " 1.00  1.00  0.98\n"
          ]
        }
      ]
    },
    {
      "cell_type": "code",
      "source": [
        "mean_corrosion_train = well_info.loc[train, \"mean_corrosion\"].mean()\n",
        "mean_corrosion_val = well_info.loc[val, \"mean_corrosion\"].mean()\n",
        "mean_corrosion_test = well_info.loc[test, \"mean_corrosion\"].mean()\n",
        "\n",
        "print(f\"{mean_corrosion_train: .3f} {mean_corrosion_val: .3f} {mean_corrosion_test: .3f}\")"
      ],
      "metadata": {
        "colab": {
          "base_uri": "https://localhost:8080/"
        },
        "id": "2H-A3WgTV0KT",
        "outputId": "d585dfcc-3864-48b7-b773-4b4df7da754a"
      },
      "execution_count": 56,
      "outputs": [
        {
          "output_type": "stream",
          "name": "stdout",
          "text": [
            " 0.053  0.051  0.054\n"
          ]
        }
      ]
    },
    {
      "cell_type": "markdown",
      "source": [
        "## Label Refinement"
      ],
      "metadata": {
        "id": "TdBxyOFIkY8r"
      }
    },
    {
      "cell_type": "markdown",
      "source": [
        "### binary fill holes"
      ],
      "metadata": {
        "id": "HJAREwPqknaa"
      }
    },
    {
      "cell_type": "code",
      "source": [
        "mask = np.array(y_train.loc['well_11_patch_1379']).reshape(36, 36)"
      ],
      "metadata": {
        "id": "GElGmkX0NZ-Z"
      },
      "execution_count": 57,
      "outputs": []
    },
    {
      "cell_type": "code",
      "source": [
        "filled = binary_fill_holes(mask)\n",
        "fig, axes = plt.subplots(1, 2, figsize=(10, 5))\n",
        "\n",
        "axes[0].imshow(mask, cmap='gray')\n",
        "axes[0].set_title('Original Mask')\n",
        "axes[0].axis('off')\n",
        "\n",
        "# Plot filled mask\n",
        "axes[1].imshow(filled, cmap='gray')\n",
        "axes[1].set_title('Filled Mask')\n",
        "axes[1].axis('off')\n",
        "\n",
        "plt.show()"
      ],
      "metadata": {
        "colab": {
          "base_uri": "https://localhost:8080/",
          "height": 411
        },
        "id": "TXPOhuIZkYQ9",
        "outputId": "2036d7c4-c753-40c5-9ee7-3d92917f9b68"
      },
      "execution_count": 58,
      "outputs": [
        {
          "output_type": "display_data",
          "data": {
            "text/plain": [
              "<Figure size 1000x500 with 2 Axes>"
            ],
            "image/png": "[encoded data removed]"
          },
          "metadata": {}
        }
      ]
    },
    {
      "cell_type": "markdown",
      "source": [
        "### Structuring Element & Morphological Operations"
      ],
      "metadata": {
        "id": "nYjVddfNk6vX"
      }
    },
    {
      "cell_type": "code",
      "source": [
        "kernel_size = (2, 2)\n",
        "kernel_shape = cv2.MORPH_RECT\n",
        "# Create the adaptive structuring element\n",
        "adaptive_kernel = cv2.getStructuringElement(kernel_shape, kernel_size)\n",
        "# Apply morphological operations : dilation\n",
        "result = cv2.dilate(mask, adaptive_kernel)\n",
        "fig, axes = plt.subplots(1, 2, figsize=(10, 5))\n",
        "axes[0].imshow(mask, cmap='gray')\n",
        "axes[0].set_title('Original Mask')\n",
        "axes[0].axis('off')\n",
        "# Plot filled mask\n",
        "axes[1].imshow(result, cmap='gray')\n",
        "axes[1].set_title('Dilat  Mask')\n",
        "axes[1].axis('off')\n",
        "plt.show()"
      ],
      "metadata": {
        "colab": {
          "base_uri": "https://localhost:8080/",
          "height": 237
        },
        "id": "8JBO64lXk9x-",
        "outputId": "304ed805-8f64-4cac-d7bb-301ef07f1efe"
      },
      "execution_count": 59,
      "outputs": [
        {
          "output_type": "error",
          "ename": "error",
          "evalue": "OpenCV(4.10.0) /io/opencv/modules/imgproc/src/morph.simd.hpp:756: error: (-213:The function/feature is not implemented) Unsupported data type (=4) in function 'getMorphologyRowFilter'\n",
          "traceback": [
            "\u001b[0;31m---------------------------------------------------------------------------\u001b[0m",
            "\u001b[0;31merror\u001b[0m                                     Traceback (most recent call last)",
            "\u001b[0;32m<ipython-input-59-beb8a202ebbd>\u001b[0m in \u001b[0;36m<cell line: 6>\u001b[0;34m()\u001b[0m\n\u001b[1;32m      4\u001b[0m \u001b[0madaptive_kernel\u001b[0m \u001b[0;34m=\u001b[0m \u001b[0mcv2\u001b[0m\u001b[0;34m.\u001b[0m\u001b[0mgetStructuringElement\u001b[0m\u001b[0;34m(\u001b[0m\u001b[0mkernel_shape\u001b[0m\u001b[0;34m,\u001b[0m \u001b[0mkernel_size\u001b[0m\u001b[0;34m)\u001b[0m\u001b[0;34m\u001b[0m\u001b[0;34m\u001b[0m\u001b[0m\n\u001b[1;32m      5\u001b[0m \u001b[0;31m# Apply morphological operations : dilation\u001b[0m\u001b[0;34m\u001b[0m\u001b[0;34m\u001b[0m\u001b[0m\n\u001b[0;32m----> 6\u001b[0;31m \u001b[0mresult\u001b[0m \u001b[0;34m=\u001b[0m \u001b[0mcv2\u001b[0m\u001b[0;34m.\u001b[0m\u001b[0mdilate\u001b[0m\u001b[0;34m(\u001b[0m\u001b[0mmask\u001b[0m\u001b[0;34m,\u001b[0m \u001b[0madaptive_kernel\u001b[0m\u001b[0;34m)\u001b[0m\u001b[0;34m\u001b[0m\u001b[0;34m\u001b[0m\u001b[0m\n\u001b[0m\u001b[1;32m      7\u001b[0m \u001b[0mfig\u001b[0m\u001b[0;34m,\u001b[0m \u001b[0maxes\u001b[0m \u001b[0;34m=\u001b[0m \u001b[0mplt\u001b[0m\u001b[0;34m.\u001b[0m\u001b[0msubplots\u001b[0m\u001b[0;34m(\u001b[0m\u001b[0;36m1\u001b[0m\u001b[0;34m,\u001b[0m \u001b[0;36m2\u001b[0m\u001b[0;34m,\u001b[0m \u001b[0mfigsize\u001b[0m\u001b[0;34m=\u001b[0m\u001b[0;34m(\u001b[0m\u001b[0;36m10\u001b[0m\u001b[0;34m,\u001b[0m \u001b[0;36m5\u001b[0m\u001b[0;34m)\u001b[0m\u001b[0;34m)\u001b[0m\u001b[0;34m\u001b[0m\u001b[0;34m\u001b[0m\u001b[0m\n\u001b[1;32m      8\u001b[0m \u001b[0maxes\u001b[0m\u001b[0;34m[\u001b[0m\u001b[0;36m0\u001b[0m\u001b[0;34m]\u001b[0m\u001b[0;34m.\u001b[0m\u001b[0mimshow\u001b[0m\u001b[0;34m(\u001b[0m\u001b[0mmask\u001b[0m\u001b[0;34m,\u001b[0m \u001b[0mcmap\u001b[0m\u001b[0;34m=\u001b[0m\u001b[0;34m'gray'\u001b[0m\u001b[0;34m)\u001b[0m\u001b[0;34m\u001b[0m\u001b[0;34m\u001b[0m\u001b[0m\n",
            "\u001b[0;31merror\u001b[0m: OpenCV(4.10.0) /io/opencv/modules/imgproc/src/morph.simd.hpp:756: error: (-213:The function/feature is not implemented) Unsupported data type (=4) in function 'getMorphologyRowFilter'\n"
          ]
        }
      ]
    },
    {
      "cell_type": "code",
      "source": [
        "kernel_size = (2, 2)\n",
        "kernel_shape = cv2.MORPH_RECT\n",
        "# Create the adaptive structuring element\n",
        "adaptive_kernel = cv2.getStructuringElement(kernel_shape, kernel_size)\n",
        "# Apply morphological operations : dilation\n",
        "\n",
        "result = cv2.dilate(np.ones((36, 36)) * mask, adaptive_kernel)\n",
        "\n",
        "fig, axes = plt.subplots(1, 2, figsize=(10, 5))\n",
        "axes[0].imshow(mask, cmap='gray')\n",
        "axes[0].set_title('Original Mask')\n",
        "axes[0].axis('off')\n",
        "# Plot filled mask\n",
        "axes[1].imshow(result, cmap='gray')\n",
        "axes[1].set_title('Dilat  Mask')\n",
        "axes[1].axis('off')\n",
        "plt.show()"
      ],
      "metadata": {
        "colab": {
          "base_uri": "https://localhost:8080/",
          "height": 411
        },
        "id": "S4N5Hbu7lCml",
        "outputId": "41789260-5cb0-47f7-ca1c-24d218a1718a"
      },
      "execution_count": 60,
      "outputs": [
        {
          "output_type": "display_data",
          "data": {
            "text/plain": [
              "<Figure size 1000x500 with 2 Axes>"
            ],
            "image/png": "[encoded data removed]"
          },
          "metadata": {}
        }
      ]
    },
    {
      "cell_type": "markdown",
      "source": [
        "В выражении\n",
        "```\n",
        "result = cv2.dilate(mask, adaptive_kernel)\n",
        "```\n",
        "mask должна быть в в виде 0/1, а не False/ True.\n",
        "\n",
        "Исправленная версия выглядит так:\n",
        "```\n",
        "result = cv2.dilate(np.ones((36, 36)) * mask, adaptive_kernel)\n",
        "```\n"
      ],
      "metadata": {
        "id": "AuGKsKMmglHX"
      }
    },
    {
      "cell_type": "markdown",
      "source": [
        "## Image Enhancement"
      ],
      "metadata": {
        "id": "8QIsPkIZlc5w"
      }
    },
    {
      "cell_type": "markdown",
      "source": [
        "### CLAHE and bilateral filter"
      ],
      "metadata": {
        "id": "Jv_7gui4lpQH"
      }
    },
    {
      "cell_type": "code",
      "source": [
        "image = image_frame.iloc[2830, :].values.reshape((36, 36))"
      ],
      "metadata": {
        "id": "KNrEH8-6OWiu"
      },
      "execution_count": 61,
      "outputs": []
    },
    {
      "cell_type": "code",
      "source": [
        "clahe = cv2.createCLAHE(clipLimit=2.0, tileGridSize=(8,8))\n",
        "image = np.uint8(image * 255)\n",
        "\n",
        "# Apply CLAHE to the grayscale image\n",
        "clahe_img = clahe.apply(image)\n",
        "#Apply bilateral filter\n",
        "bilateral_img = cv2.bilateralFilter(clahe_img, d=2, sigmaColor=4, sigmaSpace=4)\n",
        "fig, axes = plt.subplots(1, 3, figsize=(10, 5))\n",
        "# Plot Image\n",
        "image = np.uint8(image /255)\n",
        "\n",
        "axes[0].imshow(image)\n",
        "axes[0].set_title('Image')\n",
        "axes[0].axis('off')\n",
        "\n",
        "#  Plot CLAHE result\n",
        "axes[1].imshow(clahe_img)\n",
        "axes[1].set_title('CLAHE')\n",
        "axes[1].axis('off')\n",
        "\n",
        "# Plot Bilateral filter\n",
        "axes[2].imshow(clahe_img/255)\n",
        "axes[2].set_title('Bilateral filter ')\n",
        "axes[2].axis('off')\n",
        "plt.show()"
      ],
      "metadata": {
        "colab": {
          "base_uri": "https://localhost:8080/",
          "height": 287
        },
        "id": "ab1EEmz2lgmf",
        "outputId": "dc377869-2a4b-41ca-ebd5-e9be0d50afaf"
      },
      "execution_count": 62,
      "outputs": [
        {
          "output_type": "display_data",
          "data": {
            "text/plain": [
              "<Figure size 1000x500 with 3 Axes>"
            ],
            "image/png": "[encoded data removed]"
          },
          "metadata": {}
        }
      ]
    },
    {
      "cell_type": "markdown",
      "source": [
        "## Рекомендации"
      ],
      "metadata": {
        "id": "OcOIUvb37kUt"
      }
    },
    {
      "cell_type": "markdown",
      "source": [
        "1. Блок Look at the data (EDA), Label Refinement & Image Enhancement лучше делать в отдельном ноутбуке и давать на него ссылку.\n",
        "2. Для воспроизводимости среды необходимые версии библиотек лучше зафиксировать, например, в файле requirements.txt.\n",
        "3. Импорт лучше упорядочить по алфавиту с разделением на секции и по типам, например, как это делает библиотека [isort](https://pycqa.github.io/isort/).\n",
        "Это позволит избежать повторений как, например ```from tqdm import tqdm```, ```import random``` и т.п.\n",
        "4. Лучше избегать избыточного кода, как, например, в ```display(y_train.head())``` - достаточно ```y_train.head()```.\n",
        "5. Для генерации ```dict_wells_masks``` и ```dict_wells_images```, чтобы не дублировать код, лучше воспользоваться формулой:\n",
        "\n",
        "```\n",
        "from collections import Counter\n",
        "\n",
        "def get_patches_per_well(patches_list):\n",
        "  patch_names = [int(name_patch.split(\"_\")[1]) for name_patch in patches_list]\n",
        "  dict_wells_patches = Counter(patch_names)\n",
        "\n",
        "  for key in sorted(dict_wells_patches.keys()):\n",
        "    print(f'Well : {key} Number of patches : {dict_wells_patches[key]}')\n",
        "\n",
        "  print(f'\\nTotal number of wells : {len(dict_wells_patches)}')\n",
        "  print(f'Total number of patches :', sum(dict_wells_patches.values()))\n",
        "\n",
        "  return dict_wells_patches\n",
        "```\n",
        "6. Для того чтобы убедиться, что число patches у Mask well и Image well совпадают, лучше использовать ```assert```:\n",
        "\n",
        "```\n",
        "for y_key in sorted(dict_wells_masks.keys()):\n",
        "  assert dict_wells_masks[y_key] == dict_wells_images[y_key]\n",
        "\n",
        "```\n",
        "7. ```dict(sorted(dict_wells_masks.items())).keys()``` - неудачная конструкция;\n",
        "достаточно ```dict_wells_masks.keys()```\n",
        "8. В коде\n",
        "\n",
        "```\n",
        "for i, key in enumerate(y_keys):\n",
        "    print('Mask well :',key, 'Number of patches :', dict_wells_masks[key])\n",
        "    if i == 15:\n",
        "        break\n",
        "    print('Image well :',list(image_keys)[i], 'Number of patches :', dict_wells_images[list(image_keys)[i]],'\\n')\n",
        "```\n",
        "\n",
        "использование\n",
        "```\n",
        "if i == 15:\n",
        "    break\n",
        "```\n",
        "избыточно - у нас всего 15 скважин, цикл остановится и без break.\n",
        "Соответственно, избыточно использовать и ```enumerate```.\n",
        "\n",
        "9. Код строк ниже избыточен:\n",
        "```\n",
        "print('Ratio of pixels with corrosion :', round(n_pixels*100/overall, ndigits= 3),'%')\n",
        "print('Ratio of patches with corrosion :', round(n_patches*100/len(y_train), ndigits=3),'%')\n",
        "```\n",
        "Лучше написать так:\n",
        "```\n",
        "print(f'Ratio of pixels with corrosion : {n_pixels*100/overall: .3f} %')\n",
        "print(f'Ratio of patches with corrosion : {n_patches*100/len(y_train): .3f} %')\n",
        "```\n",
        "Эти параметры лучше проанализировать в разрезе скважин - ```Ratio of pixels with corrosion``` существенно отличается межуду скважинами - у скважин 9 и 10 информации разметки по коррозиии нет.\n",
        "\n",
        "10. В ячейке Data analysis в Number of outliers речь о доле выбросов в процентах, а не о числе выбросов - лучше написать Ratio of outliers.\n",
        "\n",
        "11. В ячейке ```Statistics on the train images``` дополнительную информацию дала бы статистика по квантилям:\n",
        "\n",
        "```\n",
        "with np.printoptions(precision=3, suppress=True):\n",
        "    print(np.quantile(cleaned_img, [0.0025, 0.005, 0.25, 0.5, 0.75, 0.995]))\n",
        "```\n",
        "\n",
        "12. В ячейке, где генерируется Histogram of the pixels from train images имеет смысл убрать дублирование кода.\n",
        "\n",
        "13. Пропуски есть только в 2 изображениях. Почти все пропуски приходятся на один снимок, его лучше удалить. В другом 11 пропусков можно заполнить медианной этого снимка.\n",
        "\n",
        "14. Анализировать информацию по всем точкам ```flat_list_img_train``` не информативно. Лучше смотеть по кадрам.\n",
        "\n",
        "15. Выбросы в одномерном пространстве: из 347 изображений с выбросами (с минимальным значением меньше -0.25):\n",
        "\n",
        "    - у трети (119) поврежденны 1-2 пикселя;\n",
        "    - почти у половины (159) из 1296 пикселей повреждены меньше 15;\n",
        "    - только 40 изображений содержат больше 200 выбросов, из них 34 полностью повреждены - их можно удалить.\n",
        "    \n",
        "  У остальных выбросы можно заполнить медианным значением.\n",
        "\n",
        "16. Выбросы в многомерном пространстве: для обнаружения выбросов в многомерном пространстве можно воспользоваться библиотекой ```pca```, кластеризацией ```DBSCAN```, есть множество других методов. В обучающей выборке свыше 200 изображений - выбросы в многомерном пространстве, их лучше удалить.\n",
        "\n",
        "17. Чтобы избежать data leakage, распределение данных между обучающей, валидационной и тестовой выборкой делаем по скважинам:\n",
        "```\n",
        "train = [1, 6, 7, 8, 10, 11, 12, 13, 14]\n",
        "val = [3, 9]\n",
        "test = [2, 4, 5, 15]\n",
        "```\n",
        "При распределении скважин стараемся добиться более-менее сбалансированных характеристик.\n",
        "\n",
        "18. Материалы о Label Refinement и Image Enhancement лучше поместить в EDA.\n",
        "\n",
        "19. Для удобства чтения хорошо использовать подзаголовки, чтобы была видна структура материла. Этого легко добиться, используя разное число знаков ```#```, например: ```#```, ```##``` или ```###```, в зависимости от уровня подзаголовка.\n",
        "\n",
        "\n",
        "Рекомендации реализованы в коде этого ноутбука, код можно посмотреть выше.\n"
      ],
      "metadata": {
        "id": "n2o6vE778NSK"
      }
    }
  ],
  "metadata": {
    "colab": {
      "provenance": [],
      "include_colab_link": true
    },
    "kaggle": {
      "accelerator": "gpu",
      "dataSources": [
        {
          "datasetId": 4451693,
          "sourceId": 7638652,
          "sourceType": "datasetVersion"
        }
      ],
      "dockerImageVersionId": 30646,
      "isGpuEnabled": true,
      "isInternetEnabled": true,
      "language": "python",
      "sourceType": "notebook"
    },
    "kernelspec": {
      "display_name": "Python 3",
      "name": "python3"
    },
    "language_info": {
      "codemirror_mode": {
        "name": "ipython",
        "version": 3
      },
      "file_extension": ".py",
      "mimetype": "text/x-python",
      "name": "python",
      "nbconvert_exporter": "python",
      "pygments_lexer": "ipython3",
      "version": "3.10.12"
    }
  },
  "nbformat": 4,
  "nbformat_minor": 0
}